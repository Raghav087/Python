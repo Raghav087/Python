{
 "cells": [
  {
   "cell_type": "markdown",
   "metadata": {},
   "source": [
    "<h2>Missing Values<h2>"
   ]
  },
  {
   "cell_type": "code",
   "execution_count": 54,
   "metadata": {},
   "outputs": [],
   "source": [
    "import numpy as np\n",
    "import pandas as pd"
   ]
  },
  {
   "cell_type": "code",
   "execution_count": 55,
   "metadata": {},
   "outputs": [
    {
     "data": {
      "text/plain": [
       "Name        5\n",
       "Apps        5\n",
       "Position    3\n",
       "dtype: int64"
      ]
     },
     "execution_count": 55,
     "metadata": {},
     "output_type": "execute_result"
    }
   ],
   "source": [
    "df = pd.DataFrame({'Name':['Auba','Laca','Saka','Xhaka','Daka'],'Apps':[32,18,23,36,35],'Position':['ST','ST',np.NaN,'DM','RW']})\n",
    "df.nunique() #Returns unique values in each column."
   ]
  },
  {
   "cell_type": "code",
   "execution_count": 56,
   "metadata": {},
   "outputs": [
    {
     "data": {
      "text/html": [
       "<div>\n",
       "<style scoped>\n",
       "    .dataframe tbody tr th:only-of-type {\n",
       "        vertical-align: middle;\n",
       "    }\n",
       "\n",
       "    .dataframe tbody tr th {\n",
       "        vertical-align: top;\n",
       "    }\n",
       "\n",
       "    .dataframe thead th {\n",
       "        text-align: right;\n",
       "    }\n",
       "</style>\n",
       "<table border=\"1\" class=\"dataframe\">\n",
       "  <thead>\n",
       "    <tr style=\"text-align: right;\">\n",
       "      <th></th>\n",
       "      <th>Apps</th>\n",
       "    </tr>\n",
       "  </thead>\n",
       "  <tbody>\n",
       "    <tr>\n",
       "      <th>0</th>\n",
       "      <td>32</td>\n",
       "    </tr>\n",
       "    <tr>\n",
       "      <th>1</th>\n",
       "      <td>18</td>\n",
       "    </tr>\n",
       "    <tr>\n",
       "      <th>2</th>\n",
       "      <td>23</td>\n",
       "    </tr>\n",
       "    <tr>\n",
       "      <th>3</th>\n",
       "      <td>36</td>\n",
       "    </tr>\n",
       "    <tr>\n",
       "      <th>4</th>\n",
       "      <td>35</td>\n",
       "    </tr>\n",
       "  </tbody>\n",
       "</table>\n",
       "</div>"
      ],
      "text/plain": [
       "   Apps\n",
       "0    32\n",
       "1    18\n",
       "2    23\n",
       "3    36\n",
       "4    35"
      ]
     },
     "execution_count": 56,
     "metadata": {},
     "output_type": "execute_result"
    }
   ],
   "source": [
    "#Subset the data on numeric columns only.\n",
    "#Filter out columns of data type 'object' i.e. character.\n",
    "num_cols = [i for i in df.columns if df[i].dtypes != 'O']\n",
    "df[num_cols]"
   ]
  },
  {
   "cell_type": "code",
   "execution_count": 57,
   "metadata": {},
   "outputs": [
    {
     "data": {
      "text/html": [
       "<div>\n",
       "<style scoped>\n",
       "    .dataframe tbody tr th:only-of-type {\n",
       "        vertical-align: middle;\n",
       "    }\n",
       "\n",
       "    .dataframe tbody tr th {\n",
       "        vertical-align: top;\n",
       "    }\n",
       "\n",
       "    .dataframe thead th {\n",
       "        text-align: right;\n",
       "    }\n",
       "</style>\n",
       "<table border=\"1\" class=\"dataframe\">\n",
       "  <thead>\n",
       "    <tr style=\"text-align: right;\">\n",
       "      <th></th>\n",
       "      <th>Name</th>\n",
       "      <th>Apps</th>\n",
       "      <th>Position</th>\n",
       "    </tr>\n",
       "  </thead>\n",
       "  <tbody>\n",
       "    <tr>\n",
       "      <th>0</th>\n",
       "      <td>Auba</td>\n",
       "      <td>32</td>\n",
       "      <td>ST</td>\n",
       "    </tr>\n",
       "    <tr>\n",
       "      <th>1</th>\n",
       "      <td>Laca</td>\n",
       "      <td>18</td>\n",
       "      <td>ST</td>\n",
       "    </tr>\n",
       "    <tr>\n",
       "      <th>2</th>\n",
       "      <td>Saka</td>\n",
       "      <td>23</td>\n",
       "      <td>ST</td>\n",
       "    </tr>\n",
       "    <tr>\n",
       "      <th>3</th>\n",
       "      <td>Xhaka</td>\n",
       "      <td>36</td>\n",
       "      <td>DM</td>\n",
       "    </tr>\n",
       "    <tr>\n",
       "      <th>4</th>\n",
       "      <td>Daka</td>\n",
       "      <td>35</td>\n",
       "      <td>RW</td>\n",
       "    </tr>\n",
       "  </tbody>\n",
       "</table>\n",
       "</div>"
      ],
      "text/plain": [
       "    Name Apps Position\n",
       "0   Auba   32       ST\n",
       "1   Laca   18       ST\n",
       "2   Saka   23       ST\n",
       "3  Xhaka   36       DM\n",
       "4   Daka   35       RW"
      ]
     },
     "execution_count": 57,
     "metadata": {},
     "output_type": "execute_result"
    }
   ],
   "source": [
    "#Impute missing values by the most frequent item.\n",
    "from sklearn.impute import SimpleImputer\n",
    "impute = SimpleImputer(strategy='most_frequent')\n",
    "dx = impute.fit_transform(df) #Gives an array with imputed values.\n",
    "df = pd.DataFrame(dx,columns=df.columns,index=df.index) #Convert array to dataframe.\n",
    "df"
   ]
  },
  {
   "cell_type": "code",
   "execution_count": 58,
   "metadata": {},
   "outputs": [
    {
     "data": {
      "text/plain": [
       "array(['Auba', 18, 'ST'], dtype=object)"
      ]
     },
     "execution_count": 58,
     "metadata": {},
     "output_type": "execute_result"
    }
   ],
   "source": [
    "impute.statistics_"
   ]
  },
  {
   "cell_type": "code",
   "execution_count": 59,
   "metadata": {},
   "outputs": [
    {
     "data": {
      "text/plain": [
       "array([['Auba', 32, 'ST'],\n",
       "       ['Laca', 18, 'ST'],\n",
       "       ['Saka', 23, 'ST'],\n",
       "       ['Xhaka', 36, 'DM'],\n",
       "       ['Daka', 35, 'RW']], dtype=object)"
      ]
     },
     "execution_count": 59,
     "metadata": {},
     "output_type": "execute_result"
    }
   ],
   "source": [
    "#Impute the missing values as a new level called 'missing'. \n",
    "imputer = SimpleImputer(strategy='constant',fill_value='missing')\n",
    "imputer.fit_transform(df)"
   ]
  },
  {
   "cell_type": "code",
   "execution_count": 60,
   "metadata": {},
   "outputs": [
    {
     "data": {
      "text/plain": [
       "(36, 3)"
      ]
     },
     "execution_count": 60,
     "metadata": {},
     "output_type": "execute_result"
    }
   ],
   "source": [
    "df1 = pd.read_csv('D:/pandas Practice/cars.csv')\n",
    "df1.shape"
   ]
  },
  {
   "cell_type": "code",
   "execution_count": 61,
   "metadata": {},
   "outputs": [
    {
     "data": {
      "text/plain": [
       "Volume    0\n",
       "Weight    0\n",
       "CO2       0\n",
       "dtype: int64"
      ]
     },
     "execution_count": 61,
     "metadata": {},
     "output_type": "execute_result"
    }
   ],
   "source": [
    "#Impute missing using 'IterativeImputer'.\n",
    "#Works by passing the non-missing rows to a regression model where the missing column is label and others the features.\n",
    "#Then passes the missing value rows to the trained model where the missing value column acts as a label to be predicted from the passed feature vector.\n",
    "from sklearn.experimental import enable_iterative_imputer\n",
    "from sklearn.impute import IterativeImputer\n",
    "i1 = IterativeImputer()\n",
    "fitt = i1.fit_transform(df1)\n",
    "df2 = pd.DataFrame(fitt,columns=df1.columns,index=df1.index) #Convert to a dataframe.\n",
    "df2.isna().sum() #Count missing across each column of dataframe."
   ]
  },
  {
   "cell_type": "code",
   "execution_count": 62,
   "metadata": {},
   "outputs": [
    {
     "data": {
      "text/plain": [
       "array([[1000.        ,  790.        ,   99.        ],\n",
       "       [1200.        , 1160.        ,   95.        ],\n",
       "       [1000.        ,  929.        ,   95.        ],\n",
       "       [ 900.        ,  865.        ,   90.        ],\n",
       "       [1500.        , 1140.        ,  105.        ],\n",
       "       [1000.        ,  929.        ,  105.        ],\n",
       "       [1400.        , 1109.        ,   90.        ],\n",
       "       [1500.        , 1365.        ,  104.        ],\n",
       "       [1500.        , 1112.        ,   98.        ],\n",
       "       [1600.        , 1150.        ,   99.        ],\n",
       "       [1100.        ,  980.        ,   99.        ],\n",
       "       [1300.        ,  990.        ,  101.        ],\n",
       "       [1000.        , 1112.        ,   99.        ],\n",
       "       [1600.        , 1252.        ,   94.        ],\n",
       "       [1600.        , 1326.        ,   97.        ],\n",
       "       [1600.        , 1330.        ,  100.33333333],\n",
       "       [1600.        , 1365.        ,   99.        ],\n",
       "       [2200.        , 1280.        ,  104.        ],\n",
       "       [1600.        , 1119.        ,  104.        ],\n",
       "       [1600.        , 1328.        ,  105.        ],\n",
       "       [1600.        , 1584.        ,   94.        ],\n",
       "       [2000.        , 1428.        ,   99.        ],\n",
       "       [2100.        , 1365.        ,   99.        ],\n",
       "       [1600.        , 1415.        ,   99.        ],\n",
       "       [2000.        , 1415.        ,   99.        ],\n",
       "       [1866.66666667, 1465.        ,  102.        ],\n",
       "       [2000.        , 1490.        ,  104.        ],\n",
       "       [2000.        , 1725.        ,  115.33333333],\n",
       "       [1600.        , 1523.        ,  109.        ],\n",
       "       [2000.        , 1705.        ,  114.        ],\n",
       "       [2100.        , 1605.        ,  115.        ],\n",
       "       [2000.        , 1746.        ,  117.        ],\n",
       "       [1600.        , 1235.        ,  104.        ],\n",
       "       [1600.        , 1390.        ,  108.        ],\n",
       "       [1600.        , 1405.        ,  109.        ],\n",
       "       [2500.        , 1395.        ,  120.        ]])"
      ]
     },
     "execution_count": 62,
     "metadata": {},
     "output_type": "execute_result"
    }
   ],
   "source": [
    "#Impute missing values using 'KNNImputer'.\n",
    "from sklearn.impute import KNNImputer\n",
    "i2 = KNNImputer(n_neighbors=3)\n",
    "i2.fit_transform(df1)"
   ]
  },
  {
   "cell_type": "markdown",
   "metadata": {},
   "source": [
    "<h2>Label Encoding of categorical columns.<h2>"
   ]
  },
  {
   "cell_type": "code",
   "execution_count": 63,
   "metadata": {},
   "outputs": [
    {
     "data": {
      "text/html": [
       "<div>\n",
       "<style scoped>\n",
       "    .dataframe tbody tr th:only-of-type {\n",
       "        vertical-align: middle;\n",
       "    }\n",
       "\n",
       "    .dataframe tbody tr th {\n",
       "        vertical-align: top;\n",
       "    }\n",
       "\n",
       "    .dataframe thead th {\n",
       "        text-align: right;\n",
       "    }\n",
       "</style>\n",
       "<table border=\"1\" class=\"dataframe\">\n",
       "  <thead>\n",
       "    <tr style=\"text-align: right;\">\n",
       "      <th></th>\n",
       "      <th>Bridge_Types</th>\n",
       "    </tr>\n",
       "  </thead>\n",
       "  <tbody>\n",
       "    <tr>\n",
       "      <th>0</th>\n",
       "      <td>Arch</td>\n",
       "    </tr>\n",
       "    <tr>\n",
       "      <th>1</th>\n",
       "      <td>Beam</td>\n",
       "    </tr>\n",
       "    <tr>\n",
       "      <th>2</th>\n",
       "      <td>Truss</td>\n",
       "    </tr>\n",
       "    <tr>\n",
       "      <th>3</th>\n",
       "      <td>Cantilever</td>\n",
       "    </tr>\n",
       "    <tr>\n",
       "      <th>4</th>\n",
       "      <td>Tied Arch</td>\n",
       "    </tr>\n",
       "    <tr>\n",
       "      <th>5</th>\n",
       "      <td>Suspension</td>\n",
       "    </tr>\n",
       "    <tr>\n",
       "      <th>6</th>\n",
       "      <td>Cable</td>\n",
       "    </tr>\n",
       "  </tbody>\n",
       "</table>\n",
       "</div>"
      ],
      "text/plain": [
       "  Bridge_Types\n",
       "0         Arch\n",
       "1         Beam\n",
       "2        Truss\n",
       "3   Cantilever\n",
       "4    Tied Arch\n",
       "5   Suspension\n",
       "6        Cable"
      ]
     },
     "execution_count": 63,
     "metadata": {},
     "output_type": "execute_result"
    }
   ],
   "source": [
    "#Create a new dataframe.\n",
    "bridge_types = ('Arch','Beam','Truss','Cantilever','Tied Arch','Suspension','Cable')\n",
    "bridge_df = pd.DataFrame(bridge_types, columns=['Bridge_Types'])\n",
    "bridge_df"
   ]
  },
  {
   "cell_type": "code",
   "execution_count": 64,
   "metadata": {},
   "outputs": [
    {
     "name": "stderr",
     "output_type": "stream",
     "text": [
      "C:\\Users\\win\\Anaconda3\\lib\\site-packages\\sklearn\\utils\\validation.py:72: DataConversionWarning: A column-vector y was passed when a 1d array was expected. Please change the shape of y to (n_samples, ), for example using ravel().\n",
      "  return f(**kwargs)\n"
     ]
    },
    {
     "data": {
      "text/html": [
       "<div>\n",
       "<style scoped>\n",
       "    .dataframe tbody tr th:only-of-type {\n",
       "        vertical-align: middle;\n",
       "    }\n",
       "\n",
       "    .dataframe tbody tr th {\n",
       "        vertical-align: top;\n",
       "    }\n",
       "\n",
       "    .dataframe thead th {\n",
       "        text-align: right;\n",
       "    }\n",
       "</style>\n",
       "<table border=\"1\" class=\"dataframe\">\n",
       "  <thead>\n",
       "    <tr style=\"text-align: right;\">\n",
       "      <th></th>\n",
       "      <th>Bridge_Types</th>\n",
       "      <th>Bridge_cat</th>\n",
       "    </tr>\n",
       "  </thead>\n",
       "  <tbody>\n",
       "    <tr>\n",
       "      <th>0</th>\n",
       "      <td>Arch</td>\n",
       "      <td>0</td>\n",
       "    </tr>\n",
       "    <tr>\n",
       "      <th>1</th>\n",
       "      <td>Beam</td>\n",
       "      <td>1</td>\n",
       "    </tr>\n",
       "    <tr>\n",
       "      <th>2</th>\n",
       "      <td>Truss</td>\n",
       "      <td>6</td>\n",
       "    </tr>\n",
       "    <tr>\n",
       "      <th>3</th>\n",
       "      <td>Cantilever</td>\n",
       "      <td>3</td>\n",
       "    </tr>\n",
       "    <tr>\n",
       "      <th>4</th>\n",
       "      <td>Tied Arch</td>\n",
       "      <td>5</td>\n",
       "    </tr>\n",
       "    <tr>\n",
       "      <th>5</th>\n",
       "      <td>Suspension</td>\n",
       "      <td>4</td>\n",
       "    </tr>\n",
       "    <tr>\n",
       "      <th>6</th>\n",
       "      <td>Cable</td>\n",
       "      <td>2</td>\n",
       "    </tr>\n",
       "  </tbody>\n",
       "</table>\n",
       "</div>"
      ],
      "text/plain": [
       "  Bridge_Types  Bridge_cat\n",
       "0         Arch           0\n",
       "1         Beam           1\n",
       "2        Truss           6\n",
       "3   Cantilever           3\n",
       "4    Tied Arch           5\n",
       "5   Suspension           4\n",
       "6        Cable           2"
      ]
     },
     "execution_count": 64,
     "metadata": {},
     "output_type": "execute_result"
    }
   ],
   "source": [
    "from sklearn.preprocessing import LabelEncoder\n",
    "encoder = LabelEncoder()\n",
    "bridge_df['Bridge_cat'] = encoder.fit_transform(bridge_df)\n",
    "bridge_df"
   ]
  },
  {
   "cell_type": "markdown",
   "metadata": {},
   "source": [
    "<h2>One-Hot Encoding of categorical column.<h2>"
   ]
  },
  {
   "cell_type": "code",
   "execution_count": 65,
   "metadata": {},
   "outputs": [
    {
     "data": {
      "text/html": [
       "<div>\n",
       "<style scoped>\n",
       "    .dataframe tbody tr th:only-of-type {\n",
       "        vertical-align: middle;\n",
       "    }\n",
       "\n",
       "    .dataframe tbody tr th {\n",
       "        vertical-align: top;\n",
       "    }\n",
       "\n",
       "    .dataframe thead th {\n",
       "        text-align: right;\n",
       "    }\n",
       "</style>\n",
       "<table border=\"1\" class=\"dataframe\">\n",
       "  <thead>\n",
       "    <tr style=\"text-align: right;\">\n",
       "      <th></th>\n",
       "      <th>Bridge_cat</th>\n",
       "      <th>Bridge_Types_Beam</th>\n",
       "      <th>Bridge_Types_Cable</th>\n",
       "      <th>Bridge_Types_Cantilever</th>\n",
       "      <th>Bridge_Types_Suspension</th>\n",
       "      <th>Bridge_Types_Tied Arch</th>\n",
       "      <th>Bridge_Types_Truss</th>\n",
       "    </tr>\n",
       "  </thead>\n",
       "  <tbody>\n",
       "    <tr>\n",
       "      <th>0</th>\n",
       "      <td>0</td>\n",
       "      <td>0</td>\n",
       "      <td>0</td>\n",
       "      <td>0</td>\n",
       "      <td>0</td>\n",
       "      <td>0</td>\n",
       "      <td>0</td>\n",
       "    </tr>\n",
       "    <tr>\n",
       "      <th>1</th>\n",
       "      <td>1</td>\n",
       "      <td>1</td>\n",
       "      <td>0</td>\n",
       "      <td>0</td>\n",
       "      <td>0</td>\n",
       "      <td>0</td>\n",
       "      <td>0</td>\n",
       "    </tr>\n",
       "    <tr>\n",
       "      <th>2</th>\n",
       "      <td>6</td>\n",
       "      <td>0</td>\n",
       "      <td>0</td>\n",
       "      <td>0</td>\n",
       "      <td>0</td>\n",
       "      <td>0</td>\n",
       "      <td>1</td>\n",
       "    </tr>\n",
       "    <tr>\n",
       "      <th>3</th>\n",
       "      <td>3</td>\n",
       "      <td>0</td>\n",
       "      <td>0</td>\n",
       "      <td>1</td>\n",
       "      <td>0</td>\n",
       "      <td>0</td>\n",
       "      <td>0</td>\n",
       "    </tr>\n",
       "    <tr>\n",
       "      <th>4</th>\n",
       "      <td>5</td>\n",
       "      <td>0</td>\n",
       "      <td>0</td>\n",
       "      <td>0</td>\n",
       "      <td>0</td>\n",
       "      <td>1</td>\n",
       "      <td>0</td>\n",
       "    </tr>\n",
       "    <tr>\n",
       "      <th>5</th>\n",
       "      <td>4</td>\n",
       "      <td>0</td>\n",
       "      <td>0</td>\n",
       "      <td>0</td>\n",
       "      <td>1</td>\n",
       "      <td>0</td>\n",
       "      <td>0</td>\n",
       "    </tr>\n",
       "    <tr>\n",
       "      <th>6</th>\n",
       "      <td>2</td>\n",
       "      <td>0</td>\n",
       "      <td>1</td>\n",
       "      <td>0</td>\n",
       "      <td>0</td>\n",
       "      <td>0</td>\n",
       "      <td>0</td>\n",
       "    </tr>\n",
       "  </tbody>\n",
       "</table>\n",
       "</div>"
      ],
      "text/plain": [
       "   Bridge_cat  Bridge_Types_Beam  Bridge_Types_Cable  Bridge_Types_Cantilever  \\\n",
       "0           0                  0                   0                        0   \n",
       "1           1                  1                   0                        0   \n",
       "2           6                  0                   0                        0   \n",
       "3           3                  0                   0                        1   \n",
       "4           5                  0                   0                        0   \n",
       "5           4                  0                   0                        0   \n",
       "6           2                  0                   1                        0   \n",
       "\n",
       "   Bridge_Types_Suspension  Bridge_Types_Tied Arch  Bridge_Types_Truss  \n",
       "0                        0                       0                   0  \n",
       "1                        0                       0                   0  \n",
       "2                        0                       0                   1  \n",
       "3                        0                       0                   0  \n",
       "4                        0                       1                   0  \n",
       "5                        1                       0                   0  \n",
       "6                        0                       0                   0  "
      ]
     },
     "execution_count": 65,
     "metadata": {},
     "output_type": "execute_result"
    }
   ],
   "source": [
    "bridgeDF = pd.get_dummies(bridge_df,drop_first=True)\n",
    "bridgeDF #Set 'drop_first=True' to avoid dummy variable trap.\n",
    "#Hence we get 6 dummy variables for 7 levels of categorical column."
   ]
  }
 ],
 "metadata": {
  "interpreter": {
   "hash": "2fcbff82930719235b5f711f73c7a2b86d5b1a71fd46764b0d829c46d0718a71"
  },
  "kernelspec": {
   "display_name": "Python 3.8.5 64-bit ('base': conda)",
   "name": "python3"
  },
  "language_info": {
   "codemirror_mode": {
    "name": "ipython",
    "version": 3
   },
   "file_extension": ".py",
   "mimetype": "text/x-python",
   "name": "python",
   "nbconvert_exporter": "python",
   "pygments_lexer": "ipython3",
   "version": "3.8.5"
  },
  "orig_nbformat": 4
 },
 "nbformat": 4,
 "nbformat_minor": 2
}
