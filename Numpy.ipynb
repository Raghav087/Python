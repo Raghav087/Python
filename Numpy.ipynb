{
 "cells": [
  {
   "cell_type": "markdown",
   "metadata": {},
   "source": [
    "<h3>NumPy (Numerical Python)library contains multidimensional array and matrix data structures. NumPy can be used to perform a wide variety of mathematical operations on arrays.<h3>\n",
    "It adds powerful data structures to Python that guarantee efficient calculations with arrays and matrices.\n",
    "All of the elements in a NumPy array should be homogeneous. "
   ]
  },
  {
   "cell_type": "code",
   "execution_count": 1,
   "metadata": {},
   "outputs": [],
   "source": [
    "import numpy as np"
   ]
  },
  {
   "cell_type": "code",
   "execution_count": 9,
   "metadata": {},
   "outputs": [
    {
     "name": "stdout",
     "output_type": "stream",
     "text": [
      "[2 7 1 9] [3 5 1 8 9]\n",
      "<class 'numpy.ndarray'> <class 'numpy.ndarray'>\n",
      "int32\n"
     ]
    }
   ],
   "source": [
    "a=np.array([2,7,1,9])  #Numpy is a form of list which is homogenous instead of being heterogenous like list.\n",
    "b=np.array((3,5,1,8,9)) #Also, its 50 times faster than a list.\n",
    "print(a,b)  #Here 'a' and 'b' are 1-D numpy arrays. The elements of this array can be accessed using 1 index.\n",
    "print(type(a),type(b))\n",
    "print(a.dtype)  #Type of data stored in object 'a'."
   ]
  },
  {
   "cell_type": "code",
   "execution_count": 4,
   "metadata": {},
   "outputs": [
    {
     "name": "stdout",
     "output_type": "stream",
     "text": [
      "[2. 5. 3. 7.] float32\n",
      "(4,)\n"
     ]
    }
   ],
   "source": [
    "c=np.array([2,5,3,7],dtype='f') #We can enforce a data type by using 'dtype' option.\n",
    "print(c,c.dtype)\n",
    "print(c.shape)"
   ]
  },
  {
   "cell_type": "code",
   "execution_count": 60,
   "metadata": {},
   "outputs": [
    {
     "name": "stdout",
     "output_type": "stream",
     "text": [
      "[[ 1  2  5]\n",
      " [ 2 52  7]\n",
      " [ 9  0  3]] 2\n",
      "52\n"
     ]
    }
   ],
   "source": [
    "a1=np.array([[1,2,5],[2,52,7],[9,0,3]]) #This is an array of three 1-D arrays. The 1st square bracket indicates the start of array. \n",
    "print(a1,a1.ndim) #The 'ndim' function gives the dimension of the numpy array.\n",
    "print(a1[1,1]) #The dimension of an array is equal to the indices needed to extract an element of the array."
   ]
  },
  {
   "cell_type": "code",
   "execution_count": 3,
   "metadata": {},
   "outputs": [
    {
     "name": "stdout",
     "output_type": "stream",
     "text": [
      "[[[1 4 2]\n",
      "  [3 5 9]]\n",
      "\n",
      " [[1 1 7]\n",
      "  [0 0 8]]] 3 (2, 2, 3)\n"
     ]
    }
   ],
   "source": [
    "a2=np.array([[[1,4,2],[3,5,9]],[[1,1,7],[0,0,8]]]) #This numpy array has two 2-D arrays.Both arrays contain two 1-D arrays.\n",
    "print(a2,a2.ndim,a2.shape) #Basically, an array of 'n' 1-D arrays is a 2-D array, an array of 'n' 2-D arrays is a 3-D array and so on. "
   ]
  },
  {
   "cell_type": "code",
   "execution_count": 24,
   "metadata": {},
   "outputs": [
    {
     "data": {
      "text/plain": [
       "(2, 2, 3)"
      ]
     },
     "execution_count": 24,
     "metadata": {},
     "output_type": "execute_result"
    }
   ],
   "source": [
    "a2.shape #The 'shape' function tells us some info on our numpy array 'a2'.\n",
    "#The output is a tuple info. We move from right to left. So taking last 2 digits, we've two 1-D arrays each having 3 elements. The 1st digit tells we've 2 number of 2-D arrays. \n",
    "#The last no. tells that each 1-D array has 3 elements."
   ]
  },
  {
   "cell_type": "markdown",
   "metadata": {},
   "source": [
    "<h2>Why NumPy?<h2>"
   ]
  },
  {
   "cell_type": "code",
   "execution_count": 11,
   "metadata": {},
   "outputs": [
    {
     "data": {
      "text/plain": [
       "[2, 4, 8, 1, 4, 2]"
      ]
     },
     "execution_count": 11,
     "metadata": {},
     "output_type": "execute_result"
    }
   ],
   "source": [
    "v = [2,4,8]\n",
    "c = [1,4,2]\n",
    "v+c"
   ]
  },
  {
   "cell_type": "code",
   "execution_count": 12,
   "metadata": {},
   "outputs": [
    {
     "name": "stdout",
     "output_type": "stream",
     "text": [
      "[ 3  8 10]\n",
      "[ 2 16 16]\n"
     ]
    }
   ],
   "source": [
    "v1 = np.array([2,4,8])\n",
    "c1 = np.array([1,4,2])\n",
    "print(v1+c1)\n",
    "print(v1*c1)"
   ]
  },
  {
   "cell_type": "markdown",
   "metadata": {},
   "source": [
    "<h2>A 1-D array is also called vector. An array of 3-D or more is often called as tensor. So a 4-D array can be called a 4th order tensor.<h2>"
   ]
  },
  {
   "cell_type": "code",
   "execution_count": 5,
   "metadata": {},
   "outputs": [
    {
     "name": "stdout",
     "output_type": "stream",
     "text": [
      "[91] 91\n",
      "1 0\n",
      "(1,) ()\n"
     ]
    }
   ],
   "source": [
    "p=np.array([91]) \n",
    "q=np.array(91) #An array with a single element having no list structure(i.e. without sq. brackets) is a 0-D array.\n",
    "print(p,q)\n",
    "print(p.ndim,q.ndim)\n",
    "print(p.shape,q.shape)"
   ]
  },
  {
   "cell_type": "code",
   "execution_count": 36,
   "metadata": {},
   "outputs": [
    {
     "data": {
      "text/plain": [
       "array([0., 0., 0., 0., 0.])"
      ]
     },
     "execution_count": 36,
     "metadata": {},
     "output_type": "execute_result"
    }
   ],
   "source": [
    "q1=np.zeros(5) #The 'zeros' function in numpy helps create arrays of a defined shape, type and all filled with 0s.\n",
    "q1  #This is a 1-D array of 5 elements all being zeros. By default, the elements are type float having a decimal."
   ]
  },
  {
   "cell_type": "code",
   "execution_count": 38,
   "metadata": {},
   "outputs": [
    {
     "data": {
      "text/plain": [
       "array([0, 0, 0, 0, 0], dtype=int32)"
      ]
     },
     "execution_count": 38,
     "metadata": {},
     "output_type": "execute_result"
    }
   ],
   "source": [
    "q2=np.zeros(5,dtype='i') #Here we force the type of elements to be integer.\n",
    "q2"
   ]
  },
  {
   "cell_type": "code",
   "execution_count": 50,
   "metadata": {},
   "outputs": [
    {
     "name": "stdout",
     "output_type": "stream",
     "text": [
      "[[0 0 0 0 0]\n",
      " [0 0 0 0 0]] 2\n"
     ]
    }
   ],
   "source": [
    "q3=np.zeros([2,5],dtype='i') #We have a 1-D array of 5 elements which we repeat 2 times to get a 2-D array.\n",
    "print(q3,q3.ndim) #A repetition adds an outer bracket to the array, so we have 2 brackets for a 2-D array."
   ]
  },
  {
   "cell_type": "code",
   "execution_count": 49,
   "metadata": {},
   "outputs": [
    {
     "name": "stdout",
     "output_type": "stream",
     "text": [
      "[[[0. 0. 0. 0.]\n",
      "  [0. 0. 0. 0.]]\n",
      "\n",
      " [[0. 0. 0. 0.]\n",
      "  [0. 0. 0. 0.]]\n",
      "\n",
      " [[0. 0. 0. 0.]\n",
      "  [0. 0. 0. 0.]]] 3\n"
     ]
    }
   ],
   "source": [
    "q4=np.zeros([3,2,4]) #Let's approach the shape from right to left. We take last 2 digits. So we have a 1-D array of 4 zeros. This is repeated 2 times to give us a 2-D array. \n",
    "print(q4,q4.ndim) #The repetition adds an outer bracket so we have 2 brackets for our 2-D array.\n",
    "#This array is then repeated 3 times to give us three 2-D arrays. The repetition adds an outer bracket to make it 3 brackets for a final 3-D array."
   ]
  },
  {
   "cell_type": "code",
   "execution_count": 55,
   "metadata": {},
   "outputs": [
    {
     "name": "stdout",
     "output_type": "stream",
     "text": [
      "[[[[0. 0. 0. 0.]\n",
      "   [0. 0. 0. 0.]]\n",
      "\n",
      "  [[0. 0. 0. 0.]\n",
      "   [0. 0. 0. 0.]]\n",
      "\n",
      "  [[0. 0. 0. 0.]\n",
      "   [0. 0. 0. 0.]]]\n",
      "\n",
      "\n",
      " [[[0. 0. 0. 0.]\n",
      "   [0. 0. 0. 0.]]\n",
      "\n",
      "  [[0. 0. 0. 0.]\n",
      "   [0. 0. 0. 0.]]\n",
      "\n",
      "  [[0. 0. 0. 0.]\n",
      "   [0. 0. 0. 0.]]]] 4\n"
     ]
    }
   ],
   "source": [
    "q5=np.zeros([2,3,2,4]) #A 1-D array of 4 zeros repeated 2 times to result in a 2-D array. Repetition adds an outer bracket so we have two brackets for a 2-D array.\n",
    "print(q5,q5.ndim) #Repeat it thrice to get three 2-D arrays. Again, the repetition adds an outer bracket so now we have a 3-D array with 3 brackets.\n",
    "#Finally repeat this twice to get two 3-D arrays which is the final 4-D array. As we repeat, we add another outer bracket to have 4 brackets for the final 4-D array.\n",
    "#Going left to right, we have 2 3-D arrays, 2*3=6 2-D arrays, 2*3*2=12 1-D arrays each having 4 elements."
   ]
  },
  {
   "cell_type": "code",
   "execution_count": 57,
   "metadata": {},
   "outputs": [
    {
     "name": "stdout",
     "output_type": "stream",
     "text": [
      "[[[1. 1.]\n",
      "  [1. 1.]\n",
      "  [1. 1.]\n",
      "  [1. 1.]]\n",
      "\n",
      " [[1. 1.]\n",
      "  [1. 1.]\n",
      "  [1. 1.]\n",
      "  [1. 1.]]] 3\n"
     ]
    }
   ],
   "source": [
    "z=np.ones([2,4,2]) #Similarly, we have 'ones' function in numpy to create arrays with 1 as all elements.\n",
    "print(z,z.ndim)"
   ]
  },
  {
   "cell_type": "code",
   "execution_count": 7,
   "metadata": {},
   "outputs": [
    {
     "name": "stdout",
     "output_type": "stream",
     "text": [
      "[[[(1., 1) (1., 1)]\n",
      "  [(1., 1) (1., 1)]\n",
      "  [(1., 1) (1., 1)]]\n",
      "\n",
      " [[(1., 1) (1., 1)]\n",
      "  [(1., 1) (1., 1)]\n",
      "  [(1., 1) (1., 1)]]] 3\n"
     ]
    }
   ],
   "source": [
    "z1=np.ones([2,3,2],dtype=[('x','f'),('y','i')]) #Again going right to left taking last 2 digits, we create three 1-D arrays each having 3 ones. Repeat it twice to get final array.\n",
    "print(z1,z1.ndim) #This time instead of getting our usual 1's as each item, we get a tuple of 1's as an item. This happens from the 'dtype' option.\n",
    "#The 'dtype' option has 2 tuples- one for x and other for y coordinate. Hence each item in the array has 2 instead of a single 1.\n",
    "#The x-coordinate 1 will be a float type while the y-coordinate 1 will be of integer type."
   ]
  },
  {
   "cell_type": "code",
   "execution_count": 62,
   "metadata": {},
   "outputs": [
    {
     "name": "stdout",
     "output_type": "stream",
     "text": [
      "[[[(1., 1, 1) (1., 1, 1) (1., 1, 1)]\n",
      "  [(1., 1, 1) (1., 1, 1) (1., 1, 1)]\n",
      "  [(1., 1, 1) (1., 1, 1) (1., 1, 1)]]\n",
      "\n",
      " [[(1., 1, 1) (1., 1, 1) (1., 1, 1)]\n",
      "  [(1., 1, 1) (1., 1, 1) (1., 1, 1)]\n",
      "  [(1., 1, 1) (1., 1, 1) (1., 1, 1)]]] 3\n"
     ]
    }
   ],
   "source": [
    "z1=np.ones([2,3,3],dtype=[('x','f'),('y','i'),('z','i')]) \n",
    "print(z1,z1.ndim) "
   ]
  },
  {
   "cell_type": "code",
   "execution_count": 18,
   "metadata": {},
   "outputs": [
    {
     "name": "stdout",
     "output_type": "stream",
     "text": [
      "[[[[[1 1 1 1]\n",
      "    [1 1 1 1]]\n",
      "\n",
      "   [[1 1 1 1]\n",
      "    [1 1 1 1]]]]\n",
      "\n",
      "\n",
      "\n",
      " [[[[1 1 1 1]\n",
      "    [1 1 1 1]]\n",
      "\n",
      "   [[1 1 1 1]\n",
      "    [1 1 1 1]]]]]\n"
     ]
    }
   ],
   "source": [
    "s= np.ones([2,1,2,2,4], dtype = 'i') #Here we have a 5-D array. Notice that the no. of brackets in an array is always equal to its dimension. So we have 5 brackets for the outer array.\n",
    "print(s) #Similarly, we have 2 brackets for a 2-D array, 3 brackets for a 3-D array and so on."
   ]
  },
  {
   "cell_type": "code",
   "execution_count": 87,
   "metadata": {},
   "outputs": [
    {
     "name": "stdout",
     "output_type": "stream",
     "text": [
      "[ 0  1  2  3  4  5  6  7  8  9 10 11] 1\n"
     ]
    }
   ],
   "source": [
    "z2=np.arange(12) #The 'arange' function in numpy creates a 1-D array from 0 to n-1.\n",
    "print(z2,z2.ndim)"
   ]
  },
  {
   "cell_type": "code",
   "execution_count": 30,
   "metadata": {},
   "outputs": [
    {
     "name": "stdout",
     "output_type": "stream",
     "text": [
      "[10. 15. 20. 25. 30. 35. 40. 45.] 1\n"
     ]
    }
   ],
   "source": [
    "z3=np.arange(10,50,5,dtype='f') #Here instead of 0, we start from 10 till 50 with a skip of 5. We get a 1-D array again.\n",
    "print(z3,z3.ndim) #The data type is specified to be float."
   ]
  },
  {
   "cell_type": "code",
   "execution_count": 2,
   "metadata": {},
   "outputs": [
    {
     "data": {
      "text/plain": [
       "array([[[8, 9, 8],\n",
       "        [9, 8, 9],\n",
       "        [5, 9, 5],\n",
       "        [6, 8, 9]],\n",
       "\n",
       "       [[9, 9, 5],\n",
       "        [6, 9, 5],\n",
       "        [6, 9, 8],\n",
       "        [8, 6, 5]]])"
      ]
     },
     "execution_count": 2,
     "metadata": {},
     "output_type": "execute_result"
    }
   ],
   "source": [
    "np.random.randint(low=5,high=10,size=(2,4,3)) \n",
    "#The 'random.randint' function creates an array of shape (2,4,3) and fills it randomly with integers between 5 and 10."
   ]
  },
  {
   "cell_type": "code",
   "execution_count": 4,
   "metadata": {},
   "outputs": [
    {
     "data": {
      "text/plain": [
       "31"
      ]
     },
     "execution_count": 4,
     "metadata": {},
     "output_type": "execute_result"
    }
   ],
   "source": [
    "np.random.randint(low=10,high=45) #If size option isn't specified, it just returns a random integer between specified 'low' and 'high'."
   ]
  },
  {
   "cell_type": "code",
   "execution_count": 16,
   "metadata": {},
   "outputs": [
    {
     "name": "stdout",
     "output_type": "stream",
     "text": [
      "[10.83748829 10.12263907 10.47516721 10.8505747  10.82176356 10.24708257\n",
      "  9.79298293 10.34946769 10.67698686  7.23318163  8.85040062  8.75364627\n",
      "  6.53711624  9.42258826 11.00140182] 1\n"
     ]
    }
   ],
   "source": [
    "normal=np.random.normal(10,1.5,15) #Here the 'normal' function in 'np.random' creates a 1-D array of 15 elements from a normal dist. with mean=10 and sd=1.5.\n",
    "print(normal,normal.ndim)"
   ]
  },
  {
   "cell_type": "code",
   "execution_count": 82,
   "metadata": {},
   "outputs": [
    {
     "name": "stdout",
     "output_type": "stream",
     "text": [
      "[[[-0.25642247  0.43628854 -1.34012289  1.00176954]\n",
      "  [-0.15623487  2.63114535  0.94695167 -0.58996268]\n",
      "  [-0.53750141  1.15202644  0.19505978  0.6445395 ]]\n",
      "\n",
      " [[-0.25973393 -0.17238519 -1.71914513 -1.64487496]\n",
      "  [-1.24563755  0.11579075 -1.31336094 -0.03100248]\n",
      "  [-0.26191155  0.93293257  0.95568705 -2.74157052]]] 3\n"
     ]
    }
   ],
   "source": [
    "z2=np.random.randn(2,3,4) #Here the 'randn' function creates 2x3x4 array i.e. three 1-D arrays each having 4 elements. Repeat twice to get two 2-D arrays.\n",
    "print(z2,z2.ndim) #The values are filled randomly from a std. normal distribution."
   ]
  },
  {
   "cell_type": "code",
   "execution_count": 14,
   "metadata": {},
   "outputs": [
    {
     "name": "stdout",
     "output_type": "stream",
     "text": [
      "[ 1  4  7 10 13 16 19 22 25 28] (10,) 1\n"
     ]
    }
   ],
   "source": [
    "a=np.arange(1,30,3)\n",
    "print(a,a.shape,a.ndim)"
   ]
  },
  {
   "cell_type": "code",
   "execution_count": 15,
   "metadata": {},
   "outputs": [
    {
     "name": "stdout",
     "output_type": "stream",
     "text": [
      "[[ 1  4]\n",
      " [ 7 10]\n",
      " [13 16]\n",
      " [19 22]\n",
      " [25 28]] 2\n"
     ]
    }
   ],
   "source": [
    "b=a.reshape(5,2) #The 'reshape' function is used to transform the existing array into a new dimension array.\n",
    "print(b,b.ndim) #The original array 'a' was a 1-D array having 10 items. We've now reshaped it into a 2-D array. It now has 5 1-D arrays each having 2 items, hence a 2-D array."
   ]
  },
  {
   "cell_type": "code",
   "execution_count": 16,
   "metadata": {},
   "outputs": [
    {
     "name": "stdout",
     "output_type": "stream",
     "text": [
      "[[[ 1  4]\n",
      "  [ 7 10]\n",
      "  [13 16]\n",
      "  [19 22]\n",
      "  [25 28]]] 3\n"
     ]
    }
   ],
   "source": [
    "b=a.reshape(1,5,2) #The above array is now repeated 1 times resulting in same array structure, but now we add a bracket for repetition making it 3-D array.\n",
    "print(b,b.ndim)"
   ]
  },
  {
   "cell_type": "code",
   "execution_count": 17,
   "metadata": {},
   "outputs": [
    {
     "name": "stdout",
     "output_type": "stream",
     "text": [
      "[ 1  4  7 10 13 16 19 22 25 28] 1\n"
     ]
    }
   ],
   "source": [
    "z=b.flatten() #The 'flatten' function converts the original array into a 1-D array.\n",
    "print(z,z.ndim)"
   ]
  },
  {
   "cell_type": "code",
   "execution_count": 21,
   "metadata": {},
   "outputs": [
    {
     "name": "stdout",
     "output_type": "stream",
     "text": [
      "[[[[3 3 3 3]]\n",
      "\n",
      "  [[3 3 3 3]]]\n",
      "\n",
      "\n",
      " [[[3 3 3 3]]\n",
      "\n",
      "  [[3 3 3 3]]]] 4\n"
     ]
    }
   ],
   "source": [
    "x=np.full([2,2,1,4],3) #Here the 'full' function creates a 2x2x1x4 array with all values as 3.\n",
    "print(x,x.ndim) #A 1-D array of 4 3's repeated 1 time so adds a bracket on the 1-D array to make it a 2-D array.\n",
    "#This structure then repeats 2 times to result in two 2-D arrays. The repetition adds an outer bracket to give us 3 brackets and hence a 3-D array.\n",
    "#Finally, this structure is repeated 2 times giving us two 3-D arrays. The repetition adds an outer bracket giving us the final 4-D array."
   ]
  },
  {
   "cell_type": "code",
   "execution_count": 10,
   "metadata": {},
   "outputs": [
    {
     "name": "stdout",
     "output_type": "stream",
     "text": [
      "[[1 0 0]\n",
      " [0 1 0]\n",
      " [0 0 1]]\n",
      "2\n"
     ]
    }
   ],
   "source": [
    "z = np.eye(3, dtype= 'i')\n",
    "print(z) #Create a 2-D array made of 3 1-D arrays each with 3 elements(a 3x3 matrix) with diagonal values as 1 and all others as 0.\n",
    "print(z.ndim)"
   ]
  },
  {
   "cell_type": "code",
   "execution_count": 25,
   "metadata": {},
   "outputs": [
    {
     "name": "stdout",
     "output_type": "stream",
     "text": [
      "[[6. 0. 0. 0. 0.]\n",
      " [0. 6. 0. 0. 0.]\n",
      " [0. 0. 6. 0. 0.]\n",
      " [0. 0. 0. 6. 0.]\n",
      " [0. 0. 0. 0. 6.]] 2\n"
     ]
    }
   ],
   "source": [
    "y=np.eye(5)*6 #Create a 2-D array made of 5 1-D arrays each with 5 elements(a 5x5 matrix) with diagonal values as 6 and all others as 0.\n",
    "print(y,y.ndim)"
   ]
  },
  {
   "cell_type": "code",
   "execution_count": 31,
   "metadata": {},
   "outputs": [
    {
     "name": "stdout",
     "output_type": "stream",
     "text": [
      "[[1 0 0 0 0]\n",
      " [0 1 0 0 0]\n",
      " [0 0 1 0 0]]\n"
     ]
    }
   ],
   "source": [
    "y1 = np.eye(3,5,dtype='i') #Create a 3x5 2-D array where 1 gets assigned to the cell where row index = column index, else all cells assigned 0.\n",
    "print(y1)"
   ]
  },
  {
   "cell_type": "code",
   "execution_count": 34,
   "metadata": {},
   "outputs": [
    {
     "data": {
      "text/plain": [
       "array([[1, 0, 0],\n",
       "       [0, 3, 0],\n",
       "       [0, 0, 3]])"
      ]
     },
     "execution_count": 34,
     "metadata": {},
     "output_type": "execute_result"
    }
   ],
   "source": [
    "np.diag([1,3,3]) #Create a square 2-D array and fill the diagonal cells with specified values."
   ]
  },
  {
   "cell_type": "code",
   "execution_count": 37,
   "metadata": {},
   "outputs": [
    {
     "data": {
      "text/plain": [
       "array([[0, 5, 0, 0],\n",
       "       [0, 0, 1, 0],\n",
       "       [0, 0, 0, 7],\n",
       "       [0, 0, 0, 0]])"
      ]
     },
     "execution_count": 37,
     "metadata": {},
     "output_type": "execute_result"
    }
   ],
   "source": [
    "np.diag([5,1,7],1)"
   ]
  },
  {
   "cell_type": "code",
   "execution_count": 38,
   "metadata": {},
   "outputs": [
    {
     "data": {
      "text/plain": [
       "array([[0, 0, 3, 0],\n",
       "       [0, 0, 0, 4],\n",
       "       [0, 0, 0, 0],\n",
       "       [0, 0, 0, 0]])"
      ]
     },
     "execution_count": 38,
     "metadata": {},
     "output_type": "execute_result"
    }
   ],
   "source": [
    "np.diag([3,4],2)"
   ]
  },
  {
   "cell_type": "code",
   "execution_count": 39,
   "metadata": {},
   "outputs": [
    {
     "name": "stdout",
     "output_type": "stream",
     "text": [
      "[[ 0  1  2  3]\n",
      " [ 4  5  6  7]\n",
      " [ 8  9 10 11]\n",
      " [12 13 14 15]]\n"
     ]
    },
    {
     "data": {
      "text/plain": [
       "array([ 0,  5, 10, 15])"
      ]
     },
     "execution_count": 39,
     "metadata": {},
     "output_type": "execute_result"
    }
   ],
   "source": [
    "d3 = np.arange(16).reshape(4,4)\n",
    "print(d3)\n",
    "np.diag(d3) #When applied to a square 2-D array like 'd3', the function returns a 1-D array consisting of the diagonal elements."
   ]
  },
  {
   "cell_type": "code",
   "execution_count": 41,
   "metadata": {},
   "outputs": [
    {
     "data": {
      "text/plain": [
       "array([ 1,  4,  7, 10], dtype=int32)"
      ]
     },
     "execution_count": 41,
     "metadata": {},
     "output_type": "execute_result"
    }
   ],
   "source": [
    "np.linspace(1,10,4,dtype='i') #Create a 1-D array of 4 equally spaced values between 1 to 10."
   ]
  },
  {
   "cell_type": "code",
   "execution_count": 33,
   "metadata": {},
   "outputs": [
    {
     "name": "stdout",
     "output_type": "stream",
     "text": [
      "[ 2  5  8 11 14 15 17 19 21 23] (10,)\n",
      "[[ 2  5  8 11 14]\n",
      " [15 17 19 21 23]] (2, 5)\n"
     ]
    }
   ],
   "source": [
    "f=np.arange(2,15,3) #The 'hstack' function in numpy is used to horizontally stack 2 or more arrays to give a 1-D array.\n",
    "g=np.arange(15,25,2)\n",
    "h=np.hstack((f,g))\n",
    "i=np.vstack((f,g)) #The 'vstack' function vertically stacks 2 or more arrays. This gives n 1-D arrays thus giving a final 2-D array.\n",
    "print(h,h.shape)\n",
    "print(i,i.shape)"
   ]
  },
  {
   "cell_type": "code",
   "execution_count": 4,
   "metadata": {},
   "outputs": [
    {
     "name": "stdout",
     "output_type": "stream",
     "text": [
      "[[  2 445  23   1]\n",
      " [ 98  32   1   6]\n",
      " [ 21   5   6   9]]\n",
      "[[  2  98  21]\n",
      " [445  32   5]\n",
      " [ 23   1   6]\n",
      " [  1   6   9]]\n",
      "[  2 445  23   1  98  32   1   6  21   5   6   9]\n"
     ]
    }
   ],
   "source": [
    "a = np.array([2,445,23,1])\n",
    "b = np.array([98,32,1,6])\n",
    "c = np.array([21,5,6,9])\n",
    "i = np.stack((a,b,c)) #Stacks the three 1-D arrays horizontally(along axis =0) by deafult.\n",
    "j = np.stack((a,b,c),axis=1) #Stacks the three 1-D arrays along axis =1.\n",
    "k = np.hstack((a,b,c)) #Stacks all 1-D arrays as a flat 1-D array.\n",
    "print(i)\n",
    "print(j)\n",
    "print(k)"
   ]
  },
  {
   "cell_type": "markdown",
   "metadata": {},
   "source": [
    "<h1>Indexing and Slicing<h1>"
   ]
  },
  {
   "cell_type": "code",
   "execution_count": 5,
   "metadata": {},
   "outputs": [
    {
     "name": "stdout",
     "output_type": "stream",
     "text": [
      "[98 32  1  6]\n",
      "[23  1  6]\n",
      "[23  1]\n",
      "[[445  23]\n",
      " [ 32   1]\n",
      " [  5   6]]\n"
     ]
    }
   ],
   "source": [
    "print(i[1]) #Returns the row with index=1 i.e. 2nd row of 'i' array.\n",
    "print(i[:,2]) #Indices before comma are for rows and after comma are for columns. If we have only colon':' then there is no criteria i.e. include everything for that axis.\n",
    "              #Hence this returns column with index=2 i.e. the 3rd column of 'i' array. \n",
    "print(i[0,2:4]) #Go to row with index=0 and then return everything from index=2 to 4.\n",
    "print(i[:,1:3]) #No criteria for row. Return everything from column index=1 to 3."
   ]
  },
  {
   "cell_type": "code",
   "execution_count": 5,
   "metadata": {},
   "outputs": [
    {
     "name": "stdout",
     "output_type": "stream",
     "text": [
      "[[ 0  1  2  3  4  5]\n",
      " [ 6  7  8  9 10 11]\n",
      " [12 13 14 15 16 17]\n",
      " [18 19 20 21 22 23]\n",
      " [24 25 26 27 28 29]]\n"
     ]
    },
    {
     "data": {
      "text/plain": [
       "array([[ 0,  2,  4],\n",
       "       [12, 14, 16],\n",
       "       [24, 26, 28]])"
      ]
     },
     "execution_count": 5,
     "metadata": {},
     "output_type": "execute_result"
    }
   ],
   "source": [
    "d=np.arange(30).reshape((5,6))\n",
    "print(d)\n",
    "d[::2,::2]"
   ]
  },
  {
   "cell_type": "code",
   "execution_count": 97,
   "metadata": {},
   "outputs": [
    {
     "name": "stdout",
     "output_type": "stream",
     "text": [
      "[[11 22 33]\n",
      " [44 55 66]\n",
      " [77 88 99]]\n",
      "[[11 22]\n",
      " [44 55]\n",
      " [77 88]]\n"
     ]
    }
   ],
   "source": [
    "data = np.array([[11, 22, 33],[44, 55, 66],[77, 88, 99]])\n",
    "print(data)\n",
    "print(data[:,0:2])"
   ]
  },
  {
   "cell_type": "code",
   "execution_count": 20,
   "metadata": {},
   "outputs": [
    {
     "name": "stdout",
     "output_type": "stream",
     "text": [
      "[[ 0  1  2  3  4]\n",
      " [ 5  6  7  8  9]\n",
      " [10 11 12 13 14]\n",
      " [15 16 17 18 19]\n",
      " [20 21 22 23 24]]\n",
      "[[ 1  3]\n",
      " [ 6  8]\n",
      " [11 13]\n",
      " [16 18]\n",
      " [21 23]]\n"
     ]
    },
    {
     "data": {
      "text/plain": [
       "array([[ 5,  7],\n",
       "       [15, 17]])"
      ]
     },
     "execution_count": 20,
     "metadata": {},
     "output_type": "execute_result"
    }
   ],
   "source": [
    "d=np.arange(25).reshape((5,5))\n",
    "print(d)\n",
    "print(d[:,1::2]) #Everything along the row(Axis 0 traverses up to down) while Axis 1 starts at 1 goes till end by a step of 2.\n",
    "d[1::2,:3:2]"
   ]
  },
  {
   "cell_type": "code",
   "execution_count": 47,
   "metadata": {},
   "outputs": [
    {
     "name": "stdout",
     "output_type": "stream",
     "text": [
      "[ 1  4  7 10 13 16] 6\n",
      "[[ 1  4  7]\n",
      " [10 13 16]]\n"
     ]
    }
   ],
   "source": [
    "x=np.arange(1,17,3)\n",
    "print(x,x.size)\n",
    "x1=x.reshape(2,3)\n",
    "print(x1)"
   ]
  },
  {
   "cell_type": "code",
   "execution_count": 49,
   "metadata": {},
   "outputs": [
    {
     "data": {
      "text/plain": [
       "array([[ 0,  1,  2,  3],\n",
       "       [ 4,  5,  6,  7],\n",
       "       [ 8,  9, 10, 11],\n",
       "       [12, 13, 14, 15]])"
      ]
     },
     "execution_count": 49,
     "metadata": {},
     "output_type": "execute_result"
    }
   ],
   "source": [
    "a = np.arange(16).reshape(4,4)\n",
    "a"
   ]
  },
  {
   "cell_type": "code",
   "execution_count": 50,
   "metadata": {},
   "outputs": [
    {
     "data": {
      "text/plain": [
       "array([[ 0,  1,  2,  3,  4,  5,  6,  7],\n",
       "       [ 8,  9, 10, 11, 12, 13, 14, 15]])"
      ]
     },
     "execution_count": 50,
     "metadata": {},
     "output_type": "execute_result"
    }
   ],
   "source": [
    "c = a.view() #We create a view of 'a' as 'c'. A view is an object which looks at the same data from which it was created.\n",
    "c = c.reshape(2,8)\n",
    "c"
   ]
  },
  {
   "cell_type": "code",
   "execution_count": 51,
   "metadata": {},
   "outputs": [
    {
     "name": "stdout",
     "output_type": "stream",
     "text": [
      "[[   0    1    2    3 1234    5    6    7]\n",
      " [   8    9   10   11   12   13   14   15]]\n",
      "[[   0    1    2    3]\n",
      " [1234    5    6    7]\n",
      " [   8    9   10   11]\n",
      " [  12   13   14   15]]\n"
     ]
    }
   ],
   "source": [
    "c[0,4] = 1234\n",
    "print(c) #Here we made changes to our view array 'c' but the changes reflect in the original array 'a' too where the exact item gets edited to a new value.\n",
    "print(a)"
   ]
  },
  {
   "cell_type": "code",
   "execution_count": 48,
   "metadata": {},
   "outputs": [
    {
     "name": "stdout",
     "output_type": "stream",
     "text": [
      "[13 16]\n",
      "[[  1   4   7]\n",
      " [ 10  13 100]]\n"
     ]
    }
   ],
   "source": [
    "x2=x1[1,1:3] #Here we slice array 'x1' and store it in array 'x2'. In 'x2',we then edit value at index=1 and change it to 100.\n",
    "print(x2) #Now when we print 'x1' and 'x2' we notice the change reflects not only in 'x2' but also 'x1'. \n",
    "x2[1]=100 #Hence an array slice stored as a new object works EXACTLY LIKE a view. Hence any change made to the sliced array also impacts the same item inside the parent array.\n",
    "print(x1)"
   ]
  },
  {
   "cell_type": "code",
   "execution_count": 52,
   "metadata": {},
   "outputs": [
    {
     "name": "stdout",
     "output_type": "stream",
     "text": [
      "[ 13 100]\n",
      "[[  1   4   7]\n",
      " [ 10  13 100]] [13 55]\n"
     ]
    }
   ],
   "source": [
    "x3=x1[1,1:3].copy() #To avoid making changes to both arrays, we use 'copy()' while slicing.\n",
    "print(x3) #The 'copy()' function creates a deep copy and changes made to this copy don't affect the parent array.\n",
    "x3[1]=55\n",
    "print(x1,x3)"
   ]
  },
  {
   "cell_type": "code",
   "execution_count": 72,
   "metadata": {},
   "outputs": [
    {
     "name": "stdout",
     "output_type": "stream",
     "text": [
      "[[[ 0  1  2]\n",
      "  [ 3  4  5]\n",
      "  [ 6  7  8]\n",
      "  [ 9 10 11]\n",
      "  [12 13 14]]\n",
      "\n",
      " [[15 16 17]\n",
      "  [18 19 20]\n",
      "  [21 22 23]\n",
      "  [24 25 26]\n",
      "  [27 28 29]]] 30 3\n"
     ]
    }
   ],
   "source": [
    "c=np.arange(30)\n",
    "c1=c.reshape(2,5,3) #A 1-D array of 3 elements. Repeated 5 times to result in 5 1-D arrays. Repetition adds an outer bracket thus giving a 2-D array with 2 brackets.\n",
    "print(c1,c1.size,c1.ndim) #Finally this structure is repeated 2 times giving us 2 2-D arrays. Repetition adds an outer bracket to the structure resulting in a 3-D array."
   ]
  },
  {
   "cell_type": "code",
   "execution_count": 75,
   "metadata": {},
   "outputs": [
    {
     "name": "stdout",
     "output_type": "stream",
     "text": [
      "[16 19 22 25 28] 1\n"
     ]
    }
   ],
   "source": [
    "c11=c1[1,:,1] #Go to index=1 to select the array. In that, no criteria on row so proceed to select column with index=1.\n",
    "print(c11,c11.ndim)"
   ]
  },
  {
   "cell_type": "code",
   "execution_count": 35,
   "metadata": {},
   "outputs": [
    {
     "name": "stdout",
     "output_type": "stream",
     "text": [
      "[[[[ 0  1  2  3]\n",
      "   [ 4  5  6  7]]\n",
      "\n",
      "  [[ 8  9 10 11]\n",
      "   [12 13 14 15]]]\n",
      "\n",
      "\n",
      " [[[16 17 18 19]\n",
      "   [20 21 22 23]]\n",
      "\n",
      "  [[24 25 26 27]\n",
      "   [28 29 30 31]]]] 4\n"
     ]
    }
   ],
   "source": [
    "d=np.arange(32)\n",
    "d1=d.reshape(2,2,2,4) \n",
    "print(d1,d1.ndim) #Moving left to right in shape, we have 2 3-D arrays, 2*2=4 2-D arrays, 2*2*2=8 1-D arrays each having 4 elements."
   ]
  },
  {
   "cell_type": "code",
   "execution_count": 5,
   "metadata": {},
   "outputs": [
    {
     "name": "stdout",
     "output_type": "stream",
     "text": [
      "[[[[  0   1   2   3]\n",
      "   [  4   5   6   7]]\n",
      "\n",
      "  [[  8   9  10  11]\n",
      "   [ 12  13  14  15]]]\n",
      "\n",
      "\n",
      " [[[ 16  99 100  19]\n",
      "   [ 20  21  22  23]]\n",
      "\n",
      "  [[ 24  25  26  27]\n",
      "   [ 28  29  30  31]]]] 4\n"
     ]
    }
   ],
   "source": [
    "d1[1,0,0,1:3]=[99,100] #Change the values 17 and 18 to 99 and 100 respectively.\n",
    "print(d1,d1.ndim)"
   ]
  },
  {
   "cell_type": "code",
   "execution_count": 90,
   "metadata": {},
   "outputs": [
    {
     "name": "stdout",
     "output_type": "stream",
     "text": [
      "[[[[  1   2]\n",
      "   [  5   6]]\n",
      "\n",
      "  [[  9  10]\n",
      "   [ 13  14]]]\n",
      "\n",
      "\n",
      " [[[ 99 100]\n",
      "   [ 21  22]]\n",
      "\n",
      "  [[ 25  26]\n",
      "   [ 29  30]]]]\n"
     ]
    }
   ],
   "source": [
    "print(d1[:,:,:,1:3])"
   ]
  },
  {
   "cell_type": "code",
   "execution_count": 109,
   "metadata": {},
   "outputs": [
    {
     "name": "stdout",
     "output_type": "stream",
     "text": [
      "[[ 9 10]\n",
      " [13 14]]\n"
     ]
    }
   ],
   "source": [
    "print(d1[0,1,:,1:3])"
   ]
  },
  {
   "cell_type": "code",
   "execution_count": 21,
   "metadata": {},
   "outputs": [
    {
     "name": "stdout",
     "output_type": "stream",
     "text": [
      "[0 1 2 3 4 5 6 7 8 9]\n"
     ]
    },
    {
     "data": {
      "text/plain": [
       "(array([0, 3, 6, 9], dtype=int64),)"
      ]
     },
     "execution_count": 21,
     "metadata": {},
     "output_type": "execute_result"
    }
   ],
   "source": [
    "q=np.arange(10)\n",
    "print(q)\n",
    "np.where(q%3==0) #For a 1-D array, 'np.where' returns the indices of where the condition holds True."
   ]
  },
  {
   "cell_type": "code",
   "execution_count": 23,
   "metadata": {},
   "outputs": [
    {
     "name": "stdout",
     "output_type": "stream",
     "text": [
      "[[ 1  5  9]\n",
      " [13 17 21]\n",
      " [25 29 33]]\n",
      "(array([0, 1, 2], dtype=int64), array([2, 2, 2], dtype=int64))\n"
     ]
    },
    {
     "data": {
      "text/plain": [
       "[(0, 2), (1, 2), (2, 2)]"
      ]
     },
     "execution_count": 23,
     "metadata": {},
     "output_type": "execute_result"
    }
   ],
   "source": [
    "p=np.arange(1,35,4).reshape((3,3))\n",
    "print(p)\n",
    "i=np.where(p%3==0) #For a 2-D array, 'np.where' returns 2 tuples of indices which taken together give co-ordinates where condition is True.\n",
    "#Hence (0,2),(1,2) and (2,2) are the co-ordinates.\n",
    "print(i)\n",
    "#To find these co-ordinates directly, we can use the 'zip' function.\n",
    "list(zip(i[0],i[1]))"
   ]
  },
  {
   "cell_type": "code",
   "execution_count": 25,
   "metadata": {},
   "outputs": [
    {
     "name": "stdout",
     "output_type": "stream",
     "text": [
      "[[ 1  5  9]\n",
      " [13 17 21]\n",
      " [25  0  0]]\n"
     ]
    }
   ],
   "source": [
    "d21=np.where(p>25,0,p) #The 'where' function in numpy also helps to find and replace values based on a criteria.\n",
    "print(d21) #The 1st arguments is the criteria, the 2nd is what we replace with if True, the 3rd is what we replace with if False."
   ]
  },
  {
   "cell_type": "code",
   "execution_count": 79,
   "metadata": {},
   "outputs": [
    {
     "name": "stdout",
     "output_type": "stream",
     "text": [
      "[[ 0.10236944 -1.05319124  0.35367796  0.03983684]\n",
      " [ 0.53802686 -1.14110696  1.29336849  0.05118315]] 2\n",
      "[[ 0.10236944  0.53802686]\n",
      " [-1.05319124 -1.14110696]\n",
      " [ 0.35367796  1.29336849]\n",
      " [ 0.03983684  0.05118315]]\n"
     ]
    }
   ],
   "source": [
    "v=np.random.randn(2,4) \n",
    "print(v,v.ndim)\n",
    "print(v.T) #The 'T' function in numpy helps transpose the ndarray."
   ]
  },
  {
   "cell_type": "code",
   "execution_count": 72,
   "metadata": {},
   "outputs": [
    {
     "name": "stdout",
     "output_type": "stream",
     "text": [
      "[[False False  True  True]\n",
      " [False  True  True  True]]\n"
     ]
    }
   ],
   "source": [
    "print(v>1) #Checks a condition whether each value in 'v' array is >1 and returns a boolean array."
   ]
  },
  {
   "cell_type": "markdown",
   "metadata": {},
   "source": [
    "<h2>FANCY INDEXING<h2>\n",
    "<h3>Here we specify the indices of the elements/cells/axis to slice and extract desired array."
   ]
  },
  {
   "cell_type": "code",
   "execution_count": 9,
   "metadata": {},
   "outputs": [
    {
     "data": {
      "text/plain": [
       "array([4, 8])"
      ]
     },
     "execution_count": 9,
     "metadata": {},
     "output_type": "execute_result"
    }
   ],
   "source": [
    "q=np.array([2,4,6,8,10])\n",
    "q[[1,3]] #Provide a list of indices to extract a new array."
   ]
  },
  {
   "cell_type": "code",
   "execution_count": 4,
   "metadata": {},
   "outputs": [
    {
     "name": "stdout",
     "output_type": "stream",
     "text": [
      "[[ 0  1  2]\n",
      " [ 3  4  5]\n",
      " [ 6  7  8]\n",
      " [ 9 10 11]]\n"
     ]
    },
    {
     "data": {
      "text/plain": [
       "array([[ 0,  1,  2],\n",
       "       [21, 32,  9],\n",
       "       [ 6,  7,  8],\n",
       "       [ 9, 10, 11]])"
      ]
     },
     "execution_count": 4,
     "metadata": {},
     "output_type": "execute_result"
    }
   ],
   "source": [
    "w=np.arange(12).reshape((4,3)) #Its a 2-D array where Axis 0 traverses along 4 rows top to bottom and Axis 1 along 3 columns left to right.\n",
    "print(w)\n",
    "w[[1]]=[21,32,9] #Along Axis 0 go to index=1 and replace the values with the values in the list.\n",
    "w"
   ]
  },
  {
   "cell_type": "code",
   "execution_count": 4,
   "metadata": {},
   "outputs": [
    {
     "name": "stdout",
     "output_type": "stream",
     "text": [
      "[[ 0  1  2  3  4]\n",
      " [ 5  6  7  8  9]\n",
      " [10 11 12 13 14]\n",
      " [15 16 17 18 19]\n",
      " [20 21 22 23 24]\n",
      " [25 26 27 28 29]] 2\n"
     ]
    },
    {
     "data": {
      "text/plain": [
       "array([[10, 11, 12, 13, 14],\n",
       "       [20, 21, 22, 23, 24],\n",
       "       [ 0,  1,  2,  3,  4]])"
      ]
     },
     "execution_count": 4,
     "metadata": {},
     "output_type": "execute_result"
    }
   ],
   "source": [
    "w=np.arange(30).reshape((6,5)) #Created and reshaped in a single line of code. \n",
    "print(w,w.ndim)#Since its a 2-D array of shape (6,5), the axis notation is (Axis0,Axis1).\n",
    "w[[2,4,0]] #Here we used fancy indexing. As there is no comma, we're only traversing along Axis 0. We passed the indices of rows in a desired order and it returns an array with those rows in same order."
   ]
  },
  {
   "cell_type": "code",
   "execution_count": 88,
   "metadata": {},
   "outputs": [
    {
     "name": "stdout",
     "output_type": "stream",
     "text": [
      "[10  7 12 29]\n"
     ]
    }
   ],
   "source": [
    "print(w[[2,1,2,5],[0,2,2,4]]) #Another example of fancy indexing. This time instead of 1 list of indices, we're supplying 2 lists.\n",
    "#Here the elements with indices (2,0),(1,2),(2,2) and (5,4) were selected and were produced in a 1-D array as output.\n",
    "#Regardless of the dimension of array, performing fancy indexing on it always returns elements in a 1-D array."
   ]
  },
  {
   "cell_type": "code",
   "execution_count": 21,
   "metadata": {},
   "outputs": [
    {
     "name": "stdout",
     "output_type": "stream",
     "text": [
      "[[ 1  3  5  7  9]\n",
      " [11 13 15 17 19]\n",
      " [21 23 25 27 29]\n",
      " [31 33 35 37 39]\n",
      " [41 43 45 47 49]\n",
      " [51 53 55 57 59]]\n"
     ]
    },
    {
     "data": {
      "text/plain": [
       "array([ 5, 25, 55])"
      ]
     },
     "execution_count": 21,
     "metadata": {},
     "output_type": "execute_result"
    }
   ],
   "source": [
    "v2=np.arange(1,60,2).reshape((6,5))\n",
    "print(v2)\n",
    "v2[[0,2,5],2]"
   ]
  },
  {
   "cell_type": "markdown",
   "metadata": {},
   "source": [
    "<h2>BOOLEAN INDEXING"
   ]
  },
  {
   "cell_type": "code",
   "execution_count": 16,
   "metadata": {},
   "outputs": [
    {
     "name": "stdout",
     "output_type": "stream",
     "text": [
      "[[0 2 4 6]\n",
      " [1 3 5 7]]\n",
      "[[ True False  True  True]\n",
      " [ True False  True False]]\n"
     ]
    },
    {
     "data": {
      "text/plain": [
       "array([0, 4, 6, 1, 5])"
      ]
     },
     "execution_count": 16,
     "metadata": {},
     "output_type": "execute_result"
    }
   ],
   "source": [
    "v1=np.arange(8).reshape((2,4),order='F')\n",
    "print(v1) #Create a (2,4) numpy array.\n",
    "b=np.full((2,4),True,dtype='bool') #Create a boolean numpy array. We use 'full' function to make a (2,4) array filled with 'True' and data type as boolean.\n",
    "b[[0,1,1],[1,1,3]]=[False,False,False] #Using fancy indexing, edit few cells of boolean array from 'True' to 'False'.\n",
    "print(b) \n",
    "v1[b] #Pass the boolean array as indices to the original array. This extracts those values of 'v1' where boolean value is 'True'."
   ]
  },
  {
   "cell_type": "code",
   "execution_count": 22,
   "metadata": {},
   "outputs": [
    {
     "name": "stdout",
     "output_type": "stream",
     "text": [
      "[[ 1  3  5  7  9]\n",
      " [11 13 15 17 19]\n",
      " [21 23 25 27 29]\n",
      " [31 33 35 37 39]\n",
      " [41 43 45 47 49]\n",
      " [51 53 55 57 59]]\n"
     ]
    },
    {
     "data": {
      "text/plain": [
       "array([ 5, 25, 55])"
      ]
     },
     "execution_count": 22,
     "metadata": {},
     "output_type": "execute_result"
    }
   ],
   "source": [
    "#We take the same example calculated under fancy indexing and solve it using boolean indexing.\n",
    "v2=np.arange(1,60,2).reshape((6,5))\n",
    "print(v2)\n",
    "b=np.array([1,0,1,0,0,1],dtype='bool') #We specify data type as 'bool' so that it is recognised as 'True/False' rather than plain 0 and 1 value.\n",
    "#As we want indices 0,2 and 5 along Axis 0 and index=2 along Axis 1, we specify a boolean array as Axis 0 indices and 2 as Axis 1 index.\n",
    "v2[b,2] "
   ]
  },
  {
   "cell_type": "code",
   "execution_count": 31,
   "metadata": {},
   "outputs": [
    {
     "name": "stdout",
     "output_type": "stream",
     "text": [
      "[[ 0  1  2  3  4]\n",
      " [ 5  6  7  8  9]\n",
      " [10 11 12 13 14]\n",
      " [15 16 17 18 19]\n",
      " [20 21 22 23 24]]\n"
     ]
    },
    {
     "data": {
      "text/plain": [
       "array([ 0,  3,  6,  9, 12, 15, 18, 21, 24])"
      ]
     },
     "execution_count": 31,
     "metadata": {},
     "output_type": "execute_result"
    }
   ],
   "source": [
    "n=np.arange(25).reshape((5,5))\n",
    "print(n)\n",
    "boolean=n%3==0 #Create a boolean array of 'True/False' based on condition whether cell values are divisible by 3.\n",
    "n[boolean] #Pass the boolean array to original array 'n' to extract only those values divisible by 3."
   ]
  },
  {
   "cell_type": "markdown",
   "metadata": {},
   "source": [
    "<h1>UNDERSTANDING AXES & CALCULATIONS<h1>"
   ]
  },
  {
   "cell_type": "code",
   "execution_count": 8,
   "metadata": {},
   "outputs": [
    {
     "name": "stdout",
     "output_type": "stream",
     "text": [
      "[[ 0  1  2  3]\n",
      " [ 4  5  6  7]\n",
      " [ 8  9 10 11]]\n"
     ]
    },
    {
     "data": {
      "text/plain": [
       "array([4, 5, 6, 7])"
      ]
     },
     "execution_count": 8,
     "metadata": {},
     "output_type": "execute_result"
    }
   ],
   "source": [
    "#For an ndarray of shape (a,b,c,d,..), the axis notation is given as (Axis0,Axis1,Axis2,Axis3,...).\n",
    "#For a 2-D array, Axis 0 is a horizontal line which moves top to down. Similarly Axis 1 is a vertical line which moves left to right.\n",
    "x1=np.arange(12).reshape((3,4)) #'x1' has shape (3,4), which means we've 3 indices across Axis 0 and 4 indices across Axis 1.\n",
    "print(x1) \n",
    "x1[1] #We supplied just 1 index, so this is for Axis 0. Hence the horizontal Axis 0 moves from index=0 at top and stops at index=1 to give 2nd row as output."
   ]
  },
  {
   "cell_type": "code",
   "execution_count": 11,
   "metadata": {},
   "outputs": [
    {
     "name": "stdout",
     "output_type": "stream",
     "text": [
      "[[[ 0  1  2]\n",
      "  [ 3  4  5]]\n",
      "\n",
      " [[ 6  7  8]\n",
      "  [ 9 10 11]]]\n",
      "[[ 6  7  8]\n",
      " [ 9 10 11]]\n",
      "[6 7 8]\n",
      "[7 8]\n"
     ]
    }
   ],
   "source": [
    "x2=np.arange(12).reshape((2,2,3))\n",
    "print(x2) #Here 'x2' is a 3-D array with shape (2,2,3). This means we've 2 indices along Axis 0, 2 indices along Axis 1 and 3 along Axis 2.\n",
    "print(x2[1]) #Since we specified only 1 index it is for Axis 0. Here Axis 0 will be a line which moves along the depth and selects one of the two 2-D arrays. So we get the 2nd array.\n",
    "print(x2[1,0]) #Then Axis 1 is a horizontal line moving vertically, thus selecting one of the two 1-D arrays inside the 2-D array. So we get the 1st 1-D array.\n",
    "print(x2[1,0,1:]) #Then finally Axis 2 is the vertical line moving horizontally thus selecting everything from index=1 till the end."
   ]
  },
  {
   "cell_type": "code",
   "execution_count": 17,
   "metadata": {},
   "outputs": [
    {
     "name": "stdout",
     "output_type": "stream",
     "text": [
      "[[ 6  8 10]\n",
      " [12 14 16]]\n",
      "[[ 3  5  7]\n",
      " [15 17 19]]\n",
      "[[ 3 12]\n",
      " [21 30]]\n"
     ]
    }
   ],
   "source": [
    "print(np.sum(x2,axis=0)) #The Axis 0 moves along the depth in 3rd dimension and sums up each each corresponding cells in the two 2-D arrays.\n",
    "print(np.sum(x2,axis=1)) #The Axis 1 is the horizontal line moving vertically and summing up values in each of the two 2-D arrays.\n",
    "print(np.sum(x2,axis=2)) #The Axis 2 is the vertical line moving horizontally and summing up values in each of the two 2-D arrays.\n",
    "#While performing these operations along the axes, we got resultant arrays of specific shape. There is a way to know it before hand. \n",
    "#There is a concept of 'collapsing the axis' along which we are performing the operation.\n",
    "#The shape of 'x2' is (2,2,3).When we calculated sum along Axis 0, we'll say we collapse its axis' shape i.e. we collapse '2'. What remains is (2,3) which is the shape of resultant array.\n",
    "#Similarly, when performing along Axis 1, we collapse its shape '2'. What remains is (2,3) which is the shape of final array after sum.\n",
    "#When doing it along Axis 2, we collapse its shape i.e. '3'. The remaining shape is (2,2) which is the shape of final array.\n",
    "#Interestingly, the last axis of any array can directly be indexed as Axis -1. Hence in this case, Axis 2 => Axis -1 and Axis 1 => Axis -2. "
   ]
  },
  {
   "cell_type": "code",
   "execution_count": 15,
   "metadata": {},
   "outputs": [
    {
     "name": "stdout",
     "output_type": "stream",
     "text": [
      "[[ 1  3 12]\n",
      " [ 0  9  4]\n",
      " [ 9 15  1]]\n",
      "15\n",
      "[12  9 15]\n",
      "7\n",
      "[2 1 1]\n"
     ]
    }
   ],
   "source": [
    "test=np.array([[1,3,12],[0,9,4],[9,15,1]])\n",
    "print(test)\n",
    "print(test.max()) #Maximum value in the array.\n",
    "print(test.max(axis=1)) #Maximum values along Axis 1.\n",
    "print(test.argmax()) #Index value of maximum value in array IF all the values were in a flat 1-D array.\n",
    "print(test.argmax(axis=1)) #Index values of maximum value along Axis 1 in array."
   ]
  },
  {
   "cell_type": "code",
   "execution_count": 25,
   "metadata": {},
   "outputs": [
    {
     "name": "stdout",
     "output_type": "stream",
     "text": [
      "[[0 1 2 3]\n",
      " [4 5 6 7]] 2\n",
      "[[ 0  2  4  6]\n",
      " [ 8 10 12 14]]\n"
     ]
    },
    {
     "data": {
      "text/plain": [
       "array([ 6, 22])"
      ]
     },
     "execution_count": 25,
     "metadata": {},
     "output_type": "execute_result"
    }
   ],
   "source": [
    "q=np.arange(8).reshape((2,4))\n",
    "r=np.arange(0,16,2).reshape((2,4))\n",
    "print(q,q.ndim)\n",
    "print(r)\n",
    "np.sum(q,axis=1)"
   ]
  },
  {
   "cell_type": "code",
   "execution_count": 30,
   "metadata": {},
   "outputs": [
    {
     "name": "stdout",
     "output_type": "stream",
     "text": [
      "[[ 0  2  8 18]\n",
      " [32 50 72 98]]\n"
     ]
    },
    {
     "data": {
      "text/plain": [
       "array([[ 0,  2,  4,  6],\n",
       "       [ 8, 10, 12, 14]])"
      ]
     },
     "execution_count": 30,
     "metadata": {},
     "output_type": "execute_result"
    }
   ],
   "source": [
    "print(np.multiply(q,r))\n",
    "np.maximum(q,r)"
   ]
  },
  {
   "cell_type": "code",
   "execution_count": 32,
   "metadata": {},
   "outputs": [
    {
     "data": {
      "text/plain": [
       "(array([[0, 1, 2],\n",
       "        [3, 4, 5]]),\n",
       " array([[ 6,  7,  8],\n",
       "        [ 9, 10, 11]]))"
      ]
     },
     "execution_count": 32,
     "metadata": {},
     "output_type": "execute_result"
    }
   ],
   "source": [
    "x,y=np.arange(12).reshape((2,2,3))\n",
    "x,y #Here we were able to assign the two 2-D arrays to 'x' and 'y'."
   ]
  },
  {
   "cell_type": "code",
   "execution_count": 20,
   "metadata": {},
   "outputs": [
    {
     "name": "stdout",
     "output_type": "stream",
     "text": [
      "[[ 0.95337725 -0.1334227  -0.16029298  1.16294235]\n",
      " [-0.32971225 -1.38911927 -1.27338921  0.50342752]\n",
      " [-0.97812597  0.19571313  1.00408569 -1.23061116]]\n"
     ]
    },
    {
     "data": {
      "text/plain": [
       "array([[-0.16029298, -0.1334227 ,  0.95337725,  1.16294235],\n",
       "       [-1.38911927, -1.27338921, -0.32971225,  0.50342752],\n",
       "       [-1.23061116, -0.97812597,  0.19571313,  1.00408569]])"
      ]
     },
     "execution_count": 20,
     "metadata": {},
     "output_type": "execute_result"
    }
   ],
   "source": [
    "c=np.random.randn(3,4)\n",
    "print(c)\n",
    "np.sort(c,axis=1)"
   ]
  },
  {
   "cell_type": "code",
   "execution_count": 32,
   "metadata": {},
   "outputs": [
    {
     "name": "stdout",
     "output_type": "stream",
     "text": [
      "[[-0.17386408  0.54830889  1.47762666  0.57620792]\n",
      " [-1.34980418  0.48026197 -1.1471137  -0.52401214]\n",
      " [ 0.78258936 -1.14405694  0.42740443  1.42563956]]\n",
      "[-0.17386408  0.54830889  0.57620792  1.47762666]\n"
     ]
    },
    {
     "data": {
      "text/plain": [
       "array([[-0.17386408,  0.54830889,  1.47762666,  0.57620792],\n",
       "       [-1.34980418,  0.48026197, -1.1471137 , -0.52401214],\n",
       "       [ 0.78258936, -1.14405694,  0.42740443,  1.42563956]])"
      ]
     },
     "execution_count": 32,
     "metadata": {},
     "output_type": "execute_result"
    }
   ],
   "source": [
    "d=np.random.randn(3,4)\n",
    "print(d)\n",
    "print(np.sort(d[0,:])) #Here we use 'sort' on a specific slice of array i.e. Row 1. The output is a 1-D sorted array.\n",
    "d #However, if we print the original array, we notice that only the 1st row was sorted as per previous 'sort' command while rest retained their original values.\n",
    "#This is called in-place sorting, where we sort a slice of array and when printing the original array, it retains the remaining values while sorting the specified slice."
   ]
  },
  {
   "cell_type": "code",
   "execution_count": 39,
   "metadata": {},
   "outputs": [
    {
     "name": "stdout",
     "output_type": "stream",
     "text": [
      "[ 2  2  3  4  3  5  7 19  1  2  3]\n"
     ]
    },
    {
     "data": {
      "text/plain": [
       "array([ 1,  2,  3,  4,  5,  7, 19])"
      ]
     },
     "execution_count": 39,
     "metadata": {},
     "output_type": "execute_result"
    }
   ],
   "source": [
    "z=np.array([2,2,3,4,3,5,7,19,1,2,3])\n",
    "print(z)\n",
    "np.unique(z) #The 'unique' function in numpy gives all the unique values in the array as a 1-D array."
   ]
  },
  {
   "cell_type": "code",
   "execution_count": 41,
   "metadata": {},
   "outputs": [
    {
     "data": {
      "text/plain": [
       "array([False, False, False,  True, False,  True,  True, False,  True,\n",
       "       False, False])"
      ]
     },
     "execution_count": 41,
     "metadata": {},
     "output_type": "execute_result"
    }
   ],
   "source": [
    "np.in1d(z,[0,1,4,5,7]) #The 'in1d' function in numpy checks each value in array 'z' whether it is present in specified list. Returns a boolean array."
   ]
  },
  {
   "cell_type": "code",
   "execution_count": 43,
   "metadata": {},
   "outputs": [
    {
     "data": {
      "text/plain": [
       "array([[ 0,  3,  6,  9],\n",
       "       [ 1,  4,  7, 10],\n",
       "       [ 2,  5,  8, 11]])"
      ]
     },
     "execution_count": 43,
     "metadata": {},
     "output_type": "execute_result"
    }
   ],
   "source": [
    "s=np.arange(12).reshape((3,4),order='F')\n",
    "s #By specifying \"order='F'\" option, we create array by filling cells column-wise. By default it fills row-wise.(order='C')"
   ]
  },
  {
   "cell_type": "code",
   "execution_count": 64,
   "metadata": {},
   "outputs": [
    {
     "name": "stdout",
     "output_type": "stream",
     "text": [
      "[[ 0  1  2  3]\n",
      " [ 4  5  6  7]\n",
      " [ 8  9 10 11]]\n"
     ]
    },
    {
     "data": {
      "text/plain": [
       "(array([[0],\n",
       "        [4],\n",
       "        [8]]),\n",
       " array([[ 1,  2],\n",
       "        [ 5,  6],\n",
       "        [ 9, 10]]),\n",
       " array([[ 3],\n",
       "        [ 7],\n",
       "        [11]]))"
      ]
     },
     "execution_count": 64,
     "metadata": {},
     "output_type": "execute_result"
    }
   ],
   "source": [
    "s1=np.arange(12).reshape((3,4))\n",
    "print(s1)\n",
    "x,y,z=np.split(s1,[1,3],axis=1) \n",
    "x,y,z #We used 'split' function to cut the array into pieces at specified indices. The split is done along Axis 1."
   ]
  },
  {
   "cell_type": "code",
   "execution_count": 70,
   "metadata": {},
   "outputs": [
    {
     "name": "stdout",
     "output_type": "stream",
     "text": [
      "[0 0 0 1 1 1 2 2 2 4 4 4]\n",
      "[0 1 1 2 2 2 4]\n"
     ]
    }
   ],
   "source": [
    "x1=np.array([0,1,2,4])\n",
    "print(np.repeat(x1,3)) \n",
    "print(np.repeat(x1,[1,2,3,1]))"
   ]
  },
  {
   "cell_type": "code",
   "execution_count": 3,
   "metadata": {},
   "outputs": [
    {
     "name": "stdout",
     "output_type": "stream",
     "text": [
      "[[0 1 2]\n",
      " [3 4 5]]\n"
     ]
    },
    {
     "data": {
      "text/plain": [
       "array([[0, 1, 2, 2, 2],\n",
       "       [3, 4, 5, 5, 5]])"
      ]
     },
     "execution_count": 3,
     "metadata": {},
     "output_type": "execute_result"
    }
   ],
   "source": [
    "x2=np.arange(6).reshape((2,3))\n",
    "print(x2)\n",
    "np.repeat(x2,[1,1,3],axis=1)"
   ]
  },
  {
   "cell_type": "markdown",
   "metadata": {},
   "source": [
    "<h1>BROADCASTING:It defines how arithmetic works b/w arrays of different shapes.<h1>\n",
    "<h2>RULE OF BROADCASTING: Two arrays are compatible for broadcast if both arrays have same trailing dimension OR one of the trailing dimension is 1.<h2>\n",
    "<h3>This means we can use (3,4) and (4,) arrays for broadcast as the trailing dimension of both arrays is 4.<h3>\n",
    "<h3>Also we can use (3,4) and (3,1) arrays for broadcast as one of the trailing dimensions is 1.<h3> "
   ]
  },
  {
   "cell_type": "code",
   "execution_count": 53,
   "metadata": {},
   "outputs": [
    {
     "name": "stdout",
     "output_type": "stream",
     "text": [
      "[[ 1  3  5  7]\n",
      " [ 9 11 13 15]\n",
      " [17 19 21 23]]\n",
      "[ 9 11 13 15] (4,)\n"
     ]
    },
    {
     "data": {
      "text/plain": [
       "array([[-8, -8, -8, -8],\n",
       "       [ 0,  0,  0,  0],\n",
       "       [ 8,  8,  8,  8]])"
      ]
     },
     "execution_count": 53,
     "metadata": {},
     "output_type": "execute_result"
    }
   ],
   "source": [
    "v=np.arange(1,25,2).reshape((3,4))\n",
    "print(v)\n",
    "mean=np.mean(v,axis=0,dtype='i') #We calculate the mean along Axis 0. This gives a 1-D array 'mean' having 4 elements.\n",
    "print(mean,mean.shape)\n",
    "v-mean #This subtract operation indicates we're broadcasting array 'mean' over values of array 'v'.\n",
    "#The array 'v' has shape (3,4) while mean has shape (4,). Hence any broadcast operation can be done ONLY along Axis 0."
   ]
  },
  {
   "cell_type": "code",
   "execution_count": 19,
   "metadata": {},
   "outputs": [
    {
     "name": "stdout",
     "output_type": "stream",
     "text": [
      "[ 4. 12. 20.] (3,)\n"
     ]
    },
    {
     "data": {
      "text/plain": [
       "array([[-3., -1.,  1.,  3.],\n",
       "       [-3., -1.,  1.,  3.],\n",
       "       [-3., -1.,  1.,  3.]])"
      ]
     },
     "execution_count": 19,
     "metadata": {},
     "output_type": "execute_result"
    }
   ],
   "source": [
    "mean1=np.mean(v,axis=1) #Now we're calculating mean along Axis 1. The resultant array 'mean1' is now of shape (3,).\n",
    "print(mean1,mean1.shape) #The array 'v' has shape (3,4) while 'mean1' has shape (3,). Now the broadcast of 'mean1' array over 'v' will be ONLY possible along Axis 1.\n",
    "mean_reshaped=mean1.reshape(3,1) #However to achieve that, we need to reshape 'mean1' from (3,) to (3,1)(i.e. make the trailing dimension as 1)\n",
    "v-mean_reshaped "
   ]
  }
 ],
 "metadata": {
  "kernelspec": {
   "display_name": "Python 3.8.5 ('base')",
   "language": "python",
   "name": "python3"
  },
  "language_info": {
   "codemirror_mode": {
    "name": "ipython",
    "version": 3
   },
   "file_extension": ".py",
   "mimetype": "text/x-python",
   "name": "python",
   "nbconvert_exporter": "python",
   "pygments_lexer": "ipython3",
   "version": "3.8.5"
  },
  "orig_nbformat": 4,
  "vscode": {
   "interpreter": {
    "hash": "1af06a67833388e2ab2f4a98b73c33e1819b9b34fa421d20993178e19955971f"
   }
  }
 },
 "nbformat": 4,
 "nbformat_minor": 2
}
