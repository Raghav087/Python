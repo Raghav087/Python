{
 "cells": [
  {
   "cell_type": "markdown",
   "source": [
    "<h3>NumPy (Numerical Python)library contains multidimensional array and matrix data structures. NumPy can be used to perform a wide variety of mathematical operations on arrays.<h3>\r\n",
    "It adds powerful data structures to Python that guarantee efficient calculations with arrays and matrices.\r\n",
    "All of the elements in a NumPy array should be homogeneous. "
   ],
   "metadata": {}
  },
  {
   "cell_type": "code",
   "execution_count": 1,
   "source": [
    "import numpy as np"
   ],
   "outputs": [],
   "metadata": {}
  },
  {
   "cell_type": "code",
   "execution_count": 9,
   "source": [
    "a=np.array([2,7,1,9])  #Numpy is a form of list which is homogenous instead of being heterogenous like list.\r\n",
    "b=np.array((3,5,1,8,9)) #Also, its 50 times faster than a list.\r\n",
    "print(a,b)  #Here 'a' and 'b' are 1-D numpy arrays. The elements of this array can be accessed using 1 index.\r\n",
    "print(type(a),type(b))\r\n",
    "print(a.dtype)  #Type of data stored in object 'a'."
   ],
   "outputs": [
    {
     "output_type": "stream",
     "name": "stdout",
     "text": [
      "[2 7 1 9] [3 5 1 8 9]\n",
      "<class 'numpy.ndarray'> <class 'numpy.ndarray'>\n",
      "int32\n"
     ]
    }
   ],
   "metadata": {}
  },
  {
   "cell_type": "code",
   "execution_count": 11,
   "source": [
    "c=np.array([2,5,3,7],dtype='f') #We can enforce a data type by using 'dtype' option.\r\n",
    "print(c,c.dtype)"
   ],
   "outputs": [
    {
     "output_type": "stream",
     "name": "stdout",
     "text": [
      "[2. 5. 3. 7.] float32\n"
     ]
    }
   ],
   "metadata": {}
  },
  {
   "cell_type": "code",
   "execution_count": 60,
   "source": [
    "a1=np.array([[1,2,5],[2,52,7],[9,0,3]]) #This is an array of three 1-D arrays. The 1st square bracket indicates the start of array. \r\n",
    "print(a1,a1.ndim) #The 'ndim' function gives the dimension of the numpy array.\r\n",
    "print(a1[1,1]) #The dimension of an array is equal to the indices needed to extract an element of the array."
   ],
   "outputs": [
    {
     "output_type": "stream",
     "name": "stdout",
     "text": [
      "[[ 1  2  5]\n",
      " [ 2 52  7]\n",
      " [ 9  0  3]] 2\n",
      "52\n"
     ]
    }
   ],
   "metadata": {}
  },
  {
   "cell_type": "code",
   "execution_count": 59,
   "source": [
    "a2=np.array([[[1,4,2],[3,5,9]],[[1,1,7],[0,0,8]]]) #This numpy array has two 2-D arrays.Both arrays contain two 1-D arrays.\r\n",
    "print(a2,a2.ndim,a2.size) #Basically, an array of 'n' 1-D arrays is a 2-D array, an array of 'n' 2-D arrays is a 3-D array and so on. "
   ],
   "outputs": [
    {
     "output_type": "stream",
     "name": "stdout",
     "text": [
      "[[[1 4 2]\n",
      "  [3 5 9]]\n",
      "\n",
      " [[1 1 7]\n",
      "  [0 0 8]]] 3 12\n"
     ]
    }
   ],
   "metadata": {}
  },
  {
   "cell_type": "code",
   "execution_count": 24,
   "source": [
    "a2.shape #The 'shape' function tells us some info on our numpy array 'a2'.\r\n",
    "#The output is a tuple info. We move from right to left. So taking last 2 digits, we've two 1-D arrays each having 3 elements. The 1st digit tells we've 2 number of 2-D arrays. \r\n",
    "#The last no. tells that each 1-D array has 3 elements."
   ],
   "outputs": [
    {
     "output_type": "execute_result",
     "data": {
      "text/plain": [
       "(2, 2, 3)"
      ]
     },
     "metadata": {},
     "execution_count": 24
    }
   ],
   "metadata": {}
  },
  {
   "cell_type": "markdown",
   "source": [
    "<h2>A 1-D array is also called vector. An array of 3-D or more is often called as tensor. So a 4-D array can be called a 4th order tensor.<h2>"
   ],
   "metadata": {}
  },
  {
   "cell_type": "code",
   "execution_count": 58,
   "source": [
    "p=np.array([91]) \r\n",
    "q=np.array(91) #An array with a single element having no list structure(i.e. without sq. brackets) is a 0-D array.\r\n",
    "print(p,q,p.ndim,q.ndim)"
   ],
   "outputs": [
    {
     "output_type": "stream",
     "name": "stdout",
     "text": [
      "[91] 91 1 0\n"
     ]
    }
   ],
   "metadata": {}
  },
  {
   "cell_type": "code",
   "execution_count": 36,
   "source": [
    "q1=np.zeros(5) #The 'zeros' function in numpy helps create arrays of a defined shape, type and all filled with 0s.\r\n",
    "q1  #This is a 1-D array of 5 elements all being zeros. By default, the elements are type float having a decimal."
   ],
   "outputs": [
    {
     "output_type": "execute_result",
     "data": {
      "text/plain": [
       "array([0., 0., 0., 0., 0.])"
      ]
     },
     "metadata": {},
     "execution_count": 36
    }
   ],
   "metadata": {}
  },
  {
   "cell_type": "code",
   "execution_count": 38,
   "source": [
    "q2=np.zeros(5,dtype='i') #Here we force the type of elements to be integer.\r\n",
    "q2"
   ],
   "outputs": [
    {
     "output_type": "execute_result",
     "data": {
      "text/plain": [
       "array([0, 0, 0, 0, 0], dtype=int32)"
      ]
     },
     "metadata": {},
     "execution_count": 38
    }
   ],
   "metadata": {}
  },
  {
   "cell_type": "code",
   "execution_count": 50,
   "source": [
    "q3=np.zeros([2,5],dtype='i') #This creates two 1-D arrays each having 5 zeros. Data type is integer.\r\n",
    "print(q3,q3.ndim)"
   ],
   "outputs": [
    {
     "output_type": "stream",
     "name": "stdout",
     "text": [
      "[[0 0 0 0 0]\n",
      " [0 0 0 0 0]] 2\n"
     ]
    }
   ],
   "metadata": {}
  },
  {
   "cell_type": "code",
   "execution_count": 49,
   "source": [
    "q4=np.zeros([3,2,4]) #This creates three 2-D arrays each having two 1-D arrays of 4 elements each.\r\n",
    "print(q4,q4.ndim) #Note its a 3-D array overall."
   ],
   "outputs": [
    {
     "output_type": "stream",
     "name": "stdout",
     "text": [
      "[[[0. 0. 0. 0.]\n",
      "  [0. 0. 0. 0.]]\n",
      "\n",
      " [[0. 0. 0. 0.]\n",
      "  [0. 0. 0. 0.]]\n",
      "\n",
      " [[0. 0. 0. 0.]\n",
      "  [0. 0. 0. 0.]]] 3\n"
     ]
    }
   ],
   "metadata": {}
  },
  {
   "cell_type": "code",
   "execution_count": 55,
   "source": [
    "q5=np.zeros([2,3,2,4]) #Let's approach the shape from right to left. We take last 2 digits. So two 1-D arrays each of 4 zeros. Repeat it thrice to get three 2-D arrays.\r\n",
    "print(q5,q5.ndim) #Finally repeat this twice to get two 3-D arrays which is the final 4-D array.\r\n",
    "#Going left to right, we have 2 3-D arrays, 2*3=6 2-D arrays, 2*3*2=12 1-D arrays each having 4 elements."
   ],
   "outputs": [
    {
     "output_type": "stream",
     "name": "stdout",
     "text": [
      "[[[[0. 0. 0. 0.]\n",
      "   [0. 0. 0. 0.]]\n",
      "\n",
      "  [[0. 0. 0. 0.]\n",
      "   [0. 0. 0. 0.]]\n",
      "\n",
      "  [[0. 0. 0. 0.]\n",
      "   [0. 0. 0. 0.]]]\n",
      "\n",
      "\n",
      " [[[0. 0. 0. 0.]\n",
      "   [0. 0. 0. 0.]]\n",
      "\n",
      "  [[0. 0. 0. 0.]\n",
      "   [0. 0. 0. 0.]]\n",
      "\n",
      "  [[0. 0. 0. 0.]\n",
      "   [0. 0. 0. 0.]]]] 4\n"
     ]
    }
   ],
   "metadata": {}
  },
  {
   "cell_type": "code",
   "execution_count": 57,
   "source": [
    "z=np.ones([2,4,2]) #Similarly, we have 'ones' function in numpy to create arrays with 1 as all elements.\r\n",
    "print(z,z.ndim)"
   ],
   "outputs": [
    {
     "output_type": "stream",
     "name": "stdout",
     "text": [
      "[[[1. 1.]\n",
      "  [1. 1.]\n",
      "  [1. 1.]\n",
      "  [1. 1.]]\n",
      "\n",
      " [[1. 1.]\n",
      "  [1. 1.]\n",
      "  [1. 1.]\n",
      "  [1. 1.]]] 3\n"
     ]
    }
   ],
   "metadata": {}
  },
  {
   "cell_type": "code",
   "execution_count": 62,
   "source": [
    "z1=np.ones([2,3,3],dtype=[('x','f'),('y','i'),('z','i')]) #Again going right to left taking last 2 digits, we create three 1-D arrays each having 3 ones. Repeat it twice to get final array.\r\n",
    "print(z1,z1.ndim) #The 'dtype' option says assign 'x' value as a float, 'y' value as integer and also 'z' value as integer.\r\n",
    "#Here 'x','y' and 'z' are the 3 elements(i.e. 1s) of the 1-D arrays created. The last digit 3 of the shsape indicates the same. Hence the first '1' is a float, while rest two are integers.\r\n",
    "#If we had lets say 2 as the last digit of shape, we would have two '1's in each 1-D array. Then we will only have 'x' and 'y' to control the data type."
   ],
   "outputs": [
    {
     "output_type": "stream",
     "name": "stdout",
     "text": [
      "[[[(1., 1, 1) (1., 1, 1) (1., 1, 1)]\n",
      "  [(1., 1, 1) (1., 1, 1) (1., 1, 1)]\n",
      "  [(1., 1, 1) (1., 1, 1) (1., 1, 1)]]\n",
      "\n",
      " [[(1., 1, 1) (1., 1, 1) (1., 1, 1)]\n",
      "  [(1., 1, 1) (1., 1, 1) (1., 1, 1)]\n",
      "  [(1., 1, 1) (1., 1, 1) (1., 1, 1)]]] 3\n"
     ]
    }
   ],
   "metadata": {}
  },
  {
   "cell_type": "code",
   "execution_count": 87,
   "source": [
    "z2=np.arange(12) #The 'arange' function in numpy creates a 1-D array from 0 to specified digit.\r\n",
    "print(z2,z2.ndim)"
   ],
   "outputs": [
    {
     "output_type": "stream",
     "name": "stdout",
     "text": [
      "[ 0  1  2  3  4  5  6  7  8  9 10 11] 1\n"
     ]
    }
   ],
   "metadata": {}
  },
  {
   "cell_type": "code",
   "execution_count": 30,
   "source": [
    "z3=np.arange(10,50,5,dtype='f') #Here instead of 0, we start from 10 till 50 with a skip of 5. We get a 1-D array again.\r\n",
    "print(z3,z3.ndim) #The data type is specified to be float."
   ],
   "outputs": [
    {
     "output_type": "stream",
     "name": "stdout",
     "text": [
      "[10. 15. 20. 25. 30. 35. 40. 45.] 1\n"
     ]
    }
   ],
   "metadata": {}
  },
  {
   "cell_type": "code",
   "execution_count": 73,
   "source": [
    "np.random.randint(20,50) #The 'random.randint' function in numpy gives a random integer from the given range."
   ],
   "outputs": [
    {
     "output_type": "execute_result",
     "data": {
      "text/plain": [
       "25"
      ]
     },
     "metadata": {},
     "execution_count": 73
    }
   ],
   "metadata": {}
  },
  {
   "cell_type": "code",
   "execution_count": 16,
   "source": [
    "normal=np.random.normal(10,1.5,15) #Here the 'normal' function in 'np.random' creates a 1-D array of 15 elements from a normal dist. with mean=10 and sd=1.5.\r\n",
    "print(normal,normal.ndim)"
   ],
   "outputs": [
    {
     "output_type": "stream",
     "name": "stdout",
     "text": [
      "[10.83748829 10.12263907 10.47516721 10.8505747  10.82176356 10.24708257\n",
      "  9.79298293 10.34946769 10.67698686  7.23318163  8.85040062  8.75364627\n",
      "  6.53711624  9.42258826 11.00140182] 1\n"
     ]
    }
   ],
   "metadata": {}
  },
  {
   "cell_type": "code",
   "execution_count": 82,
   "source": [
    "z2=np.random.randn(2,3,4) #Here the 'randn' function creates 2x3x4 array i.e. three 1-D arrays each having 4 elements. Repeat twice to get two 2-D arrays.\r\n",
    "print(z2,z2.ndim) #The values are filled randomly from a std. normal distribution."
   ],
   "outputs": [
    {
     "output_type": "stream",
     "name": "stdout",
     "text": [
      "[[[-0.25642247  0.43628854 -1.34012289  1.00176954]\n",
      "  [-0.15623487  2.63114535  0.94695167 -0.58996268]\n",
      "  [-0.53750141  1.15202644  0.19505978  0.6445395 ]]\n",
      "\n",
      " [[-0.25973393 -0.17238519 -1.71914513 -1.64487496]\n",
      "  [-1.24563755  0.11579075 -1.31336094 -0.03100248]\n",
      "  [-0.26191155  0.93293257  0.95568705 -2.74157052]]] 3\n"
     ]
    }
   ],
   "metadata": {}
  },
  {
   "cell_type": "code",
   "execution_count": 7,
   "source": [
    "a=np.arange(1,30,3)\r\n",
    "print(a,a.shape,a.ndim)"
   ],
   "outputs": [
    {
     "output_type": "stream",
     "name": "stdout",
     "text": [
      "[ 1  4  7 10 13 16 19 22 25 28] (10,) 1\n"
     ]
    }
   ],
   "metadata": {}
  },
  {
   "cell_type": "code",
   "execution_count": 10,
   "source": [
    "b=a.reshape(1,5,2) #The 'reshape' function is used to edit the existing array into a new dimension array.\r\n",
    "print(b,b.ndim) #The original array 'a' was a 1-D array having 10 items. We've now reshaped it into a 3-D array. It now has 5 1-D arrays each having 2 items and one 2-D array.\r\n",
    "#Hence its a 1x5x2 array."
   ],
   "outputs": [
    {
     "output_type": "stream",
     "name": "stdout",
     "text": [
      "[[[ 1  4]\n",
      "  [ 7 10]\n",
      "  [13 16]\n",
      "  [19 22]\n",
      "  [25 28]]] 3\n"
     ]
    }
   ],
   "metadata": {}
  },
  {
   "cell_type": "code",
   "execution_count": 13,
   "source": [
    "z=b.flatten() #The 'flatten' function converts the original array into a 1-D array.\r\n",
    "print(z,z.ndim)"
   ],
   "outputs": [
    {
     "output_type": "stream",
     "name": "stdout",
     "text": [
      "[ 1  4  7 10 13 16 19 22 25 28] 1\n"
     ]
    }
   ],
   "metadata": {}
  },
  {
   "cell_type": "code",
   "execution_count": 21,
   "source": [
    "x=np.full([2,2,1,4],3) #Here the 'full' function creates a 2x2x1x4 array with all values as 3.\r\n",
    "print(x,x.ndim) #Basically a 1x4 array repeated twice and then whole structure repeated twice again."
   ],
   "outputs": [
    {
     "output_type": "stream",
     "name": "stdout",
     "text": [
      "[[[[3 3 3 3]]\n",
      "\n",
      "  [[3 3 3 3]]]\n",
      "\n",
      "\n",
      " [[[3 3 3 3]]\n",
      "\n",
      "  [[3 3 3 3]]]] 4\n"
     ]
    }
   ],
   "metadata": {}
  },
  {
   "cell_type": "code",
   "execution_count": 25,
   "source": [
    "y=np.eye(5)*6 #Create a diagonal matrix(2x2 array) with diagonal values as 6 and all others as 0.\r\n",
    "print(y,y.ndim)"
   ],
   "outputs": [
    {
     "output_type": "stream",
     "name": "stdout",
     "text": [
      "[[6. 0. 0. 0. 0.]\n",
      " [0. 6. 0. 0. 0.]\n",
      " [0. 0. 6. 0. 0.]\n",
      " [0. 0. 0. 6. 0.]\n",
      " [0. 0. 0. 0. 6.]] 2\n"
     ]
    }
   ],
   "metadata": {}
  },
  {
   "cell_type": "code",
   "execution_count": 33,
   "source": [
    "f=np.arange(2,15,3) #The 'hstack' function in numpy is used to horizontally stack 2 or more arrays to give a 1-D array.\r\n",
    "g=np.arange(15,25,2)\r\n",
    "h=np.hstack((f,g))\r\n",
    "i=np.vstack((f,g)) #The 'vstack' function vertically stacks 2 or more arrays. This gives n 1-D arrays thus giving a final 2-D array.\r\n",
    "print(h,h.shape)\r\n",
    "print(i,i.shape)"
   ],
   "outputs": [
    {
     "output_type": "stream",
     "name": "stdout",
     "text": [
      "[ 2  5  8 11 14 15 17 19 21 23] (10,)\n",
      "[[ 2  5  8 11 14]\n",
      " [15 17 19 21 23]] (2, 5)\n"
     ]
    }
   ],
   "metadata": {}
  },
  {
   "cell_type": "markdown",
   "source": [
    "<h1>Indexing and Slicing<h1>"
   ],
   "metadata": {}
  },
  {
   "cell_type": "code",
   "execution_count": 37,
   "source": [
    "print(i[1]) #Returns the row with index=1 i.e. 2nd row of 'i' array.\r\n",
    "print(i[:,2]) #Indices before comma are for rows and after comma are for columns. If we have only colon':' then there is no criteria i.e. include everything for that axis.\r\n",
    "              #Hence this returns column with index=2 i.e. the 3rd column of 'i' array. \r\n",
    "print(i[0,2:4]) #Go to row with index=0 and then return everything from index=2 to 4.\r\n",
    "print(i[:,1:3]) #No criteria for row. Return everything from column index=1 to 3."
   ],
   "outputs": [
    {
     "output_type": "stream",
     "name": "stdout",
     "text": [
      "[15 17 19 21 23]\n",
      "[ 8 19]\n",
      "[ 8 11]\n",
      "[[ 5  8]\n",
      " [17 19]]\n"
     ]
    }
   ],
   "metadata": {}
  },
  {
   "cell_type": "code",
   "execution_count": 5,
   "source": [
    "d=np.arange(30).reshape((5,6))\r\n",
    "print(d)\r\n",
    "d[::2,::2]"
   ],
   "outputs": [
    {
     "output_type": "stream",
     "name": "stdout",
     "text": [
      "[[ 0  1  2  3  4  5]\n",
      " [ 6  7  8  9 10 11]\n",
      " [12 13 14 15 16 17]\n",
      " [18 19 20 21 22 23]\n",
      " [24 25 26 27 28 29]]\n"
     ]
    },
    {
     "output_type": "execute_result",
     "data": {
      "text/plain": [
       "array([[ 0,  2,  4],\n",
       "       [12, 14, 16],\n",
       "       [24, 26, 28]])"
      ]
     },
     "metadata": {},
     "execution_count": 5
    }
   ],
   "metadata": {}
  },
  {
   "cell_type": "code",
   "execution_count": 97,
   "source": [
    "data = np.array([[11, 22, 33],[44, 55, 66],[77, 88, 99]])\r\n",
    "print(data)\r\n",
    "print(data[:,0:2])"
   ],
   "outputs": [
    {
     "output_type": "stream",
     "name": "stdout",
     "text": [
      "[[11 22 33]\n",
      " [44 55 66]\n",
      " [77 88 99]]\n",
      "[[11 22]\n",
      " [44 55]\n",
      " [77 88]]\n"
     ]
    }
   ],
   "metadata": {}
  },
  {
   "cell_type": "code",
   "execution_count": 8,
   "source": [
    "d=np.arange(25).reshape((5,5))\r\n",
    "print(d)\r\n",
    "print(d[:,1::2]) #Everything along the row(Axis 0 traverses up to down) while Axis 1 starts at 1 goes till end by a step of 2.\r\n",
    "d[1::2,:3:2]"
   ],
   "outputs": [
    {
     "output_type": "stream",
     "name": "stdout",
     "text": [
      "[[ 0  1  2  3  4]\n",
      " [ 5  6  7  8  9]\n",
      " [10 11 12 13 14]\n",
      " [15 16 17 18 19]\n",
      " [20 21 22 23 24]]\n",
      "[[ 1  3]\n",
      " [ 6  8]\n",
      " [11 13]\n",
      " [16 18]\n",
      " [21 23]]\n"
     ]
    },
    {
     "output_type": "execute_result",
     "data": {
      "text/plain": [
       "array([[ 5,  7],\n",
       "       [15, 17]])"
      ]
     },
     "metadata": {},
     "execution_count": 8
    }
   ],
   "metadata": {}
  },
  {
   "cell_type": "code",
   "execution_count": 60,
   "source": [
    "x=np.arange(1,17,3)\r\n",
    "print(x,x.size)\r\n",
    "x1=x.reshape(2,3)\r\n",
    "print(x1)"
   ],
   "outputs": [
    {
     "output_type": "stream",
     "name": "stdout",
     "text": [
      "[ 1  4  7 10 13 16] 6\n",
      "[[ 1  4  7]\n",
      " [10 13 16]]\n"
     ]
    }
   ],
   "metadata": {}
  },
  {
   "cell_type": "code",
   "execution_count": 122,
   "source": [
    "x2=x1[1,1:3] #Here we slice array 'x1' and store it in array 'x2'. In 'x2',we then edit value at index=1 and change it to 100.\r\n",
    "print(x2) #Now when we print 'x1' and 'x2' we notice the change reflects not only in 'x2' but also 'x1'. \r\n",
    "x2[1]=100 #This is because slicing a numpy array creates a hard copy and both arrays point to the same memory location.\r\n",
    "print(x1)"
   ],
   "outputs": [
    {
     "output_type": "stream",
     "name": "stdout",
     "text": [
      "[ 13 100]\n",
      "[[  1   4   7]\n",
      " [ 10  13 100]]\n"
     ]
    }
   ],
   "metadata": {}
  },
  {
   "cell_type": "code",
   "execution_count": 69,
   "source": [
    "x3=x1[1,1:3].copy() #To avoid making changes to both arrays, we use 'copy()' while slicing. Now 'x3' and 'x1' are different objects as per memory location.\r\n",
    "print(x3)\r\n",
    "x3[1]=55\r\n",
    "print(x1,x3)"
   ],
   "outputs": [
    {
     "output_type": "stream",
     "name": "stdout",
     "text": [
      "[ 13 100]\n",
      "[[  1   4   7]\n",
      " [ 10  13 100]] [13 55]\n"
     ]
    }
   ],
   "metadata": {}
  },
  {
   "cell_type": "code",
   "execution_count": 72,
   "source": [
    "c=np.arange(30)\r\n",
    "c1=c.reshape(2,5,3) #Five 1-D arrays each having 3 elements OR 5 rows and 3 columns.\r\n",
    "print(c1,c1.size,c1.ndim)"
   ],
   "outputs": [
    {
     "output_type": "stream",
     "name": "stdout",
     "text": [
      "[[[ 0  1  2]\n",
      "  [ 3  4  5]\n",
      "  [ 6  7  8]\n",
      "  [ 9 10 11]\n",
      "  [12 13 14]]\n",
      "\n",
      " [[15 16 17]\n",
      "  [18 19 20]\n",
      "  [21 22 23]\n",
      "  [24 25 26]\n",
      "  [27 28 29]]] 30 3\n"
     ]
    }
   ],
   "metadata": {}
  },
  {
   "cell_type": "code",
   "execution_count": 75,
   "source": [
    "c11=c1[1,:,1] #Go to index=1 to select the array. In that, no criteria on row so proceed to select column with index=1.\r\n",
    "print(c11,c11.ndim)"
   ],
   "outputs": [
    {
     "output_type": "stream",
     "name": "stdout",
     "text": [
      "[16 19 22 25 28] 1\n"
     ]
    }
   ],
   "metadata": {}
  },
  {
   "cell_type": "code",
   "execution_count": 35,
   "source": [
    "d=np.arange(32)\r\n",
    "d1=d.reshape(2,2,2,4) #2 1-D arrays each having 4 elements OR 2 rows and 4 columns. Repeat this structure twice to get 2 2-D arrays.Now repeat this structure twice to get\r\n",
    "print(d1,d1.ndim) #final array structure. Fill this structure rows wise from the elements of array 'd' to get 'd1'.\r\n",
    "#Moving left to right in shape, we have 2 3-D arrays, 2*2=4 2-D arrays, 2*2*2=8 1-D arrays each having 4 elements."
   ],
   "outputs": [
    {
     "output_type": "stream",
     "name": "stdout",
     "text": [
      "[[[[ 0  1  2  3]\n",
      "   [ 4  5  6  7]]\n",
      "\n",
      "  [[ 8  9 10 11]\n",
      "   [12 13 14 15]]]\n",
      "\n",
      "\n",
      " [[[16 17 18 19]\n",
      "   [20 21 22 23]]\n",
      "\n",
      "  [[24 25 26 27]\n",
      "   [28 29 30 31]]]] 4\n"
     ]
    }
   ],
   "metadata": {}
  },
  {
   "cell_type": "code",
   "execution_count": 5,
   "source": [
    "d1[1,0,0,1:3]=[99,100] #Change the values 17 and 18 to 99 and 100 respectively.\r\n",
    "print(d1,d1.ndim)"
   ],
   "outputs": [
    {
     "output_type": "stream",
     "name": "stdout",
     "text": [
      "[[[[  0   1   2   3]\n",
      "   [  4   5   6   7]]\n",
      "\n",
      "  [[  8   9  10  11]\n",
      "   [ 12  13  14  15]]]\n",
      "\n",
      "\n",
      " [[[ 16  99 100  19]\n",
      "   [ 20  21  22  23]]\n",
      "\n",
      "  [[ 24  25  26  27]\n",
      "   [ 28  29  30  31]]]] 4\n"
     ]
    }
   ],
   "metadata": {}
  },
  {
   "cell_type": "code",
   "execution_count": 90,
   "source": [
    "print(d1[:,:,:,1:3])"
   ],
   "outputs": [
    {
     "output_type": "stream",
     "name": "stdout",
     "text": [
      "[[[[  1   2]\n",
      "   [  5   6]]\n",
      "\n",
      "  [[  9  10]\n",
      "   [ 13  14]]]\n",
      "\n",
      "\n",
      " [[[ 99 100]\n",
      "   [ 21  22]]\n",
      "\n",
      "  [[ 25  26]\n",
      "   [ 29  30]]]]\n"
     ]
    }
   ],
   "metadata": {}
  },
  {
   "cell_type": "code",
   "execution_count": 109,
   "source": [
    "print(d1[0,1,:,1:3])"
   ],
   "outputs": [
    {
     "output_type": "stream",
     "name": "stdout",
     "text": [
      "[[ 9 10]\n",
      " [13 14]]\n"
     ]
    }
   ],
   "metadata": {}
  },
  {
   "cell_type": "code",
   "execution_count": 36,
   "source": [
    "d21=np.where(d1>90,0,d1) #The 'where' function in numpy helps to find and replace values based on a criteria.\r\n",
    "print(d21) #The 1st arguments is the criteria, the 2nd is what we replace with if True, the 3rd is what we replace with if False."
   ],
   "outputs": [
    {
     "output_type": "stream",
     "name": "stdout",
     "text": [
      "[[[[ 0  1  2  3]\n",
      "   [ 4  5  6  7]]\n",
      "\n",
      "  [[ 8  9 10 11]\n",
      "   [12 13 14 15]]]\n",
      "\n",
      "\n",
      " [[[16 17 18 19]\n",
      "   [20 21 22 23]]\n",
      "\n",
      "  [[24 25 26 27]\n",
      "   [28 29 30 31]]]]\n"
     ]
    }
   ],
   "metadata": {}
  },
  {
   "cell_type": "code",
   "execution_count": 79,
   "source": [
    "v=np.random.randn(2,4) \r\n",
    "print(v,v.ndim)\r\n",
    "print(v.T) #The 'T' function in numpy helps transpose the ndarray."
   ],
   "outputs": [
    {
     "output_type": "stream",
     "name": "stdout",
     "text": [
      "[[ 0.10236944 -1.05319124  0.35367796  0.03983684]\n",
      " [ 0.53802686 -1.14110696  1.29336849  0.05118315]] 2\n",
      "[[ 0.10236944  0.53802686]\n",
      " [-1.05319124 -1.14110696]\n",
      " [ 0.35367796  1.29336849]\n",
      " [ 0.03983684  0.05118315]]\n"
     ]
    }
   ],
   "metadata": {}
  },
  {
   "cell_type": "code",
   "execution_count": 72,
   "source": [
    "print(v>1) #Checks a condition whether each value in 'v' array is >1 and returns a boolean array."
   ],
   "outputs": [
    {
     "output_type": "stream",
     "name": "stdout",
     "text": [
      "[[False False  True  True]\n",
      " [False  True  True  True]]\n"
     ]
    }
   ],
   "metadata": {}
  },
  {
   "cell_type": "markdown",
   "source": [
    "<h2>FANCY INDEXING<h2>\r\n",
    "<h3>Here we specify the indices of the elements/cells/axis to slice and extract desired array."
   ],
   "metadata": {}
  },
  {
   "cell_type": "code",
   "execution_count": 9,
   "source": [
    "q=np.array([2,4,6,8,10])\r\n",
    "q[[1,3]] #Provide a list of indices to extract a new array."
   ],
   "outputs": [
    {
     "output_type": "execute_result",
     "data": {
      "text/plain": [
       "array([4, 8])"
      ]
     },
     "metadata": {},
     "execution_count": 9
    }
   ],
   "metadata": {}
  },
  {
   "cell_type": "code",
   "execution_count": 4,
   "source": [
    "w=np.arange(12).reshape((4,3)) #Its a 2-D array where Axis 0 traverses along 4 rows top to bottom and Axis 1 along 3 columns left to right.\r\n",
    "print(w)\r\n",
    "w[[1]]=[21,32,9] #Along Axis 0 go to index=1 and replace the values with the values in the list.\r\n",
    "w"
   ],
   "outputs": [
    {
     "output_type": "stream",
     "name": "stdout",
     "text": [
      "[[ 0  1  2]\n",
      " [ 3  4  5]\n",
      " [ 6  7  8]\n",
      " [ 9 10 11]]\n"
     ]
    },
    {
     "output_type": "execute_result",
     "data": {
      "text/plain": [
       "array([[ 0,  1,  2],\n",
       "       [21, 32,  9],\n",
       "       [ 6,  7,  8],\n",
       "       [ 9, 10, 11]])"
      ]
     },
     "metadata": {},
     "execution_count": 4
    }
   ],
   "metadata": {}
  },
  {
   "cell_type": "code",
   "execution_count": 4,
   "source": [
    "w=np.arange(30).reshape((6,5)) #Created and reshaped in a single line of code. \r\n",
    "print(w,w.ndim)#Since its a 2-D array of shape (6,5), the axis notation is (Axis0,Axis1).\r\n",
    "w[[2,4,0]] #Here we used fancy indexing. As there is no comma, we're only traversing along Axis 0. We passed the indices of rows in a desired order and it returns an array with those rows in same order."
   ],
   "outputs": [
    {
     "output_type": "stream",
     "name": "stdout",
     "text": [
      "[[ 0  1  2  3  4]\n",
      " [ 5  6  7  8  9]\n",
      " [10 11 12 13 14]\n",
      " [15 16 17 18 19]\n",
      " [20 21 22 23 24]\n",
      " [25 26 27 28 29]] 2\n"
     ]
    },
    {
     "output_type": "execute_result",
     "data": {
      "text/plain": [
       "array([[10, 11, 12, 13, 14],\n",
       "       [20, 21, 22, 23, 24],\n",
       "       [ 0,  1,  2,  3,  4]])"
      ]
     },
     "metadata": {},
     "execution_count": 4
    }
   ],
   "metadata": {}
  },
  {
   "cell_type": "code",
   "execution_count": 88,
   "source": [
    "print(w[[2,1,2,5],[0,2,2,4]]) #Another example of fancy indexing. This time instead of 1 list of indices, we're supplying 2 lists.\r\n",
    "#Here the elements with indices (2,0),(1,2),(2,2) and (5,4) were selected and were produced in a 1-D array as output.\r\n",
    "#Regardless of the dimension of array, performing fancy indexing on it always returns elements in a 1-D array."
   ],
   "outputs": [
    {
     "output_type": "stream",
     "name": "stdout",
     "text": [
      "[10  7 12 29]\n"
     ]
    }
   ],
   "metadata": {}
  },
  {
   "cell_type": "code",
   "execution_count": 21,
   "source": [
    "v2=np.arange(1,60,2).reshape((6,5))\r\n",
    "print(v2)\r\n",
    "v2[[0,2,5],2]"
   ],
   "outputs": [
    {
     "output_type": "stream",
     "name": "stdout",
     "text": [
      "[[ 1  3  5  7  9]\n",
      " [11 13 15 17 19]\n",
      " [21 23 25 27 29]\n",
      " [31 33 35 37 39]\n",
      " [41 43 45 47 49]\n",
      " [51 53 55 57 59]]\n"
     ]
    },
    {
     "output_type": "execute_result",
     "data": {
      "text/plain": [
       "array([ 5, 25, 55])"
      ]
     },
     "metadata": {},
     "execution_count": 21
    }
   ],
   "metadata": {}
  },
  {
   "cell_type": "markdown",
   "source": [
    "<h2>BOOLEAN INDEXING"
   ],
   "metadata": {}
  },
  {
   "cell_type": "code",
   "execution_count": 16,
   "source": [
    "v1=np.arange(8).reshape((2,4),order='F')\r\n",
    "print(v1) #Create a (2,4) numpy array.\r\n",
    "b=np.full((2,4),True,dtype='bool') #Create a boolean numpy array. We use 'full' function to make a (2,4) array filled with 'True' and data type as boolean.\r\n",
    "b[[0,1,1],[1,1,3]]=[False,False,False] #Using fancy indexing, edit few cells of boolean array from 'True' to 'False'.\r\n",
    "print(b) \r\n",
    "v1[b] #Pass the boolean array as indices to the original array. This extracts those values of 'v1' where boolean value is 'True'."
   ],
   "outputs": [
    {
     "output_type": "stream",
     "name": "stdout",
     "text": [
      "[[0 2 4 6]\n",
      " [1 3 5 7]]\n",
      "[[ True False  True  True]\n",
      " [ True False  True False]]\n"
     ]
    },
    {
     "output_type": "execute_result",
     "data": {
      "text/plain": [
       "array([0, 4, 6, 1, 5])"
      ]
     },
     "metadata": {},
     "execution_count": 16
    }
   ],
   "metadata": {}
  },
  {
   "cell_type": "code",
   "execution_count": 22,
   "source": [
    "#We take the same example calculated under fancy indexing and solve it using boolean indexing.\r\n",
    "v2=np.arange(1,60,2).reshape((6,5))\r\n",
    "print(v2)\r\n",
    "b=np.array([1,0,1,0,0,1],dtype='bool') #We specify data type as 'bool' so that it is recognised as 'True/False' rather than plain 0 and 1 value.\r\n",
    "#As we want indices 0,2 and 5 along Axis 0 and index=2 along Axis 1, we specify a boolean array as Axis 0 indices and 2 as Axis 1 index.\r\n",
    "v2[b,2] "
   ],
   "outputs": [
    {
     "output_type": "stream",
     "name": "stdout",
     "text": [
      "[[ 1  3  5  7  9]\n",
      " [11 13 15 17 19]\n",
      " [21 23 25 27 29]\n",
      " [31 33 35 37 39]\n",
      " [41 43 45 47 49]\n",
      " [51 53 55 57 59]]\n"
     ]
    },
    {
     "output_type": "execute_result",
     "data": {
      "text/plain": [
       "array([ 5, 25, 55])"
      ]
     },
     "metadata": {},
     "execution_count": 22
    }
   ],
   "metadata": {}
  },
  {
   "cell_type": "markdown",
   "source": [
    "<h1>UNDERSTANDING AXES & CALCULATIONS<h1>"
   ],
   "metadata": {}
  },
  {
   "cell_type": "code",
   "execution_count": 8,
   "source": [
    "#For an ndarray of shape (a,b,c,d,..), the axis notation is given as (Axis0,Axis1,Axis2,Axis3,...).\r\n",
    "#For a 2-D array, Axis 0 is a horizontal line which moves top to down. Similarly Axis 1 is a vertical line which moves left to right.\r\n",
    "x1=np.arange(12).reshape((3,4)) #'x1' has shape (3,4), which means we've 3 indices across Axis 0 and 4 indices across Axis 1.\r\n",
    "print(x1) \r\n",
    "x1[1] #We supplied just 1 index, so this is for Axis 0. Hence the horizontal Axis 0 moves from index=0 at top and stops at index=1 to give 2nd row as output."
   ],
   "outputs": [
    {
     "output_type": "stream",
     "name": "stdout",
     "text": [
      "[[ 0  1  2  3]\n",
      " [ 4  5  6  7]\n",
      " [ 8  9 10 11]]\n"
     ]
    },
    {
     "output_type": "execute_result",
     "data": {
      "text/plain": [
       "array([4, 5, 6, 7])"
      ]
     },
     "metadata": {},
     "execution_count": 8
    }
   ],
   "metadata": {}
  },
  {
   "cell_type": "code",
   "execution_count": 11,
   "source": [
    "x2=np.arange(12).reshape((2,2,3))\r\n",
    "print(x2) #Here 'x2' is a 3-D array with shape (2,2,3). This means we've 2 indices along Axis 0, 2 indices along Axis 1 and 3 along Axis 2.\r\n",
    "print(x2[1]) #Since we specified only 1 index it is for Axis 0. Here Axis 0 will be a line which moves along the depth and selects one of the two 2-D arrays. So we get the 2nd array.\r\n",
    "print(x2[1,0]) #Then Axis 1 is a horizontal line moving vertically, thus selecting one of the two 1-D arrays inside the 2-D array. So we get the 1st 1-D array.\r\n",
    "print(x2[1,0,1:]) #Then finally Axis 2 is the vertical line moving horizontally thus selecting everything from index=1 till the end."
   ],
   "outputs": [
    {
     "output_type": "stream",
     "name": "stdout",
     "text": [
      "[[[ 0  1  2]\n",
      "  [ 3  4  5]]\n",
      "\n",
      " [[ 6  7  8]\n",
      "  [ 9 10 11]]]\n",
      "[[ 6  7  8]\n",
      " [ 9 10 11]]\n",
      "[6 7 8]\n",
      "[7 8]\n"
     ]
    }
   ],
   "metadata": {}
  },
  {
   "cell_type": "code",
   "execution_count": 17,
   "source": [
    "print(np.sum(x2,axis=0)) #The Axis 0 moves along the depth in 3rd dimension and sums up each each corresponding cells in the two 2-D arrays.\r\n",
    "print(np.sum(x2,axis=1)) #The Axis 1 is the horizontal line moving vertically and summing up values in each of the two 2-D arrays.\r\n",
    "print(np.sum(x2,axis=2)) #The Axis 2 is the vertical line moving horizontally and summing up values in each of the two 2-D arrays.\r\n",
    "#While performing these operations along the axes, we got resultant arrays of specific shape. There is a way to know it before hand. \r\n",
    "#There is a concept of 'collapsing the axis' along which we are performing the operation.\r\n",
    "#The shape of 'x2' is (2,2,3).When we calculated sum along Axis 0, we'll say we collapse its axis' shape i.e. we collapse '2'. What remains is (2,3) which is the shape of resultant array.\r\n",
    "#Similarly, when performing along Axis 1, we collapse its shape '2'. What remains is (2,3) which is the shape of final array after sum.\r\n",
    "#When doing it along Axis 2, we collapse its shape i.e. '3'. The remaining shape is (2,2) which is the shape of final array."
   ],
   "outputs": [
    {
     "output_type": "stream",
     "name": "stdout",
     "text": [
      "[[ 6  8 10]\n",
      " [12 14 16]]\n",
      "[[ 3  5  7]\n",
      " [15 17 19]]\n",
      "[[ 3 12]\n",
      " [21 30]]\n"
     ]
    }
   ],
   "metadata": {}
  },
  {
   "cell_type": "code",
   "execution_count": 25,
   "source": [
    "q=np.arange(8).reshape((2,4))\r\n",
    "r=np.arange(0,16,2).reshape((2,4))\r\n",
    "print(q,q.ndim)\r\n",
    "print(r)\r\n",
    "np.sum(q,axis=1)"
   ],
   "outputs": [
    {
     "output_type": "stream",
     "name": "stdout",
     "text": [
      "[[0 1 2 3]\n",
      " [4 5 6 7]] 2\n",
      "[[ 0  2  4  6]\n",
      " [ 8 10 12 14]]\n"
     ]
    },
    {
     "output_type": "execute_result",
     "data": {
      "text/plain": [
       "array([ 6, 22])"
      ]
     },
     "metadata": {},
     "execution_count": 25
    }
   ],
   "metadata": {}
  },
  {
   "cell_type": "code",
   "execution_count": 30,
   "source": [
    "print(np.multiply(q,r))\r\n",
    "np.maximum(q,r)"
   ],
   "outputs": [
    {
     "output_type": "stream",
     "name": "stdout",
     "text": [
      "[[ 0  2  8 18]\n",
      " [32 50 72 98]]\n"
     ]
    },
    {
     "output_type": "execute_result",
     "data": {
      "text/plain": [
       "array([[ 0,  2,  4,  6],\n",
       "       [ 8, 10, 12, 14]])"
      ]
     },
     "metadata": {},
     "execution_count": 30
    }
   ],
   "metadata": {}
  },
  {
   "cell_type": "code",
   "execution_count": 32,
   "source": [
    "x,y=np.arange(12).reshape((2,2,3))\r\n",
    "x,y #Here we were able to assign the two 2-D arrays to 'x' and 'y'."
   ],
   "outputs": [
    {
     "output_type": "execute_result",
     "data": {
      "text/plain": [
       "(array([[0, 1, 2],\n",
       "        [3, 4, 5]]),\n",
       " array([[ 6,  7,  8],\n",
       "        [ 9, 10, 11]]))"
      ]
     },
     "metadata": {},
     "execution_count": 32
    }
   ],
   "metadata": {}
  },
  {
   "cell_type": "code",
   "execution_count": 20,
   "source": [
    "c=np.random.randn(3,4)\r\n",
    "print(c)\r\n",
    "np.sort(c,axis=1)"
   ],
   "outputs": [
    {
     "output_type": "stream",
     "name": "stdout",
     "text": [
      "[[ 0.95337725 -0.1334227  -0.16029298  1.16294235]\n",
      " [-0.32971225 -1.38911927 -1.27338921  0.50342752]\n",
      " [-0.97812597  0.19571313  1.00408569 -1.23061116]]\n"
     ]
    },
    {
     "output_type": "execute_result",
     "data": {
      "text/plain": [
       "array([[-0.16029298, -0.1334227 ,  0.95337725,  1.16294235],\n",
       "       [-1.38911927, -1.27338921, -0.32971225,  0.50342752],\n",
       "       [-1.23061116, -0.97812597,  0.19571313,  1.00408569]])"
      ]
     },
     "metadata": {},
     "execution_count": 20
    }
   ],
   "metadata": {}
  },
  {
   "cell_type": "code",
   "execution_count": 32,
   "source": [
    "d=np.random.randn(3,4)\r\n",
    "print(d)\r\n",
    "print(np.sort(d[0,:])) #Here we use 'sort' on a specific slice of array i.e. Row 1. The output is a 1-D sorted array.\r\n",
    "d #However, if we print the original array, we notice that only the 1st row was sorted as per previous 'sort' command while rest retained their original values.\r\n",
    "#This is called in-place sorting, where we sort a slice of array and when printing the original array, it retains the remaining values while sorting the specified slice."
   ],
   "outputs": [
    {
     "output_type": "stream",
     "name": "stdout",
     "text": [
      "[[-0.17386408  0.54830889  1.47762666  0.57620792]\n",
      " [-1.34980418  0.48026197 -1.1471137  -0.52401214]\n",
      " [ 0.78258936 -1.14405694  0.42740443  1.42563956]]\n",
      "[-0.17386408  0.54830889  0.57620792  1.47762666]\n"
     ]
    },
    {
     "output_type": "execute_result",
     "data": {
      "text/plain": [
       "array([[-0.17386408,  0.54830889,  1.47762666,  0.57620792],\n",
       "       [-1.34980418,  0.48026197, -1.1471137 , -0.52401214],\n",
       "       [ 0.78258936, -1.14405694,  0.42740443,  1.42563956]])"
      ]
     },
     "metadata": {},
     "execution_count": 32
    }
   ],
   "metadata": {}
  },
  {
   "cell_type": "code",
   "execution_count": 39,
   "source": [
    "z=np.array([2,2,3,4,3,5,7,19,1,2,3])\r\n",
    "print(z)\r\n",
    "np.unique(z) #The 'unique' function in numpy gives all the unique values in the array as a 1-D array."
   ],
   "outputs": [
    {
     "output_type": "stream",
     "name": "stdout",
     "text": [
      "[ 2  2  3  4  3  5  7 19  1  2  3]\n"
     ]
    },
    {
     "output_type": "execute_result",
     "data": {
      "text/plain": [
       "array([ 1,  2,  3,  4,  5,  7, 19])"
      ]
     },
     "metadata": {},
     "execution_count": 39
    }
   ],
   "metadata": {}
  },
  {
   "cell_type": "code",
   "execution_count": 41,
   "source": [
    "np.in1d(z,[0,1,4,5,7]) #The 'in1d' function in numpy checks each value in array 'z' whether it is present in specified list. Returns a boolean array."
   ],
   "outputs": [
    {
     "output_type": "execute_result",
     "data": {
      "text/plain": [
       "array([False, False, False,  True, False,  True,  True, False,  True,\n",
       "       False, False])"
      ]
     },
     "metadata": {},
     "execution_count": 41
    }
   ],
   "metadata": {}
  },
  {
   "cell_type": "code",
   "execution_count": 43,
   "source": [
    "s=np.arange(12).reshape((3,4),order='F')\r\n",
    "s #By specifying \"order='F'\" option, we create array by filling cells column-wise. By default it fills row-wise.(order='C')"
   ],
   "outputs": [
    {
     "output_type": "execute_result",
     "data": {
      "text/plain": [
       "array([[ 0,  3,  6,  9],\n",
       "       [ 1,  4,  7, 10],\n",
       "       [ 2,  5,  8, 11]])"
      ]
     },
     "metadata": {},
     "execution_count": 43
    }
   ],
   "metadata": {}
  },
  {
   "cell_type": "code",
   "execution_count": 64,
   "source": [
    "s1=np.arange(12).reshape((3,4))\r\n",
    "print(s1)\r\n",
    "x,y,z=np.split(s1,[1,3],axis=1) \r\n",
    "x,y,z #We used 'split' function to cut the array into pieces at specified indices. The split is done along Axis 1."
   ],
   "outputs": [
    {
     "output_type": "stream",
     "name": "stdout",
     "text": [
      "[[ 0  1  2  3]\n",
      " [ 4  5  6  7]\n",
      " [ 8  9 10 11]]\n"
     ]
    },
    {
     "output_type": "execute_result",
     "data": {
      "text/plain": [
       "(array([[0],\n",
       "        [4],\n",
       "        [8]]),\n",
       " array([[ 1,  2],\n",
       "        [ 5,  6],\n",
       "        [ 9, 10]]),\n",
       " array([[ 3],\n",
       "        [ 7],\n",
       "        [11]]))"
      ]
     },
     "metadata": {},
     "execution_count": 64
    }
   ],
   "metadata": {}
  },
  {
   "cell_type": "code",
   "execution_count": 70,
   "source": [
    "x1=np.array([0,1,2,4])\r\n",
    "print(np.repeat(x1,3)) \r\n",
    "print(np.repeat(x1,[1,2,3,1]))"
   ],
   "outputs": [
    {
     "output_type": "stream",
     "name": "stdout",
     "text": [
      "[0 0 0 1 1 1 2 2 2 4 4 4]\n",
      "[0 1 1 2 2 2 4]\n"
     ]
    }
   ],
   "metadata": {}
  },
  {
   "cell_type": "code",
   "execution_count": 3,
   "source": [
    "x2=np.arange(6).reshape((2,3))\r\n",
    "print(x2)\r\n",
    "np.repeat(x2,[1,1,3],axis=1)"
   ],
   "outputs": [
    {
     "output_type": "stream",
     "name": "stdout",
     "text": [
      "[[0 1 2]\n",
      " [3 4 5]]\n"
     ]
    },
    {
     "output_type": "execute_result",
     "data": {
      "text/plain": [
       "array([[0, 1, 2, 2, 2],\n",
       "       [3, 4, 5, 5, 5]])"
      ]
     },
     "metadata": {},
     "execution_count": 3
    }
   ],
   "metadata": {}
  },
  {
   "cell_type": "markdown",
   "source": [
    "<h1>BROADCASTING:It defines how arithmetic works b/w arrays of different shapes.<h1>"
   ],
   "metadata": {}
  },
  {
   "cell_type": "code",
   "execution_count": 14,
   "source": [
    "v=np.arange(1,25,2).reshape((3,4))\r\n",
    "print(v)\r\n",
    "mean=np.mean(v,axis=0) #We calculate the mean along Axis 0. This gives a 1-D array 'mean' having 4 elements.\r\n",
    "print(mean,mean.shape)\r\n",
    "v-mean #This subtract operation indicates we're broadcasting array 'mean' over values of array 'v'.\r\n",
    "#The array 'v' has shape (3,4) while mean has shape (4,). Hence any broadcast operation can be done ONLY along Axis 0."
   ],
   "outputs": [
    {
     "output_type": "stream",
     "name": "stdout",
     "text": [
      "[[ 1  3  5  7]\n",
      " [ 9 11 13 15]\n",
      " [17 19 21 23]]\n",
      "[ 9. 11. 13. 15.] (4,)\n"
     ]
    },
    {
     "output_type": "execute_result",
     "data": {
      "text/plain": [
       "array([[-8., -8., -8., -8.],\n",
       "       [ 0.,  0.,  0.,  0.],\n",
       "       [ 8.,  8.,  8.,  8.]])"
      ]
     },
     "metadata": {},
     "execution_count": 14
    }
   ],
   "metadata": {}
  },
  {
   "cell_type": "code",
   "execution_count": 19,
   "source": [
    "mean1=np.mean(v,axis=1) #Now we're calculating mean along Axis 1. The resultant array 'mean1' is now of shape (3,).\r\n",
    "print(mean1,mean1.shape) #The array 'v' has shape (3,4) while 'mean1' has shape (3,). Now the broadcast of 'mean1' array over 'v' will be ONLY possible along Axis 1.\r\n",
    "mean_reshaped=mean1.reshape(3,1) #However to achieve that, we need to reshape 'mean1' from (3,) to (3,1).\r\n",
    "v-mean_reshaped "
   ],
   "outputs": [
    {
     "output_type": "stream",
     "name": "stdout",
     "text": [
      "[ 4. 12. 20.] (3,)\n"
     ]
    },
    {
     "output_type": "execute_result",
     "data": {
      "text/plain": [
       "array([[-3., -1.,  1.,  3.],\n",
       "       [-3., -1.,  1.,  3.],\n",
       "       [-3., -1.,  1.,  3.]])"
      ]
     },
     "metadata": {},
     "execution_count": 19
    }
   ],
   "metadata": {}
  },
  {
   "cell_type": "markdown",
   "source": [
    "<h2>RULE OF BROADCASTING: Two arrays are compatible for broadcast if both arrays have same trailing dimension OR one of the trailing dimension is 1.<h2>\r\n",
    "<h3>This means we can use (3,4) and (4,) arrays for broadcast as the trailing dimension of both arrays is 4.<h3>\r\n",
    "<h3>Also we can use (3,4) and (3,1) arrays for broadcast as one of the trailing dimensions is 1.<h3> "
   ],
   "metadata": {}
  }
 ],
 "metadata": {
  "orig_nbformat": 4,
  "language_info": {
   "name": "python",
   "version": "3.8.5",
   "mimetype": "text/x-python",
   "codemirror_mode": {
    "name": "ipython",
    "version": 3
   },
   "pygments_lexer": "ipython3",
   "nbconvert_exporter": "python",
   "file_extension": ".py"
  },
  "kernelspec": {
   "name": "python3",
   "display_name": "Python 3.8.5 64-bit"
  },
  "interpreter": {
   "hash": "cf820f6f3a9d0b7e291e30330e6fd10cbd0b377f4c444ed08d0834798146cfe5"
  }
 },
 "nbformat": 4,
 "nbformat_minor": 2
}