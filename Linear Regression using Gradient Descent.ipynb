{
 "cells": [
  {
   "cell_type": "code",
   "execution_count": 2,
   "metadata": {},
   "outputs": [
    {
     "data": {
      "text/html": [
       "<div>\n",
       "<style scoped>\n",
       "    .dataframe tbody tr th:only-of-type {\n",
       "        vertical-align: middle;\n",
       "    }\n",
       "\n",
       "    .dataframe tbody tr th {\n",
       "        vertical-align: top;\n",
       "    }\n",
       "\n",
       "    .dataframe thead th {\n",
       "        text-align: right;\n",
       "    }\n",
       "</style>\n",
       "<table border=\"1\" class=\"dataframe\">\n",
       "  <thead>\n",
       "    <tr style=\"text-align: right;\">\n",
       "      <th></th>\n",
       "      <th>TV</th>\n",
       "      <th>radio</th>\n",
       "      <th>newspaper</th>\n",
       "      <th>sales</th>\n",
       "    </tr>\n",
       "    <tr>\n",
       "      <th>Company</th>\n",
       "      <th></th>\n",
       "      <th></th>\n",
       "      <th></th>\n",
       "      <th></th>\n",
       "    </tr>\n",
       "  </thead>\n",
       "  <tbody>\n",
       "    <tr>\n",
       "      <th>1</th>\n",
       "      <td>230.1</td>\n",
       "      <td>37.8</td>\n",
       "      <td>69.2</td>\n",
       "      <td>22.1</td>\n",
       "    </tr>\n",
       "    <tr>\n",
       "      <th>2</th>\n",
       "      <td>44.5</td>\n",
       "      <td>39.3</td>\n",
       "      <td>45.1</td>\n",
       "      <td>10.4</td>\n",
       "    </tr>\n",
       "    <tr>\n",
       "      <th>3</th>\n",
       "      <td>17.2</td>\n",
       "      <td>45.9</td>\n",
       "      <td>69.3</td>\n",
       "      <td>9.3</td>\n",
       "    </tr>\n",
       "    <tr>\n",
       "      <th>4</th>\n",
       "      <td>151.5</td>\n",
       "      <td>41.3</td>\n",
       "      <td>58.5</td>\n",
       "      <td>18.5</td>\n",
       "    </tr>\n",
       "    <tr>\n",
       "      <th>5</th>\n",
       "      <td>180.8</td>\n",
       "      <td>10.8</td>\n",
       "      <td>58.4</td>\n",
       "      <td>12.9</td>\n",
       "    </tr>\n",
       "    <tr>\n",
       "      <th>...</th>\n",
       "      <td>...</td>\n",
       "      <td>...</td>\n",
       "      <td>...</td>\n",
       "      <td>...</td>\n",
       "    </tr>\n",
       "    <tr>\n",
       "      <th>196</th>\n",
       "      <td>38.2</td>\n",
       "      <td>3.7</td>\n",
       "      <td>13.8</td>\n",
       "      <td>7.6</td>\n",
       "    </tr>\n",
       "    <tr>\n",
       "      <th>197</th>\n",
       "      <td>94.2</td>\n",
       "      <td>4.9</td>\n",
       "      <td>8.1</td>\n",
       "      <td>9.7</td>\n",
       "    </tr>\n",
       "    <tr>\n",
       "      <th>198</th>\n",
       "      <td>177.0</td>\n",
       "      <td>9.3</td>\n",
       "      <td>6.4</td>\n",
       "      <td>12.8</td>\n",
       "    </tr>\n",
       "    <tr>\n",
       "      <th>199</th>\n",
       "      <td>283.6</td>\n",
       "      <td>42.0</td>\n",
       "      <td>66.2</td>\n",
       "      <td>25.5</td>\n",
       "    </tr>\n",
       "    <tr>\n",
       "      <th>200</th>\n",
       "      <td>232.1</td>\n",
       "      <td>8.6</td>\n",
       "      <td>8.7</td>\n",
       "      <td>13.4</td>\n",
       "    </tr>\n",
       "  </tbody>\n",
       "</table>\n",
       "<p>200 rows × 4 columns</p>\n",
       "</div>"
      ],
      "text/plain": [
       "            TV  radio  newspaper  sales\n",
       "Company                                \n",
       "1        230.1   37.8       69.2   22.1\n",
       "2         44.5   39.3       45.1   10.4\n",
       "3         17.2   45.9       69.3    9.3\n",
       "4        151.5   41.3       58.5   18.5\n",
       "5        180.8   10.8       58.4   12.9\n",
       "...        ...    ...        ...    ...\n",
       "196       38.2    3.7       13.8    7.6\n",
       "197       94.2    4.9        8.1    9.7\n",
       "198      177.0    9.3        6.4   12.8\n",
       "199      283.6   42.0       66.2   25.5\n",
       "200      232.1    8.6        8.7   13.4\n",
       "\n",
       "[200 rows x 4 columns]"
      ]
     },
     "execution_count": 2,
     "metadata": {},
     "output_type": "execute_result"
    }
   ],
   "source": [
    "import numpy as np\n",
    "import pandas as pd\n",
    "import matplotlib.pyplot as plt\n",
    "data = pd.read_csv('D:/pandas Practice/Advertising.csv')\n",
    "data.set_index('Company')"
   ]
  },
  {
   "cell_type": "code",
   "execution_count": 3,
   "metadata": {},
   "outputs": [
    {
     "data": {
      "text/plain": [
       "0      22.1\n",
       "1      10.4\n",
       "2       9.3\n",
       "3      18.5\n",
       "4      12.9\n",
       "       ... \n",
       "195     7.6\n",
       "196     9.7\n",
       "197    12.8\n",
       "198    25.5\n",
       "199    13.4\n",
       "Name: sales, Length: 200, dtype: float64"
      ]
     },
     "execution_count": 3,
     "metadata": {},
     "output_type": "execute_result"
    }
   ],
   "source": [
    "X = data.iloc[:,2]\n",
    "Y = data.iloc[:,4]\n",
    "Y"
   ]
  },
  {
   "cell_type": "code",
   "execution_count": 4,
   "metadata": {},
   "outputs": [
    {
     "data": {
      "image/png": "[encoded data removed]",
      "text/plain": [
       "<Figure size 432x288 with 1 Axes>"
      ]
     },
     "metadata": {
      "needs_background": "light"
     },
     "output_type": "display_data"
    }
   ],
   "source": [
    "plt.scatter(X,Y,edgecolors='black',alpha=0.75,linewidth=1,label='Radio Ad Expenditure vs Sales')\n",
    "plt.legend()\n",
    "plt.xlabel('Spendings')\n",
    "plt.ylabel('Sales')\n",
    "plt.show()"
   ]
  },
  {
   "cell_type": "code",
   "execution_count": 5,
   "metadata": {},
   "outputs": [],
   "source": [
    "#This function updates w and b for one epoch.\n",
    "def update_wb(X,Y,w,b,alpha):\n",
    "    dC_dw = 0.0\n",
    "    dC_db = 0.0\n",
    "    N = len(X)\n",
    "    for i in range(N):\n",
    "        dC_dw += -2*X[i]*(Y[i] - (w*X[i] + b))\n",
    "        dC_db += -2*(Y[i] - (w*X[i] + b))\n",
    "    w = w - alpha*(1/float(N))*dC_dw\n",
    "    b = b - alpha*(1/float(N))*dC_db\n",
    "    return w,b"
   ]
  },
  {
   "cell_type": "code",
   "execution_count": 6,
   "metadata": {},
   "outputs": [],
   "source": [
    "#Calculate Mean Squared Error loss function.\n",
    "def avg_loss(X,Y,w,b):\n",
    "    N = len(X)\n",
    "    total_error = 0.0\n",
    "    for i in range(N):\n",
    "        total_error += (Y[i] - (w*X[i] + b))**2\n",
    "    mean_error = total_error/float(N)\n",
    "    return mean_error"
   ]
  },
  {
   "cell_type": "code",
   "execution_count": 7,
   "metadata": {},
   "outputs": [],
   "source": [
    "def train(X,Y,w,b,alpha,epochs):\n",
    "    for e in range(epochs):\n",
    "        w,b = update_wb(X,Y,w,b,alpha)\n",
    "        if e % 400 ==0:\n",
    "            print(f'Epoch:{e}, Loss: {avg_loss(X,Y,w,b)}')\n",
    "    return w,b"
   ]
  },
  {
   "cell_type": "code",
   "execution_count": 8,
   "metadata": {},
   "outputs": [
    {
     "name": "stdout",
     "output_type": "stream",
     "text": [
      "Epoch:0, Loss: 92.32078294903626\n",
      "Epoch:400, Loss: 33.79131790081576\n",
      "Epoch:800, Loss: 27.9918542960729\n",
      "Epoch:1200, Loss: 24.33481690722147\n",
      "Epoch:1600, Loss: 22.028754937538633\n"
     ]
    },
    {
     "data": {
      "text/plain": [
       "(0.29232378287432703, 6.376122133949339)"
      ]
     },
     "execution_count": 8,
     "metadata": {},
     "output_type": "execute_result"
    }
   ],
   "source": [
    "#Calculate optimal model parameters w and b for a specific Learning Rate and epoch count.\n",
    "train(X,Y,0,0,0.001,2000)"
   ]
  },
  {
   "cell_type": "code",
   "execution_count": 10,
   "metadata": {},
   "outputs": [
    {
     "name": "stdout",
     "output_type": "stream",
     "text": [
      "Epoch:0, Loss: 92.32078294903626\n",
      "Epoch:400, Loss: 33.79131790081576\n",
      "Epoch:800, Loss: 27.9918542960729\n",
      "Epoch:1200, Loss: 24.33481690722147\n",
      "Epoch:1600, Loss: 22.028754937538633\n",
      "Epoch:2000, Loss: 20.57459375662496\n",
      "Epoch:2400, Loss: 19.657625883308423\n",
      "Epoch:2800, Loss: 19.07940244306619\n"
     ]
    },
    {
     "data": {
      "text/plain": [
       "13.533661642380022"
      ]
     },
     "execution_count": 10,
     "metadata": {},
     "output_type": "execute_result"
    }
   ],
   "source": [
    "#Predict the target variable for a new x-variable.\n",
    "w,b = train(X,Y,0,0,0.001,3200)\n",
    "def predict(x_new,w,b):\n",
    "    f_x = w*x_new + b\n",
    "    return f_x\n",
    "predict(23,w,b)"
   ]
  }
 ],
 "metadata": {
  "interpreter": {
   "hash": "2fcbff82930719235b5f711f73c7a2b86d5b1a71fd46764b0d829c46d0718a71"
  },
  "kernelspec": {
   "display_name": "Python 3.8.5 64-bit ('base': conda)",
   "name": "python3"
  },
  "language_info": {
   "codemirror_mode": {
    "name": "ipython",
    "version": 3
   },
   "file_extension": ".py",
   "mimetype": "text/x-python",
   "name": "python",
   "nbconvert_exporter": "python",
   "pygments_lexer": "ipython3",
   "version": "3.8.5"
  },
  "orig_nbformat": 4
 },
 "nbformat": 4,
 "nbformat_minor": 2
}
