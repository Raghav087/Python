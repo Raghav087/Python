{
 "cells": [
  {
   "cell_type": "code",
   "execution_count": 2,
   "metadata": {},
   "outputs": [
    {
     "output_type": "stream",
     "name": "stdout",
     "text": [
      "[[1, 2, 3], [4, 5, 6], [7, 8, 9]] <class 'list'>\n"
     ]
    }
   ],
   "source": [
    "matrix=[[1,2,3],  #In Python, we treat a nested list(i.e. list of lists) as a matrix.\n",
    "       [4,5,6],  #As seen in o/p the list 'matrix' is a nested list having 3 lists each of length 3.\n",
    "       [7,8,9]]  #Rows=No. of lists,Colums=No.of objects inside the list.Hence it is a 3x3 matrix.\n",
    "print(matrix,type(matrix))  #In Python matrix falls under type 'list'."
   ]
  },
  {
   "cell_type": "code",
   "execution_count": 3,
   "metadata": {
    "scrolled": true
   },
   "outputs": [
    {
     "output_type": "execute_result",
     "data": {
      "text/plain": [
       "[4, 5, 6]"
      ]
     },
     "metadata": {},
     "execution_count": 3
    }
   ],
   "source": [
    "matrix[1]  #Gives the 2nd row of matrix."
   ]
  },
  {
   "cell_type": "code",
   "execution_count": 4,
   "metadata": {},
   "outputs": [
    {
     "output_type": "execute_result",
     "data": {
      "text/plain": [
       "6"
      ]
     },
     "metadata": {},
     "execution_count": 4
    }
   ],
   "source": [
    "matrix[1][2]  #The first digit tracks the row number i.e. row 2. The second digit tracks the element i.e. 3rd element."
   ]
  },
  {
   "cell_type": "code",
   "execution_count": 6,
   "metadata": {},
   "outputs": [
    {
     "data": {
      "text/plain": [
       "[3, 6, 9]"
      ]
     },
     "execution_count": 6,
     "metadata": {},
     "output_type": "execute_result"
    }
   ],
   "source": [
    "[i[2] for i in matrix]  #Gives us the 3rd column of our matrix.i takes on values as each of the 3 lists 1 by 1 and then we get the 3rd value from each iteration of for loop.This gives us values of 3rd column."
   ]
  },
  {
   "cell_type": "code",
   "execution_count": 3,
   "metadata": {},
   "outputs": [
    {
     "data": {
      "text/plain": [
       "[(1, 4, 7), (2, 5, 8), (3, 6, 9)]"
      ]
     },
     "execution_count": 3,
     "metadata": {},
     "output_type": "execute_result"
    }
   ],
   "source": [
    "list(zip(*matrix))  #Transposes the matrix i.e. rows become columns and vice-versa."
   ]
  },
  {
   "cell_type": "code",
   "execution_count": 1,
   "metadata": {
    "scrolled": false
   },
   "outputs": [
    {
     "data": {
      "text/plain": [
       "{'apple', 'banana', 'lemon', 'orange', 'papaya'}"
      ]
     },
     "execution_count": 1,
     "metadata": {},
     "output_type": "execute_result"
    }
   ],
   "source": [
    "basket={'apple','banana','lemon','papaya','orange','lemon'}\n",
    "basket #We created a set named 'basket'. When printing a set, by default the duplicates are removed and sorted alphabetically."
   ]
  },
  {
   "cell_type": "code",
   "execution_count": 5,
   "metadata": {
    "scrolled": true
   },
   "outputs": [
    {
     "output_type": "execute_result",
     "data": {
      "text/plain": [
       "{'banana', 'guava', 'mango'}"
      ]
     },
     "metadata": {},
     "execution_count": 5
    }
   ],
   "source": [
    "a=('potato','tomato','onion','mango','carrot','potato','onion')  \n",
    "b=('mango','guava','banana','mango')\n",
    "a1=set(a)  #The 'set' function converts an object into a set. For eg. here it takes tuples 'a' and 'b' and converts them into sets. From the property of sets, it removes duplicates and sorts in ascending order.\n",
    "b1=set(b)\n",
    "b1"
   ]
  },
  {
   "cell_type": "code",
   "execution_count": 7,
   "metadata": {},
   "outputs": [
    {
     "data": {
      "text/plain": [
       "{'apple', 'banana', 'lemon', 'orange', 'papaya', 'pomegranate'}"
      ]
     },
     "execution_count": 7,
     "metadata": {},
     "output_type": "execute_result"
    }
   ],
   "source": [
    "basket.add('pomegranate') #We added a new item to our set using 'add' function.\n",
    "basket  #Unlike tuples which are immutable, sets allow us to add/remove items. However, as they don't have a fixed index for items as they are unordered, sets are partially-mutable i.e. allow adding/removing but not editing of objects inside.\n",
    "       #The word 'unoredered' means the elements don't follow an order of entry inside the set. For eg. when we create an empty list and append objects to that list, there is a specific order of entry which can be confirmed by printing the list. Now when we add new objects to a set, there is no order of entry and this can be confirmed if we print a set."
   ]
  },
  {
   "cell_type": "code",
   "execution_count": 9,
   "metadata": {},
   "outputs": [
    {
     "data": {
      "text/plain": [
       "{'apple', 'banana', 'lemon', 'orange', 'papaya', 'pomegranate'}"
      ]
     },
     "execution_count": 9,
     "metadata": {},
     "output_type": "execute_result"
    }
   ],
   "source": [
    "basket.discard('tree') #We use 'discard' function to remove an item from a set. \n",
    "basket    #It removes the specified item if it is present in the set. If it isn't, then does nothing. Like this case."
   ]
  },
  {
   "cell_type": "code",
   "execution_count": 3,
   "metadata": {
    "scrolled": true
   },
   "outputs": [
    {
     "ename": "TypeError",
     "evalue": "unhashable type: 'list'",
     "output_type": "error",
     "traceback": [
      "\u001b[1;31m---------------------------------------------------------------------------\u001b[0m",
      "\u001b[1;31mTypeError\u001b[0m                                 Traceback (most recent call last)",
      "\u001b[1;32m<ipython-input-3-127ff8924bc2>\u001b[0m in \u001b[0;36m<module>\u001b[1;34m\u001b[0m\n\u001b[1;32m----> 1\u001b[1;33m \u001b[0mbox\u001b[0m\u001b[1;33m=\u001b[0m\u001b[1;33m{\u001b[0m\u001b[1;34m'mango'\u001b[0m\u001b[1;33m,\u001b[0m\u001b[1;36m21\u001b[0m\u001b[1;33m,\u001b[0m\u001b[1;34m'lemon'\u001b[0m\u001b[1;33m,\u001b[0m\u001b[1;33m[\u001b[0m\u001b[1;36m3\u001b[0m\u001b[1;33m,\u001b[0m\u001b[1;36m1\u001b[0m\u001b[1;33m,\u001b[0m\u001b[1;36m7\u001b[0m\u001b[1;33m]\u001b[0m\u001b[1;33m}\u001b[0m\u001b[1;33m\u001b[0m\u001b[1;33m\u001b[0m\u001b[0m\n\u001b[0m\u001b[0;32m      2\u001b[0m \u001b[0mbox\u001b[0m\u001b[1;33m\u001b[0m\u001b[1;33m\u001b[0m\u001b[0m\n",
      "\u001b[1;31mTypeError\u001b[0m: unhashable type: 'list'"
     ]
    }
   ],
   "source": [
    "box={'mango',21,'lemon',[3,1,7]}\n",
    "box  #If we create a set having a mutable item inside, Python gives an error stating same. A set can't have a mutable object inside it."
   ]
  },
  {
   "cell_type": "code",
   "execution_count": 4,
   "metadata": {
    "scrolled": true
   },
   "outputs": [
    {
     "name": "stdout",
     "output_type": "stream",
     "text": [
      "lemon\n",
      "papaya\n",
      "banana\n",
      "orange\n",
      "apple\n"
     ]
    }
   ],
   "source": [
    "for i in basket:\n",
    "    print(i)   #The for loop returns values for each iteration. It doesn't give a list or set output.\n",
    "#Also, since set is an 'unordered' collection of data items, every time we run the loop the outcome appears in a different order. So when we print a set, the output is arrnaged in ascending order and duplicates removed. But when we run a 'for' loop on the elements of the set, then we observe that the order of output is always different."
   ]
  },
  {
   "cell_type": "code",
   "execution_count": 29,
   "metadata": {
    "scrolled": false
   },
   "outputs": [
    {
     "name": "stdout",
     "output_type": "stream",
     "text": [
      "apple\n",
      "banana\n",
      "lemon\n",
      "orange\n",
      "papaya\n"
     ]
    }
   ],
   "source": [
    "for i in sorted(basket):\n",
    "    print(i)            #Gives a sorted output."
   ]
  },
  {
   "cell_type": "code",
   "execution_count": 6,
   "metadata": {
    "scrolled": true
   },
   "outputs": [
    {
     "name": "stdout",
     "output_type": "stream",
     "text": [
      "Found item !\n"
     ]
    }
   ],
   "source": [
    "if 'lemon' in basket:   #Search if an item exists in the set.\n",
    "    print('Found item !')\n",
    "else: print('Item not there.')    "
   ]
  },
  {
   "cell_type": "code",
   "execution_count": 16,
   "metadata": {},
   "outputs": [
    {
     "data": {
      "text/plain": [
       "{'carrot', 'onion', 'potato', 'tomato'}"
      ]
     },
     "execution_count": 16,
     "metadata": {},
     "output_type": "execute_result"
    }
   ],
   "source": [
    "a-b  #Gives us values present in set 'a' but not set 'b'."
   ]
  },
  {
   "cell_type": "code",
   "execution_count": 17,
   "metadata": {
    "scrolled": true
   },
   "outputs": [
    {
     "data": {
      "text/plain": [
       "{'mango'}"
      ]
     },
     "execution_count": 17,
     "metadata": {},
     "output_type": "execute_result"
    }
   ],
   "source": [
    "a&b #Values present in both sets."
   ]
  },
  {
   "cell_type": "code",
   "execution_count": 18,
   "metadata": {},
   "outputs": [
    {
     "data": {
      "text/plain": [
       "{'banana', 'carrot', 'guava', 'mango', 'onion', 'potato', 'tomato'}"
      ]
     },
     "execution_count": 18,
     "metadata": {},
     "output_type": "execute_result"
    }
   ],
   "source": [
    "a|b  #Gives all values present in both sets dropping the duplicates."
   ]
  },
  {
   "cell_type": "code",
   "execution_count": 19,
   "metadata": {
    "scrolled": false
   },
   "outputs": [
    {
     "data": {
      "text/plain": [
       "{'banana', 'carrot', 'guava', 'onion', 'potato', 'tomato'}"
      ]
     },
     "execution_count": 19,
     "metadata": {},
     "output_type": "execute_result"
    }
   ],
   "source": [
    "a^b  #Values present in either 'a' or 'b' but not both."
   ]
  },
  {
   "cell_type": "code",
   "execution_count": 10,
   "metadata": {},
   "outputs": [
    {
     "data": {
      "text/plain": [
       "{2, 7, 12, 31, 45}"
      ]
     },
     "execution_count": 10,
     "metadata": {},
     "output_type": "execute_result"
    }
   ],
   "source": [
    "q=[2,45,31,12,7,7,2]\n",
    "r=set(q)  #The 'set' function converts list 'q' into set 'r'. As expected, set 'r' has duplicate values removed and sorted.\n",
    "r"
   ]
  },
  {
   "cell_type": "code",
   "execution_count": 11,
   "metadata": {
    "scrolled": true
   },
   "outputs": [
    {
     "data": {
      "text/plain": [
       "{'jack': 1243, 'mate': 3621, 'fred': 2937}"
      ]
     },
     "execution_count": 11,
     "metadata": {},
     "output_type": "execute_result"
    }
   ],
   "source": [
    "tel={'jack':1243,'mate':3621,'fred':2937} #This is a dictionary created by using curly brackets{}.It contains 'key:value' pairs.\n",
    "tel   #We store values with some keys and later extract the value providing the key.Empty {} creates an empty dictionary.                                      "
   ]
  },
  {
   "cell_type": "code",
   "execution_count": 12,
   "metadata": {},
   "outputs": [
    {
     "data": {
      "text/plain": [
       "{'jack': 1243, 'mate': 3621, 'fred': 2937, 'guido': 7150}"
      ]
     },
     "execution_count": 12,
     "metadata": {},
     "output_type": "execute_result"
    }
   ],
   "source": [
    "tel['guido']=7150  #Add a new key\"value pair to the dictionary 'tel'.\n",
    "tel    #Dictionaries are mutable objects, so we can add,remove key:value pairs and also modify values of the keys."
   ]
  },
  {
   "cell_type": "code",
   "execution_count": 14,
   "metadata": {},
   "outputs": [
    {
     "data": {
      "text/plain": [
       "{'jack': 1243,\n",
       " 'mate': 3621,\n",
       " 'fred': 2937,\n",
       " 'guido': 7150,\n",
       " 'auba': 1914,\n",
       " 'laca': 2910}"
      ]
     },
     "execution_count": 14,
     "metadata": {},
     "output_type": "execute_result"
    }
   ],
   "source": [
    "tel.update({'auba':1914,'laca':2910})\n",
    "tel    #Adding multiple key:value pairs in same line using 'update' function."
   ]
  },
  {
   "cell_type": "code",
   "execution_count": 4,
   "metadata": {},
   "outputs": [
    {
     "data": {
      "text/plain": [
       "3621"
      ]
     },
     "execution_count": 4,
     "metadata": {},
     "output_type": "execute_result"
    }
   ],
   "source": [
    "tel['mate']  #Extract the value corresponding to key 'mate'."
   ]
  },
  {
   "cell_type": "code",
   "execution_count": 5,
   "metadata": {
    "scrolled": false
   },
   "outputs": [
    {
     "data": {
      "text/plain": [
       "{'jack': 1243, 'fred': 2937, 'guido': 7150, 'tony': 9327}"
      ]
     },
     "execution_count": 5,
     "metadata": {},
     "output_type": "execute_result"
    }
   ],
   "source": [
    "del tel['mate']   #Deletes the key 'mate' from dictionary. Then adds key 'tony' with value 9327 to it.\n",
    "tel['tony']=9327\n",
    "tel"
   ]
  },
  {
   "cell_type": "code",
   "execution_count": 8,
   "metadata": {},
   "outputs": [
    {
     "data": {
      "text/plain": [
       "dict_keys(['jack', 'fred', 'guido', 'tony'])"
      ]
     },
     "execution_count": 8,
     "metadata": {},
     "output_type": "execute_result"
    }
   ],
   "source": [
    "tel.keys()"
   ]
  },
  {
   "cell_type": "code",
   "execution_count": 7,
   "metadata": {
    "scrolled": false
   },
   "outputs": [
    {
     "data": {
      "text/plain": [
       "dict_values([1243, 2937, 7150, 9327])"
      ]
     },
     "execution_count": 7,
     "metadata": {},
     "output_type": "execute_result"
    }
   ],
   "source": [
    "tel.values()"
   ]
  },
  {
   "cell_type": "code",
   "execution_count": 9,
   "metadata": {},
   "outputs": [
    {
     "data": {
      "text/plain": [
       "dict_items([('jack', 1243), ('fred', 2937), ('guido', 7150), ('tony', 9327)])"
      ]
     },
     "execution_count": 9,
     "metadata": {},
     "output_type": "execute_result"
    }
   ],
   "source": [
    "tel.items()"
   ]
  },
  {
   "cell_type": "code",
   "execution_count": 12,
   "metadata": {},
   "outputs": [
    {
     "data": {
      "text/plain": [
       "['jack', 'fred', 'guido', 'tony']"
      ]
     },
     "execution_count": 12,
     "metadata": {},
     "output_type": "execute_result"
    }
   ],
   "source": [
    "list(tel)  #Gives the keys present in dictionary 'tel'."
   ]
  },
  {
   "cell_type": "code",
   "execution_count": 13,
   "metadata": {},
   "outputs": [
    {
     "data": {
      "text/plain": [
       "['fred', 'guido', 'jack', 'tony']"
      ]
     },
     "execution_count": 13,
     "metadata": {},
     "output_type": "execute_result"
    }
   ],
   "source": [
    "sorted(tel) #Gives the sorted version of keys present in the dictionary."
   ]
  },
  {
   "cell_type": "code",
   "execution_count": 14,
   "metadata": {},
   "outputs": [
    {
     "data": {
      "text/plain": [
       "False"
      ]
     },
     "execution_count": 14,
     "metadata": {},
     "output_type": "execute_result"
    }
   ],
   "source": [
    "'john' in tel  #Asks a question whether key 'john' is present in dictionary 'tel'."
   ]
  },
  {
   "cell_type": "code",
   "execution_count": 15,
   "metadata": {},
   "outputs": [
    {
     "data": {
      "text/plain": [
       "False"
      ]
     },
     "execution_count": 15,
     "metadata": {},
     "output_type": "execute_result"
    }
   ],
   "source": [
    "'fred' not in tel   #Asks a question whether key 'fred' is not present in dictionary 'tel'."
   ]
  },
  {
   "cell_type": "code",
   "execution_count": 16,
   "metadata": {},
   "outputs": [
    {
     "data": {
      "text/plain": [
       "{'tom': 234, 'dick': 376, 'harry': 397}"
      ]
     },
     "execution_count": 16,
     "metadata": {},
     "output_type": "execute_result"
    }
   ],
   "source": [
    "tel1=dict(tom=234,dick=376,harry=397)  #Another way of creating a dictionary using 'dict' function.\n",
    "tel1"
   ]
  },
  {
   "cell_type": "code",
   "execution_count": 18,
   "metadata": {},
   "outputs": [
    {
     "data": {
      "text/plain": [
       "True"
      ]
     },
     "execution_count": 18,
     "metadata": {},
     "output_type": "execute_result"
    }
   ],
   "source": [
    "'tom' in tel1.keys()   #Check whether a key exists in dictionary.\n",
    "376 in tel1.values()   #Check whether a value exists in dictionary."
   ]
  },
  {
   "cell_type": "code",
   "execution_count": 2,
   "metadata": {},
   "outputs": [
    {
     "name": "stdout",
     "output_type": "stream",
     "text": [
      "tom 234\n",
      "dick 376\n",
      "harry 397\n"
     ]
    }
   ],
   "source": [
    "for key,value in tel1.items():  #By using 'items()' with our dictionary, we can retrieve key:value pairs simultaneously.\n",
    "    print(key,value)"
   ]
  },
  {
   "cell_type": "code",
   "execution_count": 10,
   "metadata": {
    "scrolled": true
   },
   "outputs": [
    {
     "output_type": "stream",
     "name": "stdout",
     "text": [
      "{'tom': 2415, 'dick': 6321, 'logan': 8291} <class 'dict'>\n"
     ]
    }
   ],
   "source": [
    "key=['tom','dick','logan']\n",
    "value=[2415,6321,8291]\n",
    "a2={}\n",
    "for k,v in zip(key,value):\n",
    "    a2.update({k:v})  #When key and value are present in different lists, we can use 'zip' function to retrieve key:value pairs.\n",
    "print(a2,type(a2))    "
   ]
  },
  {
   "cell_type": "code",
   "execution_count": 11,
   "metadata": {
    "scrolled": true
   },
   "outputs": [
    {
     "output_type": "stream",
     "name": "stdout",
     "text": [
      "{'tom': 2415, 'dick': 6321, 'logan': 8291} <class 'dict'>\n"
     ]
    }
   ],
   "source": [
    "a3={k:v for k,v in zip(key,value)}  #Same as bove, done using comprehension method.\n",
    "print(a3,type(a3))"
   ]
  },
  {
   "cell_type": "code",
   "execution_count": 16,
   "metadata": {},
   "outputs": [
    {
     "output_type": "execute_result",
     "data": {
      "text/plain": [
       "8291"
      ]
     },
     "metadata": {},
     "execution_count": 16
    }
   ],
   "source": [
    "max(a3.keys())  #Returns the maximum key value in\n",
    "max(a3.values())"
   ]
  },
  {
   "cell_type": "code",
   "execution_count": 2,
   "metadata": {},
   "outputs": [
    {
     "data": {
      "text/plain": [
       "{'auba': 12, 'laca': 31, 'gabi': 23, 'mikel': 41, 'saka': 15}"
      ]
     },
     "execution_count": 2,
     "metadata": {},
     "output_type": "execute_result"
    }
   ],
   "source": [
    "dict1={'auba':12,'laca':31,'gabi':23}\n",
    "dict2={'mikel':41,'saka':15}\n",
    "dict1.update(dict2)  #Concatenate two dictionaries with 'update' function.\n",
    "dict1"
   ]
  },
  {
   "cell_type": "code",
   "execution_count": 5,
   "metadata": {},
   "outputs": [
    {
     "data": {
      "text/plain": [
       "[('auba', 12), ('gabi', 19), ('laca', 31), ('mikel', 41), ('saka', 15)]"
      ]
     },
     "execution_count": 5,
     "metadata": {},
     "output_type": "execute_result"
    }
   ],
   "source": [
    "sorted(dict1.items())  #Sorts the dictionary."
   ]
  },
  {
   "cell_type": "code",
   "execution_count": 3,
   "metadata": {},
   "outputs": [
    {
     "data": {
      "text/plain": [
       "{'auba': 12, 'laca': 31, 'gabi': 19, 'mikel': 41, 'saka': 15}"
      ]
     },
     "execution_count": 3,
     "metadata": {},
     "output_type": "execute_result"
    }
   ],
   "source": [
    "dict3={'gabi':19} #If the dictionaries have 1 or more common keys, then the key value of the second dictionary overwrites that of the first one.\n",
    "dict1.update(dict3)\n",
    "dict1"
   ]
  },
  {
   "cell_type": "code",
   "execution_count": 1,
   "metadata": {
    "scrolled": true
   },
   "outputs": [
    {
     "data": {
      "text/plain": [
       "'C:\\\\Users\\\\win'"
      ]
     },
     "execution_count": 1,
     "metadata": {},
     "output_type": "execute_result"
    }
   ],
   "source": [
    "pwd  #Current Working Directory of Jupyter notebook."
   ]
  },
  {
   "cell_type": "code",
   "execution_count": 4,
   "metadata": {},
   "outputs": [],
   "source": [
    "#We now learn to create a module. A module is nothing but a file containing python scripts.\n",
    "# Step 1:In Jupyter notebook homepage, click on 'New'->'Text File'.\n",
    "# Step 2:Rename the text file as 'anything.py'. A file with '.py' extension is called a python module file.\n",
    "# Step 3:Write your python codes here and save it. It gets saved in the working directory like python notebooks."
   ]
  },
  {
   "cell_type": "code",
   "execution_count": 1,
   "metadata": {},
   "outputs": [],
   "source": [
    "import mymodule as mod  #Import the created 'mymodule.py' file as 'mod'."
   ]
  },
  {
   "cell_type": "code",
   "execution_count": 17,
   "metadata": {
    "scrolled": true
   },
   "outputs": [
    {
     "data": {
      "text/plain": [
       "[(0, 0), (1, 1), (2, 8), (3, 27), (4, 64), (5, 125), (6, 216), (7, 343)]"
      ]
     },
     "execution_count": 17,
     "metadata": {},
     "output_type": "execute_result"
    }
   ],
   "source": [
    "mod.x1  #Access the created objects,functions in the module using a dot as 'mod.object'."
   ]
  },
  {
   "cell_type": "code",
   "execution_count": 21,
   "metadata": {},
   "outputs": [
    {
     "data": {
      "text/plain": [
       "(2, 8)"
      ]
     },
     "execution_count": 21,
     "metadata": {},
     "output_type": "execute_result"
    }
   ],
   "source": [
    "mod.x1[2]"
   ]
  },
  {
   "cell_type": "code",
   "execution_count": 2,
   "metadata": {},
   "outputs": [
    {
     "name": "stdout",
     "output_type": "stream",
     "text": [
      "16 49\n"
     ]
    }
   ],
   "source": [
    "mod.sq(4,7)"
   ]
  },
  {
   "cell_type": "code",
   "execution_count": 2,
   "metadata": {},
   "outputs": [
    {
     "name": "stdout",
     "output_type": "stream",
     "text": [
      "https://www.oreilly.com/library/view/machine-learning-with/9781491989371/ch01.html\n",
      "https://www.programiz.com/python-programming/matrix"
     ]
    }
   ],
   "source": [
    "with open('pend.txt') as p:  #Here we use 'with' and 'open' commands together to open a file existing in our working directory.\n",
    "    for line in p:           #We then initiate a 'for' loop which iterates over each line of the file and prints as output.\n",
    "        print(line,end='')\n"
   ]
  },
  {
   "cell_type": "code",
   "execution_count": null,
   "metadata": {},
   "outputs": [],
   "source": []
  }
 ],
 "metadata": {
  "kernelspec": {
   "name": "python385jvsc74a57bd0cf820f6f3a9d0b7e291e30330e6fd10cbd0b377f4c444ed08d0834798146cfe5",
   "display_name": "Python 3.8.5 64-bit ('base': conda)"
  },
  "language_info": {
   "codemirror_mode": {
    "name": "ipython",
    "version": 3
   },
   "file_extension": ".py",
   "mimetype": "text/x-python",
   "name": "python",
   "nbconvert_exporter": "python",
   "pygments_lexer": "ipython3",
   "version": "3.8.5"
  }
 },
 "nbformat": 4,
 "nbformat_minor": 4
}