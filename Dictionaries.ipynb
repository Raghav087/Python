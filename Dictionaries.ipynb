{
 "cells": [
  {
   "cell_type": "code",
   "execution_count": 2,
   "source": [
    "matrix=[[1,2,3],  #In Python, we treat a nested list(i.e. list of lists) as a matrix.\r\n",
    "       [4,5,6],  #As seen in o/p the list 'matrix' is a nested list having 3 lists each of length 3.\r\n",
    "       [7,8,9]]  #Rows=No. of lists,Colums=No.of objects inside the list.Hence it is a 3x3 matrix.\r\n",
    "print(matrix,type(matrix))  #In Python matrix falls under type 'list'."
   ],
   "outputs": [
    {
     "output_type": "stream",
     "name": "stdout",
     "text": [
      "[[1, 2, 3], [4, 5, 6], [7, 8, 9]] <class 'list'>\n"
     ]
    }
   ],
   "metadata": {}
  },
  {
   "cell_type": "code",
   "execution_count": 3,
   "source": [
    "matrix[1]  #Gives the 2nd row of matrix."
   ],
   "outputs": [
    {
     "output_type": "execute_result",
     "data": {
      "text/plain": [
       "[4, 5, 6]"
      ]
     },
     "metadata": {},
     "execution_count": 3
    }
   ],
   "metadata": {
    "scrolled": true
   }
  },
  {
   "cell_type": "code",
   "execution_count": 4,
   "source": [
    "matrix[1][2]  #The first digit tracks the row number i.e. row 2. The second digit tracks the element i.e. 3rd element."
   ],
   "outputs": [
    {
     "output_type": "execute_result",
     "data": {
      "text/plain": [
       "6"
      ]
     },
     "metadata": {},
     "execution_count": 4
    }
   ],
   "metadata": {}
  },
  {
   "cell_type": "code",
   "execution_count": 6,
   "source": [
    "[i[2] for i in matrix]  #Gives us the 3rd column of our matrix.i takes on values as each of the 3 lists 1 by 1 and then we get the 3rd value from each iteration of for loop.This gives us values of 3rd column."
   ],
   "outputs": [
    {
     "output_type": "execute_result",
     "data": {
      "text/plain": [
       "[3, 6, 9]"
      ]
     },
     "metadata": {},
     "execution_count": 6
    }
   ],
   "metadata": {}
  },
  {
   "cell_type": "code",
   "execution_count": 3,
   "source": [
    "list(zip(*matrix))  #Transposes the matrix i.e. rows become columns and vice-versa."
   ],
   "outputs": [
    {
     "output_type": "execute_result",
     "data": {
      "text/plain": [
       "[(1, 4, 7), (2, 5, 8), (3, 6, 9)]"
      ]
     },
     "metadata": {},
     "execution_count": 3
    }
   ],
   "metadata": {}
  },
  {
   "cell_type": "code",
   "execution_count": 1,
   "source": [
    "basket={'apple','banana','lemon','papaya','orange','lemon'}\r\n",
    "basket #We created a set named 'basket'. When printing a set, by default the duplicates are removed and sorted alphabetically."
   ],
   "outputs": [
    {
     "output_type": "execute_result",
     "data": {
      "text/plain": [
       "{'apple', 'banana', 'lemon', 'orange', 'papaya'}"
      ]
     },
     "metadata": {},
     "execution_count": 1
    }
   ],
   "metadata": {
    "scrolled": false
   }
  },
  {
   "cell_type": "code",
   "execution_count": 5,
   "source": [
    "a=('potato','tomato','onion','mango','carrot','potato','onion')  \r\n",
    "b=('mango','guava','banana','mango')\r\n",
    "a1=set(a)  #The 'set' function converts an object into a set. For eg. here it takes tuples 'a' and 'b' and converts them into sets. From the property of sets, it removes duplicates and sorts in ascending order.\r\n",
    "b1=set(b)\r\n",
    "b1"
   ],
   "outputs": [
    {
     "output_type": "execute_result",
     "data": {
      "text/plain": [
       "{'banana', 'guava', 'mango'}"
      ]
     },
     "metadata": {},
     "execution_count": 5
    }
   ],
   "metadata": {
    "scrolled": true
   }
  },
  {
   "cell_type": "code",
   "execution_count": 7,
   "source": [
    "basket.add('pomegranate') #We added a new item to our set using 'add' function.\r\n",
    "basket  #Unlike tuples which are immutable, sets allow us to add/remove items. However, as they don't have a fixed index for items as they are unordered, sets are partially-mutable i.e. allow adding/removing but not editing of objects inside.\r\n",
    "       #The word 'unoredered' means the elements don't follow an order of entry inside the set. For eg. when we create an empty list and append objects to that list, there is a specific order of entry which can be confirmed by printing the list. Now when we add new objects to a set, there is no order of entry and this can be confirmed if we print a set."
   ],
   "outputs": [
    {
     "output_type": "execute_result",
     "data": {
      "text/plain": [
       "{'apple', 'banana', 'lemon', 'orange', 'papaya', 'pomegranate'}"
      ]
     },
     "metadata": {},
     "execution_count": 7
    }
   ],
   "metadata": {}
  },
  {
   "cell_type": "code",
   "execution_count": 9,
   "source": [
    "basket.discard('tree') #We use 'discard' function to remove an item from a set. \r\n",
    "basket    #It removes the specified item if it is present in the set. If it isn't, then does nothing. Like this case."
   ],
   "outputs": [
    {
     "output_type": "execute_result",
     "data": {
      "text/plain": [
       "{'apple', 'banana', 'lemon', 'orange', 'papaya', 'pomegranate'}"
      ]
     },
     "metadata": {},
     "execution_count": 9
    }
   ],
   "metadata": {}
  },
  {
   "cell_type": "code",
   "execution_count": 3,
   "source": [
    "box={'mango',21,'lemon',[3,1,7]}\r\n",
    "box  #If we create a set having a mutable item inside, Python gives an error stating same. A set can't have a mutable object inside it."
   ],
   "outputs": [
    {
     "output_type": "error",
     "ename": "TypeError",
     "evalue": "unhashable type: 'list'",
     "traceback": [
      "\u001b[1;31m---------------------------------------------------------------------------\u001b[0m",
      "\u001b[1;31mTypeError\u001b[0m                                 Traceback (most recent call last)",
      "\u001b[1;32m<ipython-input-3-127ff8924bc2>\u001b[0m in \u001b[0;36m<module>\u001b[1;34m\u001b[0m\n\u001b[1;32m----> 1\u001b[1;33m \u001b[0mbox\u001b[0m\u001b[1;33m=\u001b[0m\u001b[1;33m{\u001b[0m\u001b[1;34m'mango'\u001b[0m\u001b[1;33m,\u001b[0m\u001b[1;36m21\u001b[0m\u001b[1;33m,\u001b[0m\u001b[1;34m'lemon'\u001b[0m\u001b[1;33m,\u001b[0m\u001b[1;33m[\u001b[0m\u001b[1;36m3\u001b[0m\u001b[1;33m,\u001b[0m\u001b[1;36m1\u001b[0m\u001b[1;33m,\u001b[0m\u001b[1;36m7\u001b[0m\u001b[1;33m]\u001b[0m\u001b[1;33m}\u001b[0m\u001b[1;33m\u001b[0m\u001b[1;33m\u001b[0m\u001b[0m\n\u001b[0m\u001b[0;32m      2\u001b[0m \u001b[0mbox\u001b[0m\u001b[1;33m\u001b[0m\u001b[1;33m\u001b[0m\u001b[0m\n",
      "\u001b[1;31mTypeError\u001b[0m: unhashable type: 'list'"
     ]
    }
   ],
   "metadata": {
    "scrolled": true
   }
  },
  {
   "cell_type": "code",
   "execution_count": 4,
   "source": [
    "for i in basket:\r\n",
    "    print(i)   #The for loop returns values for each iteration. It doesn't give a list or set output.\r\n",
    "#Also, since set is an 'unordered' collection of data items, every time we run the loop the outcome appears in a different order. So when we print a set, the output is arrnaged in ascending order and duplicates removed. But when we run a 'for' loop on the elements of the set, then we observe that the order of output is always different."
   ],
   "outputs": [
    {
     "output_type": "stream",
     "name": "stdout",
     "text": [
      "lemon\n",
      "papaya\n",
      "banana\n",
      "orange\n",
      "apple\n"
     ]
    }
   ],
   "metadata": {
    "scrolled": true
   }
  },
  {
   "cell_type": "code",
   "execution_count": 29,
   "source": [
    "for i in sorted(basket):\r\n",
    "    print(i)            #Gives a sorted output."
   ],
   "outputs": [
    {
     "output_type": "stream",
     "name": "stdout",
     "text": [
      "apple\n",
      "banana\n",
      "lemon\n",
      "orange\n",
      "papaya\n"
     ]
    }
   ],
   "metadata": {
    "scrolled": false
   }
  },
  {
   "cell_type": "code",
   "execution_count": 6,
   "source": [
    "if 'lemon' in basket:   #Search if an item exists in the set.\r\n",
    "    print('Found item !')\r\n",
    "else: print('Item not there.')    "
   ],
   "outputs": [
    {
     "output_type": "stream",
     "name": "stdout",
     "text": [
      "Found item !\n"
     ]
    }
   ],
   "metadata": {
    "scrolled": true
   }
  },
  {
   "cell_type": "code",
   "execution_count": 16,
   "source": [
    "a-b  #Gives us values present in set 'a' but not set 'b'."
   ],
   "outputs": [
    {
     "output_type": "execute_result",
     "data": {
      "text/plain": [
       "{'carrot', 'onion', 'potato', 'tomato'}"
      ]
     },
     "metadata": {},
     "execution_count": 16
    }
   ],
   "metadata": {}
  },
  {
   "cell_type": "code",
   "execution_count": 17,
   "source": [
    "a&b #Values present in both sets."
   ],
   "outputs": [
    {
     "output_type": "execute_result",
     "data": {
      "text/plain": [
       "{'mango'}"
      ]
     },
     "metadata": {},
     "execution_count": 17
    }
   ],
   "metadata": {
    "scrolled": true
   }
  },
  {
   "cell_type": "code",
   "execution_count": 18,
   "source": [
    "a|b  #Gives all values present in both sets dropping the duplicates."
   ],
   "outputs": [
    {
     "output_type": "execute_result",
     "data": {
      "text/plain": [
       "{'banana', 'carrot', 'guava', 'mango', 'onion', 'potato', 'tomato'}"
      ]
     },
     "metadata": {},
     "execution_count": 18
    }
   ],
   "metadata": {}
  },
  {
   "cell_type": "code",
   "execution_count": 19,
   "source": [
    "a^b  #Values present in either 'a' or 'b' but not both."
   ],
   "outputs": [
    {
     "output_type": "execute_result",
     "data": {
      "text/plain": [
       "{'banana', 'carrot', 'guava', 'onion', 'potato', 'tomato'}"
      ]
     },
     "metadata": {},
     "execution_count": 19
    }
   ],
   "metadata": {
    "scrolled": false
   }
  },
  {
   "cell_type": "code",
   "execution_count": 10,
   "source": [
    "q=[2,45,31,12,7,7,2]\r\n",
    "r=set(q)  #The 'set' function converts list 'q' into set 'r'. As expected, set 'r' has duplicate values removed and sorted.\r\n",
    "r"
   ],
   "outputs": [
    {
     "output_type": "execute_result",
     "data": {
      "text/plain": [
       "{2, 7, 12, 31, 45}"
      ]
     },
     "metadata": {},
     "execution_count": 10
    }
   ],
   "metadata": {}
  },
  {
   "cell_type": "code",
   "execution_count": 14,
   "source": [
    "tel={'jack':1243,'mate':3621,'fred':2937} #This is a dictionary created by using curly brackets{}.It contains 'key:value' pairs.\r\n",
    "tel   #We store values with some keys and later extract the value providing the key.Empty {} creates an empty dictionary.                                      "
   ],
   "outputs": [
    {
     "output_type": "execute_result",
     "data": {
      "text/plain": [
       "{'jack': 1243, 'mate': 3621, 'fred': 2937}"
      ]
     },
     "metadata": {},
     "execution_count": 14
    }
   ],
   "metadata": {
    "scrolled": true
   }
  },
  {
   "cell_type": "code",
   "execution_count": 15,
   "source": [
    "tel['guido']=7150  #Add a new key\"value pair to the dictionary 'tel'.\r\n",
    "tel    #Dictionaries are mutable objects, so we can add,remove key:value pairs and also modify values of the keys."
   ],
   "outputs": [
    {
     "output_type": "execute_result",
     "data": {
      "text/plain": [
       "{'jack': 1243, 'mate': 3621, 'fred': 2937, 'guido': 7150}"
      ]
     },
     "metadata": {},
     "execution_count": 15
    }
   ],
   "metadata": {}
  },
  {
   "cell_type": "code",
   "execution_count": 16,
   "source": [
    "tel.update({'auba':1914,'laca':2910})\r\n",
    "tel    #Adding multiple key:value pairs in same line using 'update' function."
   ],
   "outputs": [
    {
     "output_type": "execute_result",
     "data": {
      "text/plain": [
       "{'jack': 1243,\n",
       " 'mate': 3621,\n",
       " 'fred': 2937,\n",
       " 'guido': 7150,\n",
       " 'auba': 1914,\n",
       " 'laca': 2910}"
      ]
     },
     "metadata": {},
     "execution_count": 16
    }
   ],
   "metadata": {}
  },
  {
   "cell_type": "code",
   "execution_count": 4,
   "source": [
    "tel['mate']  #Extract the value corresponding to key 'mate'."
   ],
   "outputs": [
    {
     "output_type": "execute_result",
     "data": {
      "text/plain": [
       "3621"
      ]
     },
     "metadata": {},
     "execution_count": 4
    }
   ],
   "metadata": {}
  },
  {
   "cell_type": "code",
   "execution_count": 17,
   "source": [
    "#If there's a chance the key we specify might not exist, we should use 'get' function instead of square bracket notation.\r\n",
    "#The 1st argument is the key whose value we want to extract. The 2nd argument is the message which displays in case the mentioned key doesn't exist.\r\n",
    "print(tel.get('jack','No key found'))\r\n",
    "print(tel.get('mack','No key found'))"
   ],
   "outputs": [
    {
     "output_type": "stream",
     "name": "stdout",
     "text": [
      "1243\n",
      "No key found\n"
     ]
    }
   ],
   "metadata": {}
  },
  {
   "cell_type": "code",
   "execution_count": 5,
   "source": [
    "del tel['mate']   #Deletes the key 'mate' and its value from dictionary. Then adds key 'tony' with value 9327 to it.\r\n",
    "tel['tony']=9327\r\n",
    "tel"
   ],
   "outputs": [
    {
     "output_type": "execute_result",
     "data": {
      "text/plain": [
       "{'jack': 1243, 'fred': 2937, 'guido': 7150, 'tony': 9327}"
      ]
     },
     "metadata": {},
     "execution_count": 5
    }
   ],
   "metadata": {
    "scrolled": false
   }
  },
  {
   "cell_type": "code",
   "execution_count": 8,
   "source": [
    "tel.keys()"
   ],
   "outputs": [
    {
     "output_type": "execute_result",
     "data": {
      "text/plain": [
       "dict_keys(['jack', 'fred', 'guido', 'tony'])"
      ]
     },
     "metadata": {},
     "execution_count": 8
    }
   ],
   "metadata": {}
  },
  {
   "cell_type": "code",
   "execution_count": 7,
   "source": [
    "tel.values()"
   ],
   "outputs": [
    {
     "output_type": "execute_result",
     "data": {
      "text/plain": [
       "dict_values([1243, 2937, 7150, 9327])"
      ]
     },
     "metadata": {},
     "execution_count": 7
    }
   ],
   "metadata": {
    "scrolled": false
   }
  },
  {
   "cell_type": "code",
   "execution_count": 9,
   "source": [
    "tel.items()"
   ],
   "outputs": [
    {
     "output_type": "execute_result",
     "data": {
      "text/plain": [
       "dict_items([('jack', 1243), ('fred', 2937), ('guido', 7150), ('tony', 9327)])"
      ]
     },
     "metadata": {},
     "execution_count": 9
    }
   ],
   "metadata": {}
  },
  {
   "cell_type": "code",
   "execution_count": 12,
   "source": [
    "list(tel)  #Gives the keys present in dictionary 'tel'."
   ],
   "outputs": [
    {
     "output_type": "execute_result",
     "data": {
      "text/plain": [
       "['jack', 'fred', 'guido', 'tony']"
      ]
     },
     "metadata": {},
     "execution_count": 12
    }
   ],
   "metadata": {}
  },
  {
   "cell_type": "code",
   "execution_count": 13,
   "source": [
    "sorted(tel) #Gives the sorted version of keys present in the dictionary."
   ],
   "outputs": [
    {
     "output_type": "execute_result",
     "data": {
      "text/plain": [
       "['fred', 'guido', 'jack', 'tony']"
      ]
     },
     "metadata": {},
     "execution_count": 13
    }
   ],
   "metadata": {}
  },
  {
   "cell_type": "code",
   "execution_count": 14,
   "source": [
    "'john' in tel  #Asks a question whether key 'john' is present in dictionary 'tel'."
   ],
   "outputs": [
    {
     "output_type": "execute_result",
     "data": {
      "text/plain": [
       "False"
      ]
     },
     "metadata": {},
     "execution_count": 14
    }
   ],
   "metadata": {}
  },
  {
   "cell_type": "code",
   "execution_count": 15,
   "source": [
    "'fred' not in tel   #Asks a question whether key 'fred' is not present in dictionary 'tel'."
   ],
   "outputs": [
    {
     "output_type": "execute_result",
     "data": {
      "text/plain": [
       "False"
      ]
     },
     "metadata": {},
     "execution_count": 15
    }
   ],
   "metadata": {}
  },
  {
   "cell_type": "code",
   "execution_count": 18,
   "source": [
    "tel1=dict(tom=234,dick=376,harry=397)  #Another way of creating a dictionary using 'dict' function.\r\n",
    "tel1"
   ],
   "outputs": [
    {
     "output_type": "execute_result",
     "data": {
      "text/plain": [
       "{'tom': 234, 'dick': 376, 'harry': 397}"
      ]
     },
     "metadata": {},
     "execution_count": 18
    }
   ],
   "metadata": {}
  },
  {
   "cell_type": "code",
   "execution_count": 18,
   "source": [
    "'tom' in tel1.keys()   #Check whether a key exists in dictionary.\r\n",
    "376 in tel1.values()   #Check whether a value exists in dictionary."
   ],
   "outputs": [
    {
     "output_type": "execute_result",
     "data": {
      "text/plain": [
       "True"
      ]
     },
     "metadata": {},
     "execution_count": 18
    }
   ],
   "metadata": {}
  },
  {
   "cell_type": "code",
   "execution_count": 19,
   "source": [
    "for key,value in tel1.items(): #When looping the values of dictionary, we initiate 2 'for' variables. By using 'items()' function with our dictionary, we can retrieve key:value pairs simultaneously.\r\n",
    "    print(key,value) #For each loop iteration, these 2 variables then take on each key:value pair as present in 'tel1.items'."
   ],
   "outputs": [
    {
     "output_type": "stream",
     "name": "stdout",
     "text": [
      "tom 234\n",
      "dick 376\n",
      "harry 397\n"
     ]
    }
   ],
   "metadata": {}
  },
  {
   "cell_type": "code",
   "execution_count": 20,
   "source": [
    "for key in tel1: #If we specify only 1 'for' variable instead of 2, then the loop automatically iterates over keys of the dictionary and skips the values.\r\n",
    "    print(key)"
   ],
   "outputs": [
    {
     "output_type": "stream",
     "name": "stdout",
     "text": [
      "tom\n",
      "dick\n",
      "harry\n"
     ]
    }
   ],
   "metadata": {}
  },
  {
   "cell_type": "code",
   "execution_count": 10,
   "source": [
    "key=['tom','dick','logan']\r\n",
    "value=[2415,6321,8291]\r\n",
    "a2={}\r\n",
    "for k,v in zip(key,value):\r\n",
    "    a2.update({k:v})  #When key and value are present in different lists, we can use 'zip' function to retrieve key:value pairs.\r\n",
    "print(a2,type(a2))    "
   ],
   "outputs": [
    {
     "output_type": "stream",
     "name": "stdout",
     "text": [
      "{'tom': 2415, 'dick': 6321, 'logan': 8291} <class 'dict'>\n"
     ]
    }
   ],
   "metadata": {
    "scrolled": true
   }
  },
  {
   "cell_type": "code",
   "execution_count": 11,
   "source": [
    "a3={k:v for k,v in zip(key,value)}  #Same as bove, done using comprehension method.\r\n",
    "print(a3,type(a3))"
   ],
   "outputs": [
    {
     "output_type": "stream",
     "name": "stdout",
     "text": [
      "{'tom': 2415, 'dick': 6321, 'logan': 8291} <class 'dict'>\n"
     ]
    }
   ],
   "metadata": {
    "scrolled": true
   }
  },
  {
   "cell_type": "code",
   "execution_count": 16,
   "source": [
    "max(a3.keys())  #Returns the maximum key value in\r\n",
    "max(a3.values())"
   ],
   "outputs": [
    {
     "output_type": "execute_result",
     "data": {
      "text/plain": [
       "8291"
      ]
     },
     "metadata": {},
     "execution_count": 16
    }
   ],
   "metadata": {}
  },
  {
   "cell_type": "code",
   "execution_count": 2,
   "source": [
    "dict1={'auba':12,'laca':31,'gabi':23}\r\n",
    "dict2={'mikel':41,'saka':15}\r\n",
    "dict1.update(dict2)  #Concatenate two dictionaries with 'update' function.\r\n",
    "dict1"
   ],
   "outputs": [
    {
     "output_type": "execute_result",
     "data": {
      "text/plain": [
       "{'auba': 12, 'laca': 31, 'gabi': 23, 'mikel': 41, 'saka': 15}"
      ]
     },
     "metadata": {},
     "execution_count": 2
    }
   ],
   "metadata": {}
  },
  {
   "cell_type": "code",
   "execution_count": 5,
   "source": [
    "sorted(dict1.items())  #Sorts the dictionary."
   ],
   "outputs": [
    {
     "output_type": "execute_result",
     "data": {
      "text/plain": [
       "[('auba', 12), ('gabi', 19), ('laca', 31), ('mikel', 41), ('saka', 15)]"
      ]
     },
     "metadata": {},
     "execution_count": 5
    }
   ],
   "metadata": {}
  },
  {
   "cell_type": "code",
   "execution_count": 3,
   "source": [
    "dict3={'gabi':19} #If the dictionaries have 1 or more common keys, then the key value of the second dictionary overwrites that of the first one.\r\n",
    "dict1.update(dict3)\r\n",
    "dict1"
   ],
   "outputs": [
    {
     "output_type": "execute_result",
     "data": {
      "text/plain": [
       "{'auba': 12, 'laca': 31, 'gabi': 19, 'mikel': 41, 'saka': 15}"
      ]
     },
     "metadata": {},
     "execution_count": 3
    }
   ],
   "metadata": {}
  },
  {
   "cell_type": "code",
   "execution_count": 13,
   "source": [
    "#Here we have a dictionary containing info about an alien's x,y coordinates and its speed. Depending on its speed, we move the alien to the right by specific 'x' value increment. \r\n",
    "alien={'x':0,'y':25,'speed':'medium'}\r\n",
    "print(f\"Starting Position:{alien['x'],alien['y']}\")\r\n",
    "if alien['speed'] == 'slow':\r\n",
    "    x_increment=1\r\n",
    "if alien['speed'] == 'medium':\r\n",
    "    x_increment=2\r\n",
    "else:\r\n",
    "    x_increment=3\r\n",
    "alien['x']=alien['x']+x_increment\r\n",
    "print(f\"New Position:{alien['x'],alien['y']}\")"
   ],
   "outputs": [
    {
     "output_type": "stream",
     "name": "stdout",
     "text": [
      "Starting Position:(0, 25)\n",
      "New Position:(2, 25)\n"
     ]
    }
   ],
   "metadata": {}
  },
  {
   "cell_type": "code",
   "execution_count": 1,
   "source": [
    "pwd  #Current Working Directory of Jupyter notebook."
   ],
   "outputs": [
    {
     "output_type": "execute_result",
     "data": {
      "text/plain": [
       "'C:\\\\Users\\\\win'"
      ]
     },
     "metadata": {},
     "execution_count": 1
    }
   ],
   "metadata": {
    "scrolled": true
   }
  },
  {
   "cell_type": "code",
   "execution_count": 3,
   "source": [
    "#Here we create a dictionary using a function. The 1st and 2nd arguments are supplied by user while the 3rd argument is a blank dictionary created inside the function itself.\r\n",
    "def profile(first,last,**user_info):  #The 3rd argument '**user_info' creates a blank dictionary by the name of 'user_info'.\r\n",
    "    user_info['first_name']=first  #This dictionary takes up any number of key:value pairs supplied to the function as arguments after the 1st and 2nd arguments.\r\n",
    "    user_info['last_name']=last #Since we supplied 2 arguments before 'user_info', we want to create 2 key:value pairs.\r\n",
    "    return user_info #'first' is the value of key name 'first_name' and 'last' is the value of key name 'last_name'.\r\n",
    "user_profile=profile('James','Maddison',Profession='Footballer',Team='England/Leicester City') #Here we supplied 2 keys as 'Profession' and 'Team' along with their values after supplying first two arguments.\r\n",
    "print(user_profile)"
   ],
   "outputs": [
    {
     "output_type": "stream",
     "name": "stdout",
     "text": [
      "{'Profession': 'Footballer', 'Team': 'England/Leicester City', 'first_name': 'James', 'last_name': 'Maddison'}\n"
     ]
    }
   ],
   "metadata": {}
  },
  {
   "cell_type": "code",
   "execution_count": 4,
   "source": [
    "#We now learn to create a module. A module is nothing but a file containing python scripts.\r\n",
    "# 1. Create a new text file and write/paste your Python codes in it.\r\n",
    "# 2. Now save this file with a '.py' extension. \r\n",
    "# 3. This file is now a Python module. Any file with a '.py' extension is a Python module."
   ],
   "outputs": [],
   "metadata": {}
  },
  {
   "cell_type": "code",
   "execution_count": 1,
   "source": [
    "import mymodule as mod  #Import the created 'mymodule.py' file as 'mod'."
   ],
   "outputs": [],
   "metadata": {}
  },
  {
   "cell_type": "code",
   "execution_count": 17,
   "source": [
    "mod.x1  #Access the created objects,functions in the module using a dot as 'mod.object'."
   ],
   "outputs": [
    {
     "output_type": "execute_result",
     "data": {
      "text/plain": [
       "[(0, 0), (1, 1), (2, 8), (3, 27), (4, 64), (5, 125), (6, 216), (7, 343)]"
      ]
     },
     "metadata": {},
     "execution_count": 17
    }
   ],
   "metadata": {
    "scrolled": true
   }
  },
  {
   "cell_type": "code",
   "execution_count": 21,
   "source": [
    "mod.x1[2]"
   ],
   "outputs": [
    {
     "output_type": "execute_result",
     "data": {
      "text/plain": [
       "(2, 8)"
      ]
     },
     "metadata": {},
     "execution_count": 21
    }
   ],
   "metadata": {}
  },
  {
   "cell_type": "code",
   "execution_count": 2,
   "source": [
    "mod.sq(4,7)"
   ],
   "outputs": [
    {
     "output_type": "stream",
     "name": "stdout",
     "text": [
      "16 49\n"
     ]
    }
   ],
   "metadata": {}
  },
  {
   "cell_type": "code",
   "execution_count": 2,
   "source": [
    "with open('pend.txt') as p:  #Here we use 'with' and 'open' commands together to open a file existing in our working directory.\n",
    "    for line in p:           #We then initiate a 'for' loop which iterates over each line of the file and prints as output.\n",
    "        print(line,end='')\n"
   ],
   "outputs": [
    {
     "output_type": "stream",
     "name": "stdout",
     "text": [
      "https://www.oreilly.com/library/view/machine-learning-with/9781491989371/ch01.html\n",
      "https://www.programiz.com/python-programming/matrix"
     ]
    }
   ],
   "metadata": {}
  },
  {
   "cell_type": "code",
   "execution_count": 2,
   "source": [
    "#Import a function from a module.\n",
    "from pizza import make_pizza\n",
    "make_pizza(8,'capsicum','corn')"
   ],
   "outputs": [
    {
     "output_type": "stream",
     "name": "stdout",
     "text": [
      "We're making a 8 inch pizza which has following toppings:\n",
      "['capsicum', 'corn']\n"
     ]
    }
   ],
   "metadata": {}
  },
  {
   "cell_type": "code",
   "execution_count": 3,
   "source": [
    "from pizza import make_pizza as mp #Here we imported function 'make_pizza' with an alias 'mp'. \n",
    "mp(12,'extra cheese','corn')\n",
    "#We can import both module as well as functions in it using an alias."
   ],
   "outputs": [
    {
     "output_type": "stream",
     "name": "stdout",
     "text": [
      "We're making a 12 inch pizza which has following toppings:\n",
      "['extra cheese', 'corn']\n"
     ]
    }
   ],
   "metadata": {}
  }
 ],
 "metadata": {
  "kernelspec": {
   "name": "python3",
   "display_name": "Python 3.8.5 64-bit ('base': conda)"
  },
  "language_info": {
   "codemirror_mode": {
    "name": "ipython",
    "version": 3
   },
   "file_extension": ".py",
   "mimetype": "text/x-python",
   "name": "python",
   "nbconvert_exporter": "python",
   "pygments_lexer": "ipython3",
   "version": "3.8.5"
  },
  "interpreter": {
   "hash": "cf820f6f3a9d0b7e291e30330e6fd10cbd0b377f4c444ed08d0834798146cfe5"
  }
 },
 "nbformat": 4,
 "nbformat_minor": 4
}