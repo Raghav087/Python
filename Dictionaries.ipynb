{
 "cells": [
  {
   "cell_type": "code",
   "execution_count": 2,
   "metadata": {},
   "outputs": [
    {
     "name": "stdout",
     "output_type": "stream",
     "text": [
      "[[1, 2, 3], [4, 5, 6], [7, 8, 9]] <class 'list'>\n"
     ]
    }
   ],
   "source": [
    "matrix=[[1,2,3],  #In Python, we treat a nested list(i.e. list of lists) as a matrix.\n",
    "       [4,5,6],  #As seen in o/p the list 'matrix' is a nested list having 3 lists each of length 3.\n",
    "       [7,8,9]]  #Rows=No. of lists,Colums=No.of objects inside the list.Hence it is a 3x3 matrix.\n",
    "print(matrix,type(matrix))  #In Python matrix falls under type 'list'."
   ]
  },
  {
   "cell_type": "code",
   "execution_count": 3,
   "metadata": {
    "scrolled": true
   },
   "outputs": [
    {
     "data": {
      "text/plain": [
       "[4, 5, 6]"
      ]
     },
     "execution_count": 3,
     "metadata": {},
     "output_type": "execute_result"
    }
   ],
   "source": [
    "matrix[1]  #Gives the 2nd row of matrix."
   ]
  },
  {
   "cell_type": "code",
   "execution_count": 4,
   "metadata": {},
   "outputs": [
    {
     "data": {
      "text/plain": [
       "6"
      ]
     },
     "execution_count": 4,
     "metadata": {},
     "output_type": "execute_result"
    }
   ],
   "source": [
    "matrix[1][2]  #The first digit tracks the row number i.e. row 2. The second digit tracks the element i.e. 3rd element."
   ]
  },
  {
   "cell_type": "code",
   "execution_count": 6,
   "metadata": {},
   "outputs": [
    {
     "data": {
      "text/plain": [
       "[3, 6, 9]"
      ]
     },
     "execution_count": 6,
     "metadata": {},
     "output_type": "execute_result"
    }
   ],
   "source": [
    "[i[2] for i in matrix]  #Gives us the 3rd column of our matrix.i takes on values as each of the 3 lists 1 by 1 and then we get the 3rd value from each iteration of for loop.This gives us values of 3rd column."
   ]
  },
  {
   "cell_type": "code",
   "execution_count": 3,
   "metadata": {},
   "outputs": [
    {
     "data": {
      "text/plain": [
       "[(1, 4, 7), (2, 5, 8), (3, 6, 9)]"
      ]
     },
     "execution_count": 3,
     "metadata": {},
     "output_type": "execute_result"
    }
   ],
   "source": [
    "list(zip(*matrix))  #Transposes the matrix i.e. rows become columns and vice-versa."
   ]
  },
  {
   "cell_type": "code",
   "execution_count": 1,
   "metadata": {},
   "outputs": [
    {
     "name": "stdout",
     "output_type": "stream",
     "text": [
      "[12, 7, 4, 5, 3, 8]\n"
     ]
    }
   ],
   "source": [
    "X = [[12,7],\n",
    "    [4 ,5],\n",
    "    [3 ,8]]\n",
    "X1 = [X[i][j] for i in range(len(X)) for j in range(len(X[1]))]    \n",
    "print(X1) #Flatten a matrix by row."
   ]
  },
  {
   "cell_type": "code",
   "execution_count": 6,
   "metadata": {},
   "outputs": [
    {
     "name": "stdout",
     "output_type": "stream",
     "text": [
      "[12, 4, 3, 7, 5, 8]\n"
     ]
    }
   ],
   "source": [
    "X2 = [X[j][i] for i in range(len(X[1])) for j in range(len(X))]\n",
    "print(X2) #Flatten a matrix by column."
   ]
  },
  {
   "cell_type": "code",
   "execution_count": 7,
   "metadata": {},
   "outputs": [
    {
     "name": "stdout",
     "output_type": "stream",
     "text": [
      "[[12, 4, 3], [7, 5, 8]]\n"
     ]
    }
   ],
   "source": [
    "X3 = [[X[i][j] for i in range(len(X))] for j in range(len(X[1]))]\n",
    "print(X3) #Transpose a matrix."
   ]
  },
  {
   "cell_type": "code",
   "execution_count": 1,
   "metadata": {
    "scrolled": false
   },
   "outputs": [
    {
     "data": {
      "text/plain": [
       "{'apple', 'banana', 'lemon', 'orange', 'papaya'}"
      ]
     },
     "execution_count": 1,
     "metadata": {},
     "output_type": "execute_result"
    }
   ],
   "source": [
    "basket={'apple','banana','lemon','papaya','orange','lemon'}\n",
    "basket #We created a set named 'basket'. When printing a set, by default the duplicates are removed and sorted alphabetically."
   ]
  },
  {
   "cell_type": "code",
   "execution_count": 5,
   "metadata": {
    "scrolled": true
   },
   "outputs": [
    {
     "data": {
      "text/plain": [
       "{'banana', 'guava', 'mango'}"
      ]
     },
     "execution_count": 5,
     "metadata": {},
     "output_type": "execute_result"
    }
   ],
   "source": [
    "a=('potato','tomato','onion','mango','carrot','potato','onion')  \n",
    "b=('mango','guava','banana','mango')\n",
    "a1=set(a)  #The 'set' function converts an object into a set. For eg. here it takes tuples 'a' and 'b' and converts them into sets. From the property of sets, it removes duplicates and sorts in ascending order.\n",
    "b1=set(b)\n",
    "b1"
   ]
  },
  {
   "cell_type": "code",
   "execution_count": 7,
   "metadata": {},
   "outputs": [
    {
     "data": {
      "text/plain": [
       "{'apple', 'banana', 'lemon', 'orange', 'papaya', 'pomegranate'}"
      ]
     },
     "execution_count": 7,
     "metadata": {},
     "output_type": "execute_result"
    }
   ],
   "source": [
    "basket.add('pomegranate') #We added a new item to our set using 'add' function.\n",
    "basket  #Unlike tuples which are immutable, sets allow us to add/remove items. However, as they don't have a fixed index for items as they are unordered, sets are partially-mutable i.e. allow adding/removing but not editing of objects inside.\n",
    "       #The word 'unordered' means the elements don't follow an order of entry inside the set. For eg. when we create an empty list and append objects to that list, there is a specific order of entry which can be confirmed by printing the list. Now when we add new objects to a set, there is no order of entry and this can be confirmed if we print a set."
   ]
  },
  {
   "cell_type": "code",
   "execution_count": 9,
   "metadata": {},
   "outputs": [
    {
     "data": {
      "text/plain": [
       "{'apple', 'banana', 'lemon', 'orange', 'papaya', 'pomegranate'}"
      ]
     },
     "execution_count": 9,
     "metadata": {},
     "output_type": "execute_result"
    }
   ],
   "source": [
    "basket.discard('tree') #We use 'discard' function to remove an item from a set. \n",
    "basket    #It removes the specified item if it is present in the set. If it isn't, then does nothing. Like this case."
   ]
  },
  {
   "cell_type": "code",
   "execution_count": 3,
   "metadata": {
    "scrolled": true
   },
   "outputs": [
    {
     "ename": "TypeError",
     "evalue": "unhashable type: 'list'",
     "output_type": "error",
     "traceback": [
      "\u001b[1;31m---------------------------------------------------------------------------\u001b[0m",
      "\u001b[1;31mTypeError\u001b[0m                                 Traceback (most recent call last)",
      "\u001b[1;32m<ipython-input-3-127ff8924bc2>\u001b[0m in \u001b[0;36m<module>\u001b[1;34m\u001b[0m\n\u001b[1;32m----> 1\u001b[1;33m \u001b[0mbox\u001b[0m\u001b[1;33m=\u001b[0m\u001b[1;33m{\u001b[0m\u001b[1;34m'mango'\u001b[0m\u001b[1;33m,\u001b[0m\u001b[1;36m21\u001b[0m\u001b[1;33m,\u001b[0m\u001b[1;34m'lemon'\u001b[0m\u001b[1;33m,\u001b[0m\u001b[1;33m[\u001b[0m\u001b[1;36m3\u001b[0m\u001b[1;33m,\u001b[0m\u001b[1;36m1\u001b[0m\u001b[1;33m,\u001b[0m\u001b[1;36m7\u001b[0m\u001b[1;33m]\u001b[0m\u001b[1;33m}\u001b[0m\u001b[1;33m\u001b[0m\u001b[1;33m\u001b[0m\u001b[0m\n\u001b[0m\u001b[0;32m      2\u001b[0m \u001b[0mbox\u001b[0m\u001b[1;33m\u001b[0m\u001b[1;33m\u001b[0m\u001b[0m\n",
      "\u001b[1;31mTypeError\u001b[0m: unhashable type: 'list'"
     ]
    }
   ],
   "source": [
    "box={'mango',21,'lemon',[3,1,7]}\n",
    "box  #If we create a set having a mutable item inside, Python gives an error stating same. A set can't have a mutable object inside it."
   ]
  },
  {
   "cell_type": "code",
   "execution_count": 4,
   "metadata": {
    "scrolled": true
   },
   "outputs": [
    {
     "name": "stdout",
     "output_type": "stream",
     "text": [
      "lemon\n",
      "papaya\n",
      "banana\n",
      "orange\n",
      "apple\n"
     ]
    }
   ],
   "source": [
    "for i in basket:\n",
    "    print(i)   #The for loop returns values for each iteration. It doesn't give a list or set output.\n",
    "#Also, since set is an 'unordered' collection of data items, every time we run the loop the outcome appears in a different order. \n",
    "#So when we print a set, the output is arrnaged in ascending order and duplicates removed. But when we run a 'for' loop on the elements of the set, then we observe that the order of output is always different."
   ]
  },
  {
   "cell_type": "code",
   "execution_count": 29,
   "metadata": {
    "scrolled": false
   },
   "outputs": [
    {
     "name": "stdout",
     "output_type": "stream",
     "text": [
      "apple\n",
      "banana\n",
      "lemon\n",
      "orange\n",
      "papaya\n"
     ]
    }
   ],
   "source": [
    "for i in sorted(basket):\n",
    "    print(i)            #Gives a sorted output."
   ]
  },
  {
   "cell_type": "code",
   "execution_count": 6,
   "metadata": {
    "scrolled": true
   },
   "outputs": [
    {
     "name": "stdout",
     "output_type": "stream",
     "text": [
      "Found item !\n"
     ]
    }
   ],
   "source": [
    "if 'lemon' in basket:   #Search if an item exists in the set.\n",
    "    print('Found item !')\n",
    "else: print('Item not there.')    "
   ]
  },
  {
   "cell_type": "code",
   "execution_count": 16,
   "metadata": {},
   "outputs": [
    {
     "data": {
      "text/plain": [
       "{'carrot', 'onion', 'potato', 'tomato'}"
      ]
     },
     "execution_count": 16,
     "metadata": {},
     "output_type": "execute_result"
    }
   ],
   "source": [
    "a-b  #Gives us values present in set 'a' but not set 'b'."
   ]
  },
  {
   "cell_type": "code",
   "execution_count": 17,
   "metadata": {
    "scrolled": true
   },
   "outputs": [
    {
     "data": {
      "text/plain": [
       "{'mango'}"
      ]
     },
     "execution_count": 17,
     "metadata": {},
     "output_type": "execute_result"
    }
   ],
   "source": [
    "a&b #Values present in both sets."
   ]
  },
  {
   "cell_type": "code",
   "execution_count": 18,
   "metadata": {},
   "outputs": [
    {
     "data": {
      "text/plain": [
       "{'banana', 'carrot', 'guava', 'mango', 'onion', 'potato', 'tomato'}"
      ]
     },
     "execution_count": 18,
     "metadata": {},
     "output_type": "execute_result"
    }
   ],
   "source": [
    "a|b  #Gives all values present in both sets dropping the duplicates."
   ]
  },
  {
   "cell_type": "code",
   "execution_count": 19,
   "metadata": {
    "scrolled": false
   },
   "outputs": [
    {
     "data": {
      "text/plain": [
       "{'banana', 'carrot', 'guava', 'onion', 'potato', 'tomato'}"
      ]
     },
     "execution_count": 19,
     "metadata": {},
     "output_type": "execute_result"
    }
   ],
   "source": [
    "a^b  #Values present in either 'a' or 'b' but not both."
   ]
  },
  {
   "cell_type": "code",
   "execution_count": 10,
   "metadata": {},
   "outputs": [
    {
     "data": {
      "text/plain": [
       "{2, 7, 12, 31, 45}"
      ]
     },
     "execution_count": 10,
     "metadata": {},
     "output_type": "execute_result"
    }
   ],
   "source": [
    "q=[2,45,31,12,7,7,2]\n",
    "r=set(q)  #The 'set' function converts list 'q' into set 'r'. As expected, set 'r' has duplicate values removed and sorted.\n",
    "r"
   ]
  },
  {
   "cell_type": "code",
   "execution_count": 14,
   "metadata": {
    "scrolled": true
   },
   "outputs": [
    {
     "data": {
      "text/plain": [
       "{'jack': 1243, 'mate': 3621, 'fred': 2937}"
      ]
     },
     "execution_count": 14,
     "metadata": {},
     "output_type": "execute_result"
    }
   ],
   "source": [
    "tel={'jack':1243,'mate':3621,'fred':2937} #This is a dictionary created by using curly brackets{}.It contains 'key:value' pairs.\n",
    "tel   #We store values with some keys and later extract the value providing the key.Empty {} creates an empty dictionary.                                      "
   ]
  },
  {
   "cell_type": "code",
   "execution_count": 15,
   "metadata": {},
   "outputs": [
    {
     "data": {
      "text/plain": [
       "{'jack': 1243, 'mate': 3621, 'fred': 2937, 'guido': 7150}"
      ]
     },
     "execution_count": 15,
     "metadata": {},
     "output_type": "execute_result"
    }
   ],
   "source": [
    "tel['guido']=7150  #Add a new key\"value pair to the dictionary 'tel'.\n",
    "tel    #Dictionaries are unordered and mutable objects, so we can add,remove key:value pairs and also modify values of the keys."
   ]
  },
  {
   "cell_type": "code",
   "execution_count": 16,
   "metadata": {},
   "outputs": [
    {
     "data": {
      "text/plain": [
       "{'jack': 1243,\n",
       " 'mate': 3621,\n",
       " 'fred': 2937,\n",
       " 'guido': 7150,\n",
       " 'auba': 1914,\n",
       " 'laca': 2910}"
      ]
     },
     "execution_count": 16,
     "metadata": {},
     "output_type": "execute_result"
    }
   ],
   "source": [
    "tel.update({'auba':1914,'laca':2910})\n",
    "tel    #Adding multiple key:value pairs in same line using 'update' function."
   ]
  },
  {
   "cell_type": "code",
   "execution_count": 4,
   "metadata": {},
   "outputs": [
    {
     "data": {
      "text/plain": [
       "3621"
      ]
     },
     "execution_count": 4,
     "metadata": {},
     "output_type": "execute_result"
    }
   ],
   "source": [
    "tel['mate']  #Returns the 'value' corresponding to key 'mate'."
   ]
  },
  {
   "cell_type": "code",
   "execution_count": 17,
   "metadata": {},
   "outputs": [
    {
     "name": "stdout",
     "output_type": "stream",
     "text": [
      "1243\n",
      "No key found\n"
     ]
    }
   ],
   "source": [
    "#If there's a chance the key we specify might not exist, we should use 'get' function instead of square bracket notation.\n",
    "#The 1st argument is the key whose value we want to extract. The 2nd argument is the message which displays in case the mentioned key doesn't exist.\n",
    "print(tel.get('jack','No key found'))\n",
    "print(tel.get('mack','No key found'))"
   ]
  },
  {
   "cell_type": "code",
   "execution_count": 5,
   "metadata": {
    "scrolled": false
   },
   "outputs": [
    {
     "data": {
      "text/plain": [
       "{'jack': 1243, 'fred': 2937, 'guido': 7150, 'tony': 9327}"
      ]
     },
     "execution_count": 5,
     "metadata": {},
     "output_type": "execute_result"
    }
   ],
   "source": [
    "del tel['mate']   #Deletes the key 'mate' and its value from dictionary. Then adds key 'tony' with value 9327 to it.\n",
    "tel['tony']=9327\n",
    "tel"
   ]
  },
  {
   "cell_type": "code",
   "execution_count": 8,
   "metadata": {},
   "outputs": [
    {
     "data": {
      "text/plain": [
       "dict_keys(['jack', 'fred', 'guido', 'tony'])"
      ]
     },
     "execution_count": 8,
     "metadata": {},
     "output_type": "execute_result"
    }
   ],
   "source": [
    "tel.keys()"
   ]
  },
  {
   "cell_type": "code",
   "execution_count": 7,
   "metadata": {
    "scrolled": false
   },
   "outputs": [
    {
     "data": {
      "text/plain": [
       "dict_values([1243, 2937, 7150, 9327])"
      ]
     },
     "execution_count": 7,
     "metadata": {},
     "output_type": "execute_result"
    }
   ],
   "source": [
    "tel.values()"
   ]
  },
  {
   "cell_type": "code",
   "execution_count": 9,
   "metadata": {},
   "outputs": [
    {
     "data": {
      "text/plain": [
       "dict_items([('jack', 1243), ('fred', 2937), ('guido', 7150), ('tony', 9327)])"
      ]
     },
     "execution_count": 9,
     "metadata": {},
     "output_type": "execute_result"
    }
   ],
   "source": [
    "tel.items()"
   ]
  },
  {
   "cell_type": "code",
   "execution_count": 12,
   "metadata": {},
   "outputs": [
    {
     "data": {
      "text/plain": [
       "['jack', 'fred', 'guido', 'tony']"
      ]
     },
     "execution_count": 12,
     "metadata": {},
     "output_type": "execute_result"
    }
   ],
   "source": [
    "list(tel)  #Applying 'list' function on a dictionary returns a list having keys of dictionary as its items."
   ]
  },
  {
   "cell_type": "code",
   "execution_count": 13,
   "metadata": {},
   "outputs": [
    {
     "data": {
      "text/plain": [
       "['fred', 'guido', 'jack', 'tony']"
      ]
     },
     "execution_count": 13,
     "metadata": {},
     "output_type": "execute_result"
    }
   ],
   "source": [
    "sorted(tel) #Gives the sorted version of keys present in the dictionary."
   ]
  },
  {
   "cell_type": "code",
   "execution_count": 14,
   "metadata": {},
   "outputs": [
    {
     "data": {
      "text/plain": [
       "False"
      ]
     },
     "execution_count": 14,
     "metadata": {},
     "output_type": "execute_result"
    }
   ],
   "source": [
    "'john' in tel  #Asks a question whether key 'john' is present in dictionary 'tel'."
   ]
  },
  {
   "cell_type": "code",
   "execution_count": 15,
   "metadata": {},
   "outputs": [
    {
     "data": {
      "text/plain": [
       "False"
      ]
     },
     "execution_count": 15,
     "metadata": {},
     "output_type": "execute_result"
    }
   ],
   "source": [
    "'fred' not in tel   #Asks a question whether key 'fred' is not present in dictionary 'tel'."
   ]
  },
  {
   "cell_type": "code",
   "execution_count": 1,
   "metadata": {},
   "outputs": [
    {
     "data": {
      "text/plain": [
       "7"
      ]
     },
     "execution_count": 1,
     "metadata": {},
     "output_type": "execute_result"
    }
   ],
   "source": [
    "L=[2,6,1,9,13,'hey'] #A list.\n",
    "T=(21,3,61,7,5) #A tuple.\n",
    "D={'A':L,'B':T} #A dictionary. It has list 'L' and tuple 'T' stored as values under keys 'A' and 'B'.\n",
    "D['B'][3] #Go to key 'B' and access the element at index 3 from the value stored."
   ]
  },
  {
   "cell_type": "code",
   "execution_count": 18,
   "metadata": {},
   "outputs": [
    {
     "data": {
      "text/plain": [
       "{'tom': 234, 'dick': 376, 'harry': 397}"
      ]
     },
     "execution_count": 18,
     "metadata": {},
     "output_type": "execute_result"
    }
   ],
   "source": [
    "tel1=dict(tom=234,dick=376,harry=397)  #Another way of creating a dictionary using 'dict' function.\n",
    "tel1"
   ]
  },
  {
   "cell_type": "code",
   "execution_count": 18,
   "metadata": {},
   "outputs": [
    {
     "data": {
      "text/plain": [
       "True"
      ]
     },
     "execution_count": 18,
     "metadata": {},
     "output_type": "execute_result"
    }
   ],
   "source": [
    "'tom' in tel1.keys()   #Check whether a key exists in dictionary.\n",
    "376 in tel1.values()   #Check whether a value exists in dictionary."
   ]
  },
  {
   "cell_type": "code",
   "execution_count": 19,
   "metadata": {},
   "outputs": [
    {
     "name": "stdout",
     "output_type": "stream",
     "text": [
      "tom 234\n",
      "dick 376\n",
      "harry 397\n"
     ]
    }
   ],
   "source": [
    "for key,value in tel1.items(): #When looping the values of dictionary, we initiate 2 'for' variables. By using 'items()' function with our dictionary, we can retrieve key:value pairs simultaneously.\n",
    "    print(key,value) #For each loop iteration, these 2 variables then take on each key:value pair as present in 'tel1.items'."
   ]
  },
  {
   "cell_type": "code",
   "execution_count": 20,
   "metadata": {},
   "outputs": [
    {
     "name": "stdout",
     "output_type": "stream",
     "text": [
      "tom\n",
      "dick\n",
      "harry\n"
     ]
    }
   ],
   "source": [
    "for key in tel1: #If we specify only 1 'for' variable instead of 2, then the loop automatically iterates over keys of the dictionary and skips the values.\n",
    "    print(key)"
   ]
  },
  {
   "cell_type": "code",
   "execution_count": 2,
   "metadata": {},
   "outputs": [
    {
     "name": "stdout",
     "output_type": "stream",
     "text": [
      "Percentage of Student A= 60.33\n",
      "Percentage of Student B= 44.33\n",
      "Percentage of Student C= 74.67\n"
     ]
    }
   ],
   "source": [
    "#We create a dictionary of students with their marks in 3 subjects. Student names act as keys and their marks as values stored in a list.\n",
    "#We then calculate the overall percentage of each student out of total marks of 300.\n",
    "student_dict={'Student A':[45,65,71],'Student B':[37,44,52],'Student C':[65,78,81]}\n",
    "keylist=list(student_dict)\n",
    "for i in keylist:\n",
    "    s=sum(student_dict[i])\n",
    "    p=s/3\n",
    "    print(f\"Percentage of {i}= {round(p,2)}\")"
   ]
  },
  {
   "cell_type": "code",
   "execution_count": 1,
   "metadata": {
    "scrolled": true
   },
   "outputs": [
    {
     "name": "stdout",
     "output_type": "stream",
     "text": [
      "{'tom': 2415, 'dick': 6321, 'logan': 8291} <class 'dict'>\n"
     ]
    }
   ],
   "source": [
    "key=['tom','dick','logan']\n",
    "value=[2415,6321,8291]\n",
    "a2={}\n",
    "for k,v in zip(key,value):\n",
    "    a2.update({k:v})  #When key and value are present in different lists, we can use 'zip' function to retrieve key:value pairs.\n",
    "print(a2,type(a2))    "
   ]
  },
  {
   "cell_type": "code",
   "execution_count": 2,
   "metadata": {
    "scrolled": true
   },
   "outputs": [
    {
     "name": "stdout",
     "output_type": "stream",
     "text": [
      "{'tom': 2415, 'dick': 6321, 'logan': 8291} <class 'dict'>\n"
     ]
    }
   ],
   "source": [
    "a3={k:v for k,v in zip(key,value)}  #Same as bove, done using comprehension method.\n",
    "print(a3,type(a3))"
   ]
  },
  {
   "cell_type": "code",
   "execution_count": 3,
   "metadata": {},
   "outputs": [
    {
     "name": "stdout",
     "output_type": "stream",
     "text": [
      "tom\n",
      "8291\n"
     ]
    }
   ],
   "source": [
    "print(max(a3.keys()))\n",
    "print(max(a3.values()))"
   ]
  },
  {
   "cell_type": "code",
   "execution_count": 2,
   "metadata": {},
   "outputs": [
    {
     "data": {
      "text/plain": [
       "{'auba': 12, 'laca': 31, 'gabi': 23, 'mikel': 41, 'saka': 15}"
      ]
     },
     "execution_count": 2,
     "metadata": {},
     "output_type": "execute_result"
    }
   ],
   "source": [
    "dict1={'auba':12,'laca':31,'gabi':23}\n",
    "dict2={'mikel':41,'saka':15}\n",
    "dict1.update(dict2)  #Concatenate two dictionaries with 'update' function.\n",
    "dict1"
   ]
  },
  {
   "cell_type": "code",
   "execution_count": 5,
   "metadata": {},
   "outputs": [
    {
     "data": {
      "text/plain": [
       "[('auba', 12), ('gabi', 19), ('laca', 31), ('mikel', 41), ('saka', 15)]"
      ]
     },
     "execution_count": 5,
     "metadata": {},
     "output_type": "execute_result"
    }
   ],
   "source": [
    "sorted(dict1.items())  #Returns a list having a sorted k:v pairs as tuples."
   ]
  },
  {
   "cell_type": "code",
   "execution_count": 3,
   "metadata": {},
   "outputs": [
    {
     "data": {
      "text/plain": [
       "{'auba': 12, 'laca': 31, 'gabi': 19, 'mikel': 41, 'saka': 15}"
      ]
     },
     "execution_count": 3,
     "metadata": {},
     "output_type": "execute_result"
    }
   ],
   "source": [
    "dict3={'gabi':19} #If the dictionaries have 1 or more common keys, then the key value of the second dictionary overwrites that of the first one.\n",
    "dict1.update(dict3)\n",
    "dict1"
   ]
  },
  {
   "cell_type": "code",
   "execution_count": 13,
   "metadata": {},
   "outputs": [
    {
     "name": "stdout",
     "output_type": "stream",
     "text": [
      "Starting Position:(0, 25)\n",
      "New Position:(2, 25)\n"
     ]
    }
   ],
   "source": [
    "#Here we have a dictionary containing info about an alien's x,y coordinates and its speed. Depending on its speed, we move the alien to the right by specific 'x' value increment. \n",
    "alien={'x':0,'y':25,'speed':'medium'}\n",
    "print(f\"Starting Position:{alien['x'],alien['y']}\")\n",
    "if alien['speed'] == 'slow':\n",
    "    x_increment=1\n",
    "if alien['speed'] == 'medium':\n",
    "    x_increment=2\n",
    "else:\n",
    "    x_increment=3\n",
    "alien['x']=alien['x']+x_increment\n",
    "print(f\"New Position:{alien['x'],alien['y']}\")"
   ]
  },
  {
   "cell_type": "code",
   "execution_count": 1,
   "metadata": {
    "scrolled": true
   },
   "outputs": [
    {
     "data": {
      "text/plain": [
       "'C:\\\\Users\\\\win'"
      ]
     },
     "execution_count": 1,
     "metadata": {},
     "output_type": "execute_result"
    }
   ],
   "source": [
    "pwd  #Current Working Directory of Jupyter notebook."
   ]
  },
  {
   "cell_type": "code",
   "execution_count": 3,
   "metadata": {},
   "outputs": [
    {
     "name": "stdout",
     "output_type": "stream",
     "text": [
      "{'Profession': 'Footballer', 'Team': 'England/Leicester City', 'first_name': 'James', 'last_name': 'Maddison'}\n"
     ]
    }
   ],
   "source": [
    "#Here we create a dictionary using a function. The 1st and 2nd arguments are supplied by user while the 3rd argument is a blank dictionary created inside the function itself.\n",
    "def profile(first,last,**user_info):  #The 3rd argument '**user_info' creates a blank dictionary by the name of 'user_info'.\n",
    "    user_info['first_name']=first  #This dictionary takes up any number of key:value pairs supplied to the function as arguments after the 1st and 2nd arguments.\n",
    "    user_info['last_name']=last #Since we supplied 2 arguments before 'user_info', we want to create 2 key:value pairs.\n",
    "    return user_info #'first' is the value of key name 'first_name' and 'last' is the value of key name 'last_name'.\n",
    "user_profile=profile('James','Maddison',Profession='Footballer',Team='England/Leicester City') #Here we supplied 2 keys as 'Profession' and 'Team' along with their values after supplying first two arguments.\n",
    "print(user_profile)"
   ]
  },
  {
   "cell_type": "code",
   "execution_count": 4,
   "metadata": {},
   "outputs": [],
   "source": [
    "#We now learn to create a module. A module is nothing but a file containing python scripts.\n",
    "# 1. Create a new text file and write/paste your Python codes in it.\n",
    "# 2. Now save this file with a '.py' extension. \n",
    "# 3. This file is now a Python module. Any file with a '.py' extension is a Python module."
   ]
  },
  {
   "cell_type": "code",
   "execution_count": 1,
   "metadata": {},
   "outputs": [],
   "source": [
    "import sys  #Here we supply the path to the directory where the module is present.\n",
    "sys.path.append('C:/Users/win')"
   ]
  },
  {
   "cell_type": "code",
   "execution_count": 2,
   "metadata": {},
   "outputs": [],
   "source": [
    "import mymodule as mod  #Import the created 'mymodule.py' file as 'mod'."
   ]
  },
  {
   "cell_type": "code",
   "execution_count": 3,
   "metadata": {
    "scrolled": true
   },
   "outputs": [
    {
     "data": {
      "text/plain": [
       "[(0, 0), (1, 1), (2, 8), (3, 27), (4, 64), (5, 125), (6, 216), (7, 343)]"
      ]
     },
     "execution_count": 3,
     "metadata": {},
     "output_type": "execute_result"
    }
   ],
   "source": [
    "mod.x1  #Access the created objects,functions in the module using a dot as 'mod.object'."
   ]
  },
  {
   "cell_type": "code",
   "execution_count": 21,
   "metadata": {},
   "outputs": [
    {
     "data": {
      "text/plain": [
       "(2, 8)"
      ]
     },
     "execution_count": 21,
     "metadata": {},
     "output_type": "execute_result"
    }
   ],
   "source": [
    "mod.x1[2]"
   ]
  },
  {
   "cell_type": "code",
   "execution_count": 2,
   "metadata": {},
   "outputs": [
    {
     "name": "stdout",
     "output_type": "stream",
     "text": [
      "16 49\n"
     ]
    }
   ],
   "source": [
    "mod.sq(4,7)"
   ]
  },
  {
   "cell_type": "code",
   "execution_count": 2,
   "metadata": {},
   "outputs": [
    {
     "name": "stdout",
     "output_type": "stream",
     "text": [
      "https://www.oreilly.com/library/view/machine-learning-with/9781491989371/ch01.html\n",
      "https://www.programiz.com/python-programming/matrix"
     ]
    }
   ],
   "source": [
    "with open('pend.txt') as p:  #Here we use 'with' and 'open' commands together to open a file existing in our working directory.\n",
    "    for line in p:           #We then initiate a 'for' loop which iterates over each line of the file and prints as output.\n",
    "        print(line,end='')\n"
   ]
  },
  {
   "cell_type": "code",
   "execution_count": 2,
   "metadata": {},
   "outputs": [
    {
     "name": "stdout",
     "output_type": "stream",
     "text": [
      "We're making a 8 inch pizza which has following toppings:\n",
      "['capsicum', 'corn']\n"
     ]
    }
   ],
   "source": [
    "#Import a function from a module.\n",
    "from pizza import make_pizza\n",
    "make_pizza(8,'capsicum','corn')"
   ]
  },
  {
   "cell_type": "code",
   "execution_count": 3,
   "metadata": {},
   "outputs": [
    {
     "name": "stdout",
     "output_type": "stream",
     "text": [
      "We're making a 12 inch pizza which has following toppings:\n",
      "['extra cheese', 'corn']\n"
     ]
    }
   ],
   "source": [
    "from pizza import make_pizza as mp #Here we imported function 'make_pizza' with an alias 'mp'. \n",
    "mp(12,'extra cheese','corn')\n",
    "#We can import both module as well as functions in it using an alias."
   ]
  }
 ],
 "metadata": {
  "kernelspec": {
   "display_name": "Python 3.8.5 ('base')",
   "language": "python",
   "name": "python3"
  },
  "language_info": {
   "codemirror_mode": {
    "name": "ipython",
    "version": 3
   },
   "file_extension": ".py",
   "mimetype": "text/x-python",
   "name": "python",
   "nbconvert_exporter": "python",
   "pygments_lexer": "ipython3",
   "version": "3.8.5"
  },
  "vscode": {
   "interpreter": {
    "hash": "1af06a67833388e2ab2f4a98b73c33e1819b9b34fa421d20993178e19955971f"
   }
  }
 },
 "nbformat": 4,
 "nbformat_minor": 4
}
