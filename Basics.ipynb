{
 "cells": [
  {
   "cell_type": "code",
   "execution_count": 1,
   "metadata": {
    "scrolled": true
   },
   "outputs": [
    {
     "name": "stdout",
     "output_type": "stream",
     "text": [
      "Hey..Raghav here\n"
     ]
    }
   ],
   "source": [
    "print('Hey..Raghav here')"
   ]
  },
  {
   "cell_type": "code",
   "execution_count": 16,
   "metadata": {},
   "outputs": [
    {
     "name": "stdout",
     "output_type": "stream",
     "text": [
      "Hey..I'm Raghav\n"
     ]
    }
   ],
   "source": [
    "print('Hey..I\\'m Raghav') #Now since the string contains a single quote itself, Python won't know the difference. Hence we insert a backslash to tell that a quote follows as a part of string."
   ]
  },
  {
   "cell_type": "code",
   "execution_count": 4,
   "metadata": {
    "scrolled": true
   },
   "outputs": [
    {
     "name": "stdout",
     "output_type": "stream",
     "text": [
      "Hey...I'm Raghav\n"
     ]
    }
   ],
   "source": [
    "print(\"Hey...I'm Raghav\") #When using double quotes, we dont need to specify a '\\' as now it can differentiate between an opening/closing quote and quote as part of string. "
   ]
  },
  {
   "cell_type": "code",
   "execution_count": 1,
   "metadata": {
    "scrolled": false
   },
   "outputs": [
    {
     "data": {
      "text/plain": [
       "\"I'm Raghav.\\nI'm 33.\""
      ]
     },
     "execution_count": 1,
     "metadata": {},
     "output_type": "execute_result"
    }
   ],
   "source": [
    "\"I'm Raghav.\\nI'm 33.\""
   ]
  },
  {
   "cell_type": "code",
   "execution_count": 3,
   "metadata": {
    "scrolled": false
   },
   "outputs": [
    {
     "name": "stdout",
     "output_type": "stream",
     "text": [
      "I'm Raghav.\n",
      "I'm 33.\n"
     ]
    }
   ],
   "source": [
    "print(\"I'm Raghav.\\nI'm 33.\") #With print command, the'\\n' prints the follwing text in a new line."
   ]
  },
  {
   "cell_type": "code",
   "execution_count": 2,
   "metadata": {
    "scrolled": true
   },
   "outputs": [
    {
     "data": {
      "text/plain": [
       "\"Hi..Raghav Here.I'm 33.\""
      ]
     },
     "execution_count": 2,
     "metadata": {},
     "output_type": "execute_result"
    }
   ],
   "source": [
    "text=(\"Hi..Raghav Here.\"\"I'm 33.\") #Strings within simple brackets are automatically concatenated\n",
    "text"
   ]
  },
  {
   "cell_type": "code",
   "execution_count": null,
   "metadata": {},
   "outputs": [],
   "source": [
    "#There are 4 data types in Python: Numeric(int,float,complex),Sequence(string,list,tuple),Set,Dictionary(dict)"
   ]
  },
  {
   "cell_type": "code",
   "execution_count": 2,
   "metadata": {},
   "outputs": [
    {
     "data": {
      "text/plain": [
       "'umumumium'"
      ]
     },
     "execution_count": 2,
     "metadata": {},
     "output_type": "execute_result"
    }
   ],
   "source": [
    "3*'um'+'ium' #We can use '*' to repeat and '+' to concatenate strings."
   ]
  },
  {
   "cell_type": "code",
   "execution_count": 2,
   "metadata": {},
   "outputs": [
    {
     "name": "stdout",
     "output_type": "stream",
     "text": [
      "I Love Arsenal..Once a Gunner always a Gunner !!\n",
      "I Love Arsenal..Once a Gunner always a Gunner !!\n",
      "I Love Arsenal..Once a Gunner always a Gunner !!\n",
      "I Love Arsenal..Once a Gunner always a Gunner !!\n",
      "I Love Arsenal..Once a Gunner always a Gunner !!\n",
      "I Love Arsenal..Once a Gunner always a Gunner !!\n",
      "I Love Arsenal..Once a Gunner always a Gunner !!\n",
      "I Love Arsenal..Once a Gunner always a Gunner !!\n",
      "\n"
     ]
    }
   ],
   "source": [
    "print('I Love Arsenal..Once a Gunner always a Gunner !!\\n'*8)"
   ]
  },
  {
   "cell_type": "code",
   "execution_count": 2,
   "metadata": {},
   "outputs": [
    {
     "data": {
      "text/plain": [
       "'Raghav Singh'"
      ]
     },
     "execution_count": 2,
     "metadata": {},
     "output_type": "execute_result"
    }
   ],
   "source": [
    "name='raghav singh' #The 'title()' function converts the first letter of both character strings to uppercase. Here the function doesn't have any arguments inside its bracket.\n",
    "name.title()   #This is a standard Python syntax, which means apply function 'title()' to object 'name'. "
   ]
  },
  {
   "cell_type": "code",
   "execution_count": 3,
   "metadata": {},
   "outputs": [
    {
     "data": {
      "text/plain": [
       "'RAGHAV SINGH'"
      ]
     },
     "execution_count": 3,
     "metadata": {},
     "output_type": "execute_result"
    }
   ],
   "source": [
    "name.upper() \n",
    "#name.lower()"
   ]
  },
  {
   "cell_type": "code",
   "execution_count": 6,
   "metadata": {},
   "outputs": [
    {
     "data": {
      "text/plain": [
       "'Raghav Singh'"
      ]
     },
     "execution_count": 6,
     "metadata": {},
     "output_type": "execute_result"
    }
   ],
   "source": [
    "first_name='Raghav'\n",
    "last_name='Singh'\n",
    "full_name=f'{first_name} {last_name}'\n",
    "full_name #To insert an object's value inside a string, first type letter 'f' followed by quotes. Then simply write your object name within curly braces and Python would pick it up."
   ]
  },
  {
   "cell_type": "code",
   "execution_count": 13,
   "metadata": {},
   "outputs": [
    {
     "name": "stdout",
     "output_type": "stream",
     "text": [
      "\tPython\n"
     ]
    }
   ],
   "source": [
    "print(\"\\tPython\")  #The '\\t' includes a whitespace while printing 'Python'."
   ]
  },
  {
   "cell_type": "code",
   "execution_count": 18,
   "metadata": {},
   "outputs": [
    {
     "name": "stdout",
     "output_type": "stream",
     "text": [
      "This is\n",
      "Python\n",
      "This is\n",
      "\tPython\n"
     ]
    }
   ],
   "source": [
    "print(\"This is\\nPython\")  #The '\\n' moves the cursor to next line. Hence 'Python' gets printed in a new line.\n",
    "print(\"This is\\n\\tPython\")"
   ]
  },
  {
   "cell_type": "code",
   "execution_count": 21,
   "metadata": {},
   "outputs": [
    {
     "data": {
      "text/plain": [
       "'Python'"
      ]
     },
     "execution_count": 21,
     "metadata": {},
     "output_type": "execute_result"
    }
   ],
   "source": [
    "fav_language='Python   '\n",
    "fav_language=fav_language.rstrip() #The 'rstrip()' function is used to remove whitespaces from the right end of the string. Then stores this change in the same object.\n",
    "fav_language  #Similarly we have 'lstrip()' which eliminates from left end. Finally, 'strip()' does it from both ends together."
   ]
  },
  {
   "cell_type": "code",
   "execution_count": 1,
   "metadata": {},
   "outputs": [
    {
     "data": {
      "text/plain": [
       "'RAGHAV SINGH'"
      ]
     },
     "execution_count": 1,
     "metadata": {},
     "output_type": "execute_result"
    }
   ],
   "source": [
    "name_new='raghav singh'\n",
    "name_new.upper()  #The 'upper()' function returns all values as uppercase. Similarly, 'lower()' returns all values as lowercase."
   ]
  },
  {
   "cell_type": "code",
   "execution_count": 3,
   "metadata": {},
   "outputs": [
    {
     "name": "stdout",
     "output_type": "stream",
     "text": [
      "I'm Raghav and my attendance is 87 percent.\n"
     ]
    }
   ],
   "source": [
    "name='Raghav'\n",
    "Attendance=87\n",
    "print(\"I'm\",name,'and my attendance is',Attendance,'percent.')"
   ]
  },
  {
   "cell_type": "code",
   "execution_count": 4,
   "metadata": {},
   "outputs": [
    {
     "name": "stdout",
     "output_type": "stream",
     "text": [
      "I'm Raghav and my attendance is 87 percent.\n"
     ]
    }
   ],
   "source": [
    "print(f\"I'm {name} and my attendance is {Attendance} percent.\")  #Does the same job as above cell."
   ]
  },
  {
   "cell_type": "code",
   "execution_count": 1,
   "metadata": {},
   "outputs": [
    {
     "name": "stdout",
     "output_type": "stream",
     "text": [
      "1 0 True\n"
     ]
    }
   ],
   "source": [
    "p=1 and 1 #The 'and' operator always gives True/1 if both inputs are 1. Else it gives False/0.\n",
    "q=0 or 0  #The 'or' operator always gives False/0 if both inputs are 0. Else it gives True/1.\n",
    "r=not 0  #The 'not' operator flips the current state of input.\n",
    "print(p,q,r)"
   ]
  },
  {
   "cell_type": "code",
   "execution_count": 2,
   "metadata": {},
   "outputs": [
    {
     "name": "stdout",
     "output_type": "stream",
     "text": [
      "1 <class 'int'>\n"
     ]
    }
   ],
   "source": [
    "#The 'and' takes higher preference than 'or' when both come together.\n",
    "a=1 or 0 and 0\n",
    "print(a,type(a))"
   ]
  },
  {
   "cell_type": "code",
   "execution_count": 1,
   "metadata": {},
   "outputs": [
    {
     "data": {
      "text/plain": [
       "'h'"
      ]
     },
     "execution_count": 1,
     "metadata": {},
     "output_type": "execute_result"
    }
   ],
   "source": [
    "a='python is fun'\n",
    "a[3]  #Gives us the 4th character of a string. Basically gives the letter after position 3. Explained 2 cells below."
   ]
  },
  {
   "cell_type": "code",
   "execution_count": 28,
   "metadata": {
    "scrolled": true
   },
   "outputs": [
    {
     "data": {
      "text/plain": [
       "'n'"
      ]
     },
     "execution_count": 28,
     "metadata": {},
     "output_type": "execute_result"
    }
   ],
   "source": [
    "a[-1] #Gives last character of string 'a'."
   ]
  },
  {
   "cell_type": "code",
   "execution_count": 29,
   "metadata": {},
   "outputs": [
    {
     "data": {
      "text/plain": [
       "'un'"
      ]
     },
     "execution_count": 29,
     "metadata": {},
     "output_type": "execute_result"
    }
   ],
   "source": [
    "a[-2:]"
   ]
  },
  {
   "cell_type": "code",
   "execution_count": 30,
   "metadata": {
    "scrolled": true
   },
   "outputs": [
    {
     "data": {
      "text/plain": [
       "'pyt'"
      ]
     },
     "execution_count": 30,
     "metadata": {},
     "output_type": "execute_result"
    }
   ],
   "source": [
    "#python is fun\n",
    "a[:3] #Gives us evrything from position 0 to 3. In python position lies between letters.\n",
    "#So for a string 'python', the positions can be denoted as 0p1y2t3h4o5n67i8s910f11u12n13.Hence the indexing starts before the first letter as 0.\n",
    "#The space counts for 2 pointers. Hence we see two number between 'n' and 'i' and also 's' and 'f'.\n",
    "#Hence for slicing, it returns everything till position pointer. For indexing, it returns the letter after the position."
   ]
  },
  {
   "cell_type": "code",
   "execution_count": 31,
   "metadata": {
    "scrolled": false
   },
   "outputs": [
    {
     "data": {
      "text/plain": [
       "'pto sfn'"
      ]
     },
     "execution_count": 31,
     "metadata": {},
     "output_type": "execute_result"
    }
   ],
   "source": [
    "a[::2] #From pointer 0 till end by a skip count of 2."
   ]
  },
  {
   "cell_type": "code",
   "execution_count": 33,
   "metadata": {},
   "outputs": [
    {
     "data": {
      "text/plain": [
       "'tns'"
      ]
     },
     "execution_count": 33,
     "metadata": {},
     "output_type": "execute_result"
    }
   ],
   "source": [
    "a[2:10:3] #From pointer 2 till 10, returns everything with a skip of 3."
   ]
  },
  {
   "cell_type": "code",
   "execution_count": 32,
   "metadata": {
    "scrolled": false
   },
   "outputs": [
    {
     "data": {
      "text/plain": [
       "'nuf si nohtyp'"
      ]
     },
     "execution_count": 32,
     "metadata": {},
     "output_type": "execute_result"
    }
   ],
   "source": [
    "a[::-1]  #Reverse the string."
   ]
  },
  {
   "cell_type": "code",
   "execution_count": 7,
   "metadata": {},
   "outputs": [
    {
     "data": {
      "text/plain": [
       "6"
      ]
     },
     "execution_count": 7,
     "metadata": {},
     "output_type": "execute_result"
    }
   ],
   "source": [
    "my_string='Hello fellas, nice meeting you!'\n",
    "my_string.index('f')  #The 'index' function returns the pointer location(i.e. index) for letter 'f' in object 'my_string'."
   ]
  },
  {
   "cell_type": "code",
   "execution_count": 4,
   "metadata": {},
   "outputs": [
    {
     "ename": "ValueError",
     "evalue": "substring not found",
     "output_type": "error",
     "traceback": [
      "\u001b[1;31m---------------------------------------------------------------------------\u001b[0m",
      "\u001b[1;31mValueError\u001b[0m                                Traceback (most recent call last)",
      "\u001b[1;32m<ipython-input-4-f9b34aa958bf>\u001b[0m in \u001b[0;36m<module>\u001b[1;34m\u001b[0m\n\u001b[1;32m----> 1\u001b[1;33m \u001b[0mmy_string\u001b[0m\u001b[1;33m.\u001b[0m\u001b[0mindex\u001b[0m\u001b[1;33m(\u001b[0m\u001b[1;34m'j'\u001b[0m\u001b[1;33m)\u001b[0m\u001b[1;33m\u001b[0m\u001b[1;33m\u001b[0m\u001b[0m\n\u001b[0m",
      "\u001b[1;31mValueError\u001b[0m: substring not found"
     ]
    }
   ],
   "source": [
    "my_string.index('j') #If the string isn't found, it gives a value error."
   ]
  },
  {
   "cell_type": "code",
   "execution_count": 9,
   "metadata": {},
   "outputs": [
    {
     "name": "stdout",
     "output_type": "stream",
     "text": [
      "String not found\n"
     ]
    }
   ],
   "source": [
    "#We can use 'try-except' block of code to print a desired output instead of default error output.\n",
    "my_string='Hello fellas, nice meeting you!'\n",
    "try:\n",
    "    my_string.index('j')\n",
    "except ValueError:\n",
    "    print('String not found')"
   ]
  },
  {
   "cell_type": "code",
   "execution_count": 38,
   "metadata": {},
   "outputs": [
    {
     "name": "stdout",
     "output_type": "stream",
     "text": [
      "[2, 7, 31, 79] [2, 7, 31, 79, 100]\n"
     ]
    }
   ],
   "source": [
    "a1=[2,7,31,79]\n",
    "b2=a1 #Here object 'b2' is a deep copy of object 'a'.\n",
    "b1=a1.copy()  #Here object 'b1' is a shallow copy of object 'a'.\n",
    "a1.append(100)  #We made a change to original list 'a1'. \n",
    "print(b1,b2)  #This change reflects in 'b2' as it is a deep copy but not in 'b1' which is a shallow copy.\n",
    "#Hence change made to original copy also makes changes in deep copy. Hence creating a copy using 'copy' function is recommended. "
   ]
  },
  {
   "cell_type": "code",
   "execution_count": 40,
   "metadata": {
    "scrolled": true
   },
   "outputs": [
    {
     "data": {
      "text/plain": [
       "'Jython'"
      ]
     },
     "execution_count": 40,
     "metadata": {},
     "output_type": "execute_result"
    }
   ],
   "source": [
    "'J'+a[1:] #Another string concatenation"
   ]
  },
  {
   "cell_type": "code",
   "execution_count": 4,
   "metadata": {},
   "outputs": [
    {
     "data": {
      "text/plain": [
       "5.666666666666667"
      ]
     },
     "execution_count": 4,
     "metadata": {},
     "output_type": "execute_result"
    }
   ],
   "source": [
    "17/3"
   ]
  },
  {
   "cell_type": "code",
   "execution_count": 5,
   "metadata": {},
   "outputs": [
    {
     "data": {
      "text/plain": [
       "5"
      ]
     },
     "execution_count": 5,
     "metadata": {},
     "output_type": "execute_result"
    }
   ],
   "source": [
    "17//3 #Gives quotient of our division discarding the fractional part"
   ]
  },
  {
   "cell_type": "code",
   "execution_count": 2,
   "metadata": {},
   "outputs": [
    {
     "name": "stdout",
     "output_type": "stream",
     "text": [
      "(5, 2) <class 'tuple'>\n"
     ]
    }
   ],
   "source": [
    "result=divmod(17,3)  #Returns the quotient and remainder in a tuple format.\n",
    "print(result,type(result))"
   ]
  },
  {
   "cell_type": "code",
   "execution_count": 6,
   "metadata": {},
   "outputs": [
    {
     "data": {
      "text/plain": [
       "2"
      ]
     },
     "execution_count": 6,
     "metadata": {},
     "output_type": "execute_result"
    }
   ],
   "source": [
    "17%3 #Gives remainder"
   ]
  },
  {
   "cell_type": "code",
   "execution_count": 9,
   "metadata": {
    "scrolled": true
   },
   "outputs": [
    {
     "data": {
      "text/plain": [
       "32"
      ]
     },
     "execution_count": 9,
     "metadata": {},
     "output_type": "execute_result"
    }
   ],
   "source": [
    "2**5 #gives the power of a number"
   ]
  },
  {
   "cell_type": "code",
   "execution_count": 22,
   "metadata": {},
   "outputs": [
    {
     "data": {
      "text/plain": [
       "150000"
      ]
     },
     "execution_count": 22,
     "metadata": {},
     "output_type": "execute_result"
    }
   ],
   "source": [
    "number=1_50_000  #We can include underscore while using a number in Python to make it aesthetically nice. \n",
    "number"
   ]
  },
  {
   "cell_type": "code",
   "execution_count": 4,
   "metadata": {},
   "outputs": [
    {
     "name": "stdout",
     "output_type": "stream",
     "text": [
      "The sum is 13,350,000.\n"
     ]
    }
   ],
   "source": [
    "n1 = 1_10_00_000\n",
    "n2 = 23_50_000\n",
    "total = n1+n2\n",
    "print(f'The sum is {total:,}.')"
   ]
  },
  {
   "cell_type": "code",
   "execution_count": 2,
   "metadata": {},
   "outputs": [
    {
     "name": "stdout",
     "output_type": "stream",
     "text": [
      "73\n"
     ]
    }
   ],
   "source": [
    "with open('C:/Users/win/footy.txt','r') as f:\n",
    "    file=f.read()\n",
    "count = len(file)\n",
    "print(count)\n",
    "#The 'open' function is used to read a.txt file."
   ]
  },
  {
   "cell_type": "code",
   "execution_count": 3,
   "metadata": {},
   "outputs": [
    {
     "name": "stdout",
     "output_type": "stream",
     "text": [
      "140733154930528 140733154928672\n"
     ]
    }
   ],
   "source": [
    "#When we create an object in Python, it is allotted a number which uniquely identifies it. This number is nothing but the memory address of the value stored in the object. No two objects will have same identifier.\n",
    "j=67;k=9\n",
    "print(id(j),id(k))  #The function 'id' is used to get the memory address of values stored in object 'j' and 'k'."
   ]
  },
  {
   "cell_type": "code",
   "execution_count": 13,
   "metadata": {},
   "outputs": [
    {
     "data": {
      "text/plain": [
       "15.629999999999999"
      ]
     },
     "execution_count": 13,
     "metadata": {},
     "output_type": "execute_result"
    }
   ],
   "source": [
    "a=13.67\n",
    "b=34.9;c=5.6\n",
    "a+c\n",
    "d=b-_ #An underscore saves the last result automatically\n",
    "d"
   ]
  },
  {
   "cell_type": "code",
   "execution_count": 14,
   "metadata": {
    "scrolled": false
   },
   "outputs": [
    {
     "data": {
      "text/plain": [
       "15.63"
      ]
     },
     "execution_count": 14,
     "metadata": {},
     "output_type": "execute_result"
    }
   ],
   "source": [
    "round(_,2) #Rounds off the last saved result to 2 decimal places"
   ]
  },
  {
   "cell_type": "code",
   "execution_count": 2,
   "metadata": {},
   "outputs": [
    {
     "data": {
      "text/plain": [
       "True"
      ]
     },
     "execution_count": 2,
     "metadata": {},
     "output_type": "execute_result"
    }
   ],
   "source": [
    "x=35.65;y=\"Emma\"   #Here we use 'isinstance()' function to check whether an object is int,float,str.\n",
    "isinstance(y,(float,int))  #Checks whether 'y' is a float or integer. Returns 'False'.\n",
    "isinstance(y,str)          #Checks whether 'y' is a string. Returns 'True'.\n",
    "isinstance(x,(str,float))"
   ]
  },
  {
   "cell_type": "code",
   "execution_count": 1,
   "metadata": {},
   "outputs": [
    {
     "data": {
      "text/plain": [
       "3.872983346207417"
      ]
     },
     "execution_count": 1,
     "metadata": {},
     "output_type": "execute_result"
    }
   ],
   "source": [
    "import math as mt #Import 'math' library to perform arithmetic calculations on a number.\n",
    "mt.sqrt(15)"
   ]
  },
  {
   "cell_type": "code",
   "execution_count": 4,
   "metadata": {},
   "outputs": [
    {
     "data": {
      "text/plain": [
       "2.449489742783178"
      ]
     },
     "execution_count": 4,
     "metadata": {},
     "output_type": "execute_result"
    }
   ],
   "source": [
    "from math import sqrt  #Instead of importing whole 'math' library, we instead imported only 'sqrt' function.\n",
    "sqrt(6)"
   ]
  },
  {
   "cell_type": "code",
   "execution_count": 7,
   "metadata": {},
   "outputs": [
    {
     "data": {
      "text/plain": [
       "(5.830951894845301, 16.0)"
      ]
     },
     "execution_count": 7,
     "metadata": {},
     "output_type": "execute_result"
    }
   ],
   "source": [
    "from math import*  #Import all functions from the 'math' library.\n",
    "sqrt(34),pow(2,4)"
   ]
  },
  {
   "cell_type": "code",
   "execution_count": null,
   "metadata": {},
   "outputs": [],
   "source": [
    "#We can make a list in Python by enclosing elements in a '[]' or using 'list()' command. \n",
    "#Lists are heterogenous(i.e. can contain elements of different types numeric,string,float)\n",
    "#Lists are ordered(i.e. they have an index value for each element) and mutable i.e. editable.\n",
    "#Tuples are ordered and immutable i.e. its elements can't be changed/edited.\n",
    "#We can make a tuple in Python by simply writing elements separated by commas, by enclosing them in () or using 'tuple()'. "
   ]
  },
  {
   "cell_type": "code",
   "execution_count": 2,
   "metadata": {},
   "outputs": [
    {
     "data": {
      "text/plain": [
       "True"
      ]
     },
     "execution_count": 2,
     "metadata": {},
     "output_type": "execute_result"
    }
   ],
   "source": [
    "x = (1,3,7)\n",
    "y = (2,1,4)\n",
    "x<y #We'll compare first values of x and y, then 2nd of both and then 3rd value of both.\n",
    "#If any of those comparisons is True, it returns True, else it returns False."
   ]
  },
  {
   "cell_type": "code",
   "execution_count": 3,
   "metadata": {},
   "outputs": [
    {
     "data": {
      "text/plain": [
       "array([ True, False, False])"
      ]
     },
     "execution_count": 3,
     "metadata": {},
     "output_type": "execute_result"
    }
   ],
   "source": [
    "import numpy as np\n",
    "np.array(x)<np.array(y)\n",
    "#For element-wise comparison with output for each comparison, we use numpy to first convert the tuple into array.\n",
    "#We can then do comparison element-wise and get output for each comparison."
   ]
  },
  {
   "cell_type": "code",
   "execution_count": 1,
   "metadata": {},
   "outputs": [
    {
     "name": "stdout",
     "output_type": "stream",
     "text": [
      "My first bike was Discover.\n"
     ]
    }
   ],
   "source": [
    "bike=['discover','pulsar','avenger','apache']\n",
    "print(f'My first bike was {bike[0].title()}.')"
   ]
  },
  {
   "cell_type": "code",
   "execution_count": 19,
   "metadata": {},
   "outputs": [
    {
     "name": "stdout",
     "output_type": "stream",
     "text": [
      "3 4 5\n"
     ]
    }
   ],
   "source": [
    "a,b,c=3,4,5  #This is called sequence unpacking where we assign a sequence of values to corresponding variable.\n",
    "print(a,b,c)"
   ]
  },
  {
   "cell_type": "code",
   "execution_count": 2,
   "metadata": {},
   "outputs": [
    {
     "name": "stdout",
     "output_type": "stream",
     "text": [
      "3 4 [5, 6, 7]\n"
     ]
    }
   ],
   "source": [
    "p,q,*r=3,4,5,6,7 #Each of 'p' and 'q' get assigned 1 value correspondingly. \n",
    "print(p,q,r) #A '*' before 'r' means assign everything else in the sequence to it as a list."
   ]
  },
  {
   "cell_type": "code",
   "execution_count": 1,
   "metadata": {},
   "outputs": [
    {
     "data": {
      "text/plain": [
       "[10, 14, 18, 22, 26, 30, 34, 38, 42, 46]"
      ]
     },
     "execution_count": 1,
     "metadata": {},
     "output_type": "execute_result"
    }
   ],
   "source": [
    "list(range(10,50,4))"
   ]
  },
  {
   "cell_type": "code",
   "execution_count": 1,
   "metadata": {
    "scrolled": true
   },
   "outputs": [
    {
     "name": "stdout",
     "output_type": "stream",
     "text": [
      "(23, 4, 576, 'abc') <class 'tuple'>\n"
     ]
    }
   ],
   "source": [
    "t=23,4,576,'abc'  #This is a tuple. An object separated by commas and can have multiple types of values. We can make a tuple simply by separating values by commas. We can also include a parentheses(i.e.()) to enclose the values.\n",
    "print(t,type(t))"
   ]
  },
  {
   "cell_type": "code",
   "execution_count": 44,
   "metadata": {},
   "outputs": [
    {
     "data": {
      "text/plain": [
       "tuple"
      ]
     },
     "execution_count": 44,
     "metadata": {},
     "output_type": "execute_result"
    }
   ],
   "source": [
    "t1=3,  #A tuple with a single element must be followed by a comma. Else it gets recognised as a number.\n",
    "type(t1)"
   ]
  },
  {
   "cell_type": "code",
   "execution_count": 2,
   "metadata": {
    "scrolled": true
   },
   "outputs": [
    {
     "name": "stdout",
     "output_type": "stream",
     "text": [
      "23\n",
      "4\n",
      "576\n",
      "abc\n"
     ]
    }
   ],
   "source": [
    "for i in t:  #Here we iterate a tuple and simply print all its elements.\n",
    "    print(i)"
   ]
  },
  {
   "cell_type": "code",
   "execution_count": 3,
   "metadata": {
    "scrolled": true
   },
   "outputs": [
    {
     "name": "stdout",
     "output_type": "stream",
     "text": [
      "23\n",
      "4\n"
     ]
    }
   ],
   "source": [
    "for i in range(2):  #Here we specify a range of iteration and print only elements which lie in the range.\n",
    "    print(t[i])"
   ]
  },
  {
   "cell_type": "code",
   "execution_count": 6,
   "metadata": {},
   "outputs": [
    {
     "name": "stdout",
     "output_type": "stream",
     "text": [
      "(23, 4, 57, 'abc') <class 'tuple'>\n"
     ]
    }
   ],
   "source": [
    "#If we want to edit/change objects in a tuple, it will throw an error as a tuple is immutable.\n",
    "#A simple workaround is to convert a tuple into a list, specify the changes and then convert it back to tuple.\n",
    "sample=list(t)\n",
    "sample[2]=57  #Edit the value at position 2 giving it a new value 57.\n",
    "new_t=tuple(sample)\n",
    "print(new_t,type(new_t))"
   ]
  },
  {
   "cell_type": "code",
   "execution_count": 7,
   "metadata": {
    "scrolled": true
   },
   "outputs": [
    {
     "data": {
      "text/plain": [
       "(23, 4, 576, 'abc', 23, 4, 57, 'abc')"
      ]
     },
     "execution_count": 7,
     "metadata": {},
     "output_type": "execute_result"
    }
   ],
   "source": [
    "t+new_t  #Concatenate tuples using '+' operator."
   ]
  },
  {
   "cell_type": "code",
   "execution_count": 8,
   "metadata": {},
   "outputs": [
    {
     "data": {
      "text/plain": [
       "(23, 4, 576, 'abc', 23, 4, 57, 'abc')"
      ]
     },
     "execution_count": 8,
     "metadata": {},
     "output_type": "execute_result"
    }
   ],
   "source": [
    "import itertools as it\n",
    "t1=tuple(i for i in it.chain(t,new_t))\n",
    "t1  #We can also concatenate using 'chain' function from 'itertools' library. This is time efficient from big data perspective."
   ]
  },
  {
   "cell_type": "code",
   "execution_count": 5,
   "metadata": {
    "scrolled": true
   },
   "outputs": [
    {
     "name": "stdout",
     "output_type": "stream",
     "text": [
      "((2, 21, 7, 8), 'emma', [3, 1, 7]) <class 'tuple'>\n"
     ]
    }
   ],
   "source": [
    "t2=(2,21,7,8),'emma',[3,1,7]  #Example of nested tuple i.e. tuple within a tuple.\n",
    "print(t2,type(t2))"
   ]
  },
  {
   "cell_type": "code",
   "execution_count": 11,
   "metadata": {
    "scrolled": true
   },
   "outputs": [
    {
     "name": "stdout",
     "output_type": "stream",
     "text": [
      "Object (2, 21, 7, 8) :\n",
      "2,\n",
      "\n",
      "21,\n",
      "\n",
      "7,\n",
      "\n",
      "8,\n",
      "\n",
      "Object emma :\n",
      "e,\n",
      "\n",
      "m,\n",
      "\n",
      "m,\n",
      "\n",
      "a,\n",
      "\n",
      "Object [3, 1, 7] :\n",
      "3,\n",
      "\n",
      "1,\n",
      "\n",
      "7,\n",
      "\n"
     ]
    }
   ],
   "source": [
    "for i in t2:   #Here we iterate a nested tuple.\n",
    "    print('Object',i,':')\n",
    "    for j in i:\n",
    "        print(j,end=',')  #Supplying 'end' option as ',' prints elements horizontally separated by comma. Else by default it prints vertically 1 element in each line.\n",
    "        print('\\n')  "
   ]
  },
  {
   "cell_type": "code",
   "execution_count": 6,
   "metadata": {},
   "outputs": [
    {
     "name": "stdout",
     "output_type": "stream",
     "text": [
      "Object 0\n",
      "2,21,7,8,\n",
      "\n",
      "Object 1\n",
      "e,m,m,a,\n",
      "\n",
      "Object 2\n",
      "3,1,7,\n",
      "\n"
     ]
    }
   ],
   "source": [
    "for i in t2 :\n",
    "    print(f\"Object {t2.index(i)}\")\n",
    "    for j in i :\n",
    "        print(j, end = ',')\n",
    "    print('\\n')"
   ]
  },
  {
   "cell_type": "code",
   "execution_count": 36,
   "metadata": {
    "scrolled": false
   },
   "outputs": [
    {
     "data": {
      "text/plain": [
       "(23, 4)"
      ]
     },
     "execution_count": 36,
     "metadata": {},
     "output_type": "execute_result"
    }
   ],
   "source": [
    "x,y,z,e=t #This is called sequence unpacking, where we assign values in our tuple to 4 corresponding variables on LHS.\n",
    "x,y"
   ]
  },
  {
   "cell_type": "code",
   "execution_count": null,
   "metadata": {},
   "outputs": [],
   "source": [
    "#As tuples are immutable, they are write protected. They can be used as read only or fixed data that doesn't change.\n",
    "#Also they can be used as keys for dictionaries while lists can't be used for this purpose."
   ]
  },
  {
   "cell_type": "code",
   "execution_count": null,
   "metadata": {},
   "outputs": [],
   "source": [
    "#Flow control statements are divided into 3 categories:\n",
    "# Conditional Statements- We execute a block of code as per the condition being True/False. Examples of conditional statements are if,if-else,if-elif-else,nested if-else.\n",
    "# Iterative Statements- We execute a block of code as long as a condition hold True. Example of this statement are for loop, while loop.\n",
    "# Transfer Statements- These are used to alter the way of execution of a program in a certain manner. Example of these statements are break,continue,pass statements.\n",
    "\n",
    "#The 'break' statement is used inside the loop to exit out of the loop. It is used when we want to terminate the loop as soon as a condition is met instead of performing the remaining iterations.\n",
    "#The 'continue' statement is used inside the loop to skip the current iteration and continue to the next one."
   ]
  },
  {
   "cell_type": "code",
   "execution_count": 18,
   "metadata": {},
   "outputs": [
    {
     "name": "stdout",
     "output_type": "stream",
     "text": [
      "Stay grounded and keep going.\n",
      "Keep calm and work hard.\n",
      "Take paracetamol, go to sleep and start working again.\n"
     ]
    }
   ],
   "source": [
    "Life=\"Nothing is constant.Be it success, failure or pain. Only constant is life itself.\"\n",
    "if 'success' in Life:  #This is a chain of 'if' conditions. They are all executed irrespective of whether a previous one is True or not. \n",
    "    print(f\"Stay grounded and keep going.\")\n",
    "if 'failure' in Life:\n",
    "    print(f\"Keep calm and work hard.\")\n",
    "if 'pain' in Life:\n",
    "    print(f\"Take paracetamol, go to sleep and start working again.\")"
   ]
  },
  {
   "cell_type": "code",
   "execution_count": 10,
   "metadata": {},
   "outputs": [
    {
     "name": "stdout",
     "output_type": "stream",
     "text": [
      "0 Auba\n",
      "1 Laca\n",
      "2 Tomi\n",
      "3 Ben\n"
     ]
    }
   ],
   "source": [
    "list = ['Auba','Laca','Tomi','Ben']\n",
    "for index,names in enumerate(list):\n",
    "    print(index,names)\n",
    "#Use of 'enumerate' function to loop over items in a list along with their indices."
   ]
  },
  {
   "cell_type": "code",
   "execution_count": 17,
   "metadata": {},
   "outputs": [
    {
     "name": "stdout",
     "output_type": "stream",
     "text": [
      "Peter Parker is actually Spiderman.\n",
      "Clark Kent is actually Superman.\n",
      "Wade Wilson is actually Deadpool.\n",
      "Bruce Wayne is actually Batman.\n"
     ]
    }
   ],
   "source": [
    "names = ['Peter Parker','Clark Kent','Wade Wilson','Bruce Wayne']\n",
    "heroes = ['Spiderman','Superman','Deadpool','Batman']\n",
    "for name,hero in zip(names,heroes):\n",
    "    print(f'{name} is actually {hero}.')"
   ]
  },
  {
   "cell_type": "code",
   "execution_count": 1,
   "metadata": {},
   "outputs": [
    {
     "name": "stdout",
     "output_type": "stream",
     "text": [
      "Not less.\n",
      "Check complete.\n"
     ]
    }
   ],
   "source": [
    "a= 175\n",
    "if a<100:\n",
    "    print('Less than 100.')\n",
    "elif not(a<100):\n",
    "    print('Not less.')\n",
    "print('Check complete.')"
   ]
  },
  {
   "cell_type": "code",
   "execution_count": 3,
   "metadata": {
    "scrolled": true
   },
   "outputs": [
    {
     "name": "stdout",
     "output_type": "stream",
     "text": [
      "0\n",
      "1\n",
      "2\n",
      "3\n",
      "4\n",
      "5\n",
      "6\n",
      "we stop here !!\n"
     ]
    }
   ],
   "source": [
    "for i in range(10):\n",
    "    if i>6:\n",
    "        print('we stop here !!')\n",
    "        break\n",
    "    else:\n",
    "        print(i)"
   ]
  },
  {
   "cell_type": "code",
   "execution_count": 4,
   "metadata": {},
   "outputs": [
    {
     "name": "stdout",
     "output_type": "stream",
     "text": [
      "2\n",
      "10\n"
     ]
    }
   ],
   "source": [
    "for i in range(1,30,4):\n",
    "    print(i*2)\n",
    "    if i%5 == 0:\n",
    "        break"
   ]
  },
  {
   "cell_type": "code",
   "execution_count": 4,
   "metadata": {},
   "outputs": [
    {
     "name": "stdout",
     "output_type": "stream",
     "text": [
      "Both\n"
     ]
    }
   ],
   "source": [
    "x1=9;y1=7   #Illustrates basic use of 'and' logical operator.\n",
    "if x1>6 and y1>6:\n",
    "    print('Both')\n",
    "else:\n",
    "    print('Not Both')"
   ]
  },
  {
   "cell_type": "code",
   "execution_count": 5,
   "metadata": {},
   "outputs": [
    {
     "name": "stdout",
     "output_type": "stream",
     "text": [
      "Atleast one\n"
     ]
    }
   ],
   "source": [
    "if x1<8 or y1<8:   #Illustrates use of 'or' logical operator.\n",
    "    print(\"Atleast one\")\n",
    "else:\n",
    "    print('False')"
   ]
  },
  {
   "cell_type": "code",
   "execution_count": 5,
   "metadata": {},
   "outputs": [
    {
     "name": "stdout",
     "output_type": "stream",
     "text": [
      "Editor\n"
     ]
    }
   ],
   "source": [
    "def user_check(choice):\n",
    "    \"\"\" This is a function which checks and returns\n",
    "        the type of person using the function.\"\"\"\n",
    "    if choice == 1:\n",
    "        print(\"Admin\")    #Basic use of 'if-elif-else' conditional flow control.\n",
    "    elif choice == 2:\n",
    "        print(\"Editor\")\n",
    "    elif choice == 3:\n",
    "        print(\"Guest\")\n",
    "    else:\n",
    "        print(\"Wrong entry\")\n",
    "user_check(2)        "
   ]
  },
  {
   "cell_type": "code",
   "execution_count": 6,
   "metadata": {},
   "outputs": [
    {
     "name": "stdout",
     "output_type": "stream",
     "text": [
      "Hi Raghav Singh! Register yourself on cowin website and schedule your vaccine.\n",
      "Thanks for participating Raghav Singh!\n"
     ]
    }
   ],
   "source": [
    "name1=input('Enter Name:')\n",
    "Age=float(input('Enter Age:'))  #Since the result of 'input' function is a string, we convert it to float and then store it under object 'Age'.\n",
    "if Age<18:\n",
    "    print(f\"Hi {name1}! You're not eligible for vaccine yet.\")\n",
    "elif Age>=18 and Age<45:\n",
    "    print(f\"Hi {name1}! Register yourself on cowin website and schedule your vaccine.\")\n",
    "else:\n",
    "    print(f\"Hi {name1}! If you're still not vaccinated, hurry up.\")\n",
    "print(f\"Thanks for participating {name1}!\")"
   ]
  },
  {
   "cell_type": "code",
   "execution_count": 3,
   "metadata": {},
   "outputs": [
    {
     "name": "stdout",
     "output_type": "stream",
     "text": [
      "1\n",
      "2\n",
      "8\n",
      "9\n",
      "10\n"
     ]
    }
   ],
   "source": [
    "for i in range(1,11):\n",
    "    if i>2 and i<8:\n",
    "        continue\n",
    "    print(i)    "
   ]
  },
  {
   "cell_type": "code",
   "execution_count": 11,
   "metadata": {},
   "outputs": [
    {
     "name": "stdout",
     "output_type": "stream",
     "text": [
      "Adding cheese\n",
      "Sorry,we can't add pepperoni as of now.\n",
      "Adding mushroom\n",
      "Adding babycorn\n",
      "\n",
      "Your pizza is ready.\n"
     ]
    }
   ],
   "source": [
    "ingredients=['cheese','pepperoni','mushroom','babycorn']\n",
    "for i in ingredients:   #This 'for' loop iterates over each value of list 'ingredients'. But when it takes value 'pepperoni' it executes an if condition.\n",
    "    if i=='pepperoni':\n",
    "        print(f\"Sorry,we can't add {i} as of now.\")\n",
    "    else:               #The 'else' statement ensures all other ingredients apart from 'pepperoni' do get added.\n",
    "        print(f\"Adding {i}\")\n",
    "print(f\"\\nYour pizza is ready.\")"
   ]
  },
  {
   "cell_type": "code",
   "execution_count": 1,
   "metadata": {},
   "outputs": [
    {
     "name": "stdout",
     "output_type": "stream",
     "text": [
      "No toppings added.\n"
     ]
    }
   ],
   "source": [
    "toppings=[]\n",
    "if toppings:   #When the name of an object 'toppings' is given with an 'if' statement, Python checks if the object has at least 1 element. If 'True',it then runs the 'for' loop iteration over each value of the object.\n",
    "    for i in toppings:\n",
    "        print(f\"Adding {i}.\")\n",
    "    print(\"\\n Your pizza is ready\")\n",
    "else:\n",
    "    print(\"No toppings added.\")"
   ]
  },
  {
   "cell_type": "code",
   "execution_count": 3,
   "metadata": {},
   "outputs": [
    {
     "name": "stdout",
     "output_type": "stream",
     "text": [
      "Adding mushroom topping.\n",
      "Sorry, we don't have french fries right now.\n",
      "Adding olives topping.\n",
      "\n",
      "Your pizza is ready !\n"
     ]
    }
   ],
   "source": [
    "available_toppings=['pepperoni','mushroom','olives','extra cheese','capsicum']\n",
    "requested_toppings=['mushroom','french fries','olives']\n",
    "for i in requested_toppings:\n",
    "    if i not in available_toppings:\n",
    "        print(f\"Sorry, we don't have {i} right now.\")\n",
    "    else:\n",
    "        print(f\"Adding {i} topping.\")\n",
    "print('\\nYour pizza is ready !')"
   ]
  },
  {
   "cell_type": "code",
   "execution_count": 7,
   "metadata": {},
   "outputs": [
    {
     "name": "stdout",
     "output_type": "stream",
     "text": [
      "true\n"
     ]
    }
   ],
   "source": [
    "c=x1>10 and y1>10  #Create a object having true/false value for the logical condition.\n",
    "if not(c):        #The 'not' operator checks for a condition to be false. The object 'c' has value 'False',hence prints 'true'.\n",
    "    print('true')\n",
    "else:\n",
    "    print('false')"
   ]
  },
  {
   "cell_type": "code",
   "execution_count": 8,
   "metadata": {},
   "outputs": [
    {
     "name": "stdout",
     "output_type": "stream",
     "text": [
      "It's there.\n"
     ]
    }
   ],
   "source": [
    "c1=[12,3,67,31,91,51,47]\n",
    "number=91\n",
    "if number in c1:   #The keyword 'in' is used to check whether a value exists inside an object.\n",
    "    print(\"It's there.\" )\n",
    "else:\n",
    "    print('Not')"
   ]
  },
  {
   "cell_type": "code",
   "execution_count": 9,
   "metadata": {
    "scrolled": true
   },
   "outputs": [
    {
     "name": "stdout",
     "output_type": "stream",
     "text": [
      "Not there\n"
     ]
    }
   ],
   "source": [
    "if 5 not in c1:    #The keyword 'not in' is used to check whether a value doesn't exist inside an object.\n",
    "    print('Not there')\n",
    "else:\n",
    "    print('There.')"
   ]
  },
  {
   "cell_type": "code",
   "execution_count": 7,
   "metadata": {},
   "outputs": [
    {
     "data": {
      "text/plain": [
       "[2, 7, 90, 1, 7, 4, 6]"
      ]
     },
     "execution_count": 7,
     "metadata": {},
     "output_type": "execute_result"
    }
   ],
   "source": [
    "a=[2,7,1,9,4,6]  \n",
    "a[2:4]=90,1,7   #Remove the values from position 2 till 4 i.e. remove 1 and 9. Then replace them with given values.\n",
    "a"
   ]
  },
  {
   "cell_type": "code",
   "execution_count": 8,
   "metadata": {},
   "outputs": [
    {
     "name": "stdout",
     "output_type": "stream",
     "text": [
      "False True\n"
     ]
    }
   ],
   "source": [
    "A=[7,2];B=[4,1,3]  #We check whether all elements of a list are present or not present in another list.\n",
    "print(A in a,B not in a)"
   ]
  },
  {
   "cell_type": "code",
   "execution_count": 21,
   "metadata": {
    "scrolled": true
   },
   "outputs": [
    {
     "data": {
      "text/plain": [
       "5"
      ]
     },
     "execution_count": 21,
     "metadata": {},
     "output_type": "execute_result"
    }
   ],
   "source": [
    "ab=[2,3,2,5,7,4] #Just like strings,this is a list of numeric values.We get our output value which is at position 3 in list.\n",
    "ab[3]"
   ]
  },
  {
   "cell_type": "code",
   "execution_count": 22,
   "metadata": {
    "scrolled": true
   },
   "outputs": [
    {
     "data": {
      "text/plain": [
       "[5, 7, 4]"
      ]
     },
     "execution_count": 22,
     "metadata": {},
     "output_type": "execute_result"
    }
   ],
   "source": [
    "ab[3:]"
   ]
  },
  {
   "cell_type": "code",
   "execution_count": 23,
   "metadata": {},
   "outputs": [
    {
     "data": {
      "text/plain": [
       "[2, 3, 2, 5, 7, 4, 23, 41, 32, 45]"
      ]
     },
     "execution_count": 23,
     "metadata": {},
     "output_type": "execute_result"
    }
   ],
   "source": [
    "cd=[23,41,32,45] #Just like string concatenation,we can concatenate lists.\n",
    "ab+cd"
   ]
  },
  {
   "cell_type": "code",
   "execution_count": 24,
   "metadata": {},
   "outputs": [
    {
     "data": {
      "text/plain": [
       "[2, 3, 2, 7, 7, 4]"
      ]
     },
     "execution_count": 24,
     "metadata": {},
     "output_type": "execute_result"
    }
   ],
   "source": [
    "ab[3]=7  #Replace value at position 3 with value 7.\n",
    "ab"
   ]
  },
  {
   "cell_type": "code",
   "execution_count": 25,
   "metadata": {
    "scrolled": true
   },
   "outputs": [
    {
     "data": {
      "text/plain": [
       "[2, 3, 2, 7, 7, 4]"
      ]
     },
     "execution_count": 25,
     "metadata": {},
     "output_type": "execute_result"
    }
   ],
   "source": [
    "a1=ab[:] #Produces a soft copy of list 'ab'. Hence works exactly same as 'ab.copy()'. It's basically a slice where we've removed the first and second indexes.\n",
    "a1"
   ]
  },
  {
   "cell_type": "code",
   "execution_count": 26,
   "metadata": {
    "scrolled": false
   },
   "outputs": [
    {
     "data": {
      "text/plain": [
       "[2, 3, 2, 7, 7, 4, 16]"
      ]
     },
     "execution_count": 26,
     "metadata": {},
     "output_type": "execute_result"
    }
   ],
   "source": [
    "ab.append(2**4) #Append 2^4 in the list 'ab'\n",
    "ab"
   ]
  },
  {
   "cell_type": "code",
   "execution_count": 27,
   "metadata": {
    "scrolled": true
   },
   "outputs": [
    {
     "data": {
      "text/plain": [
       "[2, 3, 2, 7, 7, 4, 2, 45, 3]"
      ]
     },
     "execution_count": 27,
     "metadata": {},
     "output_type": "execute_result"
    }
   ],
   "source": [
    "a2=[2,45,3] \n",
    "a1.extend(a2)  #Append list 'a2' to list 'a1'. Works similarly to a1+a2.\n",
    "a1"
   ]
  },
  {
   "cell_type": "code",
   "execution_count": 13,
   "metadata": {},
   "outputs": [
    {
     "data": {
      "text/plain": [
       "[2, 4, 7, 9, 1, [0, 2, 0, 1]]"
      ]
     },
     "execution_count": 13,
     "metadata": {},
     "output_type": "execute_result"
    }
   ],
   "source": [
    "a=[2,4,7,9,1];b=[0,2,0,1]\n",
    "a.append(b)\n",
    "a  #As evident, 'append' simply attaches at the end the object as it is. So it appends a list inside a list."
   ]
  },
  {
   "cell_type": "code",
   "execution_count": 38,
   "metadata": {},
   "outputs": [
    {
     "name": "stdout",
     "output_type": "stream",
     "text": [
      "Following is the food I eat, although my favorite is cucumber.\n",
      "['carrot', 'onion', 'cucumber', 'potato']\n",
      "\n",
      "My friend though prefers the following:\n",
      "['carrot', 'onion', 'cucumber', 'potato', 'tomato', 'cheese']\n"
     ]
    }
   ],
   "source": [
    "food=['carrot','onion','cucumber','potato']\n",
    "food_new=food[:]\n",
    "food_new.extend(['tomato','cheese'])\n",
    "print(f'Following is the food I eat, although my favorite is {food[2]}.')\n",
    "print(food)\n",
    "print('\\nMy friend though prefers the following:')\n",
    "print(food_new)"
   ]
  },
  {
   "cell_type": "code",
   "execution_count": 14,
   "metadata": {},
   "outputs": [
    {
     "data": {
      "text/plain": [
       "[2, 4, 7, 9, 1, [0, 2, 0, 1], 0, 2, 0, 1]"
      ]
     },
     "execution_count": 14,
     "metadata": {},
     "output_type": "execute_result"
    }
   ],
   "source": [
    "a.extend(b)\n",
    "a  #The 'extend' function adds elements of list 'b' to list 'a'. Hence elements are a continuation of same list.\n",
    "#The 'extend' works similar to concatenate '+'. So 'a.extend(b)' is same as a+b."
   ]
  },
  {
   "cell_type": "code",
   "execution_count": 28,
   "metadata": {
    "scrolled": false
   },
   "outputs": [
    {
     "data": {
      "text/plain": [
       "[2, 3, 2, 45, 7, 7, 4, 16]"
      ]
     },
     "execution_count": 28,
     "metadata": {},
     "output_type": "execute_result"
    }
   ],
   "source": [
    "ab.insert(3,45) #Insert value 45 at position 3 of list 'ab'. Hence value 45 becomes the 4th value.\n",
    "ab"
   ]
  },
  {
   "cell_type": "code",
   "execution_count": 29,
   "metadata": {
    "scrolled": false
   },
   "outputs": [
    {
     "data": {
      "text/plain": [
       "[2, 3, 2, 45, 7, 4, 16]"
      ]
     },
     "execution_count": 29,
     "metadata": {},
     "output_type": "execute_result"
    }
   ],
   "source": [
    "ab.pop(4) #Deletes the value at 4th position in list 'ab'.\n",
    "ab"
   ]
  },
  {
   "cell_type": "code",
   "execution_count": 30,
   "metadata": {},
   "outputs": [
    {
     "data": {
      "text/plain": [
       "45"
      ]
     },
     "execution_count": 30,
     "metadata": {},
     "output_type": "execute_result"
    }
   ],
   "source": [
    "ab.pop(3)  #The 'pop' function returns the value it deletes, in this case 45.Hence to get the new list, we need to type 'ab'."
   ]
  },
  {
   "cell_type": "code",
   "execution_count": 1,
   "metadata": {},
   "outputs": [
    {
     "data": {
      "text/plain": [
       "\"We're here. It feels bad !\""
      ]
     },
     "execution_count": 1,
     "metadata": {},
     "output_type": "execute_result"
    }
   ],
   "source": [
    "s1=\"We're here. It feels good !\"\n",
    "s1.replace('good','bad')"
   ]
  },
  {
   "cell_type": "code",
   "execution_count": 16,
   "metadata": {},
   "outputs": [
    {
     "data": {
      "text/plain": [
       "\"I'm currently using a Honda Civic, but my last car was Ecosport.\""
      ]
     },
     "execution_count": 16,
     "metadata": {},
     "output_type": "execute_result"
    }
   ],
   "source": [
    "cars=['scorpio','safari','fortuner','ecosport']\n",
    "#By default when no value is specified as argument, the 'pop()' function deletes or pops out the last value in the list. \n",
    "f\"I'm currently using a Honda Civic, but my last car was {cars.pop().title()}.\""
   ]
  },
  {
   "cell_type": "code",
   "execution_count": 18,
   "metadata": {},
   "outputs": [
    {
     "data": {
      "text/plain": [
       "['scorpio', 'fortuner']"
      ]
     },
     "execution_count": 18,
     "metadata": {},
     "output_type": "execute_result"
    }
   ],
   "source": [
    "cars.remove('safari')  #The 'remove()' function deletes item from a list just like 'del()', but it takes a value as argument. \n",
    "cars   #The 'remove()' function only deletes the first occurance of a value from the list. If there are multiple occurances, we will need to run a loop."
   ]
  },
  {
   "cell_type": "code",
   "execution_count": 31,
   "metadata": {
    "scrolled": false
   },
   "outputs": [
    {
     "data": {
      "text/plain": [
       "[2, 3, 2, 7, 16]"
      ]
     },
     "execution_count": 31,
     "metadata": {},
     "output_type": "execute_result"
    }
   ],
   "source": [
    "del ab[4] #The 'del' function deletes value at 4th position.\n",
    "ab"
   ]
  },
  {
   "cell_type": "code",
   "execution_count": 32,
   "metadata": {},
   "outputs": [
    {
     "data": {
      "text/plain": [
       "[2, 3]"
      ]
     },
     "execution_count": 32,
     "metadata": {},
     "output_type": "execute_result"
    }
   ],
   "source": [
    "del ab[2:]  #Deletes all values from position 2(i.e. 3rd value) onwards.\n",
    "ab"
   ]
  },
  {
   "cell_type": "code",
   "execution_count": 33,
   "metadata": {},
   "outputs": [
    {
     "data": {
      "text/plain": [
       "[]"
      ]
     },
     "execution_count": 33,
     "metadata": {},
     "output_type": "execute_result"
    }
   ],
   "source": [
    "del ab[:]  #Delete the list.\n",
    "ab"
   ]
  },
  {
   "cell_type": "code",
   "execution_count": 26,
   "metadata": {},
   "outputs": [
    {
     "data": {
      "text/plain": [
       "[2, 1, 6, 7]"
      ]
     },
     "execution_count": 26,
     "metadata": {},
     "output_type": "execute_result"
    }
   ],
   "source": [
    "a2=[2,9,1,9,6,7]  #Delete value 9 wherever it occurs from list 'a2'.\n",
    "a2=[i for i in a2 if i!=9]\n",
    "a2"
   ]
  },
  {
   "cell_type": "code",
   "execution_count": 9,
   "metadata": {
    "scrolled": false
   },
   "outputs": [
    {
     "data": {
      "text/plain": [
       "3"
      ]
     },
     "execution_count": 9,
     "metadata": {},
     "output_type": "execute_result"
    }
   ],
   "source": [
    "a1=[2,5,3,3,5,3,7,1,9]  #Count how many times 3 appears in list 'a1'\n",
    "a1.count(3)"
   ]
  },
  {
   "cell_type": "code",
   "execution_count": 3,
   "metadata": {
    "scrolled": true
   },
   "outputs": [
    {
     "data": {
      "text/plain": [
       "9"
      ]
     },
     "execution_count": 3,
     "metadata": {},
     "output_type": "execute_result"
    }
   ],
   "source": [
    "len(a1) #Count no. of items in list 'a1'"
   ]
  },
  {
   "cell_type": "code",
   "execution_count": 15,
   "metadata": {
    "scrolled": true
   },
   "outputs": [
    {
     "name": "stdout",
     "output_type": "stream",
     "text": [
      "[2, 3, 3, 3, 4, 5, 7, 7, 9]\n"
     ]
    }
   ],
   "source": [
    "a1.sort()  #Sorts list 'a1' in ascending order by default. The 'sort' function performs the sorting and saves the changes in the same list.\n",
    "print(a1)   #Hence the original list 'a1' gets over written."
   ]
  },
  {
   "cell_type": "code",
   "execution_count": 17,
   "metadata": {
    "scrolled": true
   },
   "outputs": [
    {
     "name": "stdout",
     "output_type": "stream",
     "text": [
      "[9, 7, 7, 5, 4, 3, 3, 3, 2]\n"
     ]
    }
   ],
   "source": [
    "a1.sort(reverse=True)  #Sorts list 'a1' in descending order.\n",
    "print(a1)"
   ]
  },
  {
   "cell_type": "code",
   "execution_count": 18,
   "metadata": {
    "scrolled": true
   },
   "outputs": [
    {
     "data": {
      "text/plain": [
       "[9, 7, 7, 5, 4, 3, 3, 3, 2]"
      ]
     },
     "execution_count": 18,
     "metadata": {},
     "output_type": "execute_result"
    }
   ],
   "source": [
    "a1  #We see list 'a1' has changed to the sorted list. Some functions like 'sort' change the object instead of returning a value."
   ]
  },
  {
   "cell_type": "code",
   "execution_count": 10,
   "metadata": {
    "scrolled": false
   },
   "outputs": [
    {
     "name": "stdout",
     "output_type": "stream",
     "text": [
      "[1, 2, 3, 3, 3, 5, 5, 7, 9] [2, 5, 3, 3, 5, 3, 7, 1, 9]\n"
     ]
    }
   ],
   "source": [
    "print(sorted(a1), a1) #Function 'sorted' returns a sorted list rather than changing the original list. Hence list 'a1' remains the same."
   ]
  },
  {
   "cell_type": "code",
   "execution_count": 7,
   "metadata": {},
   "outputs": [
    {
     "name": "stdout",
     "output_type": "stream",
     "text": [
      "['ornage', 'mango', 'lemon', 'banana', 'apple'] ['apple', 'ornage', 'mango', 'banana', 'lemon']\n"
     ]
    }
   ],
   "source": [
    "z1=['apple','ornage','mango','banana','lemon'] #We can use the 'reverse=True' option to sort the list in descending order. Again, the original list 'z1' remains the same.\n",
    "print(sorted(z1,reverse=True),z1)"
   ]
  },
  {
   "cell_type": "code",
   "execution_count": 27,
   "metadata": {},
   "outputs": [
    {
     "data": {
      "text/plain": [
       "['d', 'f', 'i', 'm', 'a']"
      ]
     },
     "execution_count": 27,
     "metadata": {},
     "output_type": "execute_result"
    }
   ],
   "source": [
    "z2=['a','m','i','f','d']  #The 'reverse()' function simply gives the reverse list. No sorting is done.\n",
    "z2.reverse()\n",
    "z2"
   ]
  },
  {
   "cell_type": "code",
   "execution_count": 9,
   "metadata": {
    "scrolled": true
   },
   "outputs": [
    {
     "name": "stdout",
     "output_type": "stream",
     "text": [
      "[27, 41, 7, 43, 9, 2]\n"
     ]
    }
   ],
   "source": [
    "#Another method of reversing contents of a list is by using 'reversed()' function inside a 'for' loop.\n",
    "c2=[2,9,43,7,41,27]\n",
    "d = []\n",
    "for i in reversed(c2):\n",
    "    d.append(i)\n",
    "print(d)"
   ]
  },
  {
   "cell_type": "code",
   "execution_count": 5,
   "metadata": {},
   "outputs": [
    {
     "name": "stdout",
     "output_type": "stream",
     "text": [
      "[(4, 1), (2, 3), (7, 3), (1, 5)]\n"
     ]
    }
   ],
   "source": [
    "a2=[(2,3),(1,5),(4,1),(7,3)]\n",
    "def myf(d):\n",
    "    return d[-1]  #The 'myf' function takes an argument and returns its last value.\n",
    "a2.sort(key=myf)  #Here 'key' option can only be a function. So 'key' takes 'myf' function and applies it to each element of list 'a2'. This gives us the 2nd element of each sub-element of 'a2'. This is then used                    to sort 'a2'.\n",
    "print(a2)         "
   ]
  },
  {
   "cell_type": "code",
   "execution_count": 33,
   "metadata": {
    "scrolled": true
   },
   "outputs": [
    {
     "data": {
      "text/plain": [
       "[[2, 4, 3], ['a', 'b', 'c']]"
      ]
     },
     "execution_count": 33,
     "metadata": {},
     "output_type": "execute_result"
    }
   ],
   "source": [
    "x=[2,4,3]\n",
    "y=['a','b','c'] #Creating a nested list i.e. list of lists.\n",
    "z=[x,y]\n",
    "z"
   ]
  },
  {
   "cell_type": "code",
   "execution_count": 1,
   "metadata": {},
   "outputs": [
    {
     "data": {
      "text/plain": [
       "4"
      ]
     },
     "execution_count": 1,
     "metadata": {},
     "output_type": "execute_result"
    }
   ],
   "source": [
    "x=[2,34,52,3,5,4,6,5]\n",
    "index=x.index(5)  #Gives the index of first match found in the list.\n",
    "index"
   ]
  },
  {
   "cell_type": "code",
   "execution_count": 40,
   "metadata": {
    "scrolled": true
   },
   "outputs": [
    {
     "name": "stdout",
     "output_type": "stream",
     "text": [
      "6 7\n"
     ]
    }
   ],
   "source": [
    "z1=[3,1,6,34,[2,14,7,5]]\n",
    "print(z1[2],z1[4][2])"
   ]
  },
  {
   "cell_type": "code",
   "execution_count": 13,
   "metadata": {},
   "outputs": [
    {
     "name": "stdout",
     "output_type": "stream",
     "text": [
      "I love Arsenal FC\n",
      "I love Arsenal FC\n",
      "I love Arsenal FC\n",
      "I love Arsenal FC\n",
      "I love Arsenal FC\n",
      "I love Arsenal FC\n",
      "I love Arsenal FC\n"
     ]
    }
   ],
   "source": [
    "for i in range(7):\n",
    "    print('I love Arsenal FC')\n"
   ]
  },
  {
   "cell_type": "code",
   "execution_count": 6,
   "metadata": {
    "scrolled": true
   },
   "outputs": [
    {
     "name": "stdout",
     "output_type": "stream",
     "text": [
      "1\n",
      "5\n",
      "9\n",
      "13\n"
     ]
    }
   ],
   "source": [
    "for i in range(1,15,4):\n",
    "    print(i)"
   ]
  },
  {
   "cell_type": "code",
   "execution_count": 33,
   "metadata": {
    "scrolled": false
   },
   "outputs": [
    {
     "name": "stdout",
     "output_type": "stream",
     "text": [
      "dog 3\n",
      "puppy 5\n",
      "elephant 8\n",
      "cat 3\n",
      "mouse 5\n"
     ]
    }
   ],
   "source": [
    "words=['dog','puppy','elephant','cat','mouse']\n",
    "for i in words:\n",
    "    print(i,len(i))"
   ]
  },
  {
   "cell_type": "code",
   "execution_count": 34,
   "metadata": {},
   "outputs": [
    {
     "name": "stdout",
     "output_type": "stream",
     "text": [
      "PUPPY 5\n",
      "ELEPHANT 8\n",
      "CAT 3\n"
     ]
    }
   ],
   "source": [
    "for i in words[1:4]:   #Instead of looping over the entire list, we loop it over a slice.\n",
    "    print(i.upper(),len(i))"
   ]
  },
  {
   "cell_type": "code",
   "execution_count": 1,
   "metadata": {},
   "outputs": [
    {
     "data": {
      "text/plain": [
       "[0, 1, 4, 9, 16, 25, 36]"
      ]
     },
     "execution_count": 1,
     "metadata": {},
     "output_type": "execute_result"
    }
   ],
   "source": [
    "squares=[]  #We create an empty list. Then keep appending squares of numbers from 0 to 6 to complete the list.\n",
    "for i in range(7):\n",
    "    squares.append(i**2)\n",
    "squares    "
   ]
  },
  {
   "cell_type": "code",
   "execution_count": 2,
   "metadata": {
    "scrolled": true
   },
   "outputs": [
    {
     "data": {
      "text/plain": [
       "[0, 1, 4, 9, 16, 25, 36]"
      ]
     },
     "execution_count": 2,
     "metadata": {},
     "output_type": "execute_result"
    }
   ],
   "source": [
    "squares1=[i**2 for i in range(7)] #Does the same job as the one above. However, more clean and precise. This method is called list comprehension.\n",
    "squares1"
   ]
  },
  {
   "cell_type": "code",
   "execution_count": 11,
   "metadata": {},
   "outputs": [
    {
     "data": {
      "text/plain": [
       "[1, 3, 5, 7, 9]"
      ]
     },
     "execution_count": 11,
     "metadata": {},
     "output_type": "execute_result"
    }
   ],
   "source": [
    "practice=list(range(1,11,2)) #Take a range of numbers and convert them into a list.\n",
    "practice"
   ]
  },
  {
   "cell_type": "code",
   "execution_count": 32,
   "metadata": {},
   "outputs": [
    {
     "data": {
      "text/plain": [
       "[1, 9, 25, 49, 81]"
      ]
     },
     "execution_count": 32,
     "metadata": {},
     "output_type": "execute_result"
    }
   ],
   "source": [
    "p1=[i**2 for i in practice]\n",
    "p1"
   ]
  },
  {
   "cell_type": "code",
   "execution_count": 10,
   "metadata": {},
   "outputs": [
    {
     "data": {
      "text/plain": [
       "[(0, 0), (1, 1), (2, 4), (3, 9), (4, 16), (5, 25)]"
      ]
     },
     "execution_count": 10,
     "metadata": {},
     "output_type": "execute_result"
    }
   ],
   "source": [
    "z=[(x,x**2) for x in range(6)] #Create a list 'z' having tuples of length 2 where 2nd value of tuple is square of first.\n",
    "z"
   ]
  },
  {
   "cell_type": "code",
   "execution_count": 10,
   "metadata": {},
   "outputs": [
    {
     "data": {
      "text/plain": [
       "[1, 2, 3, 4, 5, 6, 7, 8, 9]"
      ]
     },
     "execution_count": 10,
     "metadata": {},
     "output_type": "execute_result"
    }
   ],
   "source": [
    "z1=[(1,2,3),(4,5,6),(7,8,9)]  \n",
    "z2=[num for item in z1 for num in item]   #Here we flatten a list 'z1' having 3 tuples each with 3 items.\n",
    "z2  "
   ]
  },
  {
   "cell_type": "code",
   "execution_count": 6,
   "metadata": {},
   "outputs": [
    {
     "data": {
      "text/plain": [
       "[(0, 1), (0, 2), (1, 0), (1, 2), (2, 0), (2, 1)]"
      ]
     },
     "execution_count": 6,
     "metadata": {},
     "output_type": "execute_result"
    }
   ],
   "source": [
    "comb=[]  #create an empty list. \n",
    "for x in range(3): #For x and y taking values 0 to 2, find pairs (x,y) such that x!=y. Append the pairs in empty list 1 by 1.\n",
    "    for y in range(3):\n",
    "        if x!=y:\n",
    "          comb.append((x,y))\n",
    "comb        "
   ]
  },
  {
   "cell_type": "code",
   "execution_count": 3,
   "metadata": {
    "scrolled": true
   },
   "outputs": [
    {
     "data": {
      "text/plain": [
       "[(0, 1), (0, 2), (1, 0), (1, 2), (2, 0), (2, 1)]"
      ]
     },
     "execution_count": 3,
     "metadata": {},
     "output_type": "execute_result"
    }
   ],
   "source": [
    "combs=[(x,y) for x in range(3) for y in range(3) if x!=y]  #Does the same job as above in more compact,precise manner.\n",
    "combs"
   ]
  },
  {
   "cell_type": "code",
   "execution_count": 4,
   "metadata": {
    "scrolled": true
   },
   "outputs": [
    {
     "data": {
      "text/plain": [
       "[4, -6, 10, -14, 12]"
      ]
     },
     "execution_count": 4,
     "metadata": {},
     "output_type": "execute_result"
    }
   ],
   "source": [
    "vec=[2,-3,5,-7,6]\n",
    "vec1=[i*2 for i in vec] #Take a list and create a new list having values doubled.\n",
    "vec1"
   ]
  },
  {
   "cell_type": "code",
   "execution_count": 5,
   "metadata": {
    "scrolled": true
   },
   "outputs": [
    {
     "data": {
      "text/plain": [
       "[2, 5, 6]"
      ]
     },
     "execution_count": 5,
     "metadata": {},
     "output_type": "execute_result"
    }
   ],
   "source": [
    "vec2=[i for i in vec if i>0] #Take a list and create a new list filtering only positive values.\n",
    "vec2"
   ]
  },
  {
   "cell_type": "code",
   "execution_count": 20,
   "metadata": {},
   "outputs": [
    {
     "name": "stdout",
     "output_type": "stream",
     "text": [
      "Stay Calm & Carry on.\n"
     ]
    }
   ],
   "source": [
    "Life='Success,Failure,Joy,Pain'\n",
    "Temp= ['Failure','Pain']\n",
    "if any(i in Life for i in Temp):  #The 'for' loop takes each value from list 'temp' for its iteration. Each iteration of loop checks if that 'i' exists in string 'Life'. It gives 'True/False' as output. Then the 'any' function checks whether any value inside bracket is 'True'.(or 1) The 'if' condition then checks if output from 'any' function is 'True'; if yes then print the desired output.\n",
    "     print(f\"Stay Calm & Carry on.\")"
   ]
  },
  {
   "cell_type": "code",
   "execution_count": 9,
   "metadata": {
    "scrolled": true
   },
   "outputs": [
    {
     "data": {
      "text/plain": [
       "0.6"
      ]
     },
     "execution_count": 9,
     "metadata": {},
     "output_type": "execute_result"
    }
   ],
   "source": [
    "import statistics as stat  #Import 'statistics' module and calculate mean of list 'vec'.\n",
    "stat.mean(vec)"
   ]
  },
  {
   "cell_type": "code",
   "execution_count": 24,
   "metadata": {
    "scrolled": false
   },
   "outputs": [
    {
     "name": "stdout",
     "output_type": "stream",
     "text": [
      "4 3\n"
     ]
    }
   ],
   "source": [
    "import math as m\n",
    "u=3.457\n",
    "print(m.ceil(u),m.floor(u))"
   ]
  },
  {
   "cell_type": "code",
   "execution_count": 11,
   "metadata": {
    "scrolled": true
   },
   "outputs": [
    {
     "name": "stdout",
     "output_type": "stream",
     "text": [
      "-31 31.7678\n"
     ]
    }
   ],
   "source": [
    "#'trunc' and 'fabs' function under 'math' library.\n",
    "v=-31.7678  #The 'trunc' function returns the integer part of the number with sign.\n",
    "print(m.trunc(v),m.fabs(v))  #The 'fabs' function takes the modulus of the number and returns a positive value."
   ]
  },
  {
   "cell_type": "code",
   "execution_count": 14,
   "metadata": {
    "scrolled": true
   },
   "outputs": [
    {
     "name": "stdout",
     "output_type": "stream",
     "text": [
      "243.0 2.302585092994046\n"
     ]
    }
   ],
   "source": [
    "print(m.pow(3,5),m.log(10))\n",
    "#The 'pow' function gives us 3^5. The 'log' function returns natural log of 10."
   ]
  },
  {
   "cell_type": "code",
   "execution_count": 28,
   "metadata": {
    "scrolled": true
   },
   "outputs": [
    {
     "name": "stdout",
     "output_type": "stream",
     "text": [
      "3.141592653589793 180.0\n"
     ]
    }
   ],
   "source": [
    "pi=m.pi\n",
    "pi  #This is the radian value of pi which is used in arithmetic calculations. \n",
    "pi_degrees=m.degrees(pi)\n",
    "pi_degrees  #This is the degree value of pi which is used in trigonometric calculations.\n",
    "print(pi,pi_degrees)"
   ]
  },
  {
   "cell_type": "code",
   "execution_count": 21,
   "metadata": {
    "scrolled": false
   },
   "outputs": [
    {
     "data": {
      "text/plain": [
       "2.449489742783178"
      ]
     },
     "execution_count": 21,
     "metadata": {},
     "output_type": "execute_result"
    }
   ],
   "source": [
    "m.factorial(6) #The 'factorial' function in 'math' library gives us the factorial of a number.\n",
    "m.sqrt(6)   #The 'sqrt' function returns the square root of a value."
   ]
  },
  {
   "cell_type": "code",
   "execution_count": 20,
   "metadata": {
    "scrolled": true
   },
   "outputs": [
    {
     "data": {
      "text/plain": [
       "False"
      ]
     },
     "execution_count": 20,
     "metadata": {},
     "output_type": "execute_result"
    }
   ],
   "source": [
    "o=2.3475;p=3.2671  \n",
    "m.isclose(o,p,abs_tol=0.3) #Checks the closeness of two values within a given range called absolute tolerance."
   ]
  },
  {
   "cell_type": "code",
   "execution_count": 38,
   "metadata": {},
   "outputs": [
    {
     "name": "stdout",
     "output_type": "stream",
     "text": [
      "100\n",
      "121\n",
      "144\n",
      "169\n",
      "196\n",
      "225\n",
      "256\n"
     ]
    }
   ],
   "source": [
    "a=10\n",
    "while(a<17):\n",
    "    b=a**2\n",
    "    print(b)\n",
    "    a=a+1  #A 'while' loop will always have a counter which facilitates the iteration of loop."
   ]
  },
  {
   "cell_type": "code",
   "execution_count": 37,
   "metadata": {},
   "outputs": [
    {
     "name": "stdout",
     "output_type": "stream",
     "text": [
      "0\n",
      "2\n",
      "2\n",
      "4\n",
      "6\n",
      "10\n",
      "16\n",
      "26\n"
     ]
    }
   ],
   "source": [
    "a,b=0,1  #Multiple assignment where a and b simultaneously get 0 and 1 values. \n",
    "while(a<15):\n",
    "    print(a*2)\n",
    "    a,b=b,a+b  #Multiple assignment where values b and a+b(in order) get assigned to a and b "
   ]
  },
  {
   "cell_type": "code",
   "execution_count": 10,
   "metadata": {},
   "outputs": [],
   "source": [
    "def volume_of_cylinder(radius,height):\n",
    "    volume=3.14*(radius**2)*height\n",
    "    print(volume)"
   ]
  },
  {
   "cell_type": "code",
   "execution_count": 11,
   "metadata": {},
   "outputs": [
    {
     "name": "stdout",
     "output_type": "stream",
     "text": [
      "192.32500000000002\n",
      "274.75\n"
     ]
    }
   ],
   "source": [
    "volume_of_cylinder(height=5,radius=3.5)\n",
    "#Here we specified the argument values specifically by name as we didn't follow the order specified in function definition.\n",
    "volume_of_cylinder(5,3.5)"
   ]
  },
  {
   "cell_type": "code",
   "execution_count": 18,
   "metadata": {},
   "outputs": [],
   "source": [
    "def random():  #We see the usage of 'return' function.\n",
    "    a,b,c=3,4,5\n",
    "    return a,b,c  #It is used to return the values of a local variable outside the function so that we may use it globally.\n",
    "    print('Hey There !') #Also, it exits the function body without going to the next line of code, hence acting like a break function too."
   ]
  },
  {
   "cell_type": "code",
   "execution_count": 19,
   "metadata": {},
   "outputs": [
    {
     "name": "stdout",
     "output_type": "stream",
     "text": [
      "3 4 5\n"
     ]
    }
   ],
   "source": [
    "p,q,r=random()\n",
    "print(p,q,r)  #Now the local variable values are stored under p,q and r and available globally for further use."
   ]
  },
  {
   "cell_type": "code",
   "execution_count": 33,
   "metadata": {},
   "outputs": [
    {
     "name": "stdout",
     "output_type": "stream",
     "text": [
      "Result=15\n"
     ]
    }
   ],
   "source": [
    "def task(a,b,c):\n",
    "    result=(a*c)-b\n",
    "    print(f\"Result={result}\")  #By using the f method, we don't need to specify commas every now and then. Just our results in curly braces.\n",
    "task(2,1,8)"
   ]
  },
  {
   "cell_type": "code",
   "execution_count": 20,
   "metadata": {},
   "outputs": [],
   "source": [
    "def swap(List,i1,i2):\n",
    "    a=List[i2]\n",
    "    List[i2]=List[i1]\n",
    "    List[i1]=a\n",
    "    return List"
   ]
  },
  {
   "cell_type": "code",
   "execution_count": 21,
   "metadata": {},
   "outputs": [
    {
     "data": {
      "text/plain": [
       "[1, 4, 22, 12, 9, 7]"
      ]
     },
     "execution_count": 21,
     "metadata": {},
     "output_type": "execute_result"
    }
   ],
   "source": [
    "swap([1,4,22,7,9,12],3,5)"
   ]
  },
  {
   "cell_type": "code",
   "execution_count": 1,
   "metadata": {},
   "outputs": [
    {
     "name": "stdout",
     "output_type": "stream",
     "text": [
      "('emma', 91, 'kalia')\n"
     ]
    }
   ],
   "source": [
    "def random(*args):   #This is how we define a function which takes any no. of arguments and simply prints them.\n",
    "    print(args)\n",
    "abc=['emma',91,'kalia']   #Instead of supplying arguments to function one-by-one, we create a list of arguments and supply that to our function.\n",
    "random(*abc)"
   ]
  },
  {
   "cell_type": "code",
   "execution_count": 2,
   "metadata": {},
   "outputs": [
    {
     "name": "stdout",
     "output_type": "stream",
     "text": [
      "('emma', 91, 'kalia', 9, 0.345)\n"
     ]
    }
   ],
   "source": [
    "abc=['emma',91,'kalia',9,0.345] #This way, we can simply change our list arguments and still get the result instead of first modifying the no. of arguments in function definition.\n",
    "random(*abc)   #The output is always a tuple of arguments taken as input."
   ]
  },
  {
   "cell_type": "code",
   "execution_count": 2,
   "metadata": {},
   "outputs": [
    {
     "data": {
      "text/plain": [
       "(21, 5.25)"
      ]
     },
     "execution_count": 2,
     "metadata": {},
     "output_type": "execute_result"
    }
   ],
   "source": [
    "def func(*args):  \n",
    "    sum=0         #Here we are calculating the mean and sum of arguments specified to the function.\n",
    "    count=0\n",
    "    mean=0\n",
    "    for i in args:\n",
    "        sum+=i\n",
    "        count+=1\n",
    "        mean=sum/count\n",
    "    return sum,mean\n",
    "func(2,7,3,9)"
   ]
  },
  {
   "cell_type": "code",
   "execution_count": 36,
   "metadata": {},
   "outputs": [
    {
     "data": {
      "text/plain": [
       "'sun/moon'"
      ]
     },
     "execution_count": 36,
     "metadata": {},
     "output_type": "execute_result"
    }
   ],
   "source": [
    "def concat(*args,sep='/'):   #A function which takes any no of arguments and returns by joining them separated by '/'.\n",
    "    return sep.join(args)\n",
    "concat('sun','moon')"
   ]
  },
  {
   "cell_type": "code",
   "execution_count": 43,
   "metadata": {},
   "outputs": [
    {
     "name": "stdout",
     "output_type": "stream",
     "text": [
      "First Name= Raghav \n",
      "Last Name= Singh\n"
     ]
    }
   ],
   "source": [
    "def myname(a,b):\n",
    "    print(f\"First Name= {a} \\nLast Name= {b}\")\n",
    "myname('Raghav', 'Singh')\n",
    "#print('First Name=',a)   These two lines with 'print' function do the same job.\n",
    "#print('Last Name=',b)"
   ]
  },
  {
   "cell_type": "code",
   "execution_count": 4,
   "metadata": {},
   "outputs": [
    {
     "name": "stdout",
     "output_type": "stream",
     "text": [
      "Enter Name:Raghav Singh\n",
      "Enter Salary:45000\n",
      "Raghav Singh your salary is 45000\n"
     ]
    }
   ],
   "source": [
    "name=input('Enter Name:')    #Illustrates use of 'input()' function to take live inputs from the user and print output.\n",
    "salary=input('Enter Salary:') #It returns a string object, hence 'name' and 'salary' are strings.\n",
    "print(name,'your salary is',salary)"
   ]
  },
  {
   "cell_type": "code",
   "execution_count": 2,
   "metadata": {},
   "outputs": [
    {
     "data": {
      "text/plain": [
       "['Raghav', '33']"
      ]
     },
     "execution_count": 2,
     "metadata": {},
     "output_type": "execute_result"
    }
   ],
   "source": [
    "p =input('Enter Name,Age: ').split() #The 'split' function is used to split a string into multiple strings and produce them under a list.\n",
    "p #We see the object 'p' is a list having 2 strings."
   ]
  },
  {
   "cell_type": "code",
   "execution_count": 5,
   "metadata": {},
   "outputs": [
    {
     "name": "stdout",
     "output_type": "stream",
     "text": [
      "<class 'str'> <class 'str'>\n"
     ]
    }
   ],
   "source": [
    "name, age =input('Enter Name,Age: ').split() #This time we assign the output of 'split' function to two objects 'name' and 'age'.\n",
    "print(type(name), type(age)) #Hence each splitted string gets assigned to an object which is also a string."
   ]
  },
  {
   "cell_type": "code",
   "execution_count": 3,
   "metadata": {},
   "outputs": [
    {
     "name": "stdout",
     "output_type": "stream",
     "text": [
      "Hi Raghav! You are 33 years old.\n",
      "<class 'str'>//<class 'str'>\n"
     ]
    }
   ],
   "source": [
    "name,age=input('Enter Name,Age: ').split()  \n",
    "print(f\"Hi {name}! You are {age} years old.\") \n",
    "print(type(name),type(age),sep='//') "
   ]
  },
  {
   "cell_type": "code",
   "execution_count": 17,
   "metadata": {},
   "outputs": [
    {
     "name": "stdout",
     "output_type": "stream",
     "text": [
      "Enter Name,Age:Raghav 34\n",
      "Hey Raghav. You are 34 years old.\n"
     ]
    }
   ],
   "source": [
    "#Here we use replacement fields {0} and {1} which contain the positional index of arguments supplied as input. \n",
    "#We also specify the positional order in option 'format()'.\n",
    "Name,Age=input('Enter Name,Age:').split()\n",
    "print('Hey {0}. You are {1} years old.'.format(Name,Age))"
   ]
  },
  {
   "cell_type": "code",
   "execution_count": 5,
   "metadata": {
    "scrolled": true
   },
   "outputs": [
    {
     "name": "stdout",
     "output_type": "stream",
     "text": [
      "45 3 21 <class 'str'>\n"
     ]
    }
   ],
   "source": [
    "user_input=input('Please enter your numbers:') #The 'input' function is used to accept input from the user.\n",
    "print(user_input,type(user_input))  #The output from the function is of 'str'(i.e. string) type."
   ]
  },
  {
   "cell_type": "code",
   "execution_count": 6,
   "metadata": {},
   "outputs": [
    {
     "name": "stdout",
     "output_type": "stream",
     "text": [
      "['45', '3', '21'] <class 'list'>\n"
     ]
    }
   ],
   "source": [
    "m1=user_input.split()  #The 'split' function splits the input string into multiple strings and stores them as a list 'm1'.\n",
    "print(m1,type(m1))"
   ]
  },
  {
   "cell_type": "code",
   "execution_count": 19,
   "metadata": {},
   "outputs": [
    {
     "name": "stdout",
     "output_type": "stream",
     "text": [
      "[3, 41, 6] 50\n"
     ]
    }
   ],
   "source": [
    "user_list=[]   #Create an empty list. Initiate a 'for' loop which takes on values as elements of 'm1' in each iteration. \n",
    "[user_list.append(int(i)) for i in m1]  #So 1st iteration, i='3', then '41' and then finally '6'. As they are of 'str' type, we convert them to integer.\n",
    "print(user_list,sum(user_list))  #Each 'for' loop iteration involves i taking a value, then converting it into integer and then appending it to empty list."
   ]
  },
  {
   "cell_type": "code",
   "execution_count": 1,
   "metadata": {},
   "outputs": [
    {
     "data": {
      "text/plain": [
       "['Hi', \"I'm\", 'Raghav,', \"I'm\", '33,and', 'I', 'love', 'Data', 'Science.']"
      ]
     },
     "execution_count": 1,
     "metadata": {},
     "output_type": "execute_result"
    }
   ],
   "source": [
    "#string.split(separator,maxsplit)\n",
    "#The above function shows optional parameters to be included in 'split' function.\n",
    "t=\"Hi I'm Raghav, I'm 33,and I love Data Science.\"\n",
    "t.split()  #The default 'split' function splits wherever it sees a space."
   ]
  },
  {
   "cell_type": "code",
   "execution_count": 23,
   "metadata": {},
   "outputs": [
    {
     "data": {
      "text/plain": [
       "[\"Hi I'm Raghav\", \" I'm 33\", 'and I love Data Science.']"
      ]
     },
     "execution_count": 23,
     "metadata": {},
     "output_type": "execute_result"
    }
   ],
   "source": [
    "t.split(',')  #By specifying the separator ',' Python now splits wherever it sees a ','."
   ]
  },
  {
   "cell_type": "code",
   "execution_count": 24,
   "metadata": {},
   "outputs": [
    {
     "data": {
      "text/plain": [
       "[\"Hi I'm Raghav\", \" I'm 33,and I love Data Science.\"]"
      ]
     },
     "execution_count": 24,
     "metadata": {},
     "output_type": "execute_result"
    }
   ],
   "source": [
    "#Here we give maxsplit=1 option. By default it is -1 meaning it splits when it sees space. Now it will give only 1 split.\n",
    "t.split(',',1) "
   ]
  },
  {
   "cell_type": "code",
   "execution_count": 30,
   "metadata": {},
   "outputs": [
    {
     "data": {
      "text/plain": [
       "['element1', 'element2', 'element3']"
      ]
     },
     "execution_count": 30,
     "metadata": {},
     "output_type": "execute_result"
    }
   ],
   "source": [
    "l = ['element1\\t0238.94', 'element2\\t2.3904', 'element3\\t0139847']\n",
    "#Here we have a list 'l' having 3 string objects. We want to split each of 3 strings such that we only get 'element1','element2','element3'.\n",
    "[i.split('\\t')[0] for i in l] \n",
    "#Here we initiate a 'for' loop where i takes values as each string object of 'l' in each iteration.\n",
    "#At each iteration of loop, Python splits the string object at '\\t' and takes the first object of the split."
   ]
  },
  {
   "cell_type": "code",
   "execution_count": 8,
   "metadata": {},
   "outputs": [
    {
     "name": "stdout",
     "output_type": "stream",
     "text": [
      "[('Bukayo', 'Saka'), ('Kieran', 'Tierney'), ('Thomas', 'Partey')]\n"
     ]
    }
   ],
   "source": [
    "#Use of 'zip' function to zip together items in different objects.\n",
    "f = ['Bukayo','Kieran','Thomas'] #Creates a tuple from items at same indices.\n",
    "l = ['Saka','Tierney','Partey']\n",
    "t = list(zip(f,l)) #The created tuples are then packed as a list.\n",
    "print(t)"
   ]
  },
  {
   "cell_type": "code",
   "execution_count": 12,
   "metadata": {},
   "outputs": [
    {
     "name": "stdout",
     "output_type": "stream",
     "text": [
      "['Bukayo', 'Kieran', 'Thomas']\n",
      "['Saka', 'Tierney', 'Partey']\n"
     ]
    }
   ],
   "source": [
    "#Unzip a list back.\n",
    "s = list(zip(*t))\n",
    "f1 = s[0]\n",
    "l1 = s[1]\n",
    "print(list(f1))\n",
    "print(list(l1))"
   ]
  },
  {
   "cell_type": "code",
   "execution_count": 2,
   "metadata": {},
   "outputs": [
    {
     "name": "stdout",
     "output_type": "stream",
     "text": [
      "   A   B        C\n",
      "0  1  23  Toaster\n",
      "1  2  70  Toaster\n",
      "2  3  74     Ohio\n",
      "3  4  76  Toaster\n",
      "4  5  24     Ohio\n"
     ]
    },
    {
     "data": {
      "text/html": [
       "<div>\n",
       "<style scoped>\n",
       "    .dataframe tbody tr th:only-of-type {\n",
       "        vertical-align: middle;\n",
       "    }\n",
       "\n",
       "    .dataframe tbody tr th {\n",
       "        vertical-align: top;\n",
       "    }\n",
       "\n",
       "    .dataframe thead th {\n",
       "        text-align: right;\n",
       "    }\n",
       "</style>\n",
       "<table border=\"1\" class=\"dataframe\">\n",
       "  <thead>\n",
       "    <tr style=\"text-align: right;\">\n",
       "      <th></th>\n",
       "      <th>A</th>\n",
       "      <th>Product</th>\n",
       "    </tr>\n",
       "  </thead>\n",
       "  <tbody>\n",
       "    <tr>\n",
       "      <th>0</th>\n",
       "      <td>2</td>\n",
       "      <td>Medium</td>\n",
       "    </tr>\n",
       "    <tr>\n",
       "      <th>1</th>\n",
       "      <td>4</td>\n",
       "      <td>Classic</td>\n",
       "    </tr>\n",
       "    <tr>\n",
       "      <th>2</th>\n",
       "      <td>5</td>\n",
       "      <td>Delux</td>\n",
       "    </tr>\n",
       "  </tbody>\n",
       "</table>\n",
       "</div>"
      ],
      "text/plain": [
       "   A  Product\n",
       "0  2   Medium\n",
       "1  4  Classic\n",
       "2  5    Delux"
      ]
     },
     "execution_count": 2,
     "metadata": {},
     "output_type": "execute_result"
    }
   ],
   "source": [
    "#Create dataframes from scratch.\n",
    "import numpy as np\n",
    "import pandas as pd\n",
    "df1 = pd.DataFrame({ 'A' : range(1, 6 ,1),\n",
    "                     'B' : np.random.randint(5, 105 , size = 5),\n",
    "                     'C' : ['Toaster','Toaster','Ohio', 'Toaster','Ohio'] })\n",
    "df2 = pd.DataFrame({'A' : [2, 4, 5],\n",
    "                    'Product' : ['Medium', 'Classic', 'Delux']})\n",
    "print(df1)                    \n",
    "df2"
   ]
  },
  {
   "cell_type": "code",
   "execution_count": 3,
   "metadata": {},
   "outputs": [
    {
     "data": {
      "text/html": [
       "<div>\n",
       "<style scoped>\n",
       "    .dataframe tbody tr th:only-of-type {\n",
       "        vertical-align: middle;\n",
       "    }\n",
       "\n",
       "    .dataframe tbody tr th {\n",
       "        vertical-align: top;\n",
       "    }\n",
       "\n",
       "    .dataframe thead th {\n",
       "        text-align: right;\n",
       "    }\n",
       "</style>\n",
       "<table border=\"1\" class=\"dataframe\">\n",
       "  <thead>\n",
       "    <tr style=\"text-align: right;\">\n",
       "      <th></th>\n",
       "      <th>A</th>\n",
       "      <th>B</th>\n",
       "      <th>C</th>\n",
       "      <th>Product</th>\n",
       "    </tr>\n",
       "  </thead>\n",
       "  <tbody>\n",
       "    <tr>\n",
       "      <th>0</th>\n",
       "      <td>1</td>\n",
       "      <td>23</td>\n",
       "      <td>Toaster</td>\n",
       "      <td>NaN</td>\n",
       "    </tr>\n",
       "    <tr>\n",
       "      <th>1</th>\n",
       "      <td>2</td>\n",
       "      <td>70</td>\n",
       "      <td>Toaster</td>\n",
       "      <td>Medium</td>\n",
       "    </tr>\n",
       "    <tr>\n",
       "      <th>2</th>\n",
       "      <td>3</td>\n",
       "      <td>74</td>\n",
       "      <td>Ohio</td>\n",
       "      <td>NaN</td>\n",
       "    </tr>\n",
       "    <tr>\n",
       "      <th>3</th>\n",
       "      <td>4</td>\n",
       "      <td>76</td>\n",
       "      <td>Toaster</td>\n",
       "      <td>Classic</td>\n",
       "    </tr>\n",
       "    <tr>\n",
       "      <th>4</th>\n",
       "      <td>5</td>\n",
       "      <td>24</td>\n",
       "      <td>Ohio</td>\n",
       "      <td>Delux</td>\n",
       "    </tr>\n",
       "  </tbody>\n",
       "</table>\n",
       "</div>"
      ],
      "text/plain": [
       "   A   B        C  Product\n",
       "0  1  23  Toaster      NaN\n",
       "1  2  70  Toaster   Medium\n",
       "2  3  74     Ohio      NaN\n",
       "3  4  76  Toaster  Classic\n",
       "4  5  24     Ohio    Delux"
      ]
     },
     "execution_count": 3,
     "metadata": {},
     "output_type": "execute_result"
    }
   ],
   "source": [
    "#Merger dataframes.\n",
    "df_left = df1.merge(df2, on = 'A' ,how = 'left')\n",
    "df_left"
   ]
  },
  {
   "cell_type": "code",
   "execution_count": 4,
   "metadata": {},
   "outputs": [
    {
     "data": {
      "text/html": [
       "<div>\n",
       "<style scoped>\n",
       "    .dataframe tbody tr th:only-of-type {\n",
       "        vertical-align: middle;\n",
       "    }\n",
       "\n",
       "    .dataframe tbody tr th {\n",
       "        vertical-align: top;\n",
       "    }\n",
       "\n",
       "    .dataframe thead th {\n",
       "        text-align: right;\n",
       "    }\n",
       "</style>\n",
       "<table border=\"1\" class=\"dataframe\">\n",
       "  <thead>\n",
       "    <tr style=\"text-align: right;\">\n",
       "      <th></th>\n",
       "      <th>A</th>\n",
       "      <th>B</th>\n",
       "      <th>C</th>\n",
       "      <th>Product</th>\n",
       "    </tr>\n",
       "  </thead>\n",
       "  <tbody>\n",
       "    <tr>\n",
       "      <th>0</th>\n",
       "      <td>2</td>\n",
       "      <td>70</td>\n",
       "      <td>Toaster</td>\n",
       "      <td>Medium</td>\n",
       "    </tr>\n",
       "    <tr>\n",
       "      <th>1</th>\n",
       "      <td>4</td>\n",
       "      <td>76</td>\n",
       "      <td>Toaster</td>\n",
       "      <td>Classic</td>\n",
       "    </tr>\n",
       "    <tr>\n",
       "      <th>2</th>\n",
       "      <td>5</td>\n",
       "      <td>24</td>\n",
       "      <td>Ohio</td>\n",
       "      <td>Delux</td>\n",
       "    </tr>\n",
       "  </tbody>\n",
       "</table>\n",
       "</div>"
      ],
      "text/plain": [
       "   A   B        C  Product\n",
       "0  2  70  Toaster   Medium\n",
       "1  4  76  Toaster  Classic\n",
       "2  5  24     Ohio    Delux"
      ]
     },
     "execution_count": 4,
     "metadata": {},
     "output_type": "execute_result"
    }
   ],
   "source": [
    "df_right = df1.merge(df2, on = 'A' ,how = 'right')\n",
    "df_right"
   ]
  }
 ],
 "metadata": {
  "celltoolbar": "Raw Cell Format",
  "interpreter": {
   "hash": "1af06a67833388e2ab2f4a98b73c33e1819b9b34fa421d20993178e19955971f"
  },
  "kernelspec": {
   "display_name": "Python 3.8.5 ('base')",
   "language": "python",
   "name": "python3"
  },
  "language_info": {
   "codemirror_mode": {
    "name": "ipython",
    "version": 3
   },
   "file_extension": ".py",
   "mimetype": "text/x-python",
   "name": "python",
   "nbconvert_exporter": "python",
   "pygments_lexer": "ipython3",
   "version": "3.8.5"
  }
 },
 "nbformat": 4,
 "nbformat_minor": 4
}
