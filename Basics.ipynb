{
 "cells": [
  {
   "cell_type": "code",
   "execution_count": 1,
   "source": [
    "print('Hey..Raghav here')"
   ],
   "outputs": [
    {
     "output_type": "stream",
     "name": "stdout",
     "text": [
      "Hey..Raghav here\n"
     ]
    }
   ],
   "metadata": {
    "scrolled": true
   }
  },
  {
   "cell_type": "code",
   "execution_count": 16,
   "source": [
    "print('Hey..I\\'m Raghav') #Now since the string contains a single quote itself, Python won't know the difference. Hence we insert a backslash to tell that a quote follows as a part of string."
   ],
   "outputs": [
    {
     "output_type": "stream",
     "name": "stdout",
     "text": [
      "Hey..I'm Raghav\n"
     ]
    }
   ],
   "metadata": {}
  },
  {
   "cell_type": "code",
   "execution_count": 4,
   "source": [
    "print(\"Hey...I'm Raghav\") #When using double quotes, we dont need to specify a '\\' as now it can differentiate between an opening/closing quote and quote as part of string. "
   ],
   "outputs": [
    {
     "output_type": "stream",
     "name": "stdout",
     "text": [
      "Hey...I'm Raghav\n"
     ]
    }
   ],
   "metadata": {
    "scrolled": true
   }
  },
  {
   "cell_type": "code",
   "execution_count": 1,
   "source": [
    "\"I'm Raghav.\\nI'm 33.\""
   ],
   "outputs": [
    {
     "output_type": "execute_result",
     "data": {
      "text/plain": [
       "\"I'm Raghav.\\nI'm 33.\""
      ]
     },
     "metadata": {},
     "execution_count": 1
    }
   ],
   "metadata": {
    "scrolled": false
   }
  },
  {
   "cell_type": "code",
   "execution_count": 3,
   "source": [
    "print(\"I'm Raghav.\\nI'm 33.\") #With print command, the'\\n' prints the follwing text in a new line."
   ],
   "outputs": [
    {
     "output_type": "stream",
     "name": "stdout",
     "text": [
      "I'm Raghav.\n",
      "I'm 33.\n"
     ]
    }
   ],
   "metadata": {
    "scrolled": false
   }
  },
  {
   "cell_type": "code",
   "execution_count": 2,
   "source": [
    "text=(\"Hi..Raghav Here.\"\"I'm 33.\") #Strings within simple brackets are automatically concatenated\r\n",
    "text"
   ],
   "outputs": [
    {
     "output_type": "execute_result",
     "data": {
      "text/plain": [
       "\"Hi..Raghav Here.I'm 33.\""
      ]
     },
     "metadata": {},
     "execution_count": 2
    }
   ],
   "metadata": {
    "scrolled": true
   }
  },
  {
   "cell_type": "code",
   "execution_count": null,
   "source": [
    "#There are 4 data types in Python: Numeric(int,float,complex),Sequence(string,list,tuple),Set,Dictionary(dict)"
   ],
   "outputs": [],
   "metadata": {}
  },
  {
   "cell_type": "code",
   "execution_count": 2,
   "source": [
    "3*'um'+'ium' #We can use '*' to repeat and '+' to concatenate strings."
   ],
   "outputs": [
    {
     "output_type": "execute_result",
     "data": {
      "text/plain": [
       "'umumumium'"
      ]
     },
     "metadata": {},
     "execution_count": 2
    }
   ],
   "metadata": {}
  },
  {
   "cell_type": "code",
   "execution_count": 2,
   "source": [
    "print('I Love Arsenal..Once a Gunner always a Gunner !!\\n'*8)"
   ],
   "outputs": [
    {
     "output_type": "stream",
     "name": "stdout",
     "text": [
      "I Love Arsenal..Once a Gunner always a Gunner !!\n",
      "I Love Arsenal..Once a Gunner always a Gunner !!\n",
      "I Love Arsenal..Once a Gunner always a Gunner !!\n",
      "I Love Arsenal..Once a Gunner always a Gunner !!\n",
      "I Love Arsenal..Once a Gunner always a Gunner !!\n",
      "I Love Arsenal..Once a Gunner always a Gunner !!\n",
      "I Love Arsenal..Once a Gunner always a Gunner !!\n",
      "I Love Arsenal..Once a Gunner always a Gunner !!\n",
      "\n"
     ]
    }
   ],
   "metadata": {}
  },
  {
   "cell_type": "code",
   "execution_count": 2,
   "source": [
    "name='raghav singh' #The 'title()' function converts the first letter of both character strings to uppercase. Here the function doesn't have any arguments inside its bracket.\r\n",
    "name.title()   #This is a standard Python syntax, which means apply function 'title()' to object 'name'. "
   ],
   "outputs": [
    {
     "output_type": "execute_result",
     "data": {
      "text/plain": [
       "'Raghav Singh'"
      ]
     },
     "metadata": {},
     "execution_count": 2
    }
   ],
   "metadata": {}
  },
  {
   "cell_type": "code",
   "execution_count": 3,
   "source": [
    "name.upper() \r\n",
    "#name.lower()"
   ],
   "outputs": [
    {
     "output_type": "execute_result",
     "data": {
      "text/plain": [
       "'RAGHAV SINGH'"
      ]
     },
     "metadata": {},
     "execution_count": 3
    }
   ],
   "metadata": {}
  },
  {
   "cell_type": "code",
   "execution_count": 6,
   "source": [
    "first_name='Raghav'\r\n",
    "last_name='Singh'\r\n",
    "full_name=f'{first_name} {last_name}'\r\n",
    "full_name #To insert an object's value inside a string, first type letter 'f' followed by quotes. Then simply write your object name within curly braces and Python would pick it up."
   ],
   "outputs": [
    {
     "output_type": "execute_result",
     "data": {
      "text/plain": [
       "'Raghav Singh'"
      ]
     },
     "metadata": {},
     "execution_count": 6
    }
   ],
   "metadata": {}
  },
  {
   "cell_type": "code",
   "execution_count": 13,
   "source": [
    "print(\"\\tPython\")  #The '\\t' includes a whitespace while printing 'Python'."
   ],
   "outputs": [
    {
     "output_type": "stream",
     "name": "stdout",
     "text": [
      "\tPython\n"
     ]
    }
   ],
   "metadata": {}
  },
  {
   "cell_type": "code",
   "execution_count": 18,
   "source": [
    "print(\"This is\\nPython\")  #The '\\n' moves the cursor to next line. Hence 'Python' gets printed in a new line.\r\n",
    "print(\"This is\\n\\tPython\")"
   ],
   "outputs": [
    {
     "output_type": "stream",
     "name": "stdout",
     "text": [
      "This is\n",
      "Python\n",
      "This is\n",
      "\tPython\n"
     ]
    }
   ],
   "metadata": {}
  },
  {
   "cell_type": "code",
   "execution_count": 21,
   "source": [
    "fav_language='Python   '\r\n",
    "fav_language=fav_language.rstrip() #The 'rstrip()' function is used to remove whitespaces from the right end of the string. Then stores this change in the same object.\r\n",
    "fav_language  #Similarly we have 'lstrip()' which eliminates from left end. Finally, 'strip()' does it from both ends together."
   ],
   "outputs": [
    {
     "output_type": "execute_result",
     "data": {
      "text/plain": [
       "'Python'"
      ]
     },
     "metadata": {},
     "execution_count": 21
    }
   ],
   "metadata": {}
  },
  {
   "cell_type": "code",
   "execution_count": 1,
   "source": [
    "name_new='raghav singh'\r\n",
    "name_new.upper()  #The 'upper()' function returns all values as uppercase. Similarly, 'lower()' returns all values as lowercase."
   ],
   "outputs": [
    {
     "output_type": "execute_result",
     "data": {
      "text/plain": [
       "'RAGHAV SINGH'"
      ]
     },
     "metadata": {},
     "execution_count": 1
    }
   ],
   "metadata": {}
  },
  {
   "cell_type": "code",
   "execution_count": 3,
   "source": [
    "name='Raghav'\r\n",
    "Attendance=87\r\n",
    "print(\"I'm\",name,'and my attendance is',Attendance,'percent.')"
   ],
   "outputs": [
    {
     "output_type": "stream",
     "name": "stdout",
     "text": [
      "I'm Raghav and my attendance is 87 percent.\n"
     ]
    }
   ],
   "metadata": {}
  },
  {
   "cell_type": "code",
   "execution_count": 4,
   "source": [
    "print(f\"I'm {name} and my attendance is {Attendance} percent.\")  #Does the same job as above cell."
   ],
   "outputs": [
    {
     "output_type": "stream",
     "name": "stdout",
     "text": [
      "I'm Raghav and my attendance is 87 percent.\n"
     ]
    }
   ],
   "metadata": {}
  },
  {
   "cell_type": "code",
   "execution_count": 1,
   "source": [
    "p=1 and 1 #The 'and' operator always gives True/1 if both inputs are 1. Else it gives False/0.\r\n",
    "q=0 or 0  #The 'or' operator always gives False/0 if both inputs are 0. Else it gives True/1.\r\n",
    "r=not 0  #The 'not' operator flips the current state of input.\r\n",
    "print(p,q,r)"
   ],
   "outputs": [
    {
     "output_type": "stream",
     "name": "stdout",
     "text": [
      "1 0 True\n"
     ]
    }
   ],
   "metadata": {}
  },
  {
   "cell_type": "code",
   "execution_count": 2,
   "source": [
    "#The 'and' takes higher preference than 'or' when both come together.\r\n",
    "a=1 or 0 and 0\r\n",
    "print(a,type(a))"
   ],
   "outputs": [
    {
     "output_type": "stream",
     "name": "stdout",
     "text": [
      "1 <class 'int'>\n"
     ]
    }
   ],
   "metadata": {}
  },
  {
   "cell_type": "code",
   "execution_count": null,
   "source": [
    "a='python is fun'\r\n",
    "a[3]  #Gives us the 4th character of a string. Basically gives the letter after position 3. Explained 2 cells below."
   ],
   "outputs": [],
   "metadata": {}
  },
  {
   "cell_type": "code",
   "execution_count": 28,
   "source": [
    "a[-1] #Gives last character of string 'a'."
   ],
   "outputs": [
    {
     "output_type": "execute_result",
     "data": {
      "text/plain": [
       "'n'"
      ]
     },
     "metadata": {},
     "execution_count": 28
    }
   ],
   "metadata": {
    "scrolled": true
   }
  },
  {
   "cell_type": "code",
   "execution_count": 29,
   "source": [
    "a[-2:]"
   ],
   "outputs": [
    {
     "output_type": "execute_result",
     "data": {
      "text/plain": [
       "'un'"
      ]
     },
     "metadata": {},
     "execution_count": 29
    }
   ],
   "metadata": {}
  },
  {
   "cell_type": "code",
   "execution_count": 30,
   "source": [
    "#python is fun\r\n",
    "a[:3] #Gives us evrything from position 0 to 3. In python position lies between letters.\r\n",
    "#So for a string 'python', the positions can be denoted as 0p1y2t3h4o5n67i8s910f11u12n13.Hence the indexing starts before the first letter as 0.\r\n",
    "#The space counts for 2 pointers. Hence we see two number between 'n' and 'i' and also 's' and 'f'.\r\n",
    "#Hence for slicing, it returns everything till position pointer. For indexing, it returns the letter after the position."
   ],
   "outputs": [
    {
     "output_type": "execute_result",
     "data": {
      "text/plain": [
       "'pyt'"
      ]
     },
     "metadata": {},
     "execution_count": 30
    }
   ],
   "metadata": {
    "scrolled": true
   }
  },
  {
   "cell_type": "code",
   "execution_count": 31,
   "source": [
    "a[::2] #From pointer 0 till end by a skip count of 2."
   ],
   "outputs": [
    {
     "output_type": "execute_result",
     "data": {
      "text/plain": [
       "'pto sfn'"
      ]
     },
     "metadata": {},
     "execution_count": 31
    }
   ],
   "metadata": {
    "scrolled": false
   }
  },
  {
   "cell_type": "code",
   "execution_count": 33,
   "source": [
    "a[2:10:3] #From pointer 2 till 10, returns everything with a skip of 3."
   ],
   "outputs": [
    {
     "output_type": "execute_result",
     "data": {
      "text/plain": [
       "'tns'"
      ]
     },
     "metadata": {},
     "execution_count": 33
    }
   ],
   "metadata": {}
  },
  {
   "cell_type": "code",
   "execution_count": 32,
   "source": [
    "a[::-1]  #Reverse the string."
   ],
   "outputs": [
    {
     "output_type": "execute_result",
     "data": {
      "text/plain": [
       "'nuf si nohtyp'"
      ]
     },
     "metadata": {},
     "execution_count": 32
    }
   ],
   "metadata": {
    "scrolled": false
   }
  },
  {
   "cell_type": "code",
   "execution_count": 7,
   "source": [
    "my_string='Hello fellas, nice meeting you!'\r\n",
    "my_string.index('f')  #The 'index' function returns the pointer location(i.e. index) for letter 'f' in object 'my_string'."
   ],
   "outputs": [
    {
     "output_type": "execute_result",
     "data": {
      "text/plain": [
       "6"
      ]
     },
     "metadata": {},
     "execution_count": 7
    }
   ],
   "metadata": {}
  },
  {
   "cell_type": "code",
   "execution_count": 4,
   "source": [
    "my_string.index('j') #If the string isn't found, it gives a value error."
   ],
   "outputs": [
    {
     "output_type": "error",
     "ename": "ValueError",
     "evalue": "substring not found",
     "traceback": [
      "\u001b[1;31m---------------------------------------------------------------------------\u001b[0m",
      "\u001b[1;31mValueError\u001b[0m                                Traceback (most recent call last)",
      "\u001b[1;32m<ipython-input-4-f9b34aa958bf>\u001b[0m in \u001b[0;36m<module>\u001b[1;34m\u001b[0m\n\u001b[1;32m----> 1\u001b[1;33m \u001b[0mmy_string\u001b[0m\u001b[1;33m.\u001b[0m\u001b[0mindex\u001b[0m\u001b[1;33m(\u001b[0m\u001b[1;34m'j'\u001b[0m\u001b[1;33m)\u001b[0m\u001b[1;33m\u001b[0m\u001b[1;33m\u001b[0m\u001b[0m\n\u001b[0m",
      "\u001b[1;31mValueError\u001b[0m: substring not found"
     ]
    }
   ],
   "metadata": {}
  },
  {
   "cell_type": "code",
   "execution_count": 9,
   "source": [
    "#We can use 'try-except' block of code to print a desired output instead of default error output.\r\n",
    "my_string='Hello fellas, nice meeting you!'\r\n",
    "try:\r\n",
    "    my_string.index('j')\r\n",
    "except ValueError:\r\n",
    "    print('String not found')"
   ],
   "outputs": [
    {
     "output_type": "stream",
     "name": "stdout",
     "text": [
      "String not found\n"
     ]
    }
   ],
   "metadata": {}
  },
  {
   "cell_type": "code",
   "execution_count": 38,
   "source": [
    "a1=[2,7,31,79]\r\n",
    "b2=a1 #Here object 'b2' is a deep copy of object 'a'.\r\n",
    "b1=a1.copy()  #Here object 'b1' is a shallow copy of object 'a'.\r\n",
    "a1.append(100)  #We made a change to original list 'a1'. \r\n",
    "print(b1,b2)  #This change reflects in 'b2' as it is a deep copy but not in 'b1' which is a shallow copy.\r\n",
    "#Hence change made to original copy also makes changes in deep copy. Hence creating a copy using 'copy' function is recommended. "
   ],
   "outputs": [
    {
     "output_type": "stream",
     "name": "stdout",
     "text": [
      "[2, 7, 31, 79] [2, 7, 31, 79, 100]\n"
     ]
    }
   ],
   "metadata": {}
  },
  {
   "cell_type": "code",
   "execution_count": 40,
   "source": [
    "'J'+a[1:] #Another string concatenation"
   ],
   "outputs": [
    {
     "output_type": "execute_result",
     "data": {
      "text/plain": [
       "'Jython'"
      ]
     },
     "metadata": {},
     "execution_count": 40
    }
   ],
   "metadata": {
    "scrolled": true
   }
  },
  {
   "cell_type": "code",
   "execution_count": 4,
   "source": [
    "17/3"
   ],
   "outputs": [
    {
     "output_type": "execute_result",
     "data": {
      "text/plain": [
       "5.666666666666667"
      ]
     },
     "metadata": {},
     "execution_count": 4
    }
   ],
   "metadata": {}
  },
  {
   "cell_type": "code",
   "execution_count": 5,
   "source": [
    "17//3 #Gives quotient of our division discarding the fractional part"
   ],
   "outputs": [
    {
     "output_type": "execute_result",
     "data": {
      "text/plain": [
       "5"
      ]
     },
     "metadata": {},
     "execution_count": 5
    }
   ],
   "metadata": {}
  },
  {
   "cell_type": "code",
   "execution_count": 2,
   "source": [
    "result=divmod(17,3)  #Returns the quotient and remainder in a tuple format.\r\n",
    "print(result,type(result))"
   ],
   "outputs": [
    {
     "output_type": "stream",
     "name": "stdout",
     "text": [
      "(5, 2) <class 'tuple'>\n"
     ]
    }
   ],
   "metadata": {}
  },
  {
   "cell_type": "code",
   "execution_count": 6,
   "source": [
    "17%3 #Gives remainder"
   ],
   "outputs": [
    {
     "output_type": "execute_result",
     "data": {
      "text/plain": [
       "2"
      ]
     },
     "metadata": {},
     "execution_count": 6
    }
   ],
   "metadata": {}
  },
  {
   "cell_type": "code",
   "execution_count": 9,
   "source": [
    "2**5 #gives the power of a number"
   ],
   "outputs": [
    {
     "output_type": "execute_result",
     "data": {
      "text/plain": [
       "32"
      ]
     },
     "metadata": {},
     "execution_count": 9
    }
   ],
   "metadata": {
    "scrolled": true
   }
  },
  {
   "cell_type": "code",
   "execution_count": 22,
   "source": [
    "number=1_50_000  #We can include underscore while using a number in Python to make it aesthetically nice. \r\n",
    "number"
   ],
   "outputs": [
    {
     "output_type": "execute_result",
     "data": {
      "text/plain": [
       "150000"
      ]
     },
     "metadata": {},
     "execution_count": 22
    }
   ],
   "metadata": {}
  },
  {
   "cell_type": "code",
   "execution_count": 3,
   "source": [
    "#When we create an object in Python, it is allotted a number which uniquely identifies it. This number is nothing but the memory address of the value stored in the object. No two objects will have same identifier.\r\n",
    "j=67;k=9\r\n",
    "print(id(j),id(k))  #The function 'id' is used to get the memory address of values stored in object 'j' and 'k'."
   ],
   "outputs": [
    {
     "output_type": "stream",
     "name": "stdout",
     "text": [
      "140733154930528 140733154928672\n"
     ]
    }
   ],
   "metadata": {}
  },
  {
   "cell_type": "code",
   "execution_count": 13,
   "source": [
    "a=13.67\r\n",
    "b=34.9;c=5.6\r\n",
    "a+c\r\n",
    "d=b-_ #An underscore saves the last result automatically\r\n",
    "d"
   ],
   "outputs": [
    {
     "output_type": "execute_result",
     "data": {
      "text/plain": [
       "15.629999999999999"
      ]
     },
     "metadata": {},
     "execution_count": 13
    }
   ],
   "metadata": {}
  },
  {
   "cell_type": "code",
   "execution_count": 14,
   "source": [
    "round(_,2) #Rounds off the last saved result to 2 decimal places"
   ],
   "outputs": [
    {
     "output_type": "execute_result",
     "data": {
      "text/plain": [
       "15.63"
      ]
     },
     "metadata": {},
     "execution_count": 14
    }
   ],
   "metadata": {
    "scrolled": false
   }
  },
  {
   "cell_type": "code",
   "execution_count": 2,
   "source": [
    "x=35.65;y=\"Emma\"   #Here we use 'isinstance()' function to check whether an object is int,float,str.\r\n",
    "isinstance(y,(float,int))  #Checks whether 'y' is a float or integer. Returns 'False'.\r\n",
    "isinstance(y,str)          #Checks whether 'y' is a string. Returns 'True'.\r\n",
    "isinstance(x,(str,float))"
   ],
   "outputs": [
    {
     "output_type": "execute_result",
     "data": {
      "text/plain": [
       "True"
      ]
     },
     "metadata": {},
     "execution_count": 2
    }
   ],
   "metadata": {}
  },
  {
   "cell_type": "code",
   "execution_count": 1,
   "source": [
    "import math as mt #Import 'math' library to perform arithmetic calculations on a number.\r\n",
    "mt.sqrt(15)"
   ],
   "outputs": [
    {
     "output_type": "execute_result",
     "data": {
      "text/plain": [
       "3.872983346207417"
      ]
     },
     "metadata": {},
     "execution_count": 1
    }
   ],
   "metadata": {}
  },
  {
   "cell_type": "code",
   "execution_count": 4,
   "source": [
    "from math import sqrt  #Instead of importing whole 'math' library, we instead imported only 'sqrt' function.\r\n",
    "sqrt(6)"
   ],
   "outputs": [
    {
     "output_type": "execute_result",
     "data": {
      "text/plain": [
       "2.449489742783178"
      ]
     },
     "metadata": {},
     "execution_count": 4
    }
   ],
   "metadata": {}
  },
  {
   "cell_type": "code",
   "execution_count": 7,
   "source": [
    "from math import*  #Import all functions from the 'math' library.\r\n",
    "sqrt(34),pow(2,4)"
   ],
   "outputs": [
    {
     "output_type": "execute_result",
     "data": {
      "text/plain": [
       "(5.830951894845301, 16.0)"
      ]
     },
     "metadata": {},
     "execution_count": 7
    }
   ],
   "metadata": {}
  },
  {
   "cell_type": "code",
   "execution_count": null,
   "source": [
    "#We can make a list in Python by enclosing elements in a '[]' or using 'list()' command. \r\n",
    "#Lists are heterogenous(i.e. can contain elements of different types numeric,string,float)\r\n",
    "#Lists are ordered(i.e. they have an index value for each element) and mutable i.e. editable.\r\n",
    "#Tuples are ordered and immutable i.e. its elements can't be changed/edited.\r\n",
    "#We can make a tuple in Python by simply writing elements separated by commas, by enclosing them in () or using 'tuple()'. "
   ],
   "outputs": [],
   "metadata": {}
  },
  {
   "cell_type": "code",
   "execution_count": 1,
   "source": [
    "bike=['discover','pulsar','avenger','apache']\r\n",
    "print(f'My first bike was {bike[0].title()}.')"
   ],
   "outputs": [
    {
     "output_type": "stream",
     "name": "stdout",
     "text": [
      "My first bike was Discover.\n"
     ]
    }
   ],
   "metadata": {}
  },
  {
   "cell_type": "code",
   "execution_count": 19,
   "source": [
    "a,b,c=3,4,5  #We can assign multiple values simultaneously to multiple objects.\r\n",
    "print(a,b,c)"
   ],
   "outputs": [
    {
     "output_type": "stream",
     "name": "stdout",
     "text": [
      "3 4 5\n"
     ]
    }
   ],
   "metadata": {}
  },
  {
   "cell_type": "code",
   "execution_count": 1,
   "source": [
    "t=23,4,576,'abc'  #This is a tuple. An object separated by commas and can have multiple types of values. We can make a tuple simply by separating values by commas. We can also include a parentheses(i.e.()) to enclose the values.\r\n",
    "print(t,type(t))"
   ],
   "outputs": [
    {
     "output_type": "stream",
     "name": "stdout",
     "text": [
      "(23, 4, 576, 'abc') <class 'tuple'>\n"
     ]
    }
   ],
   "metadata": {
    "scrolled": true
   }
  },
  {
   "cell_type": "code",
   "execution_count": 44,
   "source": [
    "t1=3,  #A tuple with a single element must be followed by a comma. Else it gets recognised as a number.\r\n",
    "type(t1)"
   ],
   "outputs": [
    {
     "output_type": "execute_result",
     "data": {
      "text/plain": [
       "tuple"
      ]
     },
     "metadata": {},
     "execution_count": 44
    }
   ],
   "metadata": {}
  },
  {
   "cell_type": "code",
   "execution_count": 2,
   "source": [
    "for i in t:  #Here we iterate a tuple and simply print all its elements.\r\n",
    "    print(i)"
   ],
   "outputs": [
    {
     "output_type": "stream",
     "name": "stdout",
     "text": [
      "23\n",
      "4\n",
      "576\n",
      "abc\n"
     ]
    }
   ],
   "metadata": {
    "scrolled": true
   }
  },
  {
   "cell_type": "code",
   "execution_count": 3,
   "source": [
    "for i in range(2):  #Here we specify a range of iteration and print only elements which lie in the range.\r\n",
    "    print(t[i])"
   ],
   "outputs": [
    {
     "output_type": "stream",
     "name": "stdout",
     "text": [
      "23\n",
      "4\n"
     ]
    }
   ],
   "metadata": {
    "scrolled": true
   }
  },
  {
   "cell_type": "code",
   "execution_count": 6,
   "source": [
    "#If we want to edit/change objects in a tuple, it will throw an error as a tuple is immutable.\r\n",
    "#A simple workaround is to convert a tuple into a list, specify the changes and then convert it back to tuple.\r\n",
    "sample=list(t)\r\n",
    "sample[2]=57  #Edit the value at position 2 giving it a new value 57.\r\n",
    "new_t=tuple(sample)\r\n",
    "print(new_t,type(new_t))"
   ],
   "outputs": [
    {
     "output_type": "stream",
     "name": "stdout",
     "text": [
      "(23, 4, 57, 'abc') <class 'tuple'>\n"
     ]
    }
   ],
   "metadata": {}
  },
  {
   "cell_type": "code",
   "execution_count": 7,
   "source": [
    "t+new_t  #Concatenate tuples using '+' operator."
   ],
   "outputs": [
    {
     "output_type": "execute_result",
     "data": {
      "text/plain": [
       "(23, 4, 576, 'abc', 23, 4, 57, 'abc')"
      ]
     },
     "metadata": {},
     "execution_count": 7
    }
   ],
   "metadata": {
    "scrolled": true
   }
  },
  {
   "cell_type": "code",
   "execution_count": 8,
   "source": [
    "import itertools as it\r\n",
    "t1=tuple(i for i in it.chain(t,new_t))\r\n",
    "t1  #We can also concatenate using 'chain' function from 'itertools' library. This is time efficient from big data perspective."
   ],
   "outputs": [
    {
     "output_type": "execute_result",
     "data": {
      "text/plain": [
       "(23, 4, 576, 'abc', 23, 4, 57, 'abc')"
      ]
     },
     "metadata": {},
     "execution_count": 8
    }
   ],
   "metadata": {}
  },
  {
   "cell_type": "code",
   "execution_count": 10,
   "source": [
    "t2=(2,21,7,8),'emma',[3,1,7]  #Example of nested tuple i.e. tuple within a tuple.\r\n",
    "print(t2,type(t2))"
   ],
   "outputs": [
    {
     "output_type": "stream",
     "name": "stdout",
     "text": [
      "((2, 21, 7, 8), 'emma', [3, 1, 7]) <class 'tuple'>\n"
     ]
    }
   ],
   "metadata": {
    "scrolled": true
   }
  },
  {
   "cell_type": "code",
   "execution_count": 11,
   "source": [
    "for i in t2:   #Here we iterate a nested tuple.\r\n",
    "    print('Object',i,':')\r\n",
    "    for j in i:\r\n",
    "        print(j,end=',')  #Supplying 'end' option as ',' prints elements horizontally separated by comma. Else by default it prints vertically 1 element in each line.\r\n",
    "        print('\\n')  "
   ],
   "outputs": [
    {
     "output_type": "stream",
     "name": "stdout",
     "text": [
      "Object (2, 21, 7, 8) :\n",
      "2,\n",
      "\n",
      "21,\n",
      "\n",
      "7,\n",
      "\n",
      "8,\n",
      "\n",
      "Object emma :\n",
      "e,\n",
      "\n",
      "m,\n",
      "\n",
      "m,\n",
      "\n",
      "a,\n",
      "\n",
      "Object [3, 1, 7] :\n",
      "3,\n",
      "\n",
      "1,\n",
      "\n",
      "7,\n",
      "\n"
     ]
    }
   ],
   "metadata": {
    "scrolled": true
   }
  },
  {
   "cell_type": "code",
   "execution_count": 36,
   "source": [
    "x,y,z,e=t #This is called sequence unpacking, where we assign values in our tuple to 4 corresponding variables on LHS.\r\n",
    "x,y"
   ],
   "outputs": [
    {
     "output_type": "execute_result",
     "data": {
      "text/plain": [
       "(23, 4)"
      ]
     },
     "metadata": {},
     "execution_count": 36
    }
   ],
   "metadata": {
    "scrolled": false
   }
  },
  {
   "cell_type": "code",
   "execution_count": null,
   "source": [
    "#As tuples are immutable, they are write protected. They can be used as read only or fixed data that doesn't change.\r\n",
    "#Also they can be used as keys for dictionaries while lists can't be used for this purpose."
   ],
   "outputs": [],
   "metadata": {}
  },
  {
   "cell_type": "code",
   "execution_count": null,
   "source": [
    "#Flow control statements are divided into 3 categories:\r\n",
    "# Conditional Statements- We execute a block of code as per the condition being True/False. Examples of conditional statements are if,if-else,if-elif-else,nested if-else.\r\n",
    "# Iterative Statements- We execute a block of code as long as a condition hold True. Example of this statement are for loop, while loop.\r\n",
    "# Transfer Statements- These are used to alter the way of execution of a program in a certain manner. Example of these statements are break,continue,pass statements.\r\n",
    "\r\n",
    "#The 'break' statement is used inside the loop to exit out of the loop. It is used when we want to terminate the loop as soon as a condition is met instead of performing the remaining iterations.\r\n",
    "#The 'continue' statement is used inside the loop to skip the current iteration and continue to the next one."
   ],
   "outputs": [],
   "metadata": {}
  },
  {
   "cell_type": "code",
   "execution_count": 18,
   "source": [
    "Life=\"Nothing is constant.Be it success, failure or pain. Only constant is life itself.\"\r\n",
    "if 'success' in Life:  #This is a chain of 'if' conditions. They are all executed irrespective of whether a previous one is True or not. \r\n",
    "    print(f\"Stay grounded and keep going.\")\r\n",
    "if 'failure' in Life:\r\n",
    "    print(f\"Keep calm and work hard.\")\r\n",
    "if 'pain' in Life:\r\n",
    "    print(f\"Take paracetamol, go to sleep and start working again.\")"
   ],
   "outputs": [
    {
     "output_type": "stream",
     "name": "stdout",
     "text": [
      "Stay grounded and keep going.\n",
      "Keep calm and work hard.\n",
      "Take paracetamol, go to sleep and start working again.\n"
     ]
    }
   ],
   "metadata": {}
  },
  {
   "cell_type": "code",
   "execution_count": 1,
   "source": [
    "a= 175\r\n",
    "if a<100:\r\n",
    "    print('Less than 100.')\r\n",
    "elif not(a<100):\r\n",
    "    print('Not less.')\r\n",
    "print('Check complete.')"
   ],
   "outputs": [
    {
     "output_type": "stream",
     "name": "stdout",
     "text": [
      "Not less.\n",
      "Check complete.\n"
     ]
    }
   ],
   "metadata": {}
  },
  {
   "cell_type": "code",
   "execution_count": 3,
   "source": [
    "for i in range(10):\r\n",
    "    if i>6:\r\n",
    "        print('we stop here !!')\r\n",
    "        break\r\n",
    "    else:\r\n",
    "        print(i)"
   ],
   "outputs": [
    {
     "output_type": "stream",
     "name": "stdout",
     "text": [
      "0\n",
      "1\n",
      "2\n",
      "3\n",
      "4\n",
      "5\n",
      "6\n",
      "we stop here !!\n"
     ]
    }
   ],
   "metadata": {
    "scrolled": true
   }
  },
  {
   "cell_type": "code",
   "execution_count": 4,
   "source": [
    "for i in range(1,30,4):\r\n",
    "    print(i*2)\r\n",
    "    if i%5 == 0:\r\n",
    "        break"
   ],
   "outputs": [
    {
     "output_type": "stream",
     "name": "stdout",
     "text": [
      "2\n",
      "10\n"
     ]
    }
   ],
   "metadata": {}
  },
  {
   "cell_type": "code",
   "execution_count": 4,
   "source": [
    "x1=9;y1=7   #Illustrates basic use of 'and' logical operator.\r\n",
    "if x1>6 and y1>6:\r\n",
    "    print('Both')\r\n",
    "else:\r\n",
    "    print('Not Both')"
   ],
   "outputs": [
    {
     "output_type": "stream",
     "name": "stdout",
     "text": [
      "Both\n"
     ]
    }
   ],
   "metadata": {}
  },
  {
   "cell_type": "code",
   "execution_count": 5,
   "source": [
    "if x1<8 or y1<8:   #Illustrates use of 'or' logical operator.\r\n",
    "    print(\"Atleast one\")\r\n",
    "else:\r\n",
    "    print('False')"
   ],
   "outputs": [
    {
     "output_type": "stream",
     "name": "stdout",
     "text": [
      "Atleast one\n"
     ]
    }
   ],
   "metadata": {}
  },
  {
   "cell_type": "code",
   "execution_count": 5,
   "source": [
    "def user_check(choice):\r\n",
    "    \"\"\" This is a function which checks and returns\r\n",
    "        the type of person using the function.\"\"\"\r\n",
    "    if choice == 1:\r\n",
    "        print(\"Admin\")    #Basic use of 'if-elif-else' conditional flow control.\r\n",
    "    elif choice == 2:\r\n",
    "        print(\"Editor\")\r\n",
    "    elif choice == 3:\r\n",
    "        print(\"Guest\")\r\n",
    "    else:\r\n",
    "        print(\"Wrong entry\")\r\n",
    "user_check(2)        "
   ],
   "outputs": [
    {
     "output_type": "stream",
     "name": "stdout",
     "text": [
      "Editor\n"
     ]
    }
   ],
   "metadata": {}
  },
  {
   "cell_type": "code",
   "execution_count": 6,
   "source": [
    "name1=input('Enter Name:')\r\n",
    "Age=float(input('Enter Age:'))  #Since the result of 'input' function is a string, we convert it to float and then store it under object 'Age'.\r\n",
    "if Age<18:\r\n",
    "    print(f\"Hi {name1}! You're not eligible for vaccine yet.\")\r\n",
    "elif Age>=18 and Age<45:\r\n",
    "    print(f\"Hi {name1}! Register yourself on cowin website and schedule your vaccine.\")\r\n",
    "else:\r\n",
    "    print(f\"Hi {name1}! If you're still not vaccinated, hurry up.\")\r\n",
    "print(f\"Thanks for participating {name1}!\")"
   ],
   "outputs": [
    {
     "output_type": "stream",
     "name": "stdout",
     "text": [
      "Hi Raghav Singh! Register yourself on cowin website and schedule your vaccine.\n",
      "Thanks for participating Raghav Singh!\n"
     ]
    }
   ],
   "metadata": {}
  },
  {
   "cell_type": "code",
   "execution_count": 3,
   "source": [
    "for i in range(1,11):\r\n",
    "    if i>2 and i<8:\r\n",
    "        continue\r\n",
    "    print(i)    "
   ],
   "outputs": [
    {
     "output_type": "stream",
     "name": "stdout",
     "text": [
      "1\n",
      "2\n",
      "8\n",
      "9\n",
      "10\n"
     ]
    }
   ],
   "metadata": {}
  },
  {
   "cell_type": "code",
   "execution_count": 11,
   "source": [
    "ingredients=['cheese','pepperoni','mushroom','babycorn']\r\n",
    "for i in ingredients:   #This 'for' loop iterates over each value of list 'ingredients'. But when it takes value 'pepperoni' it executes an if condition.\r\n",
    "    if i=='pepperoni':\r\n",
    "        print(f\"Sorry,we can't add {i} as of now.\")\r\n",
    "    else:               #The 'else' statement ensures all other ingredients apart from 'pepperoni' do get added.\r\n",
    "        print(f\"Adding {i}\")\r\n",
    "print(f\"\\nYour pizza is ready.\")"
   ],
   "outputs": [
    {
     "output_type": "stream",
     "name": "stdout",
     "text": [
      "Adding cheese\n",
      "Sorry,we can't add pepperoni as of now.\n",
      "Adding mushroom\n",
      "Adding babycorn\n",
      "\n",
      "Your pizza is ready.\n"
     ]
    }
   ],
   "metadata": {}
  },
  {
   "cell_type": "code",
   "execution_count": 1,
   "source": [
    "toppings=[]\r\n",
    "if toppings:   #When the name of an object 'toppings' is given with an 'if' statement, Python checks if the object has at least 1 element. If 'True',it then runs the 'for' loop iteration over each value of the object.\r\n",
    "    for i in toppings:\r\n",
    "        print(f\"Adding {i}.\")\r\n",
    "    print(\"\\n Your pizza is ready\")\r\n",
    "else:\r\n",
    "    print(\"No toppings added.\")"
   ],
   "outputs": [
    {
     "output_type": "stream",
     "name": "stdout",
     "text": [
      "No toppings added.\n"
     ]
    }
   ],
   "metadata": {}
  },
  {
   "cell_type": "code",
   "execution_count": 3,
   "source": [
    "available_toppings=['pepperoni','mushroom','olives','extra cheese','capsicum']\r\n",
    "requested_toppings=['mushroom','french fries','olives']\r\n",
    "for i in requested_toppings:\r\n",
    "    if i not in available_toppings:\r\n",
    "        print(f\"Sorry, we don't have {i} right now.\")\r\n",
    "    else:\r\n",
    "        print(f\"Adding {i} topping.\")\r\n",
    "print('\\nYour pizza is ready !')"
   ],
   "outputs": [
    {
     "output_type": "stream",
     "name": "stdout",
     "text": [
      "Adding mushroom topping.\n",
      "Sorry, we don't have french fries right now.\n",
      "Adding olives topping.\n",
      "\n",
      "Your pizza is ready !\n"
     ]
    }
   ],
   "metadata": {}
  },
  {
   "cell_type": "code",
   "execution_count": 7,
   "source": [
    "c=x1>10 and y1>10  #Create a object having true/false value for the logical condition.\r\n",
    "if not(c):        #The 'not' operator checks for a condition to be false. The object 'c' has value 'False',hence prints 'true'.\r\n",
    "    print('true')\r\n",
    "else:\r\n",
    "    print('false')"
   ],
   "outputs": [
    {
     "output_type": "stream",
     "name": "stdout",
     "text": [
      "true\n"
     ]
    }
   ],
   "metadata": {}
  },
  {
   "cell_type": "code",
   "execution_count": 8,
   "source": [
    "c1=[12,3,67,31,91,51,47]\r\n",
    "number=91\r\n",
    "if number in c1:   #The keyword 'in' is used to check whether a value exists inside an object.\r\n",
    "    print(\"It's there.\" )\r\n",
    "else:\r\n",
    "    print('Not')"
   ],
   "outputs": [
    {
     "output_type": "stream",
     "name": "stdout",
     "text": [
      "It's there.\n"
     ]
    }
   ],
   "metadata": {}
  },
  {
   "cell_type": "code",
   "execution_count": 9,
   "source": [
    "if 5 not in c1:    #The keyword 'not in' is used to check whether a value doesn't exist inside an object.\r\n",
    "    print('Not there')\r\n",
    "else:\r\n",
    "    print('There.')"
   ],
   "outputs": [
    {
     "output_type": "stream",
     "name": "stdout",
     "text": [
      "Not there\n"
     ]
    }
   ],
   "metadata": {
    "scrolled": true
   }
  },
  {
   "cell_type": "code",
   "execution_count": 42,
   "source": [
    "a=[2,7,1,9,4,6]  \r\n",
    "a[2:4]=90,1,7   #Remove the values from position 2 till 4 i.e. remove 1 and 9. Then replace them with given values.\r\n",
    "a"
   ],
   "outputs": [
    {
     "output_type": "execute_result",
     "data": {
      "text/plain": [
       "[2, 7, 90, 1, 7, 4, 6]"
      ]
     },
     "metadata": {},
     "execution_count": 42
    }
   ],
   "metadata": {}
  },
  {
   "cell_type": "code",
   "execution_count": 44,
   "source": [
    "A=[7,2];B=[4,1,3]  #We check whether all elements of a list are present or not present in another list.\r\n",
    "print(A in a,B not in a)"
   ],
   "outputs": [
    {
     "output_type": "stream",
     "name": "stdout",
     "text": [
      "False True\n"
     ]
    }
   ],
   "metadata": {}
  },
  {
   "cell_type": "code",
   "execution_count": 21,
   "source": [
    "ab=[2,3,2,5,7,4] #Just like strings,this is a list of numeric values.We get our output value which is at position 3 in list.\r\n",
    "ab[3]"
   ],
   "outputs": [
    {
     "output_type": "execute_result",
     "data": {
      "text/plain": [
       "5"
      ]
     },
     "metadata": {},
     "execution_count": 21
    }
   ],
   "metadata": {
    "scrolled": true
   }
  },
  {
   "cell_type": "code",
   "execution_count": 22,
   "source": [
    "ab[3:]"
   ],
   "outputs": [
    {
     "output_type": "execute_result",
     "data": {
      "text/plain": [
       "[5, 7, 4]"
      ]
     },
     "metadata": {},
     "execution_count": 22
    }
   ],
   "metadata": {
    "scrolled": true
   }
  },
  {
   "cell_type": "code",
   "execution_count": 23,
   "source": [
    "cd=[23,41,32,45] #Just like string concatenation,we can concatenate lists.\r\n",
    "ab+cd"
   ],
   "outputs": [
    {
     "output_type": "execute_result",
     "data": {
      "text/plain": [
       "[2, 3, 2, 5, 7, 4, 23, 41, 32, 45]"
      ]
     },
     "metadata": {},
     "execution_count": 23
    }
   ],
   "metadata": {}
  },
  {
   "cell_type": "code",
   "execution_count": 24,
   "source": [
    "ab[3]=7  #Replace value at position 3 with value 7.\r\n",
    "ab"
   ],
   "outputs": [
    {
     "output_type": "execute_result",
     "data": {
      "text/plain": [
       "[2, 3, 2, 7, 7, 4]"
      ]
     },
     "metadata": {},
     "execution_count": 24
    }
   ],
   "metadata": {}
  },
  {
   "cell_type": "code",
   "execution_count": 25,
   "source": [
    "a1=ab[:] #Produces a copy of list 'ab'. Its basically a slice where we've removed the first and second indexes.\r\n",
    "a1"
   ],
   "outputs": [
    {
     "output_type": "execute_result",
     "data": {
      "text/plain": [
       "[2, 3, 2, 7, 7, 4]"
      ]
     },
     "metadata": {},
     "execution_count": 25
    }
   ],
   "metadata": {
    "scrolled": true
   }
  },
  {
   "cell_type": "code",
   "execution_count": 26,
   "source": [
    "ab.append(2**4) #Append 2^4 in the list 'ab'\r\n",
    "ab"
   ],
   "outputs": [
    {
     "output_type": "execute_result",
     "data": {
      "text/plain": [
       "[2, 3, 2, 7, 7, 4, 16]"
      ]
     },
     "metadata": {},
     "execution_count": 26
    }
   ],
   "metadata": {
    "scrolled": false
   }
  },
  {
   "cell_type": "code",
   "execution_count": 27,
   "source": [
    "a2=[2,45,3] \r\n",
    "a1.extend(a2)  #Append list 'a2' to list 'a1'. Works similarly to a1+a2.\r\n",
    "a1"
   ],
   "outputs": [
    {
     "output_type": "execute_result",
     "data": {
      "text/plain": [
       "[2, 3, 2, 7, 7, 4, 2, 45, 3]"
      ]
     },
     "metadata": {},
     "execution_count": 27
    }
   ],
   "metadata": {
    "scrolled": true
   }
  },
  {
   "cell_type": "code",
   "execution_count": 13,
   "source": [
    "a=[2,4,7,9,1];b=[0,2,0,1]\r\n",
    "a.append(b)\r\n",
    "a  #As evident, 'append' simply attaches at the end the object as it is. So it appends a list inside a list."
   ],
   "outputs": [
    {
     "output_type": "execute_result",
     "data": {
      "text/plain": [
       "[2, 4, 7, 9, 1, [0, 2, 0, 1]]"
      ]
     },
     "metadata": {},
     "execution_count": 13
    }
   ],
   "metadata": {}
  },
  {
   "cell_type": "code",
   "execution_count": 38,
   "source": [
    "food=['carrot','onion','cucumber','potato']\r\n",
    "food_new=food[:]\r\n",
    "food_new.extend(['tomato','cheese'])\r\n",
    "print(f'Following is the food I eat, although my favorite is {food[2]}.')\r\n",
    "print(food)\r\n",
    "print('\\nMy friend though prefers the following:')\r\n",
    "print(food_new)"
   ],
   "outputs": [
    {
     "output_type": "stream",
     "name": "stdout",
     "text": [
      "Following is the food I eat, although my favorite is cucumber.\n",
      "['carrot', 'onion', 'cucumber', 'potato']\n",
      "\n",
      "My friend though prefers the following:\n",
      "['carrot', 'onion', 'cucumber', 'potato', 'tomato', 'cheese']\n"
     ]
    }
   ],
   "metadata": {}
  },
  {
   "cell_type": "code",
   "execution_count": 14,
   "source": [
    "a.extend(b)\r\n",
    "a  #The 'extend' function adds elements of list 'b' to list 'a'. Hence elements are a continuation of same list.\r\n",
    "#The 'extend' works similar to concatenate '+'. So 'a.extend(b)' is same as a+b."
   ],
   "outputs": [
    {
     "output_type": "execute_result",
     "data": {
      "text/plain": [
       "[2, 4, 7, 9, 1, [0, 2, 0, 1], 0, 2, 0, 1]"
      ]
     },
     "metadata": {},
     "execution_count": 14
    }
   ],
   "metadata": {}
  },
  {
   "cell_type": "code",
   "execution_count": 28,
   "source": [
    "ab.insert(3,45) #Insert value 45 at position 3 of list 'ab'. Hence value 45 becomes the 4th value.\r\n",
    "ab"
   ],
   "outputs": [
    {
     "output_type": "execute_result",
     "data": {
      "text/plain": [
       "[2, 3, 2, 45, 7, 7, 4, 16]"
      ]
     },
     "metadata": {},
     "execution_count": 28
    }
   ],
   "metadata": {
    "scrolled": false
   }
  },
  {
   "cell_type": "code",
   "execution_count": 29,
   "source": [
    "ab.pop(4) #Deletes the value at 4th position in list 'ab'.\r\n",
    "ab"
   ],
   "outputs": [
    {
     "output_type": "execute_result",
     "data": {
      "text/plain": [
       "[2, 3, 2, 45, 7, 4, 16]"
      ]
     },
     "metadata": {},
     "execution_count": 29
    }
   ],
   "metadata": {
    "scrolled": false
   }
  },
  {
   "cell_type": "code",
   "execution_count": 30,
   "source": [
    "ab.pop(3)  #The 'pop' function returns the value it deletes, in this case 45.Hence to get the new list, we need to type 'ab'."
   ],
   "outputs": [
    {
     "output_type": "execute_result",
     "data": {
      "text/plain": [
       "45"
      ]
     },
     "metadata": {},
     "execution_count": 30
    }
   ],
   "metadata": {}
  },
  {
   "cell_type": "code",
   "execution_count": 1,
   "source": [
    "s1=\"We're here. It feels good !\"\r\n",
    "s1.replace('good','bad')"
   ],
   "outputs": [
    {
     "output_type": "execute_result",
     "data": {
      "text/plain": [
       "\"We're here. It feels bad !\""
      ]
     },
     "metadata": {},
     "execution_count": 1
    }
   ],
   "metadata": {}
  },
  {
   "cell_type": "code",
   "execution_count": 16,
   "source": [
    "cars=['scorpio','safari','fortuner','ecosport']\r\n",
    "#By default when no value is specified as argument, the 'pop()' function deletes or pops out the last value in the list. \r\n",
    "f\"I'm currently using a Honda Civic, but my last car was {cars.pop().title()}.\""
   ],
   "outputs": [
    {
     "output_type": "execute_result",
     "data": {
      "text/plain": [
       "\"I'm currently using a Honda Civic, but my last car was Ecosport.\""
      ]
     },
     "metadata": {},
     "execution_count": 16
    }
   ],
   "metadata": {}
  },
  {
   "cell_type": "code",
   "execution_count": 18,
   "source": [
    "cars.remove('safari')  #The 'remove()' function deletes item from a list just like 'del()', but it takes a value as argument. \r\n",
    "cars   #The 'remove()' function only deletes the first occurance of a value from the list. If there are multiple occurances, we will need to run a loop."
   ],
   "outputs": [
    {
     "output_type": "execute_result",
     "data": {
      "text/plain": [
       "['scorpio', 'fortuner']"
      ]
     },
     "metadata": {},
     "execution_count": 18
    }
   ],
   "metadata": {}
  },
  {
   "cell_type": "code",
   "execution_count": 31,
   "source": [
    "del ab[4] #The 'del' function deletes value at 4th position.\r\n",
    "ab"
   ],
   "outputs": [
    {
     "output_type": "execute_result",
     "data": {
      "text/plain": [
       "[2, 3, 2, 7, 16]"
      ]
     },
     "metadata": {},
     "execution_count": 31
    }
   ],
   "metadata": {
    "scrolled": false
   }
  },
  {
   "cell_type": "code",
   "execution_count": 32,
   "source": [
    "del ab[2:]  #Deletes all values from position 2(i.e. 3rd value) onwards.\r\n",
    "ab"
   ],
   "outputs": [
    {
     "output_type": "execute_result",
     "data": {
      "text/plain": [
       "[2, 3]"
      ]
     },
     "metadata": {},
     "execution_count": 32
    }
   ],
   "metadata": {}
  },
  {
   "cell_type": "code",
   "execution_count": 33,
   "source": [
    "del ab[:]  #Delete the list.\r\n",
    "ab"
   ],
   "outputs": [
    {
     "output_type": "execute_result",
     "data": {
      "text/plain": [
       "[]"
      ]
     },
     "metadata": {},
     "execution_count": 33
    }
   ],
   "metadata": {}
  },
  {
   "cell_type": "code",
   "execution_count": 26,
   "source": [
    "a2=[2,9,1,9,6,7]  #Delete value 9 wherever it occurs from list 'a2'.\r\n",
    "a2=[i for i in a2 if i!=9]\r\n",
    "a2"
   ],
   "outputs": [
    {
     "output_type": "execute_result",
     "data": {
      "text/plain": [
       "[2, 1, 6, 7]"
      ]
     },
     "metadata": {},
     "execution_count": 26
    }
   ],
   "metadata": {}
  },
  {
   "cell_type": "code",
   "execution_count": 9,
   "source": [
    "a1=[2,5,3,3,5,3,7,1,9]  #Count how many times 3 appears in list 'a1'\r\n",
    "a1.count(3)"
   ],
   "outputs": [
    {
     "output_type": "execute_result",
     "data": {
      "text/plain": [
       "3"
      ]
     },
     "metadata": {},
     "execution_count": 9
    }
   ],
   "metadata": {
    "scrolled": false
   }
  },
  {
   "cell_type": "code",
   "execution_count": 3,
   "source": [
    "len(a1) #Count no. of items in list 'a1'"
   ],
   "outputs": [
    {
     "output_type": "execute_result",
     "data": {
      "text/plain": [
       "9"
      ]
     },
     "metadata": {},
     "execution_count": 3
    }
   ],
   "metadata": {
    "scrolled": true
   }
  },
  {
   "cell_type": "code",
   "execution_count": 15,
   "source": [
    "a1.sort()  #Sorts list 'a1' in ascending order by default. The 'sort' function performs the sorting and saves the changes in the same list.\r\n",
    "print(a1)   #Hence the original list 'a1' gets over written."
   ],
   "outputs": [
    {
     "output_type": "stream",
     "name": "stdout",
     "text": [
      "[2, 3, 3, 3, 4, 5, 7, 7, 9]\n"
     ]
    }
   ],
   "metadata": {
    "scrolled": true
   }
  },
  {
   "cell_type": "code",
   "execution_count": 17,
   "source": [
    "a1.sort(reverse=True)  #Sorts list 'a1' in descending order.\r\n",
    "print(a1)"
   ],
   "outputs": [
    {
     "output_type": "stream",
     "name": "stdout",
     "text": [
      "[9, 7, 7, 5, 4, 3, 3, 3, 2]\n"
     ]
    }
   ],
   "metadata": {
    "scrolled": true
   }
  },
  {
   "cell_type": "code",
   "execution_count": 18,
   "source": [
    "a1  #We see list 'a1' has changed to the sorted list. Some functions like 'sort' change the object instead of returning a value."
   ],
   "outputs": [
    {
     "output_type": "execute_result",
     "data": {
      "text/plain": [
       "[9, 7, 7, 5, 4, 3, 3, 3, 2]"
      ]
     },
     "metadata": {},
     "execution_count": 18
    }
   ],
   "metadata": {
    "scrolled": true
   }
  },
  {
   "cell_type": "code",
   "execution_count": 10,
   "source": [
    "print(sorted(a1), a1) #Function 'sorted' returns a sorted list rather than changing the original list. Hence list 'a1' remains the same."
   ],
   "outputs": [
    {
     "output_type": "stream",
     "name": "stdout",
     "text": [
      "[1, 2, 3, 3, 3, 5, 5, 7, 9] [2, 5, 3, 3, 5, 3, 7, 1, 9]\n"
     ]
    }
   ],
   "metadata": {
    "scrolled": false
   }
  },
  {
   "cell_type": "code",
   "execution_count": 7,
   "source": [
    "z1=['apple','ornage','mango','banana','lemon'] #We can use the 'reverse=True' option to sort the list in descending order. Again, the original list 'z1' remains the same.\r\n",
    "print(sorted(z1,reverse=True),z1)"
   ],
   "outputs": [
    {
     "output_type": "stream",
     "name": "stdout",
     "text": [
      "['ornage', 'mango', 'lemon', 'banana', 'apple'] ['apple', 'ornage', 'mango', 'banana', 'lemon']\n"
     ]
    }
   ],
   "metadata": {}
  },
  {
   "cell_type": "code",
   "execution_count": 27,
   "source": [
    "z2=['a','m','i','f','d']  #The 'reverse()' function simply gives the reverse list. No sorting is done.\r\n",
    "z2.reverse()\r\n",
    "z2"
   ],
   "outputs": [
    {
     "output_type": "execute_result",
     "data": {
      "text/plain": [
       "['d', 'f', 'i', 'm', 'a']"
      ]
     },
     "metadata": {},
     "execution_count": 27
    }
   ],
   "metadata": {}
  },
  {
   "cell_type": "code",
   "execution_count": 5,
   "source": [
    "#Another method of reversing contents of a list is by using 'reversed()' function inside a 'for' loop.\r\n",
    "c2=[2,9,43,7,41,27]\r\n",
    "for i in reversed(c2):\r\n",
    "    print(i)\r\n"
   ],
   "outputs": [
    {
     "output_type": "stream",
     "name": "stdout",
     "text": [
      "27\n",
      "41\n",
      "7\n",
      "43\n",
      "9\n",
      "2\n"
     ]
    }
   ],
   "metadata": {
    "scrolled": true
   }
  },
  {
   "cell_type": "code",
   "execution_count": 21,
   "source": [
    "a2=[(2,3),(1,5),(4,1),(7,3)]\r\n",
    "def myf(d):\r\n",
    "    return d[-1]  #The 'myf' function takes an argument and returns its last value.\r\n",
    "a2.sort(key=myf)  #Here 'key' option can only be a function. So 'key' takes 'myf' function and applies it to each element of list 'a2'. This gives us the 2nd element of each sub-element of 'a2'. This is then used                    to sort 'a2'.\r\n",
    "print(a2)         "
   ],
   "outputs": [
    {
     "output_type": "stream",
     "name": "stdout",
     "text": [
      "[(4, 1), (2, 3), (7, 3), (1, 5)]\n"
     ]
    }
   ],
   "metadata": {}
  },
  {
   "cell_type": "code",
   "execution_count": 33,
   "source": [
    "x=[2,4,3]\r\n",
    "y=['a','b','c'] #Creating a nested list i.e. list of lists.\r\n",
    "z=[x,y]\r\n",
    "z"
   ],
   "outputs": [
    {
     "output_type": "execute_result",
     "data": {
      "text/plain": [
       "[[2, 4, 3], ['a', 'b', 'c']]"
      ]
     },
     "metadata": {},
     "execution_count": 33
    }
   ],
   "metadata": {
    "scrolled": true
   }
  },
  {
   "cell_type": "code",
   "execution_count": 1,
   "source": [
    "x=[2,34,52,3,5,4,6,5]\r\n",
    "index=x.index(5)  #Gives the index of first match found in the list.\r\n",
    "index"
   ],
   "outputs": [
    {
     "output_type": "execute_result",
     "data": {
      "text/plain": [
       "4"
      ]
     },
     "metadata": {},
     "execution_count": 1
    }
   ],
   "metadata": {}
  },
  {
   "cell_type": "code",
   "execution_count": 40,
   "source": [
    "z1=[3,1,6,34,[2,14,7,5]]\r\n",
    "print(z1[2],z1[4][2])"
   ],
   "outputs": [
    {
     "output_type": "stream",
     "name": "stdout",
     "text": [
      "6 7\n"
     ]
    }
   ],
   "metadata": {
    "scrolled": true
   }
  },
  {
   "cell_type": "code",
   "execution_count": 13,
   "source": [
    "for i in range(7):\r\n",
    "    print('I love Arsenal FC')\r\n"
   ],
   "outputs": [
    {
     "output_type": "stream",
     "name": "stdout",
     "text": [
      "I love Arsenal FC\n",
      "I love Arsenal FC\n",
      "I love Arsenal FC\n",
      "I love Arsenal FC\n",
      "I love Arsenal FC\n",
      "I love Arsenal FC\n",
      "I love Arsenal FC\n"
     ]
    }
   ],
   "metadata": {}
  },
  {
   "cell_type": "code",
   "execution_count": 6,
   "source": [
    "for i in range(1,15,4):\r\n",
    "    print(i)"
   ],
   "outputs": [
    {
     "output_type": "stream",
     "name": "stdout",
     "text": [
      "1\n",
      "5\n",
      "9\n",
      "13\n"
     ]
    }
   ],
   "metadata": {
    "scrolled": true
   }
  },
  {
   "cell_type": "code",
   "execution_count": 33,
   "source": [
    "words=['dog','puppy','elephant','cat','mouse']\r\n",
    "for i in words:\r\n",
    "    print(i,len(i))"
   ],
   "outputs": [
    {
     "output_type": "stream",
     "name": "stdout",
     "text": [
      "dog 3\n",
      "puppy 5\n",
      "elephant 8\n",
      "cat 3\n",
      "mouse 5\n"
     ]
    }
   ],
   "metadata": {
    "scrolled": false
   }
  },
  {
   "cell_type": "code",
   "execution_count": 34,
   "source": [
    "for i in words[1:4]:   #Instead of looping over the entire list, we loop it over a slice.\r\n",
    "    print(i.upper(),len(i))"
   ],
   "outputs": [
    {
     "output_type": "stream",
     "name": "stdout",
     "text": [
      "PUPPY 5\n",
      "ELEPHANT 8\n",
      "CAT 3\n"
     ]
    }
   ],
   "metadata": {}
  },
  {
   "cell_type": "code",
   "execution_count": 1,
   "source": [
    "squares=[]  #We create an empty list. Then keep appending squares of numbers from 0 to 6 to complete the list.\r\n",
    "for i in range(7):\r\n",
    "    squares.append(i**2)\r\n",
    "squares    "
   ],
   "outputs": [
    {
     "output_type": "execute_result",
     "data": {
      "text/plain": [
       "[0, 1, 4, 9, 16, 25, 36]"
      ]
     },
     "metadata": {},
     "execution_count": 1
    }
   ],
   "metadata": {}
  },
  {
   "cell_type": "code",
   "execution_count": 2,
   "source": [
    "squares1=[i**2 for i in range(7)] #Does the same job as the one above. However, more clean and precise. This method is called list comprehension.\r\n",
    "squares1"
   ],
   "outputs": [
    {
     "output_type": "execute_result",
     "data": {
      "text/plain": [
       "[0, 1, 4, 9, 16, 25, 36]"
      ]
     },
     "metadata": {},
     "execution_count": 2
    }
   ],
   "metadata": {
    "scrolled": true
   }
  },
  {
   "cell_type": "code",
   "execution_count": 31,
   "source": [
    "practice=list(range(1,11,2)) #Take a range of numbers and convert them into a list.\r\n",
    "practice"
   ],
   "outputs": [
    {
     "output_type": "execute_result",
     "data": {
      "text/plain": [
       "[1, 3, 5, 7, 9]"
      ]
     },
     "metadata": {},
     "execution_count": 31
    }
   ],
   "metadata": {}
  },
  {
   "cell_type": "code",
   "execution_count": 32,
   "source": [
    "p1=[i**2 for i in practice]\r\n",
    "p1"
   ],
   "outputs": [
    {
     "output_type": "execute_result",
     "data": {
      "text/plain": [
       "[1, 9, 25, 49, 81]"
      ]
     },
     "metadata": {},
     "execution_count": 32
    }
   ],
   "metadata": {}
  },
  {
   "cell_type": "code",
   "execution_count": 10,
   "source": [
    "z=[(x,x**2) for x in range(6)] #Create a list 'z' having tuples of length 2 where 2nd value of tuple is square of first.\r\n",
    "z"
   ],
   "outputs": [
    {
     "output_type": "execute_result",
     "data": {
      "text/plain": [
       "[(0, 0), (1, 1), (2, 4), (3, 9), (4, 16), (5, 25)]"
      ]
     },
     "metadata": {},
     "execution_count": 10
    }
   ],
   "metadata": {}
  },
  {
   "cell_type": "code",
   "execution_count": 12,
   "source": [
    "z1=[(1,2,3),(4,5,6),(7,8,9)]  \r\n",
    "z2=[num for list in z1 for num in list]   #Here we flatten a list 'z1' having 3 sub-lists each of 3 values/tuples.\r\n",
    "z2  "
   ],
   "outputs": [
    {
     "output_type": "execute_result",
     "data": {
      "text/plain": [
       "[1, 2, 3, 4, 5, 6, 7, 8, 9]"
      ]
     },
     "metadata": {},
     "execution_count": 12
    }
   ],
   "metadata": {}
  },
  {
   "cell_type": "code",
   "execution_count": 6,
   "source": [
    "comb=[]  #create an empty list. \r\n",
    "for x in range(3): #For x and y taking values 0 to 2, find pairs (x,y) such that x!=y. Append the pairs in empty list 1 by 1.\r\n",
    "    for y in range(3):\r\n",
    "        if x!=y:\r\n",
    "          comb.append((x,y))\r\n",
    "comb        "
   ],
   "outputs": [
    {
     "output_type": "execute_result",
     "data": {
      "text/plain": [
       "[(0, 1), (0, 2), (1, 0), (1, 2), (2, 0), (2, 1)]"
      ]
     },
     "metadata": {},
     "execution_count": 6
    }
   ],
   "metadata": {}
  },
  {
   "cell_type": "code",
   "execution_count": 3,
   "source": [
    "combs=[(x,y) for x in range(3) for y in range(3) if x!=y]  #Does the same job as above in more compact,precise manner.\r\n",
    "combs"
   ],
   "outputs": [
    {
     "output_type": "execute_result",
     "data": {
      "text/plain": [
       "[(0, 1), (0, 2), (1, 0), (1, 2), (2, 0), (2, 1)]"
      ]
     },
     "metadata": {},
     "execution_count": 3
    }
   ],
   "metadata": {
    "scrolled": true
   }
  },
  {
   "cell_type": "code",
   "execution_count": 16,
   "source": [
    "a1=(2,7,1,9,4,6)  #Object 'a' is a list while 'a1' is a tuple. Tuples are made by enclosing in simple brackets.\r\n",
    "print(type(a1))  #Lists are mutable i.e. they can be changed while tuples are immutable.\r\n",
    "print(type(a))"
   ],
   "outputs": [
    {
     "output_type": "stream",
     "name": "stdout",
     "text": [
      "<class 'tuple'>\n",
      "<class 'list'>\n"
     ]
    }
   ],
   "metadata": {
    "scrolled": true
   }
  },
  {
   "cell_type": "code",
   "execution_count": 4,
   "source": [
    "vec=[2,-3,5,-7,6]\r\n",
    "vec1=[i*2 for i in vec] #Take a list and create a new list having values doubled.\r\n",
    "vec1"
   ],
   "outputs": [
    {
     "output_type": "execute_result",
     "data": {
      "text/plain": [
       "[4, -6, 10, -14, 12]"
      ]
     },
     "metadata": {},
     "execution_count": 4
    }
   ],
   "metadata": {
    "scrolled": true
   }
  },
  {
   "cell_type": "code",
   "execution_count": 5,
   "source": [
    "vec2=[i for i in vec if i>0] #Take a list and create a new list filtering only positive values.\r\n",
    "vec2"
   ],
   "outputs": [
    {
     "output_type": "execute_result",
     "data": {
      "text/plain": [
       "[2, 5, 6]"
      ]
     },
     "metadata": {},
     "execution_count": 5
    }
   ],
   "metadata": {
    "scrolled": true
   }
  },
  {
   "cell_type": "code",
   "execution_count": 20,
   "source": [
    "Life='Success,Failure,Joy,Pain'\r\n",
    "Temp= ['Failure','Pain']\r\n",
    "if any(i in Life for i in Temp):  #The 'for' loop takes each value from list 'temp' for its iteration. Each iteration of loop checks if that 'i' exists in string 'Life'. It gives 'True/False' as output. Then the 'any' function checks whether any value inside bracket is 'True'.(or 1) The 'if' condition then checks if output from 'any' function is 'True'; if yes then print the desired output.\r\n",
    "     print(f\"Stay Calm & Carry on.\")"
   ],
   "outputs": [
    {
     "output_type": "stream",
     "name": "stdout",
     "text": [
      "Stay Calm & Carry on.\n"
     ]
    }
   ],
   "metadata": {}
  },
  {
   "cell_type": "code",
   "execution_count": 9,
   "source": [
    "import statistics as stat  #Import 'statistics' module and calculate mean of list 'vec'.\r\n",
    "stat.mean(vec)"
   ],
   "outputs": [
    {
     "output_type": "execute_result",
     "data": {
      "text/plain": [
       "0.6"
      ]
     },
     "metadata": {},
     "execution_count": 9
    }
   ],
   "metadata": {
    "scrolled": true
   }
  },
  {
   "cell_type": "code",
   "execution_count": 24,
   "source": [
    "import math as m\r\n",
    "u=3.457\r\n",
    "print(m.ceil(u),m.floor(u))"
   ],
   "outputs": [
    {
     "output_type": "stream",
     "name": "stdout",
     "text": [
      "4 3\n"
     ]
    }
   ],
   "metadata": {
    "scrolled": false
   }
  },
  {
   "cell_type": "code",
   "execution_count": 11,
   "source": [
    "#'trunc' and 'fabs' function under 'math' library.\r\n",
    "v=-31.7678  #The 'trunc' function returns the integer part of the number with sign.\r\n",
    "print(m.trunc(v),m.fabs(v))  #The 'fabs' function takes the modulus of the number and returns a positive value."
   ],
   "outputs": [
    {
     "output_type": "stream",
     "name": "stdout",
     "text": [
      "-31 31.7678\n"
     ]
    }
   ],
   "metadata": {
    "scrolled": true
   }
  },
  {
   "cell_type": "code",
   "execution_count": 14,
   "source": [
    "print(m.pow(3,5),m.log(10))\r\n",
    "#The 'pow' function gives us 3^5. The 'log' function returns natural log of 10."
   ],
   "outputs": [
    {
     "output_type": "stream",
     "name": "stdout",
     "text": [
      "243.0 2.302585092994046\n"
     ]
    }
   ],
   "metadata": {
    "scrolled": true
   }
  },
  {
   "cell_type": "code",
   "execution_count": 28,
   "source": [
    "pi=m.pi\r\n",
    "pi  #This is the radian value of pi which is used in arithmetic calculations. \r\n",
    "pi_degrees=m.degrees(pi)\r\n",
    "pi_degrees  #This is the degree value of pi which is used in trigonometric calculations.\r\n",
    "print(pi,pi_degrees)"
   ],
   "outputs": [
    {
     "output_type": "stream",
     "name": "stdout",
     "text": [
      "3.141592653589793 180.0\n"
     ]
    }
   ],
   "metadata": {
    "scrolled": true
   }
  },
  {
   "cell_type": "code",
   "execution_count": 21,
   "source": [
    "m.factorial(6) #The 'factorial' function in 'math' library gives us the factorial of a number.\r\n",
    "m.sqrt(6)   #The 'sqrt' function returns the square root of a value."
   ],
   "outputs": [
    {
     "output_type": "execute_result",
     "data": {
      "text/plain": [
       "2.449489742783178"
      ]
     },
     "metadata": {},
     "execution_count": 21
    }
   ],
   "metadata": {
    "scrolled": false
   }
  },
  {
   "cell_type": "code",
   "execution_count": 20,
   "source": [
    "o=2.3475;p=3.2671  \r\n",
    "m.isclose(o,p,abs_tol=0.3) #Checks the closeness of two values within a given range called absolute tolerance."
   ],
   "outputs": [
    {
     "output_type": "execute_result",
     "data": {
      "text/plain": [
       "False"
      ]
     },
     "metadata": {},
     "execution_count": 20
    }
   ],
   "metadata": {
    "scrolled": true
   }
  },
  {
   "cell_type": "code",
   "execution_count": 38,
   "source": [
    "a=10\r\n",
    "while(a<17):\r\n",
    "    b=a**2\r\n",
    "    print(b)\r\n",
    "    a=a+1  #A 'while' loop will always have a counter which facilitates the iteration of loop."
   ],
   "outputs": [
    {
     "output_type": "stream",
     "name": "stdout",
     "text": [
      "100\n",
      "121\n",
      "144\n",
      "169\n",
      "196\n",
      "225\n",
      "256\n"
     ]
    }
   ],
   "metadata": {}
  },
  {
   "cell_type": "code",
   "execution_count": 37,
   "source": [
    "a,b=0,1  #Multiple assignment where a and b simultaneously get 0 and 1 values. \r\n",
    "while(a<15):\r\n",
    "    print(a*2)\r\n",
    "    a,b=b,a+b  #Multiple assignment where values b and a+b(in order) get assigned to a and b "
   ],
   "outputs": [
    {
     "output_type": "stream",
     "name": "stdout",
     "text": [
      "0\n",
      "2\n",
      "2\n",
      "4\n",
      "6\n",
      "10\n",
      "16\n",
      "26\n"
     ]
    }
   ],
   "metadata": {}
  },
  {
   "cell_type": "code",
   "execution_count": 10,
   "source": [
    "def volume_of_cylinder(radius,height):\r\n",
    "    volume=3.14*(radius**2)*height\r\n",
    "    print(volume)"
   ],
   "outputs": [],
   "metadata": {}
  },
  {
   "cell_type": "code",
   "execution_count": 11,
   "source": [
    "volume_of_cylinder(height=5,radius=3.5)\r\n",
    "#Here we specified the argument values specifically by name as we didn't follow the order specified in function definition.\r\n",
    "volume_of_cylinder(5,3.5)"
   ],
   "outputs": [
    {
     "output_type": "stream",
     "name": "stdout",
     "text": [
      "192.32500000000002\n",
      "274.75\n"
     ]
    }
   ],
   "metadata": {}
  },
  {
   "cell_type": "code",
   "execution_count": 18,
   "source": [
    "def random():  #We see the usage of 'return' function.\r\n",
    "    a,b,c=3,4,5\r\n",
    "    return a,b,c  #It is used to return the values of a local variable outside the function so that we may use it globally.\r\n",
    "    print('Hey There !') #Also, it exits the function body without going to the next line of code, hence acting like a break function too."
   ],
   "outputs": [],
   "metadata": {}
  },
  {
   "cell_type": "code",
   "execution_count": 19,
   "source": [
    "p,q,r=random()\r\n",
    "print(p,q,r)  #Now the local variable values are stored under p,q and r and available globally for further use."
   ],
   "outputs": [
    {
     "output_type": "stream",
     "name": "stdout",
     "text": [
      "3 4 5\n"
     ]
    }
   ],
   "metadata": {}
  },
  {
   "cell_type": "code",
   "execution_count": 33,
   "source": [
    "def task(a,b,c):\r\n",
    "    result=(a*c)-b\r\n",
    "    print(f\"Result={result}\")  #By using the f method, we don't need to specify commas every now and then. Just our results in curly braces.\r\n",
    "task(2,1,8)"
   ],
   "outputs": [
    {
     "output_type": "stream",
     "name": "stdout",
     "text": [
      "Result=15\n"
     ]
    }
   ],
   "metadata": {}
  },
  {
   "cell_type": "code",
   "execution_count": 20,
   "source": [
    "def swap(List,i1,i2):\r\n",
    "    a=List[i2]\r\n",
    "    List[i2]=List[i1]\r\n",
    "    List[i1]=a\r\n",
    "    return List"
   ],
   "outputs": [],
   "metadata": {}
  },
  {
   "cell_type": "code",
   "execution_count": 21,
   "source": [
    "swap([1,4,22,7,9,12],3,5)"
   ],
   "outputs": [
    {
     "output_type": "execute_result",
     "data": {
      "text/plain": [
       "[1, 4, 22, 12, 9, 7]"
      ]
     },
     "metadata": {},
     "execution_count": 21
    }
   ],
   "metadata": {}
  },
  {
   "cell_type": "code",
   "execution_count": 34,
   "source": [
    "def random(*args):   #This is how we define a function which takes any no. of arguments and simply prints them.\r\n",
    "    print(args)\r\n",
    "abc=['emma',91,'kalia']   #Instead of supplying arguments to function one-by-one, we create a list of arguments and supply that to our function.\r\n",
    "random(*abc)"
   ],
   "outputs": [
    {
     "output_type": "stream",
     "name": "stdout",
     "text": [
      "('emma', 91, 'kalia')\n"
     ]
    }
   ],
   "metadata": {}
  },
  {
   "cell_type": "code",
   "execution_count": 9,
   "source": [
    "def random(*args):   \r\n",
    "    print(args)\r\n",
    "abc=['emma',91,'kalia',9,0.345] #This way, we can simply change our list arguments and still get the result instead of first modifying the no. of arguments in function definition.\r\n",
    "random(*abc)   #The output is always a tuple of arguments taken as input."
   ],
   "outputs": [
    {
     "output_type": "stream",
     "name": "stdout",
     "text": [
      "('emma', 91, 'kalia', 9, 0.345)\n"
     ]
    }
   ],
   "metadata": {}
  },
  {
   "cell_type": "code",
   "execution_count": 2,
   "source": [
    "def func(*args):  \r\n",
    "    sum=0         #Here we are calculating the mean and sum of arguments specified to the function.\r\n",
    "    count=0\r\n",
    "    mean=0\r\n",
    "    for i in args:\r\n",
    "        sum+=i\r\n",
    "        count+=1\r\n",
    "        mean=sum/count\r\n",
    "    return sum,mean\r\n",
    "func(2,7,3,9)"
   ],
   "outputs": [
    {
     "output_type": "execute_result",
     "data": {
      "text/plain": [
       "(21, 5.25)"
      ]
     },
     "metadata": {},
     "execution_count": 2
    }
   ],
   "metadata": {}
  },
  {
   "cell_type": "code",
   "execution_count": 36,
   "source": [
    "def concat(*args,sep='/'):   #A function which takes any no of arguments and returns by joining them separated by '/'.\r\n",
    "    return sep.join(args)\r\n",
    "concat('sun','moon')"
   ],
   "outputs": [
    {
     "output_type": "execute_result",
     "data": {
      "text/plain": [
       "'sun/moon'"
      ]
     },
     "metadata": {},
     "execution_count": 36
    }
   ],
   "metadata": {}
  },
  {
   "cell_type": "code",
   "execution_count": 43,
   "source": [
    "def myname(a,b):\r\n",
    "    print(f\"First Name= {a} \\nLast Name= {b}\")\r\n",
    "myname('Raghav', 'Singh')\r\n",
    "#print('First Name=',a)   These two lines with 'print' function do the same job.\r\n",
    "#print('Last Name=',b)"
   ],
   "outputs": [
    {
     "output_type": "stream",
     "name": "stdout",
     "text": [
      "First Name= Raghav \n",
      "Last Name= Singh\n"
     ]
    }
   ],
   "metadata": {}
  },
  {
   "cell_type": "code",
   "execution_count": 4,
   "source": [
    "name=input('Enter Name:')    #Illustrates use of 'input()' function to take live inputs from the user and print output.\r\n",
    "salary=input('Enter Salary:')\r\n",
    "print(name,'your salary is',salary)"
   ],
   "outputs": [
    {
     "output_type": "stream",
     "name": "stdout",
     "text": [
      "Enter Name:Raghav Singh\n",
      "Enter Salary:45000\n",
      "Raghav Singh your salary is 45000\n"
     ]
    }
   ],
   "metadata": {}
  },
  {
   "cell_type": "code",
   "execution_count": 3,
   "source": [
    "name,age=input('Enter Name,Age: ').split()  #Using 'split()' enables us to provide multiple inputs in a single line of code.\r\n",
    "print(f\"Hi {name}! You are {age} years old.\")\r\n",
    "print(type(name),type(age),sep='//')"
   ],
   "outputs": [
    {
     "output_type": "stream",
     "name": "stdout",
     "text": [
      "Hi Raghav! You are 33 years old.\n",
      "<class 'str'>//<class 'str'>\n"
     ]
    }
   ],
   "metadata": {}
  },
  {
   "cell_type": "code",
   "execution_count": 17,
   "source": [
    "#Here we use replacement fields {0} and {1} which contain the positional index of arguments supplied as input. \r\n",
    "#We also specify the positional order in option 'format()'.\r\n",
    "Name,Age=input('Enter Name,Age:').split()\r\n",
    "print('Hey {0}. You are {1} years old.'.format(Name,Age))"
   ],
   "outputs": [
    {
     "output_type": "stream",
     "name": "stdout",
     "text": [
      "Enter Name,Age:Raghav 34\n",
      "Hey Raghav. You are 34 years old.\n"
     ]
    }
   ],
   "metadata": {}
  },
  {
   "cell_type": "code",
   "execution_count": 2,
   "source": [
    "list=['emma','john',31,9]\r\n",
    "print(list)          #Here we print the list as a list."
   ],
   "outputs": [
    {
     "output_type": "stream",
     "name": "stdout",
     "text": [
      "['emma', 'john', 31, 9]\n"
     ]
    }
   ],
   "metadata": {}
  },
  {
   "cell_type": "code",
   "execution_count": 4,
   "source": [
    "for i in list:\r\n",
    "    print(i,type(i))    #Here we print the list as a range."
   ],
   "outputs": [
    {
     "output_type": "stream",
     "name": "stdout",
     "text": [
      "emma <class 'str'>\n",
      "john <class 'str'>\n",
      "31 <class 'int'>\n",
      "9 <class 'int'>\n"
     ]
    }
   ],
   "metadata": {
    "scrolled": true
   }
  },
  {
   "cell_type": "code",
   "execution_count": 5,
   "source": [
    "user_input=input('Please enter your numbers:') #The 'input' function is used to accept input from the user.\r\n",
    "print(user_input,type(user_input))  #The output from the function is of 'str'(i.e. string) type."
   ],
   "outputs": [
    {
     "output_type": "stream",
     "name": "stdout",
     "text": [
      "45 3 21 <class 'str'>\n"
     ]
    }
   ],
   "metadata": {
    "scrolled": true
   }
  },
  {
   "cell_type": "code",
   "execution_count": 6,
   "source": [
    "m1=user_input.split()  #We use 'split' function on the output string object. This gives us a list having 3 string objects. Earlier it was a single string having 3 numbers.\r\n",
    "print(m1,type(m1))"
   ],
   "outputs": [
    {
     "output_type": "stream",
     "name": "stdout",
     "text": [
      "['45', '3', '21'] <class 'list'>\n"
     ]
    }
   ],
   "metadata": {}
  },
  {
   "cell_type": "code",
   "execution_count": 19,
   "source": [
    "user_list=[]   #Create an empty list. Initiate a 'for' loop which takes on values as elements of 'm1' in each iteration. \r\n",
    "[user_list.append(int(i)) for i in m1]  #So 1st iteration, i='3', then '41' and then finally '6'. As they are of 'str' type, we convert them to integer.\r\n",
    "print(user_list,sum(user_list))  #Each 'for' loop iteration involves i taking a value, then converting it into integer and then appending it to empty list."
   ],
   "outputs": [
    {
     "output_type": "stream",
     "name": "stdout",
     "text": [
      "[3, 41, 6] 50\n"
     ]
    }
   ],
   "metadata": {}
  },
  {
   "cell_type": "code",
   "execution_count": 1,
   "source": [
    "#string.split(separator,maxsplit)\r\n",
    "#The above function shows optional parameters to be included in 'split' function.\r\n",
    "t=\"Hi I'm Raghav, I'm 33,and I love Data Science.\"\r\n",
    "t.split()  #As we see the default 'split' function splits wherever it sees a space."
   ],
   "outputs": [
    {
     "output_type": "execute_result",
     "data": {
      "text/plain": [
       "['Hi', \"I'm\", 'Raghav,', \"I'm\", '33,and', 'I', 'love', 'Data', 'Science.']"
      ]
     },
     "metadata": {},
     "execution_count": 1
    }
   ],
   "metadata": {}
  },
  {
   "cell_type": "code",
   "execution_count": 23,
   "source": [
    "t.split(',')  #By specifying the separator ',' Python now splits wherever it sees a ','."
   ],
   "outputs": [
    {
     "output_type": "execute_result",
     "data": {
      "text/plain": [
       "[\"Hi I'm Raghav\", \" I'm 33\", 'and I love Data Science.']"
      ]
     },
     "metadata": {},
     "execution_count": 23
    }
   ],
   "metadata": {}
  },
  {
   "cell_type": "code",
   "execution_count": 24,
   "source": [
    "#Here we give maxsplit=1 option. By default it is -1 meaning it splits when it sees space. Now it will give only 1 split.\r\n",
    "t.split(',',1) "
   ],
   "outputs": [
    {
     "output_type": "execute_result",
     "data": {
      "text/plain": [
       "[\"Hi I'm Raghav\", \" I'm 33,and I love Data Science.\"]"
      ]
     },
     "metadata": {},
     "execution_count": 24
    }
   ],
   "metadata": {}
  },
  {
   "cell_type": "code",
   "execution_count": 30,
   "source": [
    "l = ['element1\\t0238.94', 'element2\\t2.3904', 'element3\\t0139847']\r\n",
    "#Here we have a list 'l' having 3 string objects. We want to split each of 3 strings such that we only get 'element1','element2','element3'.\r\n",
    "[i.split('\\t')[0] for i in l] \r\n",
    "#Here we initiate a 'for' loop where i takes values as each string object of 'l' in each iteration.\r\n",
    "#At each iteration of loop, Python splits the string object at '\\t' and takes the first object of the split."
   ],
   "outputs": [
    {
     "output_type": "execute_result",
     "data": {
      "text/plain": [
       "['element1', 'element2', 'element3']"
      ]
     },
     "metadata": {},
     "execution_count": 30
    }
   ],
   "metadata": {}
  },
  {
   "cell_type": "code",
   "execution_count": null,
   "source": [],
   "outputs": [],
   "metadata": {}
  }
 ],
 "metadata": {
  "celltoolbar": "Raw Cell Format",
  "kernelspec": {
   "name": "python3",
   "display_name": "Python 3.8.5 64-bit ('base': conda)"
  },
  "language_info": {
   "codemirror_mode": {
    "name": "ipython",
    "version": 3
   },
   "file_extension": ".py",
   "mimetype": "text/x-python",
   "name": "python",
   "nbconvert_exporter": "python",
   "pygments_lexer": "ipython3",
   "version": "3.8.5"
  },
  "interpreter": {
   "hash": "2fcbff82930719235b5f711f73c7a2b86d5b1a71fd46764b0d829c46d0718a71"
  }
 },
 "nbformat": 4,
 "nbformat_minor": 4
}