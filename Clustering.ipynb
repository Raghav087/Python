{
 "cells": [
  {
   "cell_type": "code",
   "execution_count": 1,
   "metadata": {},
   "outputs": [],
   "source": [
    "import pandas as pd\n",
    "import numpy as np\n",
    "import matplotlib.pyplot as plt\n",
    "import seaborn as sns"
   ]
  },
  {
   "cell_type": "code",
   "execution_count": 2,
   "metadata": {},
   "outputs": [
    {
     "name": "stdout",
     "output_type": "stream",
     "text": [
      "Volume    3\n",
      "Weight    0\n",
      "CO2       3\n",
      "dtype: int64\n",
      "(36, 3)\n"
     ]
    },
    {
     "data": {
      "text/html": [
       "<div>\n",
       "<style scoped>\n",
       "    .dataframe tbody tr th:only-of-type {\n",
       "        vertical-align: middle;\n",
       "    }\n",
       "\n",
       "    .dataframe tbody tr th {\n",
       "        vertical-align: top;\n",
       "    }\n",
       "\n",
       "    .dataframe thead th {\n",
       "        text-align: right;\n",
       "    }\n",
       "</style>\n",
       "<table border=\"1\" class=\"dataframe\">\n",
       "  <thead>\n",
       "    <tr style=\"text-align: right;\">\n",
       "      <th></th>\n",
       "      <th>Volume</th>\n",
       "      <th>Weight</th>\n",
       "      <th>CO2</th>\n",
       "    </tr>\n",
       "  </thead>\n",
       "  <tbody>\n",
       "    <tr>\n",
       "      <th>0</th>\n",
       "      <td>1000.0</td>\n",
       "      <td>790</td>\n",
       "      <td>99.0</td>\n",
       "    </tr>\n",
       "    <tr>\n",
       "      <th>1</th>\n",
       "      <td>1200.0</td>\n",
       "      <td>1160</td>\n",
       "      <td>95.0</td>\n",
       "    </tr>\n",
       "    <tr>\n",
       "      <th>2</th>\n",
       "      <td>1000.0</td>\n",
       "      <td>929</td>\n",
       "      <td>95.0</td>\n",
       "    </tr>\n",
       "  </tbody>\n",
       "</table>\n",
       "</div>"
      ],
      "text/plain": [
       "   Volume  Weight   CO2\n",
       "0  1000.0     790  99.0\n",
       "1  1200.0    1160  95.0\n",
       "2  1000.0     929  95.0"
      ]
     },
     "execution_count": 2,
     "metadata": {},
     "output_type": "execute_result"
    }
   ],
   "source": [
    "cars = pd.read_csv('D:/pandas Practice/cars.csv')\n",
    "print(cars.isna().sum())\n",
    "print(cars.shape)\n",
    "cars.head(3)"
   ]
  },
  {
   "cell_type": "code",
   "execution_count": 3,
   "metadata": {},
   "outputs": [
    {
     "data": {
      "text/html": [
       "<div>\n",
       "<style scoped>\n",
       "    .dataframe tbody tr th:only-of-type {\n",
       "        vertical-align: middle;\n",
       "    }\n",
       "\n",
       "    .dataframe tbody tr th {\n",
       "        vertical-align: top;\n",
       "    }\n",
       "\n",
       "    .dataframe thead th {\n",
       "        text-align: right;\n",
       "    }\n",
       "</style>\n",
       "<table border=\"1\" class=\"dataframe\">\n",
       "  <thead>\n",
       "    <tr style=\"text-align: right;\">\n",
       "      <th></th>\n",
       "      <th>Volume</th>\n",
       "      <th>Weight</th>\n",
       "      <th>CO2</th>\n",
       "    </tr>\n",
       "  </thead>\n",
       "  <tbody>\n",
       "    <tr>\n",
       "      <th>0</th>\n",
       "      <td>-1.605909</td>\n",
       "      <td>-2.103893</td>\n",
       "      <td>-0.486700</td>\n",
       "    </tr>\n",
       "    <tr>\n",
       "      <th>1</th>\n",
       "      <td>-1.079541</td>\n",
       "      <td>-0.554072</td>\n",
       "      <td>-1.044405</td>\n",
       "    </tr>\n",
       "    <tr>\n",
       "      <th>2</th>\n",
       "      <td>-1.605909</td>\n",
       "      <td>-1.521663</td>\n",
       "      <td>-1.044405</td>\n",
       "    </tr>\n",
       "    <tr>\n",
       "      <th>3</th>\n",
       "      <td>-1.869092</td>\n",
       "      <td>-1.789740</td>\n",
       "      <td>-1.741536</td>\n",
       "    </tr>\n",
       "    <tr>\n",
       "      <th>4</th>\n",
       "      <td>-0.289990</td>\n",
       "      <td>-0.637846</td>\n",
       "      <td>0.349856</td>\n",
       "    </tr>\n",
       "  </tbody>\n",
       "</table>\n",
       "</div>"
      ],
      "text/plain": [
       "     Volume    Weight       CO2\n",
       "0 -1.605909 -2.103893 -0.486700\n",
       "1 -1.079541 -0.554072 -1.044405\n",
       "2 -1.605909 -1.521663 -1.044405\n",
       "3 -1.869092 -1.789740 -1.741536\n",
       "4 -0.289990 -0.637846  0.349856"
      ]
     },
     "execution_count": 3,
     "metadata": {},
     "output_type": "execute_result"
    }
   ],
   "source": [
    "from sklearn.impute import KNNImputer\n",
    "from sklearn.preprocessing import StandardScaler\n",
    "from sklearn.pipeline import Pipeline\n",
    "pipe = Pipeline([('first',KNNImputer(n_neighbors=3)),('second',StandardScaler())])\n",
    "tx = pipe.fit_transform(cars) #The transformed output of pipeline will be an ndarray.\n",
    "df = pd.DataFrame(tx,index=cars.index,columns=cars.columns) #Convert the ndarray to dataframe.\n",
    "df.head(5)"
   ]
  },
  {
   "cell_type": "code",
   "execution_count": 4,
   "metadata": {},
   "outputs": [
    {
     "data": {
      "text/plain": [
       "array([1, 1, 1, 1, 2, 1, 1, 2, 1, 2, 1, 1, 1, 2, 2, 2, 2, 2, 2, 2, 2, 2,\n",
       "       2, 2, 2, 2, 2, 0, 2, 0, 0, 0, 2, 2, 2, 0])"
      ]
     },
     "execution_count": 4,
     "metadata": {},
     "output_type": "execute_result"
    }
   ],
   "source": [
    "from sklearn.cluster import KMeans\n",
    "kmeans = KMeans(n_clusters=3)\n",
    "y_clust = kmeans.fit_predict(df)\n",
    "y_clust #We get the predicted label as cluster indices from 0 to 2."
   ]
  },
  {
   "cell_type": "code",
   "execution_count": 5,
   "metadata": {},
   "outputs": [
    {
     "data": {
      "text/plain": [
       "array([1, 1, 1, 1, 2, 1, 1, 2, 1, 2, 1, 1, 1, 2, 2, 2, 2, 2, 2, 2, 2, 2,\n",
       "       2, 2, 2, 2, 2, 0, 2, 0, 0, 0, 2, 2, 2, 0])"
      ]
     },
     "execution_count": 5,
     "metadata": {},
     "output_type": "execute_result"
    }
   ],
   "source": [
    "#The predicted labels we've stored as an object(i.e. y_clust) are aslo stored internally by the algorithm.\n",
    "kmeans.labels_"
   ]
  },
  {
   "cell_type": "code",
   "execution_count": 6,
   "metadata": {},
   "outputs": [
    {
     "data": {
      "text/plain": [
       "array([[ 1.34175002,  1.4363994 ,  1.92072393],\n",
       "       [-1.23745125, -1.23431775, -0.75161008],\n",
       "       [ 0.26979821,  0.2457705 , -0.09940566]])"
      ]
     },
     "execution_count": 6,
     "metadata": {},
     "output_type": "execute_result"
    }
   ],
   "source": [
    "#Get the centroids of the 3 formed clusters.\n",
    "kmeans.cluster_centers_"
   ]
  },
  {
   "cell_type": "code",
   "execution_count": 7,
   "metadata": {},
   "outputs": [
    {
     "data": {
      "text/plain": [
       "array([[ 0.2852709 , -0.62093007,  0.18202084],\n",
       "       [ 2.26155344,  0.11531896,  1.90748865]])"
      ]
     },
     "execution_count": 7,
     "metadata": {},
     "output_type": "execute_result"
    }
   ],
   "source": [
    "new = np.random.randn(2,3)\n",
    "new #Create 2 new examples."
   ]
  },
  {
   "cell_type": "code",
   "execution_count": 8,
   "metadata": {},
   "outputs": [
    {
     "data": {
      "text/plain": [
       "array([2, 0])"
      ]
     },
     "execution_count": 8,
     "metadata": {},
     "output_type": "execute_result"
    }
   ],
   "source": [
    "#Feed the new examples to the algorithm to let it predict the cluster indices.\n",
    "kmeans.predict(new)"
   ]
  },
  {
   "cell_type": "markdown",
   "metadata": {},
   "source": [
    "<h4>Instead of assigning each example to a single cluster(i.e. Hard Clustering), we can give each example a score per cluster(i.e. Soft Clustering)<h4>\n",
    "<h4>The score can be the distance of each example from cluster centroids or a similarity score like Gaussian RBF.<h4>"
   ]
  },
  {
   "cell_type": "code",
   "execution_count": 9,
   "metadata": {},
   "outputs": [
    {
     "data": {
      "text/plain": [
       "array([[2.89341341, 1.8885428 , 0.91137816],\n",
       "       [1.60980342, 4.59732086, 2.83050018]])"
      ]
     },
     "execution_count": 9,
     "metadata": {},
     "output_type": "execute_result"
    }
   ],
   "source": [
    "#The 'transform' method gives the distance of each example from the centroids of each cluster.\n",
    "#We have 2 examples. So we get distance of both from the 3 cluster centroids.\n",
    "kmeans.transform(new)\n",
    "#The prediction of cluster label for each of the 2 examples in previous cell coincides with the below results."
   ]
  },
  {
   "cell_type": "markdown",
   "metadata": {},
   "source": [
    "<h4>The 'kmeans.transform' technique can be used to transform a high dimensional data to a lower dimension data.<h4>\n",
    "<h4>Lets say we have a 100 dimension data. If we initiate KMeans with 'n_clusters=50' and then perform 'kmeans.transform', it will give a 50 dimensional data as O/P.<h4>\n",
    "<h4>Thus kmeans also acts as a dimensionality reduction technique.<h4>"
   ]
  },
  {
   "cell_type": "markdown",
   "metadata": {},
   "source": [
    "<h4>We can provide our own starting point(centroids)for the KMeans algorithm via 'init' option.<h4>\n",
    "<h4>The 'n_init' option performs n iterations where it randomly chooses n different starting points. Thus it gets n cluster labels, one for each iteration.<h4>\n",
    "<h4>It then chooses 1 out of those n sets of answers as the optimum cluster label for the given examples.<h4>"
   ]
  },
  {
   "cell_type": "code",
   "execution_count": 10,
   "metadata": {},
   "outputs": [
    {
     "data": {
      "text/plain": [
       "array([[ 1.83266197,  1.02938507, -0.90825684],\n",
       "       [-0.20877764,  0.53359521, -1.0849886 ],\n",
       "       [-1.75060829,  0.07494427,  1.94547478]])"
      ]
     },
     "execution_count": 10,
     "metadata": {},
     "output_type": "execute_result"
    }
   ],
   "source": [
    "start = np.random.randn(3,3)\n",
    "start #Created 3 random cluster centroids."
   ]
  },
  {
   "cell_type": "code",
   "execution_count": 11,
   "metadata": {},
   "outputs": [
    {
     "name": "stderr",
     "output_type": "stream",
     "text": [
      "C:\\Users\\win\\Anaconda3\\lib\\site-packages\\sklearn\\cluster\\_kmeans.py:1035: RuntimeWarning: Explicit initial center position passed: performing only one init in KMeans instead of n_init=10.\n",
      "  self._check_params(X)\n"
     ]
    },
    {
     "data": {
      "text/plain": [
       "array([2, 2, 2, 2, 1, 2, 2, 1, 2, 1, 2, 2, 2, 1, 1, 1, 1, 1, 1, 1, 1, 1,\n",
       "       1, 1, 1, 1, 1, 0, 1, 0, 0, 0, 1, 1, 1, 0])"
      ]
     },
     "execution_count": 11,
     "metadata": {},
     "output_type": "execute_result"
    }
   ],
   "source": [
    "kmeans1 = KMeans(n_clusters=3,init=start)\n",
    "y_new = kmeans1.fit_predict(df)\n",
    "y_new"
   ]
  },
  {
   "cell_type": "code",
   "execution_count": 12,
   "metadata": {},
   "outputs": [
    {
     "data": {
      "text/plain": [
       "array([1, 0])"
      ]
     },
     "execution_count": 12,
     "metadata": {},
     "output_type": "execute_result"
    }
   ],
   "source": [
    "kmeans1.predict(new)"
   ]
  },
  {
   "cell_type": "markdown",
   "metadata": {},
   "source": [
    "<h5>As discussed, the KMeans algo by default(n_init=10)performs 10 iterations of the process choosing a new random starting point as cluster centroid.<h5>\n",
    "<h5>Hence on running the 'fit()' method, the algorithm runs 10 iterations each converging to 10 solutions for cluster labels for our examples.<h5>\n",
    "<h5>The algorithm then chooses the optimal solution as the one which minimizes the Inertia of our model. A performance metric checked by algo behind the scenes.<h5>\n",
    "<h5>The model's inertia is equal to the mean of squared distance of each example from its cluster centroid.<h5>\n",
    "<h5>Hence the KMeans algo performs n_init iterations and keeps the model with the lowest inertia.<h5>"
   ]
  },
  {
   "cell_type": "code",
   "execution_count": 13,
   "metadata": {},
   "outputs": [
    {
     "data": {
      "text/plain": [
       "-31.03439020817297"
      ]
     },
     "execution_count": 13,
     "metadata": {},
     "output_type": "execute_result"
    }
   ],
   "source": [
    "kmeans.score(df) #The KMeans algo did 10 iterations and then came up with the optimal model whose inertia was 31.034. Other 9 iterations had greater inertia.\n",
    "#The score is negative of inertia. This is because in scikit the model with highest score is the best, meaning as inertia is lower its negative has higher value."
   ]
  },
  {
   "cell_type": "code",
   "execution_count": 14,
   "metadata": {},
   "outputs": [
    {
     "data": {
      "text/plain": [
       "array([1, 1, 1, 1, 0, 1, 1, 0, 1, 0, 1, 1, 1, 0, 0, 0, 0, 0, 0, 0, 0, 0,\n",
       "       0, 0, 0, 0, 0, 2, 0, 2, 2, 2, 0, 0, 0, 2])"
      ]
     },
     "execution_count": 14,
     "metadata": {},
     "output_type": "execute_result"
    }
   ],
   "source": [
    "#For large datasets, we can use MiniBatchKMeans algorithm which speeds up the training by 4 times.\n",
    "from sklearn.cluster import MiniBatchKMeans\n",
    "mini_kmeans = MiniBatchKMeans(n_clusters=3)\n",
    "y_mini = mini_kmeans.fit_predict(df)\n",
    "y_mini"
   ]
  },
  {
   "cell_type": "code",
   "execution_count": 15,
   "metadata": {},
   "outputs": [
    {
     "name": "stdout",
     "output_type": "stream",
     "text": [
      "[0 2]\n"
     ]
    },
    {
     "data": {
      "text/plain": [
       "-31.08125920249976"
      ]
     },
     "execution_count": 15,
     "metadata": {},
     "output_type": "execute_result"
    }
   ],
   "source": [
    "print(mini_kmeans.predict(new))\n",
    "mini_kmeans.score(df)\n",
    "#The inertia for mini-batch KMeans is slightly worse than KMeans but can be considered for large datasets."
   ]
  },
  {
   "cell_type": "markdown",
   "metadata": {},
   "source": [
    "<h5>Inertia however, isn't a good metric for judging a clustering model.<h5>\n",
    "<h5>This is because as we increase k, the inertia keeps decreasing. Hence we might keep increasing k to get a better model.<h5>\n",
    "<h5>Silhouette score/plot gives us a good metric to judge a clustering model. We'll discuss it later.<h5>"
   ]
  },
  {
   "cell_type": "code",
   "execution_count": 18,
   "metadata": {},
   "outputs": [
    {
     "data": {
      "image/png": "[encoded data removed]",
      "text/plain": [
       "<Figure size 864x432 with 1 Axes>"
      ]
     },
     "metadata": {},
     "output_type": "display_data"
    }
   ],
   "source": [
    "#ELBOW METHOD\n",
    "#It's used to find the optimal no. of clusters to perform clustering on our dataset.\n",
    "Inertia = []\n",
    "for k in range(1,15):\n",
    "    kmeans2 = KMeans(n_clusters=k)\n",
    "    kmeans2.fit(df)\n",
    "    Inertia.append(kmeans2.inertia_)\n",
    "dt = pd.DataFrame({'k':range(1,15),'Inertia':Inertia})\n",
    "sns.lineplot(data=dt,x='k',y='Inertia')\n",
    "plt.gcf().set_size_inches(12,6)\n",
    "sns.set(rc={'axes.facecolor':'#ccccff','figure.facecolor':'#f4a460'})\n",
    "#We can see the elbow occurs at k=4. Hence we can choose no. of clusters as 4 for our algorithm."
   ]
  },
  {
   "cell_type": "markdown",
   "metadata": {},
   "source": [
    "<h5>We can also use Silhouette Score to find the optimal no. of clusters.<h5>\n",
    "<h5>Every example in the dataset has its own Silhouette coefficient.<h5>\n",
    "\n",
    "<h5>An example's Silhouette coeff. = (b-a)/max(a,b)<h5>\n",
    "<h5>Here, a => Mean Intra-cluster distance i.e. mean of distance of that example from other examples of the same cluster.<h5>\n",
    "<h5>b => Mean nearest cluster distance i.e. mean of distance of that example from other examples of the nearest cluster.<h5>\n"
   ]
  },
  {
   "cell_type": "markdown",
   "metadata": {},
   "source": [
    "<h5>Silhouette coefficient's value varies between -1 to +1.<h5>\n",
    "<h5>A value close to +1 means an example is well inside its own cluster. A value close to 0 means its on the boundary of another cluster.<h5>\n",
    "<h5>While a coefficient of close to -1 indicates the example has been misgrouped into a wrong cluster.<h5>"
   ]
  },
  {
   "cell_type": "markdown",
   "metadata": {},
   "source": [
    "<h5>The Silhouette Plot gives the silhouette score for each cluster.\n",
    "<h5>The Silhouette score of a cluster is the mean of silhouette coefficients of all examples inside that cluster.<h5>\n"
   ]
  },
  {
   "cell_type": "code",
   "execution_count": 17,
   "metadata": {},
   "outputs": [],
   "source": [
    "#Silhouette Plot and line chart."
   ]
  }
 ],
 "metadata": {
  "interpreter": {
   "hash": "2fcbff82930719235b5f711f73c7a2b86d5b1a71fd46764b0d829c46d0718a71"
  },
  "kernelspec": {
   "display_name": "Python 3.8.5 64-bit ('base': conda)",
   "language": "python",
   "name": "python3"
  },
  "language_info": {
   "codemirror_mode": {
    "name": "ipython",
    "version": 3
   },
   "file_extension": ".py",
   "mimetype": "text/x-python",
   "name": "python",
   "nbconvert_exporter": "python",
   "pygments_lexer": "ipython3",
   "version": "3.8.5"
  },
  "orig_nbformat": 4
 },
 "nbformat": 4,
 "nbformat_minor": 2
}
