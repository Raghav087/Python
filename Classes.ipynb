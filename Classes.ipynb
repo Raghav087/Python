{
 "cells": [
  {
   "cell_type": "code",
   "execution_count": 1,
   "metadata": {},
   "outputs": [],
   "source": [
    "#This is an example of 'class' definition. 'myclass' is a class object. Statements inside a class definition are usually function definitions. \n",
    "class myclass:  \n",
    "    i=1234          #Here the class definition contains a function named 'func' and an object 'i'.\n",
    "    def func(self):\n",
    "        print('Hi There !!')"
   ]
  },
  {
   "cell_type": "code",
   "execution_count": 7,
   "metadata": {},
   "outputs": [
    {
     "data": {
      "text/plain": [
       "<bound method myclass.func of <__main__.myclass object at 0x000001413683CB50>>"
      ]
     },
     "execution_count": 7,
     "metadata": {},
     "output_type": "execute_result"
    }
   ],
   "source": [
    "x=myclass()  #This step is called instantiation of class. We create a new instance of class and store it as object 'x'. Hence 'x' is an instance object. Also called class object or simply instance.\n",
    "x.i     #These steps are called attribute references i.e. we are referring to attributes 'i' and 'func' for class instance 'x'.\n",
    "x.func   #For any instance object like 'x', we can only perform attribute reference operation."
   ]
  },
  {
   "cell_type": "code",
   "execution_count": 2,
   "metadata": {},
   "outputs": [
    {
     "name": "stdout",
     "output_type": "stream",
     "text": [
      "Harry 10000 {'Name': 'Harry', 'Salary': 12000}\n"
     ]
    }
   ],
   "source": [
    "class Employee:   #This is an empty class definition. We give a 'pass' statement to tell Python to proceed as there is no instructor,method defined in this class. If not specified, we'll get an error.\n",
    "    pass\n",
    "Harry=Employee()   #Here we create 2 new instance objects or class objects 'Harry' and 'Peter'.\n",
    "Peter=Employee()\n",
    "Harry.Name='Harry'  #'Harry.Name' is an instance variable of instance object 'Harry'.\n",
    "Harry.Salary=12000\n",
    "Peter.Name='Peter'\n",
    "Peter.Salary=10000  #'Peter.Salary' is an instance variable for instance object 'Peter'.\n",
    "print(Harry.Name,Peter.Salary,Harry.__dict__)  #The 'Harry.__dict__' command prints all instance variables of object 'Harry' as a dictionary i.e. as key:value pairs."
   ]
  },
  {
   "cell_type": "code",
   "execution_count": 1,
   "metadata": {},
   "outputs": [
    {
     "name": "stdout",
     "output_type": "stream",
     "text": [
      "Employee is:Harry | Their Salary is: 12000\n"
     ]
    }
   ],
   "source": [
    "class Employee:\n",
    "    def details(self):  #A function created inside a class is called a method. It takes only 1 argument 'self'.  This is a variable argument i.e. 'details' method can take any instance object as its argument.\n",
    "        return f'Employee is:{self.Name} | Their Salary is: {self.Salary}' #This does same job as the 'print' function below.\n",
    "        #print('Employee is:',self.Name,'|','Their Salary is:',self.Salary)\n",
    "Harry=Employee()   \n",
    "Peter=Employee()\n",
    "Harry.Name='Harry' \n",
    "Harry.Salary=12000\n",
    "Harry.Dept='IT'\n",
    "Peter.Name='Peter'\n",
    "Peter.Salary=10000\n",
    "Peter.Dept='HR'\n",
    "print(Harry.details())  #As seen, we didn't specify any argument to 'details()' method. As it had a 'self' argument, it took 'Harry' as its argument automatically. We can change it to 'Peter' as 'self' takes care."
   ]
  },
  {
   "cell_type": "code",
   "execution_count": 10,
   "metadata": {},
   "outputs": [
    {
     "name": "stdout",
     "output_type": "stream",
     "text": [
      "{'name': 'Harry', 'salary': 12000, 'dept': 'IT'} Harry\n"
     ]
    }
   ],
   "source": [
    "#Now instead of creating 3 instance variables(i.e. Name,Salary,Dept) for both objects 'Harry' and 'Peter', we can define a constructor for our class 'Employee' which takes them as arguments.\n",
    "class Employee:\n",
    "    def __init__(self, Name,Salary,Dept): #The method '__init__' is called constructor and basically initializes a class' arguments or attributes it must take as inputs.\n",
    "        self.name=Name\n",
    "        self.salary=Salary\n",
    "        self.dept=Dept\n",
    "Harry=Employee('Harry',12000,'IT')  #This saves time spent writing unnecessary lines of code as seen in last cell.\n",
    "Peter=Employee('Peter',10000,'HR')\n",
    "print(Harry.__dict__, Harry.name)"
   ]
  },
  {
   "cell_type": "code",
   "execution_count": 4,
   "metadata": {},
   "outputs": [
    {
     "data": {
      "text/plain": [
       "9"
      ]
     },
     "execution_count": 4,
     "metadata": {},
     "output_type": "execute_result"
    }
   ],
   "source": [
    "class Employee:\n",
    "    class_variable=10  #This is a class variable. It is defined globally inside class and outside any method.\n",
    "    def __init__(self, Name,Salary,Dept): \n",
    "        self.name=Name\n",
    "        self.salary=Salary\n",
    "        self.dept=Dept\n",
    "Harry=Employee('Harry',12000,'IT')\n",
    "Peter=Employee('Peter',10000,'HR')\n",
    "Harry.class_variable   #The class variable can be accessed eith er from class 'Employee' or from instance object 'Harry'. \n",
    "Employee.class_variable\n",
    "Employee.class_variable=9  #However, we can change the value of a class variable only by using its class. If we do it with an instance variable(eg. 'Harry.class_variable=9') then it creates another instance variable and doesn't edit the class variable's value.\n",
    "Harry.class_variable"
   ]
  },
  {
   "cell_type": "code",
   "execution_count": 17,
   "metadata": {},
   "outputs": [
    {
     "data": {
      "text/plain": [
       "(3, -4.5)"
      ]
     },
     "execution_count": 17,
     "metadata": {},
     "output_type": "execute_result"
    }
   ],
   "source": [
    "#A constructor tells Python that the created class must take some arguments(i.e. attributes) as inputs. Only then we will be able to instantiate and create an instance object like 'x' here.\n",
    "class Complex:    \n",
    "    def __init__(self,real,imaginary):\n",
    "        self.r=real\n",
    "        self.i=imaginary\n",
    "                  #When we instantiate our class and create object 'x', the constructor gets invoked immediately.This means that\n",
    "                 #the arguments given during instantiation(i.e. 3 and -4.5) are passed to constructor '__init__' to be assigned\n",
    "        #to attributes 'real' and 'imaginary'. Now 'self.r' and 'self.i' is used to bind these values to respective attributes. \n",
    "x=Complex(3,-4.5)  #In order to access the attribute values, we use our instance object 'x' and perform attribute reference.\n",
    "x.r,x.i           #We get our attribute values 3 and -4.5 by accessing through instance object 'x'."
   ]
  },
  {
   "cell_type": "code",
   "execution_count": 22,
   "metadata": {},
   "outputs": [
    {
     "data": {
      "text/plain": [
       "(('Labrador', 'Buzo'), ('Labrador', 'Mia'))"
      ]
     },
     "execution_count": 22,
     "metadata": {},
     "output_type": "execute_result"
    }
   ],
   "source": [
    "class Dog:\n",
    "    breed='Labrador'   #This is a class variable. Its an example of global variable as breed doesn't vary from object to object.Here object means instance of class which gets created in the instantiation step.\n",
    "    def __init__(self,name,color):\n",
    "        self.n=name    #This is an instance variable. It varies from one object(instance) to another.To access instance variables\n",
    "        self.c=color    #we use instance objects 'a' and 'b' and perform attribute reference as explained earlier.\n",
    "a=Dog('Buzo','brown')\n",
    "b=Dog('Mia','white')   #'a' and 'b' are called instance objects. While 'name' and 'color' are called attributes, 'self.n' nad 'self.c' are called instance variables.\n",
    "(a.breed,a.n),(b.breed,b.n) \n"
   ]
  },
  {
   "cell_type": "code",
   "execution_count": 16,
   "metadata": {},
   "outputs": [
    {
     "name": "stdout",
     "output_type": "stream",
     "text": [
      "Category of car: Luxury\n",
      "Name of car: X5\n",
      "Type of car: Sedan\n",
      "Brand of car: BMW\n",
      "None\n"
     ]
    }
   ],
   "source": [
    "class Cars:\n",
    "    '''This is a class for cars and defines its features.'''\n",
    "    Category='Luxury'\n",
    "    def __init__(self,name,typ,brand):\n",
    "        self.n=name\n",
    "        self.t=typ\n",
    "        self.b=brand\n",
    "    def showinfo(self):  #This 'showinfo' function is called an instance method. It is basically a function  defined within a class whose only argument is 'self'. It takes any arguments from the constructor.\n",
    "        print('Category of car:',self.Category)\n",
    "        print('Name of car:',self.n)\n",
    "        print('Type of car:',self.t)\n",
    "        print('Brand of car:',self.b)\n",
    "object1=Cars('Portofino','Sports','Ferrari')\n",
    "object2=Cars('X6','Sedan','BMW')\n",
    "object2.n='X5'  #Modified the name of 'object2'.\n",
    "print(object2.showinfo())\n",
    "#object1.t,object2.b,isinstance(object1,Cars),type(object1)"
   ]
  },
  {
   "cell_type": "code",
   "execution_count": 22,
   "metadata": {},
   "outputs": [
    {
     "ename": "AttributeError",
     "evalue": "'Employees' object has no attribute '__s'",
     "output_type": "error",
     "traceback": [
      "\u001b[1;31m---------------------------------------------------------------------------\u001b[0m",
      "\u001b[1;31mAttributeError\u001b[0m                            Traceback (most recent call last)",
      "\u001b[1;32m<ipython-input-22-70632ffbe290>\u001b[0m in \u001b[0;36m<module>\u001b[1;34m\u001b[0m\n\u001b[0;32m      6\u001b[0m \u001b[0mobj1\u001b[0m\u001b[1;33m=\u001b[0m\u001b[0mEmployees\u001b[0m\u001b[1;33m(\u001b[0m\u001b[1;34m'Emma'\u001b[0m\u001b[1;33m,\u001b[0m\u001b[1;36m2500\u001b[0m\u001b[1;33m)\u001b[0m\u001b[1;33m\u001b[0m\u001b[1;33m\u001b[0m\u001b[0m\n\u001b[0;32m      7\u001b[0m \u001b[0mobj2\u001b[0m\u001b[1;33m=\u001b[0m\u001b[0mEmployees\u001b[0m\u001b[1;33m(\u001b[0m\u001b[1;34m'Peter'\u001b[0m\u001b[1;33m,\u001b[0m\u001b[1;36m1800\u001b[0m\u001b[1;33m)\u001b[0m\u001b[1;33m\u001b[0m\u001b[1;33m\u001b[0m\u001b[0m\n\u001b[1;32m----> 8\u001b[1;33m \u001b[0mobj2\u001b[0m\u001b[1;33m.\u001b[0m\u001b[0m__s\u001b[0m\u001b[1;33m\u001b[0m\u001b[1;33m\u001b[0m\u001b[0m\n\u001b[0m",
      "\u001b[1;31mAttributeError\u001b[0m: 'Employees' object has no attribute '__s'"
     ]
    }
   ],
   "source": [
    "class Employees:\n",
    "    '''This is a class for employees and contains their details.'''\n",
    "    def __init__(self,name,salary):\n",
    "        self.n=name\n",
    "        self.__s=salary  #Apply double underscore prefix to make an instance variable as private and inaccessible.\n",
    "obj1=Employees('Emma',2500)\n",
    "obj2=Employees('Peter',1800)\n",
    "obj2.__s "
   ]
  },
  {
   "cell_type": "code",
   "execution_count": 25,
   "metadata": {},
   "outputs": [
    {
     "name": "stdout",
     "output_type": "stream",
     "text": [
      "Area of rectangle= 28\n",
      "Area of cicle= 38.465\n"
     ]
    },
    {
     "data": {
      "text/plain": [
       "(None, None)"
      ]
     },
     "execution_count": 25,
     "metadata": {},
     "output_type": "execute_result"
    }
   ],
   "source": [
    "class Circle:\n",
    "    pi=3.14\n",
    "    def __init__(self,radius):\n",
    "        self.r=radius\n",
    "    def area(self):    #This function is called an instance method. It takes only 'self' as argument and performs any calculation by referencing arguments from constructor eg. 'self.r'.\n",
    "        print('Area of cicle=',self.pi*self.r*self.r)\n",
    "class Rectangle:\n",
    "    def __init__(self,length,breadth):\n",
    "        self.l=length\n",
    "        self.b=breadth\n",
    "    def area(self):\n",
    "        print('Area of rectangle=',self.l*self.b)\n",
    "cir=Circle(3.5)\n",
    "rec=Rectangle(4,7)\n",
    "rec.area(),cir.area()  #Here the objects are referencing not the instance variables, but the defined method. Also methods of same name can exist in different classes for eg. here method 'area'."
   ]
  },
  {
   "cell_type": "code",
   "execution_count": null,
   "metadata": {},
   "outputs": [],
   "source": [
    "#Inheritance is a process where a parent class inherits its properties to a child class or sub-class.Its main perpose is the reusability of code as we can use the existing class to create a new class instead of creating it from scratch.\n",
    "class Vehicle:\n",
    "    def "
   ]
  },
  {
   "cell_type": "code",
   "execution_count": 1,
   "metadata": {},
   "outputs": [
    {
     "name": "stdout",
     "output_type": "stream",
     "text": [
      "Can't divide by zero.\n"
     ]
    }
   ],
   "source": [
    "#A python code terminates when it encounters an error. This error can be a syntax error or exception.\n",
    "#A syntax error occurs when a parser detects an incorrect line of code. For eg. missing a cooma,colon or brackets etc.\n",
    "#An exception error occurs when a syntactically correct Python code gives an error. It usually shows as 'Traceback' statement \n",
    "#in first line and the last line shows the type of exception for eg. FileNotFoundError,ValueError,ZeroDivisionError. There are built in exceptions as well as user defined ones.\n",
    "\n",
    "try:     #Here we take a simple example to illustrate use of 'try-except' block. The code '5/0' would normally return an exception called 'ZerDivisionError'. \n",
    "    n=5/0  #If the 'try' clause encounters exception, it then goes to 'except' clause which tells us how to handle and what to do with those exceptions.\n",
    "    print(n)  #Here we tell Python to print the given simple statement instead of a lengthy exception log. \n",
    "except Exception:\n",
    "    print(\"Can't divide by zero.\")"
   ]
  },
  {
   "cell_type": "code",
   "execution_count": 2,
   "metadata": {},
   "outputs": [
    {
     "name": "stdout",
     "output_type": "stream",
     "text": [
      "0.2\n"
     ]
    }
   ],
   "source": [
    "try:    #Here the 'try' clause will not produce any exception. However, we still need to put in 'except' clause as it is bound \n",
    "    x=5/25     #with a 'try' clause. But since there is no exception to be treated, we simply put in a 'pass' statement.\n",
    "    print(x)\n",
    "except Exception:\n",
    "    pass"
   ]
  },
  {
   "cell_type": "code",
   "execution_count": 10,
   "metadata": {},
   "outputs": [
    {
     "name": "stdout",
     "output_type": "stream",
     "text": [
      "0.05357142857142857\n",
      "This will print as it is inside finally.\n"
     ]
    }
   ],
   "source": [
    "try:               #Here we illustrate the whole 'try-except-else-finally' block chain.\n",
    "    c=3/56\n",
    "except Exception:\n",
    "    print('Everything fine!')\n",
    "else:           #The 'else' clause is executed only if there are no exceptions in the 'try' clause.\n",
    "    print(c)   #As there are no exceptions in 'try' clause, it simply prints value of object 'c'.\n",
    "finally:      #The 'finally' clause is redundant, but when included will always execute in the last irrespective of exceptions.\n",
    "    print('This will print as it is inside finally.')\n"
   ]
  },
  {
   "cell_type": "code",
   "execution_count": 9,
   "metadata": {},
   "outputs": [
    {
     "name": "stdout",
     "output_type": "stream",
     "text": [
      "Enter a balance amount:5000\n"
     ]
    }
   ],
   "source": [
    "class BalanceMore(Exception):   #Here we create our own class of exception using 'class'. We specify the name of exception\n",
    "    pass                       #followed by '(Exception)' to teall we are creating a new exception class.\n",
    "class BalanceLess(Exception):\n",
    "    pass\n",
    "\n",
    "balance=float(input('Enter a balance amount:'))\n",
    "if balance<2000:   \n",
    "    raise BalanceLess\n",
    "elif balance>8000:     #Here is balance is between 2000 and 8000, program runs and exits. Only when the balance<2000 or >8000\n",
    "    raise BalanceMore  #it raises an exception as already assigned to do so."
   ]
  },
  {
   "cell_type": "code",
   "execution_count": 3,
   "metadata": {},
   "outputs": [
    {
     "data": {
      "text/plain": [
       "'Singh'"
      ]
     },
     "execution_count": 3,
     "metadata": {},
     "output_type": "execute_result"
    }
   ],
   "source": [
    "class Person():\n",
    "    pass\n",
    "person=Person()\n",
    "key='Raghav'\n",
    "value='Singh'\n",
    "setattr(person,key,value)\n",
    "getattr(person,key)"
   ]
  }
 ],
 "metadata": {
  "kernelspec": {
   "display_name": "Python 3.8.5 ('base')",
   "language": "python",
   "name": "python3"
  },
  "language_info": {
   "codemirror_mode": {
    "name": "ipython",
    "version": 3
   },
   "file_extension": ".py",
   "mimetype": "text/x-python",
   "name": "python",
   "nbconvert_exporter": "python",
   "pygments_lexer": "ipython3",
   "version": "3.8.5"
  },
  "vscode": {
   "interpreter": {
    "hash": "1af06a67833388e2ab2f4a98b73c33e1819b9b34fa421d20993178e19955971f"
   }
  }
 },
 "nbformat": 4,
 "nbformat_minor": 4
}
