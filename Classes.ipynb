{
 "cells": [
  {
   "cell_type": "code",
   "execution_count": 1,
   "source": [
    "#This is an example of 'class' definition. 'myclass' is a class object. Statements inside a class definition are usually function definitions. \r\n",
    "class myclass:  \r\n",
    "    i=1234          #Here the class definition contains a function named 'func' and an object 'i'.\r\n",
    "    def func(self):\r\n",
    "        print('Hi There !!')"
   ],
   "outputs": [],
   "metadata": {}
  },
  {
   "cell_type": "code",
   "execution_count": 7,
   "source": [
    "x=myclass()  #This step is called instantiation of class. We create a new instance of class and store it as object 'x'. Hence 'x' is an instance object. Also called class object or simply instance.\r\n",
    "x.i     #These steps are called attribute references i.e. we are referring to attributes 'i' and 'func' for class instance 'x'.\r\n",
    "x.func   #For any instance object like 'x', we can only perform attribute reference operation."
   ],
   "outputs": [
    {
     "output_type": "execute_result",
     "data": {
      "text/plain": [
       "<bound method myclass.func of <__main__.myclass object at 0x000001413683CB50>>"
      ]
     },
     "metadata": {},
     "execution_count": 7
    }
   ],
   "metadata": {}
  },
  {
   "cell_type": "code",
   "execution_count": 2,
   "source": [
    "class Employee:   #This is an empty class definition. We give a 'pass' statement to tell Python to proceed as there is no instructor,method defined in this class. If not specified, we'll get an error.\r\n",
    "    pass\r\n",
    "Harry=Employee()   #Here we create 2 new instance objects or class objects 'Harry' and 'Peter'.\r\n",
    "Peter=Employee()\r\n",
    "Harry.Name='Harry'  #'Harry.Name' is an instance variable of instance object 'Harry'.\r\n",
    "Harry.Salary=12000\r\n",
    "Peter.Name='Peter'\r\n",
    "Peter.Salary=10000  #'Peter.Salary' is an instance variable for instance object 'Peter'.\r\n",
    "print(Harry.Name,Peter.Salary,Harry.__dict__)  #The 'Harry.__dict__' command prints all instance variables of object 'Harry' as a dictionary i.e. as key:value pairs."
   ],
   "outputs": [
    {
     "output_type": "stream",
     "name": "stdout",
     "text": [
      "Harry 10000 {'Name': 'Harry', 'Salary': 12000}\n"
     ]
    }
   ],
   "metadata": {}
  },
  {
   "cell_type": "code",
   "execution_count": 1,
   "source": [
    "class Employee:\r\n",
    "    def details(self):  #A function created inside a class is called a method. It takes only 1 argument 'self'.  This is a variable argument i.e. 'details' method can take any instance object as its argument.\r\n",
    "        return f'Employee is:{self.Name} | Their Salary is: {self.Salary}' #This does same job as the 'print' function below.\r\n",
    "        #print('Employee is:',self.Name,'|','Their Salary is:',self.Salary)\r\n",
    "Harry=Employee()   \r\n",
    "Peter=Employee()\r\n",
    "Harry.Name='Harry' \r\n",
    "Harry.Salary=12000\r\n",
    "Harry.Dept='IT'\r\n",
    "Peter.Name='Peter'\r\n",
    "Peter.Salary=10000\r\n",
    "Peter.Dept='HR'\r\n",
    "print(Harry.details())  #As seen, we didn't specify any argument to 'details()' method. As it had a 'self' argument, it took 'Harry' as its argument automatically. We can change it to 'Peter' as 'self' takes care."
   ],
   "outputs": [
    {
     "output_type": "stream",
     "name": "stdout",
     "text": [
      "Employee is:Harry | Their Salary is: 12000\n"
     ]
    }
   ],
   "metadata": {}
  },
  {
   "cell_type": "code",
   "execution_count": 10,
   "source": [
    "#Now instead of creating 3 instance variables(i.e. Name,Salary,Dept) for both objects 'Harry' and 'Peter', we can define a constructor for our class 'Employee' which takes them as arguments.\r\n",
    "class Employee:\r\n",
    "    def __init__(self, Name,Salary,Dept): #The method '__init__' is called constructor and basically initializes a class' arguments or attributes it must take as inputs.\r\n",
    "        self.name=Name\r\n",
    "        self.salary=Salary\r\n",
    "        self.dept=Dept\r\n",
    "Harry=Employee('Harry',12000,'IT')  #This saves time spent writing unnecessary lines of code as seen in last cell.\r\n",
    "Peter=Employee('Peter',10000,'HR')\r\n",
    "print(Harry.__dict__, Harry.name)"
   ],
   "outputs": [
    {
     "output_type": "stream",
     "name": "stdout",
     "text": [
      "{'name': 'Harry', 'salary': 12000, 'dept': 'IT'} Harry\n"
     ]
    }
   ],
   "metadata": {}
  },
  {
   "cell_type": "code",
   "execution_count": 4,
   "source": [
    "class Employee:\r\n",
    "    class_variable=10  #This is a class variable. It is defined globally inside class and outside any method.\r\n",
    "    def __init__(self, Name,Salary,Dept): \r\n",
    "        self.name=Name\r\n",
    "        self.salary=Salary\r\n",
    "        self.dept=Dept\r\n",
    "Harry=Employee('Harry',12000,'IT')\r\n",
    "Peter=Employee('Peter',10000,'HR')\r\n",
    "Harry.class_variable   #The class variable can be accessed eith er from class 'Employee' or from instance object 'Harry'. \r\n",
    "Employee.class_variable\r\n",
    "Employee.class_variable=9  #However, we can change the value of a class variable only by using its class. If we do it with an instance variable(eg. 'Harry.class_variable=9') then it creates another instance variable and doesn't edit the class variable's value.\r\n",
    "Harry.class_variable"
   ],
   "outputs": [
    {
     "output_type": "execute_result",
     "data": {
      "text/plain": [
       "9"
      ]
     },
     "metadata": {},
     "execution_count": 4
    }
   ],
   "metadata": {}
  },
  {
   "cell_type": "code",
   "execution_count": 17,
   "source": [
    "#A constructor tells Python that the created class must take some arguments(i.e. attributes) as inputs. Only then we will be able to instantiate and create an instance object like 'x' here.\r\n",
    "class Complex:    \r\n",
    "    def __init__(self,real,imaginary):\r\n",
    "        self.r=real\r\n",
    "        self.i=imaginary\r\n",
    "                  #When we instantiate our class and create object 'x', the constructor gets invoked immediately.This means that\r\n",
    "                 #the arguments given during instantiation(i.e. 3 and -4.5) are passed to constructor '__init__' to be assigned\r\n",
    "        #to attributes 'real' and 'imaginary'. Now 'self.r' and 'self.i' is used to bind these values to respective attributes. \r\n",
    "x=Complex(3,-4.5)  #In order to access the attribute values, we use our instance object 'x' and perform attribute reference.\r\n",
    "x.r,x.i           #We get our attribute values 3 and -4.5 by accessing through instance object 'x'."
   ],
   "outputs": [
    {
     "output_type": "execute_result",
     "data": {
      "text/plain": [
       "(3, -4.5)"
      ]
     },
     "metadata": {},
     "execution_count": 17
    }
   ],
   "metadata": {}
  },
  {
   "cell_type": "code",
   "execution_count": 22,
   "source": [
    "class Dog:\r\n",
    "    breed='Labrador'   #This is a class variable. Its an example of global variable as breed doesn't vary from object to object.Here object means instance of class which gets created in the instantiation step.\r\n",
    "    def __init__(self,name,color):\r\n",
    "        self.n=name    #This is an instance variable. It varies from one object(instance) to another.To access instance variables\r\n",
    "        self.c=color    #we use instance objects 'a' and 'b' and perform attribute reference as explained earlier.\r\n",
    "a=Dog('Buzo','brown')\r\n",
    "b=Dog('Mia','white')   #'a' and 'b' are called instance objects. While 'name' and 'color' are called attributes, 'self.n' nad 'self.c' are called instance variables.\r\n",
    "(a.breed,a.n),(b.breed,b.n) \r\n"
   ],
   "outputs": [
    {
     "output_type": "execute_result",
     "data": {
      "text/plain": [
       "(('Labrador', 'Buzo'), ('Labrador', 'Mia'))"
      ]
     },
     "metadata": {},
     "execution_count": 22
    }
   ],
   "metadata": {}
  },
  {
   "cell_type": "code",
   "execution_count": 16,
   "source": [
    "class Cars:\r\n",
    "    '''This is a class for cars and defines its features.'''\r\n",
    "    Category='Luxury'\r\n",
    "    def __init__(self,name,typ,brand):\r\n",
    "        self.n=name\r\n",
    "        self.t=typ\r\n",
    "        self.b=brand\r\n",
    "    def showinfo(self):  #This 'showinfo' function is called an instance method. It is basically a function  defined within a class whose only argument is 'self'. It takes any arguments from the constructor.\r\n",
    "        print('Category of car:',self.Category)\r\n",
    "        print('Name of car:',self.n)\r\n",
    "        print('Type of car:',self.t)\r\n",
    "        print('Brand of car:',self.b)\r\n",
    "object1=Cars('Portofino','Sports','Ferrari')\r\n",
    "object2=Cars('X6','Sedan','BMW')\r\n",
    "object2.n='X5'  #Modified the name of 'object2'.\r\n",
    "print(object2.showinfo())\r\n",
    "#object1.t,object2.b,isinstance(object1,Cars),type(object1)"
   ],
   "outputs": [
    {
     "output_type": "stream",
     "name": "stdout",
     "text": [
      "Category of car: Luxury\n",
      "Name of car: X5\n",
      "Type of car: Sedan\n",
      "Brand of car: BMW\n",
      "None\n"
     ]
    }
   ],
   "metadata": {}
  },
  {
   "cell_type": "code",
   "execution_count": 22,
   "source": [
    "class Employees:\r\n",
    "    '''This is a class for employees and contains their details.'''\r\n",
    "    def __init__(self,name,salary):\r\n",
    "        self.n=name\r\n",
    "        self.__s=salary  #Apply double underscore prefix to make an instance variable as private and inaccessible.\r\n",
    "obj1=Employees('Emma',2500)\r\n",
    "obj2=Employees('Peter',1800)\r\n",
    "obj2.__s "
   ],
   "outputs": [
    {
     "output_type": "error",
     "ename": "AttributeError",
     "evalue": "'Employees' object has no attribute '__s'",
     "traceback": [
      "\u001b[1;31m---------------------------------------------------------------------------\u001b[0m",
      "\u001b[1;31mAttributeError\u001b[0m                            Traceback (most recent call last)",
      "\u001b[1;32m<ipython-input-22-70632ffbe290>\u001b[0m in \u001b[0;36m<module>\u001b[1;34m\u001b[0m\n\u001b[0;32m      6\u001b[0m \u001b[0mobj1\u001b[0m\u001b[1;33m=\u001b[0m\u001b[0mEmployees\u001b[0m\u001b[1;33m(\u001b[0m\u001b[1;34m'Emma'\u001b[0m\u001b[1;33m,\u001b[0m\u001b[1;36m2500\u001b[0m\u001b[1;33m)\u001b[0m\u001b[1;33m\u001b[0m\u001b[1;33m\u001b[0m\u001b[0m\n\u001b[0;32m      7\u001b[0m \u001b[0mobj2\u001b[0m\u001b[1;33m=\u001b[0m\u001b[0mEmployees\u001b[0m\u001b[1;33m(\u001b[0m\u001b[1;34m'Peter'\u001b[0m\u001b[1;33m,\u001b[0m\u001b[1;36m1800\u001b[0m\u001b[1;33m)\u001b[0m\u001b[1;33m\u001b[0m\u001b[1;33m\u001b[0m\u001b[0m\n\u001b[1;32m----> 8\u001b[1;33m \u001b[0mobj2\u001b[0m\u001b[1;33m.\u001b[0m\u001b[0m__s\u001b[0m\u001b[1;33m\u001b[0m\u001b[1;33m\u001b[0m\u001b[0m\n\u001b[0m",
      "\u001b[1;31mAttributeError\u001b[0m: 'Employees' object has no attribute '__s'"
     ]
    }
   ],
   "metadata": {}
  },
  {
   "cell_type": "code",
   "execution_count": 25,
   "source": [
    "class Circle:\r\n",
    "    pi=3.14\r\n",
    "    def __init__(self,radius):\r\n",
    "        self.r=radius\r\n",
    "    def area(self):    #This function is called an instance method. It takes only 'self' as argument and performs any calculation by referencing arguments from constructor eg. 'self.r'.\r\n",
    "        print('Area of cicle=',self.pi*self.r*self.r)\r\n",
    "class Rectangle:\r\n",
    "    def __init__(self,length,breadth):\r\n",
    "        self.l=length\r\n",
    "        self.b=breadth\r\n",
    "    def area(self):\r\n",
    "        print('Area of rectangle=',self.l*self.b)\r\n",
    "cir=Circle(3.5)\r\n",
    "rec=Rectangle(4,7)\r\n",
    "rec.area(),cir.area()  #Here the objects are referencing not the instance variables, but the defined method. Also methods of same name can exist in different classes for eg. here method 'area'."
   ],
   "outputs": [
    {
     "output_type": "stream",
     "name": "stdout",
     "text": [
      "Area of rectangle= 28\n",
      "Area of cicle= 38.465\n"
     ]
    },
    {
     "output_type": "execute_result",
     "data": {
      "text/plain": [
       "(None, None)"
      ]
     },
     "metadata": {},
     "execution_count": 25
    }
   ],
   "metadata": {}
  },
  {
   "cell_type": "code",
   "execution_count": null,
   "source": [
    "#Inheritance is a process where a parent class inherits its properties to a child class or sub-class.Its main perpose is the reusability of code as we can use the existing class to create a new class instead of creating it from scratch.\r\n",
    "class Vehicle:\r\n",
    "    def "
   ],
   "outputs": [],
   "metadata": {}
  },
  {
   "cell_type": "code",
   "execution_count": 1,
   "source": [
    "#A python code terminates when it encounters an error. This error can be a syntax error or exception.\r\n",
    "#A syntax error occurs when a parser detects an incorrect line of code. For eg. missing a cooma,colon or brackets etc.\r\n",
    "#An exception error occurs when a syntactically correct Python code gives an error. It usually shows as 'Traceback' statement \r\n",
    "#in first line and the last line shows the type of exception for eg. FileNotFoundError,ValueError,ZeroDivisionError. There are built in exceptions as well as user defined ones.\r\n",
    "\r\n",
    "try:     #Here we take a simple example to illustrate use of 'try-except' block. The code '5/0' would normally return an exception called 'ZerDivisionError'. \r\n",
    "    n=5/0  #If the 'try' clause encounters exception, it then goes to 'except' clause which tells us how to handle and what to do with those exceptions.\r\n",
    "    print(n)  #Here we tell Python to print the given simple statement instead of a lengthy exception log. \r\n",
    "except Exception:\r\n",
    "    print(\"Can't divide by zero.\")"
   ],
   "outputs": [
    {
     "output_type": "stream",
     "name": "stdout",
     "text": [
      "Can't divide by zero.\n"
     ]
    }
   ],
   "metadata": {}
  },
  {
   "cell_type": "code",
   "execution_count": 2,
   "source": [
    "try:    #Here the 'try' clause will not produce any exception. However, we still need to put in 'except' clause as it is bound \r\n",
    "    x=5/25     #with a 'try' clause. But since there is no exception to be treated, we simply put in a 'pass' statement.\r\n",
    "    print(x)\r\n",
    "except Exception:\r\n",
    "    pass"
   ],
   "outputs": [
    {
     "output_type": "stream",
     "name": "stdout",
     "text": [
      "0.2\n"
     ]
    }
   ],
   "metadata": {}
  },
  {
   "cell_type": "code",
   "execution_count": 10,
   "source": [
    "try:               #Here we illustrate the whole 'try-except-else-finally' block chain.\r\n",
    "    c=3/56\r\n",
    "except Exception:\r\n",
    "    print('Everything fine!')\r\n",
    "else:           #The 'else' clause is executed only if there are no exceptions in the 'try' clause.\r\n",
    "    print(c)   #As there are no exceptions in 'try' clause, it simply prints value of object 'c'.\r\n",
    "finally:      #The 'finally' clause is redundant, but when included will always execute in the last irrespective of exceptions.\r\n",
    "    print('This will print as it is inside finally.')\r\n"
   ],
   "outputs": [
    {
     "output_type": "stream",
     "name": "stdout",
     "text": [
      "0.05357142857142857\n",
      "This will print as it is inside finally.\n"
     ]
    }
   ],
   "metadata": {}
  },
  {
   "cell_type": "code",
   "execution_count": 9,
   "source": [
    "class BalanceMore(Exception):   #Here we create our own class of exception using 'class'. We specify the name of exception\r\n",
    "    pass                       #followed by '(Exception)' to teall we are creating a new exception class.\r\n",
    "class BalanceLess(Exception):\r\n",
    "    pass\r\n",
    "\r\n",
    "balance=float(input('Enter a balance amount:'))\r\n",
    "if balance<2000:   \r\n",
    "    raise BalanceLess\r\n",
    "elif balance>8000:     #Here is balance is between 2000 and 8000, program runs and exits. Only when the balance<2000 or >8000\r\n",
    "    raise BalanceMore  #it raises an exception as already assigned to do so."
   ],
   "outputs": [
    {
     "output_type": "stream",
     "name": "stdout",
     "text": [
      "Enter a balance amount:5000\n"
     ]
    }
   ],
   "metadata": {}
  },
  {
   "cell_type": "code",
   "execution_count": 3,
   "source": [
    "class Person():\r\n",
    "    pass\r\n",
    "person=Person()\r\n",
    "key='Raghav'\r\n",
    "value='Singh'\r\n",
    "setattr(person,key,value)\r\n",
    "getattr(person,key)"
   ],
   "outputs": [
    {
     "output_type": "execute_result",
     "data": {
      "text/plain": [
       "'Singh'"
      ]
     },
     "metadata": {},
     "execution_count": 3
    }
   ],
   "metadata": {}
  }
 ],
 "metadata": {
  "kernelspec": {
   "name": "python3",
   "display_name": "Python 3.8.5 64-bit ('base': conda)"
  },
  "language_info": {
   "codemirror_mode": {
    "name": "ipython",
    "version": 3
   },
   "file_extension": ".py",
   "mimetype": "text/x-python",
   "name": "python",
   "nbconvert_exporter": "python",
   "pygments_lexer": "ipython3",
   "version": "3.8.5"
  },
  "interpreter": {
   "hash": "2fcbff82930719235b5f711f73c7a2b86d5b1a71fd46764b0d829c46d0718a71"
  }
 },
 "nbformat": 4,
 "nbformat_minor": 4
}